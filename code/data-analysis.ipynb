{
 "cells": [
  {
   "cell_type": "code",
   "execution_count": 266,
   "metadata": {},
   "outputs": [],
   "source": [
    "import matplotlib.pyplot as plt\n",
    "import numpy as np\n",
    "import pandas as pd\n",
    "import plotly.express as px\n",
    "import plotly.graph_objects as go\n",
    "from plotly.subplots import make_subplots\n",
    "import itertools\n",
    "pd.options.display.max_rows = 5000\n",
    "pd.set_option('display.max_colwidth', 255)\n"
   ]
  },
  {
   "cell_type": "markdown",
   "metadata": {},
   "source": [
    "The data source for this analysis is a [Kaggle notebook](https://www.kaggle.com/heesoo37/120-years-of-olympic-history-athletes-and-results), which in turns was made with data scraped from the former Olympics Reference website, now [Olympmedia](http://www.olympedia.org/)."
   ]
  },
  {
   "cell_type": "code",
   "execution_count": 241,
   "metadata": {},
   "outputs": [],
   "source": [
    "# Reads the data in\n",
    "df = pd.read_csv(\"../data/athlete_events.csv\")"
   ]
  },
  {
   "cell_type": "markdown",
   "metadata": {},
   "source": [
    "We only want to look at the Summer Olympics, so let's filter the dataset."
   ]
  },
  {
   "cell_type": "code",
   "execution_count": 242,
   "metadata": {},
   "outputs": [],
   "source": [
    "# Filters the dataset, keeping only Summer games\n",
    "df = df[df.Season == \"Summer\"].reset_index(drop=True)"
   ]
  },
  {
   "cell_type": "code",
   "execution_count": 243,
   "metadata": {},
   "outputs": [],
   "source": [
    "# Removes the non-recognized 1906 Games\n",
    "df = df[df.Games!=\"1906 Summer\"].reset_index(drop=True)"
   ]
  },
  {
   "cell_type": "code",
   "execution_count": 244,
   "metadata": {},
   "outputs": [],
   "source": [
    "# Removes athletes that participated in art or demonstrastive competitions\n",
    "df = df[~df.Sport.isin([\n",
    "    \"Art Competitions\", \"Aeronautics\", \"Alpinism\",\n",
    "])].reset_index(drop=True)"
   ]
  },
  {
   "cell_type": "markdown",
   "metadata": {},
   "source": [
    "#### Women participation over time in "
   ]
  },
  {
   "cell_type": "markdown",
   "metadata": {},
   "source": [
    "First, let's take a look at the ammoun of women athletes in each Olympics. To do so, we must remove duplicate entries for athletes (since many of them participated in many events or in many Olympics)."
   ]
  },
  {
   "cell_type": "code",
   "execution_count": 245,
   "metadata": {},
   "outputs": [],
   "source": [
    "# Keep one entry for each athlete in each Games he/she competed in\n",
    "atl_games = df.drop_duplicates(subset=['ID', \"Games\"])"
   ]
  },
  {
   "cell_type": "code",
   "execution_count": 246,
   "metadata": {},
   "outputs": [],
   "source": [
    "# Groups and counts\n",
    "gp_atl_games = (atl_games.groupby([\"Games\", \"Sex\", \"Year\"])\n",
    "                    .count()\n",
    "                    .ID\n",
    "                    .reset_index()\n",
    "                    .rename(columns={\"ID\": \"No_athletes\"}))"
   ]
  },
  {
   "cell_type": "code",
   "execution_count": 247,
   "metadata": {
    "scrolled": true
   },
   "outputs": [
    {
     "data": {
      "text/html": [
       "<div>\n",
       "<style scoped>\n",
       "    .dataframe tbody tr th:only-of-type {\n",
       "        vertical-align: middle;\n",
       "    }\n",
       "\n",
       "    .dataframe tbody tr th {\n",
       "        vertical-align: top;\n",
       "    }\n",
       "\n",
       "    .dataframe thead th {\n",
       "        text-align: right;\n",
       "    }\n",
       "</style>\n",
       "<table border=\"1\" class=\"dataframe\">\n",
       "  <thead>\n",
       "    <tr style=\"text-align: right;\">\n",
       "      <th></th>\n",
       "      <th>Games</th>\n",
       "      <th>Sex</th>\n",
       "      <th>Year</th>\n",
       "      <th>No_athletes</th>\n",
       "    </tr>\n",
       "  </thead>\n",
       "  <tbody>\n",
       "    <tr>\n",
       "      <th>0</th>\n",
       "      <td>1896 Summer</td>\n",
       "      <td>M</td>\n",
       "      <td>1896</td>\n",
       "      <td>176</td>\n",
       "    </tr>\n",
       "    <tr>\n",
       "      <th>1</th>\n",
       "      <td>1900 Summer</td>\n",
       "      <td>F</td>\n",
       "      <td>1900</td>\n",
       "      <td>23</td>\n",
       "    </tr>\n",
       "    <tr>\n",
       "      <th>2</th>\n",
       "      <td>1900 Summer</td>\n",
       "      <td>M</td>\n",
       "      <td>1900</td>\n",
       "      <td>1201</td>\n",
       "    </tr>\n",
       "    <tr>\n",
       "      <th>3</th>\n",
       "      <td>1904 Summer</td>\n",
       "      <td>F</td>\n",
       "      <td>1904</td>\n",
       "      <td>6</td>\n",
       "    </tr>\n",
       "    <tr>\n",
       "      <th>4</th>\n",
       "      <td>1904 Summer</td>\n",
       "      <td>M</td>\n",
       "      <td>1904</td>\n",
       "      <td>644</td>\n",
       "    </tr>\n",
       "    <tr>\n",
       "      <th>5</th>\n",
       "      <td>1908 Summer</td>\n",
       "      <td>F</td>\n",
       "      <td>1908</td>\n",
       "      <td>44</td>\n",
       "    </tr>\n",
       "    <tr>\n",
       "      <th>6</th>\n",
       "      <td>1908 Summer</td>\n",
       "      <td>M</td>\n",
       "      <td>1908</td>\n",
       "      <td>1980</td>\n",
       "    </tr>\n",
       "    <tr>\n",
       "      <th>7</th>\n",
       "      <td>1912 Summer</td>\n",
       "      <td>F</td>\n",
       "      <td>1912</td>\n",
       "      <td>53</td>\n",
       "    </tr>\n",
       "    <tr>\n",
       "      <th>8</th>\n",
       "      <td>1912 Summer</td>\n",
       "      <td>M</td>\n",
       "      <td>1912</td>\n",
       "      <td>2324</td>\n",
       "    </tr>\n",
       "    <tr>\n",
       "      <th>9</th>\n",
       "      <td>1920 Summer</td>\n",
       "      <td>F</td>\n",
       "      <td>1920</td>\n",
       "      <td>77</td>\n",
       "    </tr>\n",
       "    <tr>\n",
       "      <th>10</th>\n",
       "      <td>1920 Summer</td>\n",
       "      <td>M</td>\n",
       "      <td>1920</td>\n",
       "      <td>2588</td>\n",
       "    </tr>\n",
       "    <tr>\n",
       "      <th>11</th>\n",
       "      <td>1924 Summer</td>\n",
       "      <td>F</td>\n",
       "      <td>1924</td>\n",
       "      <td>135</td>\n",
       "    </tr>\n",
       "    <tr>\n",
       "      <th>12</th>\n",
       "      <td>1924 Summer</td>\n",
       "      <td>M</td>\n",
       "      <td>1924</td>\n",
       "      <td>2932</td>\n",
       "    </tr>\n",
       "    <tr>\n",
       "      <th>13</th>\n",
       "      <td>1928 Summer</td>\n",
       "      <td>F</td>\n",
       "      <td>1928</td>\n",
       "      <td>274</td>\n",
       "    </tr>\n",
       "    <tr>\n",
       "      <th>14</th>\n",
       "      <td>1928 Summer</td>\n",
       "      <td>M</td>\n",
       "      <td>1928</td>\n",
       "      <td>2603</td>\n",
       "    </tr>\n",
       "    <tr>\n",
       "      <th>15</th>\n",
       "      <td>1932 Summer</td>\n",
       "      <td>F</td>\n",
       "      <td>1932</td>\n",
       "      <td>126</td>\n",
       "    </tr>\n",
       "    <tr>\n",
       "      <th>16</th>\n",
       "      <td>1932 Summer</td>\n",
       "      <td>M</td>\n",
       "      <td>1932</td>\n",
       "      <td>1207</td>\n",
       "    </tr>\n",
       "    <tr>\n",
       "      <th>17</th>\n",
       "      <td>1936 Summer</td>\n",
       "      <td>F</td>\n",
       "      <td>1936</td>\n",
       "      <td>329</td>\n",
       "    </tr>\n",
       "    <tr>\n",
       "      <th>18</th>\n",
       "      <td>1936 Summer</td>\n",
       "      <td>M</td>\n",
       "      <td>1936</td>\n",
       "      <td>3627</td>\n",
       "    </tr>\n",
       "    <tr>\n",
       "      <th>19</th>\n",
       "      <td>1948 Summer</td>\n",
       "      <td>F</td>\n",
       "      <td>1948</td>\n",
       "      <td>393</td>\n",
       "    </tr>\n",
       "    <tr>\n",
       "      <th>20</th>\n",
       "      <td>1948 Summer</td>\n",
       "      <td>M</td>\n",
       "      <td>1948</td>\n",
       "      <td>3681</td>\n",
       "    </tr>\n",
       "    <tr>\n",
       "      <th>21</th>\n",
       "      <td>1952 Summer</td>\n",
       "      <td>F</td>\n",
       "      <td>1952</td>\n",
       "      <td>521</td>\n",
       "    </tr>\n",
       "    <tr>\n",
       "      <th>22</th>\n",
       "      <td>1952 Summer</td>\n",
       "      <td>M</td>\n",
       "      <td>1952</td>\n",
       "      <td>4411</td>\n",
       "    </tr>\n",
       "    <tr>\n",
       "      <th>23</th>\n",
       "      <td>1956 Summer</td>\n",
       "      <td>F</td>\n",
       "      <td>1956</td>\n",
       "      <td>384</td>\n",
       "    </tr>\n",
       "    <tr>\n",
       "      <th>24</th>\n",
       "      <td>1956 Summer</td>\n",
       "      <td>M</td>\n",
       "      <td>1956</td>\n",
       "      <td>2963</td>\n",
       "    </tr>\n",
       "    <tr>\n",
       "      <th>25</th>\n",
       "      <td>1960 Summer</td>\n",
       "      <td>F</td>\n",
       "      <td>1960</td>\n",
       "      <td>613</td>\n",
       "    </tr>\n",
       "    <tr>\n",
       "      <th>26</th>\n",
       "      <td>1960 Summer</td>\n",
       "      <td>M</td>\n",
       "      <td>1960</td>\n",
       "      <td>4739</td>\n",
       "    </tr>\n",
       "    <tr>\n",
       "      <th>27</th>\n",
       "      <td>1964 Summer</td>\n",
       "      <td>F</td>\n",
       "      <td>1964</td>\n",
       "      <td>680</td>\n",
       "    </tr>\n",
       "    <tr>\n",
       "      <th>28</th>\n",
       "      <td>1964 Summer</td>\n",
       "      <td>M</td>\n",
       "      <td>1964</td>\n",
       "      <td>4457</td>\n",
       "    </tr>\n",
       "    <tr>\n",
       "      <th>29</th>\n",
       "      <td>1968 Summer</td>\n",
       "      <td>F</td>\n",
       "      <td>1968</td>\n",
       "      <td>783</td>\n",
       "    </tr>\n",
       "    <tr>\n",
       "      <th>30</th>\n",
       "      <td>1968 Summer</td>\n",
       "      <td>M</td>\n",
       "      <td>1968</td>\n",
       "      <td>4775</td>\n",
       "    </tr>\n",
       "    <tr>\n",
       "      <th>31</th>\n",
       "      <td>1972 Summer</td>\n",
       "      <td>F</td>\n",
       "      <td>1972</td>\n",
       "      <td>1060</td>\n",
       "    </tr>\n",
       "    <tr>\n",
       "      <th>32</th>\n",
       "      <td>1972 Summer</td>\n",
       "      <td>M</td>\n",
       "      <td>1972</td>\n",
       "      <td>6054</td>\n",
       "    </tr>\n",
       "    <tr>\n",
       "      <th>33</th>\n",
       "      <td>1976 Summer</td>\n",
       "      <td>F</td>\n",
       "      <td>1976</td>\n",
       "      <td>1260</td>\n",
       "    </tr>\n",
       "    <tr>\n",
       "      <th>34</th>\n",
       "      <td>1976 Summer</td>\n",
       "      <td>M</td>\n",
       "      <td>1976</td>\n",
       "      <td>4813</td>\n",
       "    </tr>\n",
       "    <tr>\n",
       "      <th>35</th>\n",
       "      <td>1980 Summer</td>\n",
       "      <td>F</td>\n",
       "      <td>1980</td>\n",
       "      <td>1123</td>\n",
       "    </tr>\n",
       "    <tr>\n",
       "      <th>36</th>\n",
       "      <td>1980 Summer</td>\n",
       "      <td>M</td>\n",
       "      <td>1980</td>\n",
       "      <td>4136</td>\n",
       "    </tr>\n",
       "    <tr>\n",
       "      <th>37</th>\n",
       "      <td>1984 Summer</td>\n",
       "      <td>F</td>\n",
       "      <td>1984</td>\n",
       "      <td>1569</td>\n",
       "    </tr>\n",
       "    <tr>\n",
       "      <th>38</th>\n",
       "      <td>1984 Summer</td>\n",
       "      <td>M</td>\n",
       "      <td>1984</td>\n",
       "      <td>5229</td>\n",
       "    </tr>\n",
       "    <tr>\n",
       "      <th>39</th>\n",
       "      <td>1988 Summer</td>\n",
       "      <td>F</td>\n",
       "      <td>1988</td>\n",
       "      <td>2203</td>\n",
       "    </tr>\n",
       "    <tr>\n",
       "      <th>40</th>\n",
       "      <td>1988 Summer</td>\n",
       "      <td>M</td>\n",
       "      <td>1988</td>\n",
       "      <td>6251</td>\n",
       "    </tr>\n",
       "    <tr>\n",
       "      <th>41</th>\n",
       "      <td>1992 Summer</td>\n",
       "      <td>F</td>\n",
       "      <td>1992</td>\n",
       "      <td>2723</td>\n",
       "    </tr>\n",
       "    <tr>\n",
       "      <th>42</th>\n",
       "      <td>1992 Summer</td>\n",
       "      <td>M</td>\n",
       "      <td>1992</td>\n",
       "      <td>6663</td>\n",
       "    </tr>\n",
       "    <tr>\n",
       "      <th>43</th>\n",
       "      <td>1996 Summer</td>\n",
       "      <td>F</td>\n",
       "      <td>1996</td>\n",
       "      <td>3517</td>\n",
       "    </tr>\n",
       "    <tr>\n",
       "      <th>44</th>\n",
       "      <td>1996 Summer</td>\n",
       "      <td>M</td>\n",
       "      <td>1996</td>\n",
       "      <td>6822</td>\n",
       "    </tr>\n",
       "    <tr>\n",
       "      <th>45</th>\n",
       "      <td>2000 Summer</td>\n",
       "      <td>F</td>\n",
       "      <td>2000</td>\n",
       "      <td>4068</td>\n",
       "    </tr>\n",
       "    <tr>\n",
       "      <th>46</th>\n",
       "      <td>2000 Summer</td>\n",
       "      <td>M</td>\n",
       "      <td>2000</td>\n",
       "      <td>6579</td>\n",
       "    </tr>\n",
       "    <tr>\n",
       "      <th>47</th>\n",
       "      <td>2004 Summer</td>\n",
       "      <td>F</td>\n",
       "      <td>2004</td>\n",
       "      <td>4300</td>\n",
       "    </tr>\n",
       "    <tr>\n",
       "      <th>48</th>\n",
       "      <td>2004 Summer</td>\n",
       "      <td>M</td>\n",
       "      <td>2004</td>\n",
       "      <td>6257</td>\n",
       "    </tr>\n",
       "    <tr>\n",
       "      <th>49</th>\n",
       "      <td>2008 Summer</td>\n",
       "      <td>F</td>\n",
       "      <td>2008</td>\n",
       "      <td>4609</td>\n",
       "    </tr>\n",
       "    <tr>\n",
       "      <th>50</th>\n",
       "      <td>2008 Summer</td>\n",
       "      <td>M</td>\n",
       "      <td>2008</td>\n",
       "      <td>6290</td>\n",
       "    </tr>\n",
       "    <tr>\n",
       "      <th>51</th>\n",
       "      <td>2012 Summer</td>\n",
       "      <td>F</td>\n",
       "      <td>2012</td>\n",
       "      <td>4654</td>\n",
       "    </tr>\n",
       "    <tr>\n",
       "      <th>52</th>\n",
       "      <td>2012 Summer</td>\n",
       "      <td>M</td>\n",
       "      <td>2012</td>\n",
       "      <td>5863</td>\n",
       "    </tr>\n",
       "    <tr>\n",
       "      <th>53</th>\n",
       "      <td>2016 Summer</td>\n",
       "      <td>F</td>\n",
       "      <td>2016</td>\n",
       "      <td>5034</td>\n",
       "    </tr>\n",
       "    <tr>\n",
       "      <th>54</th>\n",
       "      <td>2016 Summer</td>\n",
       "      <td>M</td>\n",
       "      <td>2016</td>\n",
       "      <td>6145</td>\n",
       "    </tr>\n",
       "  </tbody>\n",
       "</table>\n",
       "</div>"
      ],
      "text/plain": [
       "          Games Sex  Year  No_athletes\n",
       "0   1896 Summer   M  1896          176\n",
       "1   1900 Summer   F  1900           23\n",
       "2   1900 Summer   M  1900         1201\n",
       "3   1904 Summer   F  1904            6\n",
       "4   1904 Summer   M  1904          644\n",
       "5   1908 Summer   F  1908           44\n",
       "6   1908 Summer   M  1908         1980\n",
       "7   1912 Summer   F  1912           53\n",
       "8   1912 Summer   M  1912         2324\n",
       "9   1920 Summer   F  1920           77\n",
       "10  1920 Summer   M  1920         2588\n",
       "11  1924 Summer   F  1924          135\n",
       "12  1924 Summer   M  1924         2932\n",
       "13  1928 Summer   F  1928          274\n",
       "14  1928 Summer   M  1928         2603\n",
       "15  1932 Summer   F  1932          126\n",
       "16  1932 Summer   M  1932         1207\n",
       "17  1936 Summer   F  1936          329\n",
       "18  1936 Summer   M  1936         3627\n",
       "19  1948 Summer   F  1948          393\n",
       "20  1948 Summer   M  1948         3681\n",
       "21  1952 Summer   F  1952          521\n",
       "22  1952 Summer   M  1952         4411\n",
       "23  1956 Summer   F  1956          384\n",
       "24  1956 Summer   M  1956         2963\n",
       "25  1960 Summer   F  1960          613\n",
       "26  1960 Summer   M  1960         4739\n",
       "27  1964 Summer   F  1964          680\n",
       "28  1964 Summer   M  1964         4457\n",
       "29  1968 Summer   F  1968          783\n",
       "30  1968 Summer   M  1968         4775\n",
       "31  1972 Summer   F  1972         1060\n",
       "32  1972 Summer   M  1972         6054\n",
       "33  1976 Summer   F  1976         1260\n",
       "34  1976 Summer   M  1976         4813\n",
       "35  1980 Summer   F  1980         1123\n",
       "36  1980 Summer   M  1980         4136\n",
       "37  1984 Summer   F  1984         1569\n",
       "38  1984 Summer   M  1984         5229\n",
       "39  1988 Summer   F  1988         2203\n",
       "40  1988 Summer   M  1988         6251\n",
       "41  1992 Summer   F  1992         2723\n",
       "42  1992 Summer   M  1992         6663\n",
       "43  1996 Summer   F  1996         3517\n",
       "44  1996 Summer   M  1996         6822\n",
       "45  2000 Summer   F  2000         4068\n",
       "46  2000 Summer   M  2000         6579\n",
       "47  2004 Summer   F  2004         4300\n",
       "48  2004 Summer   M  2004         6257\n",
       "49  2008 Summer   F  2008         4609\n",
       "50  2008 Summer   M  2008         6290\n",
       "51  2012 Summer   F  2012         4654\n",
       "52  2012 Summer   M  2012         5863\n",
       "53  2016 Summer   F  2016         5034\n",
       "54  2016 Summer   M  2016         6145"
      ]
     },
     "execution_count": 247,
     "metadata": {},
     "output_type": "execute_result"
    }
   ],
   "source": [
    "gp_atl_games.head(100)"
   ]
  },
  {
   "cell_type": "markdown",
   "metadata": {},
   "source": [
    "Let's see that tendency in a split bar chart."
   ]
  },
  {
   "cell_type": "code",
   "execution_count": 248,
   "metadata": {},
   "outputs": [
    {
     "data": {
      "application/vnd.plotly.v1+json": {
       "config": {
        "plotlyServerURL": "https://plot.ly"
       },
       "data": [
        {
         "marker": {
          "color": "rgb(55, 83, 109)"
         },
         "name": "Men",
         "type": "bar",
         "x": [
          1896,
          1900,
          1904,
          1908,
          1912,
          1920,
          1924,
          1928,
          1932,
          1936,
          1948,
          1952,
          1956,
          1960,
          1964,
          1968,
          1972,
          1976,
          1980,
          1984,
          1988,
          1992,
          1996,
          2000,
          2004,
          2008,
          2012,
          2016
         ],
         "y": [
          176,
          1201,
          644,
          1980,
          2324,
          2588,
          2932,
          2603,
          1207,
          3627,
          3681,
          4411,
          2963,
          4739,
          4457,
          4775,
          6054,
          4813,
          4136,
          5229,
          6251,
          6663,
          6822,
          6579,
          6257,
          6290,
          5863,
          6145
         ]
        },
        {
         "marker": {
          "color": "rgb(26, 118, 255)"
         },
         "name": "Women",
         "type": "bar",
         "x": [
          1900,
          1904,
          1908,
          1912,
          1920,
          1924,
          1928,
          1932,
          1936,
          1948,
          1952,
          1956,
          1960,
          1964,
          1968,
          1972,
          1976,
          1980,
          1984,
          1988,
          1992,
          1996,
          2000,
          2004,
          2008,
          2012,
          2016
         ],
         "y": [
          23,
          6,
          44,
          53,
          77,
          135,
          274,
          126,
          329,
          393,
          521,
          384,
          613,
          680,
          783,
          1060,
          1260,
          1123,
          1569,
          2203,
          2723,
          3517,
          4068,
          4300,
          4609,
          4654,
          5034
         ]
        }
       ],
       "layout": {
        "bargap": 0.5,
        "bargroupgap": 0,
        "barmode": "group",
        "legend": {
         "bgcolor": "rgba(255, 255, 255, 0)",
         "bordercolor": "rgba(255, 255, 255, 0)",
         "x": 0,
         "y": 1
        },
        "template": {
         "data": {
          "bar": [
           {
            "error_x": {
             "color": "#2a3f5f"
            },
            "error_y": {
             "color": "#2a3f5f"
            },
            "marker": {
             "line": {
              "color": "#E5ECF6",
              "width": 0.5
             }
            },
            "type": "bar"
           }
          ],
          "barpolar": [
           {
            "marker": {
             "line": {
              "color": "#E5ECF6",
              "width": 0.5
             }
            },
            "type": "barpolar"
           }
          ],
          "carpet": [
           {
            "aaxis": {
             "endlinecolor": "#2a3f5f",
             "gridcolor": "white",
             "linecolor": "white",
             "minorgridcolor": "white",
             "startlinecolor": "#2a3f5f"
            },
            "baxis": {
             "endlinecolor": "#2a3f5f",
             "gridcolor": "white",
             "linecolor": "white",
             "minorgridcolor": "white",
             "startlinecolor": "#2a3f5f"
            },
            "type": "carpet"
           }
          ],
          "choropleth": [
           {
            "colorbar": {
             "outlinewidth": 0,
             "ticks": ""
            },
            "type": "choropleth"
           }
          ],
          "contour": [
           {
            "colorbar": {
             "outlinewidth": 0,
             "ticks": ""
            },
            "colorscale": [
             [
              0,
              "#0d0887"
             ],
             [
              0.1111111111111111,
              "#46039f"
             ],
             [
              0.2222222222222222,
              "#7201a8"
             ],
             [
              0.3333333333333333,
              "#9c179e"
             ],
             [
              0.4444444444444444,
              "#bd3786"
             ],
             [
              0.5555555555555556,
              "#d8576b"
             ],
             [
              0.6666666666666666,
              "#ed7953"
             ],
             [
              0.7777777777777778,
              "#fb9f3a"
             ],
             [
              0.8888888888888888,
              "#fdca26"
             ],
             [
              1,
              "#f0f921"
             ]
            ],
            "type": "contour"
           }
          ],
          "contourcarpet": [
           {
            "colorbar": {
             "outlinewidth": 0,
             "ticks": ""
            },
            "type": "contourcarpet"
           }
          ],
          "heatmap": [
           {
            "colorbar": {
             "outlinewidth": 0,
             "ticks": ""
            },
            "colorscale": [
             [
              0,
              "#0d0887"
             ],
             [
              0.1111111111111111,
              "#46039f"
             ],
             [
              0.2222222222222222,
              "#7201a8"
             ],
             [
              0.3333333333333333,
              "#9c179e"
             ],
             [
              0.4444444444444444,
              "#bd3786"
             ],
             [
              0.5555555555555556,
              "#d8576b"
             ],
             [
              0.6666666666666666,
              "#ed7953"
             ],
             [
              0.7777777777777778,
              "#fb9f3a"
             ],
             [
              0.8888888888888888,
              "#fdca26"
             ],
             [
              1,
              "#f0f921"
             ]
            ],
            "type": "heatmap"
           }
          ],
          "heatmapgl": [
           {
            "colorbar": {
             "outlinewidth": 0,
             "ticks": ""
            },
            "colorscale": [
             [
              0,
              "#0d0887"
             ],
             [
              0.1111111111111111,
              "#46039f"
             ],
             [
              0.2222222222222222,
              "#7201a8"
             ],
             [
              0.3333333333333333,
              "#9c179e"
             ],
             [
              0.4444444444444444,
              "#bd3786"
             ],
             [
              0.5555555555555556,
              "#d8576b"
             ],
             [
              0.6666666666666666,
              "#ed7953"
             ],
             [
              0.7777777777777778,
              "#fb9f3a"
             ],
             [
              0.8888888888888888,
              "#fdca26"
             ],
             [
              1,
              "#f0f921"
             ]
            ],
            "type": "heatmapgl"
           }
          ],
          "histogram": [
           {
            "marker": {
             "colorbar": {
              "outlinewidth": 0,
              "ticks": ""
             }
            },
            "type": "histogram"
           }
          ],
          "histogram2d": [
           {
            "colorbar": {
             "outlinewidth": 0,
             "ticks": ""
            },
            "colorscale": [
             [
              0,
              "#0d0887"
             ],
             [
              0.1111111111111111,
              "#46039f"
             ],
             [
              0.2222222222222222,
              "#7201a8"
             ],
             [
              0.3333333333333333,
              "#9c179e"
             ],
             [
              0.4444444444444444,
              "#bd3786"
             ],
             [
              0.5555555555555556,
              "#d8576b"
             ],
             [
              0.6666666666666666,
              "#ed7953"
             ],
             [
              0.7777777777777778,
              "#fb9f3a"
             ],
             [
              0.8888888888888888,
              "#fdca26"
             ],
             [
              1,
              "#f0f921"
             ]
            ],
            "type": "histogram2d"
           }
          ],
          "histogram2dcontour": [
           {
            "colorbar": {
             "outlinewidth": 0,
             "ticks": ""
            },
            "colorscale": [
             [
              0,
              "#0d0887"
             ],
             [
              0.1111111111111111,
              "#46039f"
             ],
             [
              0.2222222222222222,
              "#7201a8"
             ],
             [
              0.3333333333333333,
              "#9c179e"
             ],
             [
              0.4444444444444444,
              "#bd3786"
             ],
             [
              0.5555555555555556,
              "#d8576b"
             ],
             [
              0.6666666666666666,
              "#ed7953"
             ],
             [
              0.7777777777777778,
              "#fb9f3a"
             ],
             [
              0.8888888888888888,
              "#fdca26"
             ],
             [
              1,
              "#f0f921"
             ]
            ],
            "type": "histogram2dcontour"
           }
          ],
          "mesh3d": [
           {
            "colorbar": {
             "outlinewidth": 0,
             "ticks": ""
            },
            "type": "mesh3d"
           }
          ],
          "parcoords": [
           {
            "line": {
             "colorbar": {
              "outlinewidth": 0,
              "ticks": ""
             }
            },
            "type": "parcoords"
           }
          ],
          "pie": [
           {
            "automargin": true,
            "type": "pie"
           }
          ],
          "scatter": [
           {
            "marker": {
             "colorbar": {
              "outlinewidth": 0,
              "ticks": ""
             }
            },
            "type": "scatter"
           }
          ],
          "scatter3d": [
           {
            "line": {
             "colorbar": {
              "outlinewidth": 0,
              "ticks": ""
             }
            },
            "marker": {
             "colorbar": {
              "outlinewidth": 0,
              "ticks": ""
             }
            },
            "type": "scatter3d"
           }
          ],
          "scattercarpet": [
           {
            "marker": {
             "colorbar": {
              "outlinewidth": 0,
              "ticks": ""
             }
            },
            "type": "scattercarpet"
           }
          ],
          "scattergeo": [
           {
            "marker": {
             "colorbar": {
              "outlinewidth": 0,
              "ticks": ""
             }
            },
            "type": "scattergeo"
           }
          ],
          "scattergl": [
           {
            "marker": {
             "colorbar": {
              "outlinewidth": 0,
              "ticks": ""
             }
            },
            "type": "scattergl"
           }
          ],
          "scattermapbox": [
           {
            "marker": {
             "colorbar": {
              "outlinewidth": 0,
              "ticks": ""
             }
            },
            "type": "scattermapbox"
           }
          ],
          "scatterpolar": [
           {
            "marker": {
             "colorbar": {
              "outlinewidth": 0,
              "ticks": ""
             }
            },
            "type": "scatterpolar"
           }
          ],
          "scatterpolargl": [
           {
            "marker": {
             "colorbar": {
              "outlinewidth": 0,
              "ticks": ""
             }
            },
            "type": "scatterpolargl"
           }
          ],
          "scatterternary": [
           {
            "marker": {
             "colorbar": {
              "outlinewidth": 0,
              "ticks": ""
             }
            },
            "type": "scatterternary"
           }
          ],
          "surface": [
           {
            "colorbar": {
             "outlinewidth": 0,
             "ticks": ""
            },
            "colorscale": [
             [
              0,
              "#0d0887"
             ],
             [
              0.1111111111111111,
              "#46039f"
             ],
             [
              0.2222222222222222,
              "#7201a8"
             ],
             [
              0.3333333333333333,
              "#9c179e"
             ],
             [
              0.4444444444444444,
              "#bd3786"
             ],
             [
              0.5555555555555556,
              "#d8576b"
             ],
             [
              0.6666666666666666,
              "#ed7953"
             ],
             [
              0.7777777777777778,
              "#fb9f3a"
             ],
             [
              0.8888888888888888,
              "#fdca26"
             ],
             [
              1,
              "#f0f921"
             ]
            ],
            "type": "surface"
           }
          ],
          "table": [
           {
            "cells": {
             "fill": {
              "color": "#EBF0F8"
             },
             "line": {
              "color": "white"
             }
            },
            "header": {
             "fill": {
              "color": "#C8D4E3"
             },
             "line": {
              "color": "white"
             }
            },
            "type": "table"
           }
          ]
         },
         "layout": {
          "annotationdefaults": {
           "arrowcolor": "#2a3f5f",
           "arrowhead": 0,
           "arrowwidth": 1
          },
          "autotypenumbers": "strict",
          "coloraxis": {
           "colorbar": {
            "outlinewidth": 0,
            "ticks": ""
           }
          },
          "colorscale": {
           "diverging": [
            [
             0,
             "#8e0152"
            ],
            [
             0.1,
             "#c51b7d"
            ],
            [
             0.2,
             "#de77ae"
            ],
            [
             0.3,
             "#f1b6da"
            ],
            [
             0.4,
             "#fde0ef"
            ],
            [
             0.5,
             "#f7f7f7"
            ],
            [
             0.6,
             "#e6f5d0"
            ],
            [
             0.7,
             "#b8e186"
            ],
            [
             0.8,
             "#7fbc41"
            ],
            [
             0.9,
             "#4d9221"
            ],
            [
             1,
             "#276419"
            ]
           ],
           "sequential": [
            [
             0,
             "#0d0887"
            ],
            [
             0.1111111111111111,
             "#46039f"
            ],
            [
             0.2222222222222222,
             "#7201a8"
            ],
            [
             0.3333333333333333,
             "#9c179e"
            ],
            [
             0.4444444444444444,
             "#bd3786"
            ],
            [
             0.5555555555555556,
             "#d8576b"
            ],
            [
             0.6666666666666666,
             "#ed7953"
            ],
            [
             0.7777777777777778,
             "#fb9f3a"
            ],
            [
             0.8888888888888888,
             "#fdca26"
            ],
            [
             1,
             "#f0f921"
            ]
           ],
           "sequentialminus": [
            [
             0,
             "#0d0887"
            ],
            [
             0.1111111111111111,
             "#46039f"
            ],
            [
             0.2222222222222222,
             "#7201a8"
            ],
            [
             0.3333333333333333,
             "#9c179e"
            ],
            [
             0.4444444444444444,
             "#bd3786"
            ],
            [
             0.5555555555555556,
             "#d8576b"
            ],
            [
             0.6666666666666666,
             "#ed7953"
            ],
            [
             0.7777777777777778,
             "#fb9f3a"
            ],
            [
             0.8888888888888888,
             "#fdca26"
            ],
            [
             1,
             "#f0f921"
            ]
           ]
          },
          "colorway": [
           "#636efa",
           "#EF553B",
           "#00cc96",
           "#ab63fa",
           "#FFA15A",
           "#19d3f3",
           "#FF6692",
           "#B6E880",
           "#FF97FF",
           "#FECB52"
          ],
          "font": {
           "color": "#2a3f5f"
          },
          "geo": {
           "bgcolor": "white",
           "lakecolor": "white",
           "landcolor": "#E5ECF6",
           "showlakes": true,
           "showland": true,
           "subunitcolor": "white"
          },
          "hoverlabel": {
           "align": "left"
          },
          "hovermode": "closest",
          "mapbox": {
           "style": "light"
          },
          "paper_bgcolor": "white",
          "plot_bgcolor": "#E5ECF6",
          "polar": {
           "angularaxis": {
            "gridcolor": "white",
            "linecolor": "white",
            "ticks": ""
           },
           "bgcolor": "#E5ECF6",
           "radialaxis": {
            "gridcolor": "white",
            "linecolor": "white",
            "ticks": ""
           }
          },
          "scene": {
           "xaxis": {
            "backgroundcolor": "#E5ECF6",
            "gridcolor": "white",
            "gridwidth": 2,
            "linecolor": "white",
            "showbackground": true,
            "ticks": "",
            "zerolinecolor": "white"
           },
           "yaxis": {
            "backgroundcolor": "#E5ECF6",
            "gridcolor": "white",
            "gridwidth": 2,
            "linecolor": "white",
            "showbackground": true,
            "ticks": "",
            "zerolinecolor": "white"
           },
           "zaxis": {
            "backgroundcolor": "#E5ECF6",
            "gridcolor": "white",
            "gridwidth": 2,
            "linecolor": "white",
            "showbackground": true,
            "ticks": "",
            "zerolinecolor": "white"
           }
          },
          "shapedefaults": {
           "line": {
            "color": "#2a3f5f"
           }
          },
          "ternary": {
           "aaxis": {
            "gridcolor": "white",
            "linecolor": "white",
            "ticks": ""
           },
           "baxis": {
            "gridcolor": "white",
            "linecolor": "white",
            "ticks": ""
           },
           "bgcolor": "#E5ECF6",
           "caxis": {
            "gridcolor": "white",
            "linecolor": "white",
            "ticks": ""
           }
          },
          "title": {
           "x": 0.05
          },
          "xaxis": {
           "automargin": true,
           "gridcolor": "white",
           "linecolor": "white",
           "ticks": "",
           "title": {
            "standoff": 15
           },
           "zerolinecolor": "white",
           "zerolinewidth": 2
          },
          "yaxis": {
           "automargin": true,
           "gridcolor": "white",
           "linecolor": "white",
           "ticks": "",
           "title": {
            "standoff": 15
           },
           "zerolinecolor": "white",
           "zerolinewidth": 2
          }
         }
        },
        "title": {
         "text": "Athletes by gender in each Summer Olympics"
        },
        "xaxis": {
         "tickfont": {
          "size": 14
         }
        },
        "yaxis": {
         "tickfont": {
          "size": 14
         },
         "title": {
          "font": {
           "size": 16
          },
          "text": ""
         }
        }
       }
      },
      "text/html": [
       "<div>                            <div id=\"f775ee0b-2fae-49cb-94aa-943437729680\" class=\"plotly-graph-div\" style=\"height:525px; width:100%;\"></div>            <script type=\"text/javascript\">                require([\"plotly\"], function(Plotly) {                    window.PLOTLYENV=window.PLOTLYENV || {};                                    if (document.getElementById(\"f775ee0b-2fae-49cb-94aa-943437729680\")) {                    Plotly.newPlot(                        \"f775ee0b-2fae-49cb-94aa-943437729680\",                        [{\"marker\": {\"color\": \"rgb(55, 83, 109)\"}, \"name\": \"Men\", \"type\": \"bar\", \"x\": [1896, 1900, 1904, 1908, 1912, 1920, 1924, 1928, 1932, 1936, 1948, 1952, 1956, 1960, 1964, 1968, 1972, 1976, 1980, 1984, 1988, 1992, 1996, 2000, 2004, 2008, 2012, 2016], \"y\": [176, 1201, 644, 1980, 2324, 2588, 2932, 2603, 1207, 3627, 3681, 4411, 2963, 4739, 4457, 4775, 6054, 4813, 4136, 5229, 6251, 6663, 6822, 6579, 6257, 6290, 5863, 6145]}, {\"marker\": {\"color\": \"rgb(26, 118, 255)\"}, \"name\": \"Women\", \"type\": \"bar\", \"x\": [1900, 1904, 1908, 1912, 1920, 1924, 1928, 1932, 1936, 1948, 1952, 1956, 1960, 1964, 1968, 1972, 1976, 1980, 1984, 1988, 1992, 1996, 2000, 2004, 2008, 2012, 2016], \"y\": [23, 6, 44, 53, 77, 135, 274, 126, 329, 393, 521, 384, 613, 680, 783, 1060, 1260, 1123, 1569, 2203, 2723, 3517, 4068, 4300, 4609, 4654, 5034]}],                        {\"bargap\": 0.5, \"bargroupgap\": 0, \"barmode\": \"group\", \"legend\": {\"bgcolor\": \"rgba(255, 255, 255, 0)\", \"bordercolor\": \"rgba(255, 255, 255, 0)\", \"x\": 0, \"y\": 1.0}, \"template\": {\"data\": {\"bar\": [{\"error_x\": {\"color\": \"#2a3f5f\"}, \"error_y\": {\"color\": \"#2a3f5f\"}, \"marker\": {\"line\": {\"color\": \"#E5ECF6\", \"width\": 0.5}}, \"type\": \"bar\"}], \"barpolar\": [{\"marker\": {\"line\": {\"color\": \"#E5ECF6\", \"width\": 0.5}}, \"type\": \"barpolar\"}], \"carpet\": [{\"aaxis\": {\"endlinecolor\": \"#2a3f5f\", \"gridcolor\": \"white\", \"linecolor\": \"white\", \"minorgridcolor\": \"white\", \"startlinecolor\": \"#2a3f5f\"}, \"baxis\": {\"endlinecolor\": \"#2a3f5f\", \"gridcolor\": \"white\", \"linecolor\": \"white\", \"minorgridcolor\": \"white\", \"startlinecolor\": \"#2a3f5f\"}, \"type\": \"carpet\"}], \"choropleth\": [{\"colorbar\": {\"outlinewidth\": 0, \"ticks\": \"\"}, \"type\": \"choropleth\"}], \"contour\": [{\"colorbar\": {\"outlinewidth\": 0, \"ticks\": \"\"}, \"colorscale\": [[0.0, \"#0d0887\"], [0.1111111111111111, \"#46039f\"], [0.2222222222222222, \"#7201a8\"], [0.3333333333333333, \"#9c179e\"], [0.4444444444444444, \"#bd3786\"], [0.5555555555555556, \"#d8576b\"], [0.6666666666666666, \"#ed7953\"], [0.7777777777777778, \"#fb9f3a\"], [0.8888888888888888, \"#fdca26\"], [1.0, \"#f0f921\"]], \"type\": \"contour\"}], \"contourcarpet\": [{\"colorbar\": {\"outlinewidth\": 0, \"ticks\": \"\"}, \"type\": \"contourcarpet\"}], \"heatmap\": [{\"colorbar\": {\"outlinewidth\": 0, \"ticks\": \"\"}, \"colorscale\": [[0.0, \"#0d0887\"], [0.1111111111111111, \"#46039f\"], [0.2222222222222222, \"#7201a8\"], [0.3333333333333333, \"#9c179e\"], [0.4444444444444444, \"#bd3786\"], [0.5555555555555556, \"#d8576b\"], [0.6666666666666666, \"#ed7953\"], [0.7777777777777778, \"#fb9f3a\"], [0.8888888888888888, \"#fdca26\"], [1.0, \"#f0f921\"]], \"type\": \"heatmap\"}], \"heatmapgl\": [{\"colorbar\": {\"outlinewidth\": 0, \"ticks\": \"\"}, \"colorscale\": [[0.0, \"#0d0887\"], [0.1111111111111111, \"#46039f\"], [0.2222222222222222, \"#7201a8\"], [0.3333333333333333, \"#9c179e\"], [0.4444444444444444, \"#bd3786\"], [0.5555555555555556, \"#d8576b\"], [0.6666666666666666, \"#ed7953\"], [0.7777777777777778, \"#fb9f3a\"], [0.8888888888888888, \"#fdca26\"], [1.0, \"#f0f921\"]], \"type\": \"heatmapgl\"}], \"histogram\": [{\"marker\": {\"colorbar\": {\"outlinewidth\": 0, \"ticks\": \"\"}}, \"type\": \"histogram\"}], \"histogram2d\": [{\"colorbar\": {\"outlinewidth\": 0, \"ticks\": \"\"}, \"colorscale\": [[0.0, \"#0d0887\"], [0.1111111111111111, \"#46039f\"], [0.2222222222222222, \"#7201a8\"], [0.3333333333333333, \"#9c179e\"], [0.4444444444444444, \"#bd3786\"], [0.5555555555555556, \"#d8576b\"], [0.6666666666666666, \"#ed7953\"], [0.7777777777777778, \"#fb9f3a\"], [0.8888888888888888, \"#fdca26\"], [1.0, \"#f0f921\"]], \"type\": \"histogram2d\"}], \"histogram2dcontour\": [{\"colorbar\": {\"outlinewidth\": 0, \"ticks\": \"\"}, \"colorscale\": [[0.0, \"#0d0887\"], [0.1111111111111111, \"#46039f\"], [0.2222222222222222, \"#7201a8\"], [0.3333333333333333, \"#9c179e\"], [0.4444444444444444, \"#bd3786\"], [0.5555555555555556, \"#d8576b\"], [0.6666666666666666, \"#ed7953\"], [0.7777777777777778, \"#fb9f3a\"], [0.8888888888888888, \"#fdca26\"], [1.0, \"#f0f921\"]], \"type\": \"histogram2dcontour\"}], \"mesh3d\": [{\"colorbar\": {\"outlinewidth\": 0, \"ticks\": \"\"}, \"type\": \"mesh3d\"}], \"parcoords\": [{\"line\": {\"colorbar\": {\"outlinewidth\": 0, \"ticks\": \"\"}}, \"type\": \"parcoords\"}], \"pie\": [{\"automargin\": true, \"type\": \"pie\"}], \"scatter\": [{\"marker\": {\"colorbar\": {\"outlinewidth\": 0, \"ticks\": \"\"}}, \"type\": \"scatter\"}], \"scatter3d\": [{\"line\": {\"colorbar\": {\"outlinewidth\": 0, \"ticks\": \"\"}}, \"marker\": {\"colorbar\": {\"outlinewidth\": 0, \"ticks\": \"\"}}, \"type\": \"scatter3d\"}], \"scattercarpet\": [{\"marker\": {\"colorbar\": {\"outlinewidth\": 0, \"ticks\": \"\"}}, \"type\": \"scattercarpet\"}], \"scattergeo\": [{\"marker\": {\"colorbar\": {\"outlinewidth\": 0, \"ticks\": \"\"}}, \"type\": \"scattergeo\"}], \"scattergl\": [{\"marker\": {\"colorbar\": {\"outlinewidth\": 0, \"ticks\": \"\"}}, \"type\": \"scattergl\"}], \"scattermapbox\": [{\"marker\": {\"colorbar\": {\"outlinewidth\": 0, \"ticks\": \"\"}}, \"type\": \"scattermapbox\"}], \"scatterpolar\": [{\"marker\": {\"colorbar\": {\"outlinewidth\": 0, \"ticks\": \"\"}}, \"type\": \"scatterpolar\"}], \"scatterpolargl\": [{\"marker\": {\"colorbar\": {\"outlinewidth\": 0, \"ticks\": \"\"}}, \"type\": \"scatterpolargl\"}], \"scatterternary\": [{\"marker\": {\"colorbar\": {\"outlinewidth\": 0, \"ticks\": \"\"}}, \"type\": \"scatterternary\"}], \"surface\": [{\"colorbar\": {\"outlinewidth\": 0, \"ticks\": \"\"}, \"colorscale\": [[0.0, \"#0d0887\"], [0.1111111111111111, \"#46039f\"], [0.2222222222222222, \"#7201a8\"], [0.3333333333333333, \"#9c179e\"], [0.4444444444444444, \"#bd3786\"], [0.5555555555555556, \"#d8576b\"], [0.6666666666666666, \"#ed7953\"], [0.7777777777777778, \"#fb9f3a\"], [0.8888888888888888, \"#fdca26\"], [1.0, \"#f0f921\"]], \"type\": \"surface\"}], \"table\": [{\"cells\": {\"fill\": {\"color\": \"#EBF0F8\"}, \"line\": {\"color\": \"white\"}}, \"header\": {\"fill\": {\"color\": \"#C8D4E3\"}, \"line\": {\"color\": \"white\"}}, \"type\": \"table\"}]}, \"layout\": {\"annotationdefaults\": {\"arrowcolor\": \"#2a3f5f\", \"arrowhead\": 0, \"arrowwidth\": 1}, \"autotypenumbers\": \"strict\", \"coloraxis\": {\"colorbar\": {\"outlinewidth\": 0, \"ticks\": \"\"}}, \"colorscale\": {\"diverging\": [[0, \"#8e0152\"], [0.1, \"#c51b7d\"], [0.2, \"#de77ae\"], [0.3, \"#f1b6da\"], [0.4, \"#fde0ef\"], [0.5, \"#f7f7f7\"], [0.6, \"#e6f5d0\"], [0.7, \"#b8e186\"], [0.8, \"#7fbc41\"], [0.9, \"#4d9221\"], [1, \"#276419\"]], \"sequential\": [[0.0, \"#0d0887\"], [0.1111111111111111, \"#46039f\"], [0.2222222222222222, \"#7201a8\"], [0.3333333333333333, \"#9c179e\"], [0.4444444444444444, \"#bd3786\"], [0.5555555555555556, \"#d8576b\"], [0.6666666666666666, \"#ed7953\"], [0.7777777777777778, \"#fb9f3a\"], [0.8888888888888888, \"#fdca26\"], [1.0, \"#f0f921\"]], \"sequentialminus\": [[0.0, \"#0d0887\"], [0.1111111111111111, \"#46039f\"], [0.2222222222222222, \"#7201a8\"], [0.3333333333333333, \"#9c179e\"], [0.4444444444444444, \"#bd3786\"], [0.5555555555555556, \"#d8576b\"], [0.6666666666666666, \"#ed7953\"], [0.7777777777777778, \"#fb9f3a\"], [0.8888888888888888, \"#fdca26\"], [1.0, \"#f0f921\"]]}, \"colorway\": [\"#636efa\", \"#EF553B\", \"#00cc96\", \"#ab63fa\", \"#FFA15A\", \"#19d3f3\", \"#FF6692\", \"#B6E880\", \"#FF97FF\", \"#FECB52\"], \"font\": {\"color\": \"#2a3f5f\"}, \"geo\": {\"bgcolor\": \"white\", \"lakecolor\": \"white\", \"landcolor\": \"#E5ECF6\", \"showlakes\": true, \"showland\": true, \"subunitcolor\": \"white\"}, \"hoverlabel\": {\"align\": \"left\"}, \"hovermode\": \"closest\", \"mapbox\": {\"style\": \"light\"}, \"paper_bgcolor\": \"white\", \"plot_bgcolor\": \"#E5ECF6\", \"polar\": {\"angularaxis\": {\"gridcolor\": \"white\", \"linecolor\": \"white\", \"ticks\": \"\"}, \"bgcolor\": \"#E5ECF6\", \"radialaxis\": {\"gridcolor\": \"white\", \"linecolor\": \"white\", \"ticks\": \"\"}}, \"scene\": {\"xaxis\": {\"backgroundcolor\": \"#E5ECF6\", \"gridcolor\": \"white\", \"gridwidth\": 2, \"linecolor\": \"white\", \"showbackground\": true, \"ticks\": \"\", \"zerolinecolor\": \"white\"}, \"yaxis\": {\"backgroundcolor\": \"#E5ECF6\", \"gridcolor\": \"white\", \"gridwidth\": 2, \"linecolor\": \"white\", \"showbackground\": true, \"ticks\": \"\", \"zerolinecolor\": \"white\"}, \"zaxis\": {\"backgroundcolor\": \"#E5ECF6\", \"gridcolor\": \"white\", \"gridwidth\": 2, \"linecolor\": \"white\", \"showbackground\": true, \"ticks\": \"\", \"zerolinecolor\": \"white\"}}, \"shapedefaults\": {\"line\": {\"color\": \"#2a3f5f\"}}, \"ternary\": {\"aaxis\": {\"gridcolor\": \"white\", \"linecolor\": \"white\", \"ticks\": \"\"}, \"baxis\": {\"gridcolor\": \"white\", \"linecolor\": \"white\", \"ticks\": \"\"}, \"bgcolor\": \"#E5ECF6\", \"caxis\": {\"gridcolor\": \"white\", \"linecolor\": \"white\", \"ticks\": \"\"}}, \"title\": {\"x\": 0.05}, \"xaxis\": {\"automargin\": true, \"gridcolor\": \"white\", \"linecolor\": \"white\", \"ticks\": \"\", \"title\": {\"standoff\": 15}, \"zerolinecolor\": \"white\", \"zerolinewidth\": 2}, \"yaxis\": {\"automargin\": true, \"gridcolor\": \"white\", \"linecolor\": \"white\", \"ticks\": \"\", \"title\": {\"standoff\": 15}, \"zerolinecolor\": \"white\", \"zerolinewidth\": 2}}}, \"title\": {\"text\": \"Athletes by gender in each Summer Olympics\"}, \"xaxis\": {\"tickfont\": {\"size\": 14}}, \"yaxis\": {\"tickfont\": {\"size\": 14}, \"title\": {\"font\": {\"size\": 16}, \"text\": \"\"}}},                        {\"responsive\": true}                    ).then(function(){\n",
       "                            \n",
       "var gd = document.getElementById('f775ee0b-2fae-49cb-94aa-943437729680');\n",
       "var x = new MutationObserver(function (mutations, observer) {{\n",
       "        var display = window.getComputedStyle(gd).display;\n",
       "        if (!display || display === 'none') {{\n",
       "            console.log([gd, 'removed!']);\n",
       "            Plotly.purge(gd);\n",
       "            observer.disconnect();\n",
       "        }}\n",
       "}});\n",
       "\n",
       "// Listen for the removal of the full notebook cells\n",
       "var notebookContainer = gd.closest('#notebook-container');\n",
       "if (notebookContainer) {{\n",
       "    x.observe(notebookContainer, {childList: true});\n",
       "}}\n",
       "\n",
       "// Listen for the clearing of the current output cell\n",
       "var outputEl = gd.closest('.output');\n",
       "if (outputEl) {{\n",
       "    x.observe(outputEl, {childList: true});\n",
       "}}\n",
       "\n",
       "                        })                };                });            </script>        </div>"
      ]
     },
     "metadata": {},
     "output_type": "display_data"
    }
   ],
   "source": [
    "fig = go.Figure()\n",
    "fig.add_trace(go.Bar(x=gp_atl_games[gp_atl_games.Sex==\"M\"].Year,\n",
    "                y=gp_atl_games[gp_atl_games.Sex==\"M\"].No_athletes,\n",
    "                name='Men',\n",
    "                marker_color='rgb(55, 83, 109)'\n",
    "                ))\n",
    "\n",
    "fig.add_trace(go.Bar(x=gp_atl_games[gp_atl_games.Sex==\"F\"].Year,\n",
    "                y=gp_atl_games[gp_atl_games.Sex==\"F\"].No_athletes,\n",
    "                name='Women',\n",
    "                marker_color='rgb(26, 118, 255)'\n",
    "                ))\n",
    "\n",
    "fig.update_layout(\n",
    "    title='Athletes by gender in each Summer Olympics',\n",
    "    xaxis_tickfont_size=14,\n",
    "    yaxis=dict(\n",
    "        title='',\n",
    "        titlefont_size=16,\n",
    "        tickfont_size=14,\n",
    "    ),\n",
    "    legend=dict(\n",
    "        x=0,\n",
    "        y=1.0,\n",
    "        bgcolor='rgba(255, 255, 255, 0)',\n",
    "        bordercolor='rgba(255, 255, 255, 0)'\n",
    "    ),\n",
    "    barmode='group',\n",
    "    bargap=.5, # gap between bars of adjacent location coordinates.\n",
    "    bargroupgap=0 # gap between bars of the same location coordinate.\n",
    ")\n",
    "fig.show()\n"
   ]
  },
  {
   "cell_type": "markdown",
   "metadata": {},
   "source": [
    "Alternatively, we can better visualize this pattern using percentages and a single line."
   ]
  },
  {
   "cell_type": "code",
   "execution_count": 249,
   "metadata": {},
   "outputs": [],
   "source": [
    "# Pivot table\n",
    "gp_games_percentage = pd.pivot_table(gp_atl_games, values='No_athletes', index=['Games', 'Year'],\n",
    "                                     columns=['Sex'], aggfunc=np.sum).reset_index()"
   ]
  },
  {
   "cell_type": "code",
   "execution_count": 250,
   "metadata": {},
   "outputs": [],
   "source": [
    "# Crates a field for women percentage\n",
    "gp_games_percentage[\"Percentage_women\"] = (gp_games_percentage[\"F\"] / \n",
    "                                          (gp_games_percentage[\"F\"] + gp_games_percentage[\"M\"]))"
   ]
  },
  {
   "cell_type": "code",
   "execution_count": 251,
   "metadata": {},
   "outputs": [
    {
     "data": {
      "application/vnd.plotly.v1+json": {
       "config": {
        "plotlyServerURL": "https://plot.ly"
       },
       "data": [
        {
         "marker": {
          "color": "rgb(55, 83, 109)"
         },
         "mode": "lines+markers",
         "showlegend": false,
         "type": "scatter",
         "x": [
          1896,
          1900,
          1904,
          1908,
          1912,
          1920,
          1924,
          1928,
          1932,
          1936,
          1948,
          1952,
          1956,
          1960,
          1964,
          1968,
          1972,
          1976,
          1980,
          1984,
          1988,
          1992,
          1996,
          2000,
          2004,
          2008,
          2012,
          2016
         ],
         "y": [
          null,
          0.018790849673202614,
          0.009230769230769232,
          0.021739130434782608,
          0.022297013041649136,
          0.028893058161350845,
          0.04401695467883926,
          0.09523809523809523,
          0.09452363090772693,
          0.08316481294236602,
          0.09646539027982327,
          0.10563665855636659,
          0.11472960860472065,
          0.11453662182361735,
          0.1323729803387191,
          0.14087801367398345,
          0.1490019679505201,
          0.20747571216861518,
          0.2135386955694999,
          0.23080317740511916,
          0.2605867045185711,
          0.2901129341572555,
          0.3401682948060741,
          0.3820794590025359,
          0.40731268352751726,
          0.42288283328745757,
          0.44252163164400493,
          0.4503086143662224
         ]
        },
        {
         "marker": {
          "color": "#222"
         },
         "mode": "lines",
         "showlegend": false,
         "type": "scatter",
         "x": [
          1896,
          2020
         ],
         "y": [
          0.5,
          0.5
         ]
        }
       ],
       "layout": {
        "template": {
         "data": {
          "bar": [
           {
            "error_x": {
             "color": "#2a3f5f"
            },
            "error_y": {
             "color": "#2a3f5f"
            },
            "marker": {
             "line": {
              "color": "#E5ECF6",
              "width": 0.5
             }
            },
            "type": "bar"
           }
          ],
          "barpolar": [
           {
            "marker": {
             "line": {
              "color": "#E5ECF6",
              "width": 0.5
             }
            },
            "type": "barpolar"
           }
          ],
          "carpet": [
           {
            "aaxis": {
             "endlinecolor": "#2a3f5f",
             "gridcolor": "white",
             "linecolor": "white",
             "minorgridcolor": "white",
             "startlinecolor": "#2a3f5f"
            },
            "baxis": {
             "endlinecolor": "#2a3f5f",
             "gridcolor": "white",
             "linecolor": "white",
             "minorgridcolor": "white",
             "startlinecolor": "#2a3f5f"
            },
            "type": "carpet"
           }
          ],
          "choropleth": [
           {
            "colorbar": {
             "outlinewidth": 0,
             "ticks": ""
            },
            "type": "choropleth"
           }
          ],
          "contour": [
           {
            "colorbar": {
             "outlinewidth": 0,
             "ticks": ""
            },
            "colorscale": [
             [
              0,
              "#0d0887"
             ],
             [
              0.1111111111111111,
              "#46039f"
             ],
             [
              0.2222222222222222,
              "#7201a8"
             ],
             [
              0.3333333333333333,
              "#9c179e"
             ],
             [
              0.4444444444444444,
              "#bd3786"
             ],
             [
              0.5555555555555556,
              "#d8576b"
             ],
             [
              0.6666666666666666,
              "#ed7953"
             ],
             [
              0.7777777777777778,
              "#fb9f3a"
             ],
             [
              0.8888888888888888,
              "#fdca26"
             ],
             [
              1,
              "#f0f921"
             ]
            ],
            "type": "contour"
           }
          ],
          "contourcarpet": [
           {
            "colorbar": {
             "outlinewidth": 0,
             "ticks": ""
            },
            "type": "contourcarpet"
           }
          ],
          "heatmap": [
           {
            "colorbar": {
             "outlinewidth": 0,
             "ticks": ""
            },
            "colorscale": [
             [
              0,
              "#0d0887"
             ],
             [
              0.1111111111111111,
              "#46039f"
             ],
             [
              0.2222222222222222,
              "#7201a8"
             ],
             [
              0.3333333333333333,
              "#9c179e"
             ],
             [
              0.4444444444444444,
              "#bd3786"
             ],
             [
              0.5555555555555556,
              "#d8576b"
             ],
             [
              0.6666666666666666,
              "#ed7953"
             ],
             [
              0.7777777777777778,
              "#fb9f3a"
             ],
             [
              0.8888888888888888,
              "#fdca26"
             ],
             [
              1,
              "#f0f921"
             ]
            ],
            "type": "heatmap"
           }
          ],
          "heatmapgl": [
           {
            "colorbar": {
             "outlinewidth": 0,
             "ticks": ""
            },
            "colorscale": [
             [
              0,
              "#0d0887"
             ],
             [
              0.1111111111111111,
              "#46039f"
             ],
             [
              0.2222222222222222,
              "#7201a8"
             ],
             [
              0.3333333333333333,
              "#9c179e"
             ],
             [
              0.4444444444444444,
              "#bd3786"
             ],
             [
              0.5555555555555556,
              "#d8576b"
             ],
             [
              0.6666666666666666,
              "#ed7953"
             ],
             [
              0.7777777777777778,
              "#fb9f3a"
             ],
             [
              0.8888888888888888,
              "#fdca26"
             ],
             [
              1,
              "#f0f921"
             ]
            ],
            "type": "heatmapgl"
           }
          ],
          "histogram": [
           {
            "marker": {
             "colorbar": {
              "outlinewidth": 0,
              "ticks": ""
             }
            },
            "type": "histogram"
           }
          ],
          "histogram2d": [
           {
            "colorbar": {
             "outlinewidth": 0,
             "ticks": ""
            },
            "colorscale": [
             [
              0,
              "#0d0887"
             ],
             [
              0.1111111111111111,
              "#46039f"
             ],
             [
              0.2222222222222222,
              "#7201a8"
             ],
             [
              0.3333333333333333,
              "#9c179e"
             ],
             [
              0.4444444444444444,
              "#bd3786"
             ],
             [
              0.5555555555555556,
              "#d8576b"
             ],
             [
              0.6666666666666666,
              "#ed7953"
             ],
             [
              0.7777777777777778,
              "#fb9f3a"
             ],
             [
              0.8888888888888888,
              "#fdca26"
             ],
             [
              1,
              "#f0f921"
             ]
            ],
            "type": "histogram2d"
           }
          ],
          "histogram2dcontour": [
           {
            "colorbar": {
             "outlinewidth": 0,
             "ticks": ""
            },
            "colorscale": [
             [
              0,
              "#0d0887"
             ],
             [
              0.1111111111111111,
              "#46039f"
             ],
             [
              0.2222222222222222,
              "#7201a8"
             ],
             [
              0.3333333333333333,
              "#9c179e"
             ],
             [
              0.4444444444444444,
              "#bd3786"
             ],
             [
              0.5555555555555556,
              "#d8576b"
             ],
             [
              0.6666666666666666,
              "#ed7953"
             ],
             [
              0.7777777777777778,
              "#fb9f3a"
             ],
             [
              0.8888888888888888,
              "#fdca26"
             ],
             [
              1,
              "#f0f921"
             ]
            ],
            "type": "histogram2dcontour"
           }
          ],
          "mesh3d": [
           {
            "colorbar": {
             "outlinewidth": 0,
             "ticks": ""
            },
            "type": "mesh3d"
           }
          ],
          "parcoords": [
           {
            "line": {
             "colorbar": {
              "outlinewidth": 0,
              "ticks": ""
             }
            },
            "type": "parcoords"
           }
          ],
          "pie": [
           {
            "automargin": true,
            "type": "pie"
           }
          ],
          "scatter": [
           {
            "marker": {
             "colorbar": {
              "outlinewidth": 0,
              "ticks": ""
             }
            },
            "type": "scatter"
           }
          ],
          "scatter3d": [
           {
            "line": {
             "colorbar": {
              "outlinewidth": 0,
              "ticks": ""
             }
            },
            "marker": {
             "colorbar": {
              "outlinewidth": 0,
              "ticks": ""
             }
            },
            "type": "scatter3d"
           }
          ],
          "scattercarpet": [
           {
            "marker": {
             "colorbar": {
              "outlinewidth": 0,
              "ticks": ""
             }
            },
            "type": "scattercarpet"
           }
          ],
          "scattergeo": [
           {
            "marker": {
             "colorbar": {
              "outlinewidth": 0,
              "ticks": ""
             }
            },
            "type": "scattergeo"
           }
          ],
          "scattergl": [
           {
            "marker": {
             "colorbar": {
              "outlinewidth": 0,
              "ticks": ""
             }
            },
            "type": "scattergl"
           }
          ],
          "scattermapbox": [
           {
            "marker": {
             "colorbar": {
              "outlinewidth": 0,
              "ticks": ""
             }
            },
            "type": "scattermapbox"
           }
          ],
          "scatterpolar": [
           {
            "marker": {
             "colorbar": {
              "outlinewidth": 0,
              "ticks": ""
             }
            },
            "type": "scatterpolar"
           }
          ],
          "scatterpolargl": [
           {
            "marker": {
             "colorbar": {
              "outlinewidth": 0,
              "ticks": ""
             }
            },
            "type": "scatterpolargl"
           }
          ],
          "scatterternary": [
           {
            "marker": {
             "colorbar": {
              "outlinewidth": 0,
              "ticks": ""
             }
            },
            "type": "scatterternary"
           }
          ],
          "surface": [
           {
            "colorbar": {
             "outlinewidth": 0,
             "ticks": ""
            },
            "colorscale": [
             [
              0,
              "#0d0887"
             ],
             [
              0.1111111111111111,
              "#46039f"
             ],
             [
              0.2222222222222222,
              "#7201a8"
             ],
             [
              0.3333333333333333,
              "#9c179e"
             ],
             [
              0.4444444444444444,
              "#bd3786"
             ],
             [
              0.5555555555555556,
              "#d8576b"
             ],
             [
              0.6666666666666666,
              "#ed7953"
             ],
             [
              0.7777777777777778,
              "#fb9f3a"
             ],
             [
              0.8888888888888888,
              "#fdca26"
             ],
             [
              1,
              "#f0f921"
             ]
            ],
            "type": "surface"
           }
          ],
          "table": [
           {
            "cells": {
             "fill": {
              "color": "#EBF0F8"
             },
             "line": {
              "color": "white"
             }
            },
            "header": {
             "fill": {
              "color": "#C8D4E3"
             },
             "line": {
              "color": "white"
             }
            },
            "type": "table"
           }
          ]
         },
         "layout": {
          "annotationdefaults": {
           "arrowcolor": "#2a3f5f",
           "arrowhead": 0,
           "arrowwidth": 1
          },
          "autotypenumbers": "strict",
          "coloraxis": {
           "colorbar": {
            "outlinewidth": 0,
            "ticks": ""
           }
          },
          "colorscale": {
           "diverging": [
            [
             0,
             "#8e0152"
            ],
            [
             0.1,
             "#c51b7d"
            ],
            [
             0.2,
             "#de77ae"
            ],
            [
             0.3,
             "#f1b6da"
            ],
            [
             0.4,
             "#fde0ef"
            ],
            [
             0.5,
             "#f7f7f7"
            ],
            [
             0.6,
             "#e6f5d0"
            ],
            [
             0.7,
             "#b8e186"
            ],
            [
             0.8,
             "#7fbc41"
            ],
            [
             0.9,
             "#4d9221"
            ],
            [
             1,
             "#276419"
            ]
           ],
           "sequential": [
            [
             0,
             "#0d0887"
            ],
            [
             0.1111111111111111,
             "#46039f"
            ],
            [
             0.2222222222222222,
             "#7201a8"
            ],
            [
             0.3333333333333333,
             "#9c179e"
            ],
            [
             0.4444444444444444,
             "#bd3786"
            ],
            [
             0.5555555555555556,
             "#d8576b"
            ],
            [
             0.6666666666666666,
             "#ed7953"
            ],
            [
             0.7777777777777778,
             "#fb9f3a"
            ],
            [
             0.8888888888888888,
             "#fdca26"
            ],
            [
             1,
             "#f0f921"
            ]
           ],
           "sequentialminus": [
            [
             0,
             "#0d0887"
            ],
            [
             0.1111111111111111,
             "#46039f"
            ],
            [
             0.2222222222222222,
             "#7201a8"
            ],
            [
             0.3333333333333333,
             "#9c179e"
            ],
            [
             0.4444444444444444,
             "#bd3786"
            ],
            [
             0.5555555555555556,
             "#d8576b"
            ],
            [
             0.6666666666666666,
             "#ed7953"
            ],
            [
             0.7777777777777778,
             "#fb9f3a"
            ],
            [
             0.8888888888888888,
             "#fdca26"
            ],
            [
             1,
             "#f0f921"
            ]
           ]
          },
          "colorway": [
           "#636efa",
           "#EF553B",
           "#00cc96",
           "#ab63fa",
           "#FFA15A",
           "#19d3f3",
           "#FF6692",
           "#B6E880",
           "#FF97FF",
           "#FECB52"
          ],
          "font": {
           "color": "#2a3f5f"
          },
          "geo": {
           "bgcolor": "white",
           "lakecolor": "white",
           "landcolor": "#E5ECF6",
           "showlakes": true,
           "showland": true,
           "subunitcolor": "white"
          },
          "hoverlabel": {
           "align": "left"
          },
          "hovermode": "closest",
          "mapbox": {
           "style": "light"
          },
          "paper_bgcolor": "white",
          "plot_bgcolor": "#E5ECF6",
          "polar": {
           "angularaxis": {
            "gridcolor": "white",
            "linecolor": "white",
            "ticks": ""
           },
           "bgcolor": "#E5ECF6",
           "radialaxis": {
            "gridcolor": "white",
            "linecolor": "white",
            "ticks": ""
           }
          },
          "scene": {
           "xaxis": {
            "backgroundcolor": "#E5ECF6",
            "gridcolor": "white",
            "gridwidth": 2,
            "linecolor": "white",
            "showbackground": true,
            "ticks": "",
            "zerolinecolor": "white"
           },
           "yaxis": {
            "backgroundcolor": "#E5ECF6",
            "gridcolor": "white",
            "gridwidth": 2,
            "linecolor": "white",
            "showbackground": true,
            "ticks": "",
            "zerolinecolor": "white"
           },
           "zaxis": {
            "backgroundcolor": "#E5ECF6",
            "gridcolor": "white",
            "gridwidth": 2,
            "linecolor": "white",
            "showbackground": true,
            "ticks": "",
            "zerolinecolor": "white"
           }
          },
          "shapedefaults": {
           "line": {
            "color": "#2a3f5f"
           }
          },
          "ternary": {
           "aaxis": {
            "gridcolor": "white",
            "linecolor": "white",
            "ticks": ""
           },
           "baxis": {
            "gridcolor": "white",
            "linecolor": "white",
            "ticks": ""
           },
           "bgcolor": "#E5ECF6",
           "caxis": {
            "gridcolor": "white",
            "linecolor": "white",
            "ticks": ""
           }
          },
          "title": {
           "x": 0.05
          },
          "xaxis": {
           "automargin": true,
           "gridcolor": "white",
           "linecolor": "white",
           "ticks": "",
           "title": {
            "standoff": 15
           },
           "zerolinecolor": "white",
           "zerolinewidth": 2
          },
          "yaxis": {
           "automargin": true,
           "gridcolor": "white",
           "linecolor": "white",
           "ticks": "",
           "title": {
            "standoff": 15
           },
           "zerolinecolor": "white",
           "zerolinewidth": 2
          }
         }
        },
        "xaxis": {
         "range": [
          1896,
          2020
         ]
        },
        "yaxis": {
         "range": [
          0,
          0.55
         ]
        }
       }
      },
      "text/html": [
       "<div>                            <div id=\"bda41803-4b6d-4ee7-996e-c7ab3f8c46ca\" class=\"plotly-graph-div\" style=\"height:525px; width:100%;\"></div>            <script type=\"text/javascript\">                require([\"plotly\"], function(Plotly) {                    window.PLOTLYENV=window.PLOTLYENV || {};                                    if (document.getElementById(\"bda41803-4b6d-4ee7-996e-c7ab3f8c46ca\")) {                    Plotly.newPlot(                        \"bda41803-4b6d-4ee7-996e-c7ab3f8c46ca\",                        [{\"marker\": {\"color\": \"rgb(55, 83, 109)\"}, \"mode\": \"lines+markers\", \"showlegend\": false, \"type\": \"scatter\", \"x\": [1896, 1900, 1904, 1908, 1912, 1920, 1924, 1928, 1932, 1936, 1948, 1952, 1956, 1960, 1964, 1968, 1972, 1976, 1980, 1984, 1988, 1992, 1996, 2000, 2004, 2008, 2012, 2016], \"y\": [null, 0.018790849673202614, 0.009230769230769232, 0.021739130434782608, 0.022297013041649136, 0.028893058161350845, 0.04401695467883926, 0.09523809523809523, 0.09452363090772693, 0.08316481294236602, 0.09646539027982327, 0.10563665855636659, 0.11472960860472065, 0.11453662182361735, 0.1323729803387191, 0.14087801367398345, 0.1490019679505201, 0.20747571216861518, 0.2135386955694999, 0.23080317740511916, 0.2605867045185711, 0.2901129341572555, 0.3401682948060741, 0.3820794590025359, 0.40731268352751726, 0.42288283328745757, 0.44252163164400493, 0.4503086143662224]}, {\"marker\": {\"color\": \"#222\"}, \"mode\": \"lines\", \"showlegend\": false, \"type\": \"scatter\", \"x\": [1896, 2020], \"y\": [0.5, 0.5]}],                        {\"template\": {\"data\": {\"bar\": [{\"error_x\": {\"color\": \"#2a3f5f\"}, \"error_y\": {\"color\": \"#2a3f5f\"}, \"marker\": {\"line\": {\"color\": \"#E5ECF6\", \"width\": 0.5}}, \"type\": \"bar\"}], \"barpolar\": [{\"marker\": {\"line\": {\"color\": \"#E5ECF6\", \"width\": 0.5}}, \"type\": \"barpolar\"}], \"carpet\": [{\"aaxis\": {\"endlinecolor\": \"#2a3f5f\", \"gridcolor\": \"white\", \"linecolor\": \"white\", \"minorgridcolor\": \"white\", \"startlinecolor\": \"#2a3f5f\"}, \"baxis\": {\"endlinecolor\": \"#2a3f5f\", \"gridcolor\": \"white\", \"linecolor\": \"white\", \"minorgridcolor\": \"white\", \"startlinecolor\": \"#2a3f5f\"}, \"type\": \"carpet\"}], \"choropleth\": [{\"colorbar\": {\"outlinewidth\": 0, \"ticks\": \"\"}, \"type\": \"choropleth\"}], \"contour\": [{\"colorbar\": {\"outlinewidth\": 0, \"ticks\": \"\"}, \"colorscale\": [[0.0, \"#0d0887\"], [0.1111111111111111, \"#46039f\"], [0.2222222222222222, \"#7201a8\"], [0.3333333333333333, \"#9c179e\"], [0.4444444444444444, \"#bd3786\"], [0.5555555555555556, \"#d8576b\"], [0.6666666666666666, \"#ed7953\"], [0.7777777777777778, \"#fb9f3a\"], [0.8888888888888888, \"#fdca26\"], [1.0, \"#f0f921\"]], \"type\": \"contour\"}], \"contourcarpet\": [{\"colorbar\": {\"outlinewidth\": 0, \"ticks\": \"\"}, \"type\": \"contourcarpet\"}], \"heatmap\": [{\"colorbar\": {\"outlinewidth\": 0, \"ticks\": \"\"}, \"colorscale\": [[0.0, \"#0d0887\"], [0.1111111111111111, \"#46039f\"], [0.2222222222222222, \"#7201a8\"], [0.3333333333333333, \"#9c179e\"], [0.4444444444444444, \"#bd3786\"], [0.5555555555555556, \"#d8576b\"], [0.6666666666666666, \"#ed7953\"], [0.7777777777777778, \"#fb9f3a\"], [0.8888888888888888, \"#fdca26\"], [1.0, \"#f0f921\"]], \"type\": \"heatmap\"}], \"heatmapgl\": [{\"colorbar\": {\"outlinewidth\": 0, \"ticks\": \"\"}, \"colorscale\": [[0.0, \"#0d0887\"], [0.1111111111111111, \"#46039f\"], [0.2222222222222222, \"#7201a8\"], [0.3333333333333333, \"#9c179e\"], [0.4444444444444444, \"#bd3786\"], [0.5555555555555556, \"#d8576b\"], [0.6666666666666666, \"#ed7953\"], [0.7777777777777778, \"#fb9f3a\"], [0.8888888888888888, \"#fdca26\"], [1.0, \"#f0f921\"]], \"type\": \"heatmapgl\"}], \"histogram\": [{\"marker\": {\"colorbar\": {\"outlinewidth\": 0, \"ticks\": \"\"}}, \"type\": \"histogram\"}], \"histogram2d\": [{\"colorbar\": {\"outlinewidth\": 0, \"ticks\": \"\"}, \"colorscale\": [[0.0, \"#0d0887\"], [0.1111111111111111, \"#46039f\"], [0.2222222222222222, \"#7201a8\"], [0.3333333333333333, \"#9c179e\"], [0.4444444444444444, \"#bd3786\"], [0.5555555555555556, \"#d8576b\"], [0.6666666666666666, \"#ed7953\"], [0.7777777777777778, \"#fb9f3a\"], [0.8888888888888888, \"#fdca26\"], [1.0, \"#f0f921\"]], \"type\": \"histogram2d\"}], \"histogram2dcontour\": [{\"colorbar\": {\"outlinewidth\": 0, \"ticks\": \"\"}, \"colorscale\": [[0.0, \"#0d0887\"], [0.1111111111111111, \"#46039f\"], [0.2222222222222222, \"#7201a8\"], [0.3333333333333333, \"#9c179e\"], [0.4444444444444444, \"#bd3786\"], [0.5555555555555556, \"#d8576b\"], [0.6666666666666666, \"#ed7953\"], [0.7777777777777778, \"#fb9f3a\"], [0.8888888888888888, \"#fdca26\"], [1.0, \"#f0f921\"]], \"type\": \"histogram2dcontour\"}], \"mesh3d\": [{\"colorbar\": {\"outlinewidth\": 0, \"ticks\": \"\"}, \"type\": \"mesh3d\"}], \"parcoords\": [{\"line\": {\"colorbar\": {\"outlinewidth\": 0, \"ticks\": \"\"}}, \"type\": \"parcoords\"}], \"pie\": [{\"automargin\": true, \"type\": \"pie\"}], \"scatter\": [{\"marker\": {\"colorbar\": {\"outlinewidth\": 0, \"ticks\": \"\"}}, \"type\": \"scatter\"}], \"scatter3d\": [{\"line\": {\"colorbar\": {\"outlinewidth\": 0, \"ticks\": \"\"}}, \"marker\": {\"colorbar\": {\"outlinewidth\": 0, \"ticks\": \"\"}}, \"type\": \"scatter3d\"}], \"scattercarpet\": [{\"marker\": {\"colorbar\": {\"outlinewidth\": 0, \"ticks\": \"\"}}, \"type\": \"scattercarpet\"}], \"scattergeo\": [{\"marker\": {\"colorbar\": {\"outlinewidth\": 0, \"ticks\": \"\"}}, \"type\": \"scattergeo\"}], \"scattergl\": [{\"marker\": {\"colorbar\": {\"outlinewidth\": 0, \"ticks\": \"\"}}, \"type\": \"scattergl\"}], \"scattermapbox\": [{\"marker\": {\"colorbar\": {\"outlinewidth\": 0, \"ticks\": \"\"}}, \"type\": \"scattermapbox\"}], \"scatterpolar\": [{\"marker\": {\"colorbar\": {\"outlinewidth\": 0, \"ticks\": \"\"}}, \"type\": \"scatterpolar\"}], \"scatterpolargl\": [{\"marker\": {\"colorbar\": {\"outlinewidth\": 0, \"ticks\": \"\"}}, \"type\": \"scatterpolargl\"}], \"scatterternary\": [{\"marker\": {\"colorbar\": {\"outlinewidth\": 0, \"ticks\": \"\"}}, \"type\": \"scatterternary\"}], \"surface\": [{\"colorbar\": {\"outlinewidth\": 0, \"ticks\": \"\"}, \"colorscale\": [[0.0, \"#0d0887\"], [0.1111111111111111, \"#46039f\"], [0.2222222222222222, \"#7201a8\"], [0.3333333333333333, \"#9c179e\"], [0.4444444444444444, \"#bd3786\"], [0.5555555555555556, \"#d8576b\"], [0.6666666666666666, \"#ed7953\"], [0.7777777777777778, \"#fb9f3a\"], [0.8888888888888888, \"#fdca26\"], [1.0, \"#f0f921\"]], \"type\": \"surface\"}], \"table\": [{\"cells\": {\"fill\": {\"color\": \"#EBF0F8\"}, \"line\": {\"color\": \"white\"}}, \"header\": {\"fill\": {\"color\": \"#C8D4E3\"}, \"line\": {\"color\": \"white\"}}, \"type\": \"table\"}]}, \"layout\": {\"annotationdefaults\": {\"arrowcolor\": \"#2a3f5f\", \"arrowhead\": 0, \"arrowwidth\": 1}, \"autotypenumbers\": \"strict\", \"coloraxis\": {\"colorbar\": {\"outlinewidth\": 0, \"ticks\": \"\"}}, \"colorscale\": {\"diverging\": [[0, \"#8e0152\"], [0.1, \"#c51b7d\"], [0.2, \"#de77ae\"], [0.3, \"#f1b6da\"], [0.4, \"#fde0ef\"], [0.5, \"#f7f7f7\"], [0.6, \"#e6f5d0\"], [0.7, \"#b8e186\"], [0.8, \"#7fbc41\"], [0.9, \"#4d9221\"], [1, \"#276419\"]], \"sequential\": [[0.0, \"#0d0887\"], [0.1111111111111111, \"#46039f\"], [0.2222222222222222, \"#7201a8\"], [0.3333333333333333, \"#9c179e\"], [0.4444444444444444, \"#bd3786\"], [0.5555555555555556, \"#d8576b\"], [0.6666666666666666, \"#ed7953\"], [0.7777777777777778, \"#fb9f3a\"], [0.8888888888888888, \"#fdca26\"], [1.0, \"#f0f921\"]], \"sequentialminus\": [[0.0, \"#0d0887\"], [0.1111111111111111, \"#46039f\"], [0.2222222222222222, \"#7201a8\"], [0.3333333333333333, \"#9c179e\"], [0.4444444444444444, \"#bd3786\"], [0.5555555555555556, \"#d8576b\"], [0.6666666666666666, \"#ed7953\"], [0.7777777777777778, \"#fb9f3a\"], [0.8888888888888888, \"#fdca26\"], [1.0, \"#f0f921\"]]}, \"colorway\": [\"#636efa\", \"#EF553B\", \"#00cc96\", \"#ab63fa\", \"#FFA15A\", \"#19d3f3\", \"#FF6692\", \"#B6E880\", \"#FF97FF\", \"#FECB52\"], \"font\": {\"color\": \"#2a3f5f\"}, \"geo\": {\"bgcolor\": \"white\", \"lakecolor\": \"white\", \"landcolor\": \"#E5ECF6\", \"showlakes\": true, \"showland\": true, \"subunitcolor\": \"white\"}, \"hoverlabel\": {\"align\": \"left\"}, \"hovermode\": \"closest\", \"mapbox\": {\"style\": \"light\"}, \"paper_bgcolor\": \"white\", \"plot_bgcolor\": \"#E5ECF6\", \"polar\": {\"angularaxis\": {\"gridcolor\": \"white\", \"linecolor\": \"white\", \"ticks\": \"\"}, \"bgcolor\": \"#E5ECF6\", \"radialaxis\": {\"gridcolor\": \"white\", \"linecolor\": \"white\", \"ticks\": \"\"}}, \"scene\": {\"xaxis\": {\"backgroundcolor\": \"#E5ECF6\", \"gridcolor\": \"white\", \"gridwidth\": 2, \"linecolor\": \"white\", \"showbackground\": true, \"ticks\": \"\", \"zerolinecolor\": \"white\"}, \"yaxis\": {\"backgroundcolor\": \"#E5ECF6\", \"gridcolor\": \"white\", \"gridwidth\": 2, \"linecolor\": \"white\", \"showbackground\": true, \"ticks\": \"\", \"zerolinecolor\": \"white\"}, \"zaxis\": {\"backgroundcolor\": \"#E5ECF6\", \"gridcolor\": \"white\", \"gridwidth\": 2, \"linecolor\": \"white\", \"showbackground\": true, \"ticks\": \"\", \"zerolinecolor\": \"white\"}}, \"shapedefaults\": {\"line\": {\"color\": \"#2a3f5f\"}}, \"ternary\": {\"aaxis\": {\"gridcolor\": \"white\", \"linecolor\": \"white\", \"ticks\": \"\"}, \"baxis\": {\"gridcolor\": \"white\", \"linecolor\": \"white\", \"ticks\": \"\"}, \"bgcolor\": \"#E5ECF6\", \"caxis\": {\"gridcolor\": \"white\", \"linecolor\": \"white\", \"ticks\": \"\"}}, \"title\": {\"x\": 0.05}, \"xaxis\": {\"automargin\": true, \"gridcolor\": \"white\", \"linecolor\": \"white\", \"ticks\": \"\", \"title\": {\"standoff\": 15}, \"zerolinecolor\": \"white\", \"zerolinewidth\": 2}, \"yaxis\": {\"automargin\": true, \"gridcolor\": \"white\", \"linecolor\": \"white\", \"ticks\": \"\", \"title\": {\"standoff\": 15}, \"zerolinecolor\": \"white\", \"zerolinewidth\": 2}}}, \"xaxis\": {\"range\": [1896, 2020]}, \"yaxis\": {\"range\": [0, 0.55]}},                        {\"responsive\": true}                    ).then(function(){\n",
       "                            \n",
       "var gd = document.getElementById('bda41803-4b6d-4ee7-996e-c7ab3f8c46ca');\n",
       "var x = new MutationObserver(function (mutations, observer) {{\n",
       "        var display = window.getComputedStyle(gd).display;\n",
       "        if (!display || display === 'none') {{\n",
       "            console.log([gd, 'removed!']);\n",
       "            Plotly.purge(gd);\n",
       "            observer.disconnect();\n",
       "        }}\n",
       "}});\n",
       "\n",
       "// Listen for the removal of the full notebook cells\n",
       "var notebookContainer = gd.closest('#notebook-container');\n",
       "if (notebookContainer) {{\n",
       "    x.observe(notebookContainer, {childList: true});\n",
       "}}\n",
       "\n",
       "// Listen for the clearing of the current output cell\n",
       "var outputEl = gd.closest('.output');\n",
       "if (outputEl) {{\n",
       "    x.observe(outputEl, {childList: true});\n",
       "}}\n",
       "\n",
       "                        })                };                });            </script>        </div>"
      ]
     },
     "metadata": {},
     "output_type": "display_data"
    }
   ],
   "source": [
    "fig = go.Figure()\n",
    "\n",
    "fig.add_trace(go.Scatter(x=gp_games_percentage.Year,\n",
    "                y=gp_games_percentage.Percentage_women,\n",
    "                mode='lines+markers',\n",
    "                marker_color='rgb(55, 83, 109)',\n",
    "                showlegend=False))\n",
    "\n",
    "# Adds a 50% line\n",
    "fig.add_trace(go.Scatter(x=[1896, 2020], \n",
    "                         y=[.5, .5],\n",
    "                         mode='lines',\n",
    "                         showlegend=False,\n",
    "                         marker_color=\"#222\"))\n",
    "\n",
    "fig.update_xaxes(range=[1896, 2020])\n",
    "fig.update_yaxes(range=[0, .55])\n"
   ]
  },
  {
   "cell_type": "markdown",
   "metadata": {},
   "source": [
    "We can see that the ammount of female athletes is increasing steadily since the 1980 games, with a minor hiccup in the London 2012.  \n",
    "\n",
    "Let's take a loot at this evolution for some Olympic powerhouses: USA, USSR, Great Britain, France, Germany, Italy, China, Australia, Sweden, Hungary, Japan, East Germany, Russia, Romenia, Finland, Canada, Netherlands, Poland, South Korea and Cuba. They are the top 20 in historic Olympic medal tables. Note that we are not aggregating \"heir\" nations (Germany data will not include athletes from West Germany, for instance).\n",
    "\n",
    "We will fill the list with the nations that are not among the historical top 20, but that are among the top 30 in the last Summer Games.\n"
   ]
  },
  {
   "cell_type": "code",
   "execution_count": 252,
   "metadata": {},
   "outputs": [],
   "source": [
    "# Creates a more detailed pivot table\n",
    "noc_games = (atl_games.groupby([\"Games\", \"Sex\", \"Year\", \"NOC\"])\n",
    "                    .count()\n",
    "                    .ID\n",
    "                    .reset_index()\n",
    "                    .rename(columns={\"ID\": \"No_athletes\"}))"
   ]
  },
  {
   "cell_type": "code",
   "execution_count": 253,
   "metadata": {},
   "outputs": [],
   "source": [
    "# Makes a pivot table\n",
    "noc_games_sex = pd.pivot_table(noc_games, values='No_athletes', index=['Games', 'NOC', 'Year'],\n",
    "                    columns=['Sex'], aggfunc=np.sum).reset_index()"
   ]
  },
  {
   "cell_type": "code",
   "execution_count": 254,
   "metadata": {},
   "outputs": [],
   "source": [
    "# Crates a field for women percentage\n",
    "noc_games_sex[\"Percentage_women\"] = noc_games_sex[\"F\"] / (noc_games_sex[\"F\"] + noc_games_sex[\"M\"])"
   ]
  },
  {
   "cell_type": "code",
   "execution_count": 255,
   "metadata": {},
   "outputs": [
    {
     "data": {
      "text/html": [
       "<div>\n",
       "<style scoped>\n",
       "    .dataframe tbody tr th:only-of-type {\n",
       "        vertical-align: middle;\n",
       "    }\n",
       "\n",
       "    .dataframe tbody tr th {\n",
       "        vertical-align: top;\n",
       "    }\n",
       "\n",
       "    .dataframe thead th {\n",
       "        text-align: right;\n",
       "    }\n",
       "</style>\n",
       "<table border=\"1\" class=\"dataframe\">\n",
       "  <thead>\n",
       "    <tr style=\"text-align: right;\">\n",
       "      <th>Sex</th>\n",
       "      <th>Games</th>\n",
       "      <th>NOC</th>\n",
       "      <th>Year</th>\n",
       "      <th>F</th>\n",
       "      <th>M</th>\n",
       "      <th>Percentage_women</th>\n",
       "    </tr>\n",
       "  </thead>\n",
       "  <tbody>\n",
       "    <tr>\n",
       "      <th>0</th>\n",
       "      <td>1896 Summer</td>\n",
       "      <td>AUS</td>\n",
       "      <td>1896</td>\n",
       "      <td>0.0</td>\n",
       "      <td>1.0</td>\n",
       "      <td>0.0</td>\n",
       "    </tr>\n",
       "    <tr>\n",
       "      <th>1</th>\n",
       "      <td>1896 Summer</td>\n",
       "      <td>AUT</td>\n",
       "      <td>1896</td>\n",
       "      <td>0.0</td>\n",
       "      <td>3.0</td>\n",
       "      <td>0.0</td>\n",
       "    </tr>\n",
       "    <tr>\n",
       "      <th>2</th>\n",
       "      <td>1896 Summer</td>\n",
       "      <td>DEN</td>\n",
       "      <td>1896</td>\n",
       "      <td>0.0</td>\n",
       "      <td>3.0</td>\n",
       "      <td>0.0</td>\n",
       "    </tr>\n",
       "    <tr>\n",
       "      <th>3</th>\n",
       "      <td>1896 Summer</td>\n",
       "      <td>FRA</td>\n",
       "      <td>1896</td>\n",
       "      <td>0.0</td>\n",
       "      <td>12.0</td>\n",
       "      <td>0.0</td>\n",
       "    </tr>\n",
       "    <tr>\n",
       "      <th>4</th>\n",
       "      <td>1896 Summer</td>\n",
       "      <td>GBR</td>\n",
       "      <td>1896</td>\n",
       "      <td>0.0</td>\n",
       "      <td>10.0</td>\n",
       "      <td>0.0</td>\n",
       "    </tr>\n",
       "  </tbody>\n",
       "</table>\n",
       "</div>"
      ],
      "text/plain": [
       "Sex        Games  NOC  Year    F     M  Percentage_women\n",
       "0    1896 Summer  AUS  1896  0.0   1.0               0.0\n",
       "1    1896 Summer  AUT  1896  0.0   3.0               0.0\n",
       "2    1896 Summer  DEN  1896  0.0   3.0               0.0\n",
       "3    1896 Summer  FRA  1896  0.0  12.0               0.0\n",
       "4    1896 Summer  GBR  1896  0.0  10.0               0.0"
      ]
     },
     "execution_count": 255,
     "metadata": {},
     "output_type": "execute_result"
    }
   ],
   "source": [
    "# Fills NaN with zeroes\n",
    "noc_games_sex = noc_games_sex.fillna(0)\n",
    "noc_games_sex.head()"
   ]
  },
  {
   "cell_type": "code",
   "execution_count": 256,
   "metadata": {
    "scrolled": false
   },
   "outputs": [
    {
     "data": {
      "application/vnd.plotly.v1+json": {
       "config": {
        "plotlyServerURL": "https://plot.ly"
       },
       "data": [
        {
         "marker": {
          "color": "rgb(55, 83, 109)"
         },
         "mode": "lines",
         "showlegend": false,
         "type": "scatter",
         "x": [
          1896,
          1900,
          1904,
          1908,
          1912,
          1920,
          1924,
          1928,
          1932,
          1936,
          1948,
          1952,
          1956,
          1960,
          1964,
          1968,
          1972,
          1976,
          1984,
          1988,
          1992,
          1996,
          2000,
          2004,
          2008,
          2012,
          2016
         ],
         "xaxis": "x",
         "y": [
          0,
          0.09333333333333334,
          0.011450381679389313,
          0,
          0,
          0.04861111111111111,
          0.07744107744107744,
          0.1574468085106383,
          0.12099644128113879,
          0.13225806451612904,
          0.12666666666666668,
          0.14335664335664336,
          0.1540983606557377,
          0.17465753424657535,
          0.22832369942196531,
          0.23249299719887956,
          0.21,
          0.29797979797979796,
          0.3505747126436782,
          0.3700189753320683,
          0.3486238532110092,
          0.4212962962962963,
          0.431740614334471,
          0.47654784240150094,
          0.47959183673469385,
          0.5056603773584906,
          0.5243243243243243
         ],
         "yaxis": "y"
        },
        {
         "marker": {
          "color": "#222"
         },
         "mode": "lines",
         "showlegend": false,
         "type": "scatter",
         "x": [
          1896,
          2016
         ],
         "xaxis": "x",
         "y": [
          0.5,
          0.5
         ],
         "yaxis": "y"
        },
        {
         "marker": {
          "color": "rgb(55, 83, 109)"
         },
         "mode": "lines",
         "showlegend": false,
         "type": "scatter",
         "x": [
          1952,
          1956,
          1960,
          1964,
          1968,
          1972,
          1976,
          1980,
          1988
         ],
         "xaxis": "x2",
         "y": [
          0.13559322033898305,
          0.1387900355871886,
          0.17667844522968199,
          0.19873817034700317,
          0.21153846153846154,
          0.1967654986522911,
          0.3048780487804878,
          0.3047034764826176,
          0.3367983367983368
         ],
         "yaxis": "y2"
        },
        {
         "marker": {
          "color": "#222"
         },
         "mode": "lines",
         "showlegend": false,
         "type": "scatter",
         "x": [
          1896,
          2016
         ],
         "xaxis": "x2",
         "y": [
          0.5,
          0.5
         ],
         "yaxis": "y2"
        },
        {
         "marker": {
          "color": "rgb(55, 83, 109)"
         },
         "mode": "lines",
         "showlegend": false,
         "type": "scatter",
         "x": [
          1896,
          1900,
          1904,
          1908,
          1912,
          1920,
          1924,
          1928,
          1932,
          1936,
          1948,
          1952,
          1956,
          1960,
          1964,
          1968,
          1972,
          1976,
          1980,
          1984,
          1988,
          1992,
          1996,
          2000,
          2004,
          2008,
          2012,
          2016
         ],
         "xaxis": "x3",
         "y": [
          0,
          0.009615384615384616,
          0,
          0.053061224489795916,
          0.03690036900369004,
          0.06866952789699571,
          0.10038610038610038,
          0.15025906735751296,
          0.19444444444444445,
          0.1778846153846154,
          0.1501597444089457,
          0.17120622568093385,
          0.14720812182741116,
          0.1857707509881423,
          0.21568627450980393,
          0.2222222222222222,
          0.2605633802816901,
          0.2727272727272727,
          0.319634703196347,
          0.32047477744807124,
          0.3652173913043478,
          0.38274932614555257,
          0.38666666666666666,
          0.4161290322580645,
          0.39015151515151514,
          0.46381578947368424,
          0.4849056603773585,
          0.44166666666666665
         ],
         "yaxis": "y3"
        },
        {
         "marker": {
          "color": "#222"
         },
         "mode": "lines",
         "showlegend": false,
         "type": "scatter",
         "x": [
          1896,
          2016
         ],
         "xaxis": "x3",
         "y": [
          0.5,
          0.5
         ],
         "yaxis": "y3"
        },
        {
         "marker": {
          "color": "rgb(55, 83, 109)"
         },
         "mode": "lines",
         "showlegend": false,
         "type": "scatter",
         "x": [
          1896,
          1900,
          1904,
          1908,
          1912,
          1920,
          1924,
          1928,
          1932,
          1936,
          1948,
          1952,
          1956,
          1960,
          1964,
          1968,
          1972,
          1976,
          1980,
          1984,
          1988,
          1992,
          1996,
          2000,
          2004,
          2008,
          2012,
          2016
         ],
         "xaxis": "x4",
         "y": [
          0,
          0.016666666666666666,
          0,
          0,
          0.009174311926605505,
          0.0231023102310231,
          0.06269592476489028,
          0.13852813852813853,
          0.03076923076923077,
          0.05472636815920398,
          0.127208480565371,
          0.12653061224489795,
          0.12413793103448276,
          0.11764705882352941,
          0.14492753623188406,
          0.155,
          0.13215859030837004,
          0.1407766990291262,
          0.19008264462809918,
          0.20588235294117646,
          0.2781954887218045,
          0.2890855457227139,
          0.3411371237458194,
          0.37202380952380953,
          0.36688311688311687,
          0.39158576051779936,
          0.4382716049382716,
          0.4260204081632653
         ],
         "yaxis": "y4"
        },
        {
         "marker": {
          "color": "#222"
         },
         "mode": "lines",
         "showlegend": false,
         "type": "scatter",
         "x": [
          1896,
          2016
         ],
         "xaxis": "x4",
         "y": [
          0.5,
          0.5
         ],
         "yaxis": "y4"
        },
        {
         "marker": {
          "color": "rgb(55, 83, 109)"
         },
         "mode": "lines",
         "showlegend": false,
         "type": "scatter",
         "x": [
          1896,
          1900,
          1904,
          1908,
          1912,
          1928,
          1932,
          1936,
          1952,
          1956,
          1960,
          1964,
          1992,
          1996,
          2000,
          2004,
          2008,
          2012,
          2016
         ],
         "xaxis": "x5",
         "y": [
          0,
          0,
          0,
          0.024390243902439025,
          0.0273224043715847,
          0.14485981308411214,
          0.08433734939759036,
          0.1206896551724138,
          0.15609756097560976,
          0.16167664670658682,
          0.1870748299319728,
          0.18397626112759644,
          0.35205183585313177,
          0.4012875536480687,
          0.42890995260663506,
          0.4331065759637188,
          0.4357142857142857,
          0.4464751958224543,
          0.46411483253588515
         ],
         "yaxis": "y5"
        },
        {
         "marker": {
          "color": "#222"
         },
         "mode": "lines",
         "showlegend": false,
         "type": "scatter",
         "x": [
          1896,
          2016
         ],
         "xaxis": "x5",
         "y": [
          0.5,
          0.5
         ],
         "yaxis": "y5"
        },
        {
         "marker": {
          "color": "rgb(55, 83, 109)"
         },
         "mode": "lines",
         "showlegend": false,
         "type": "scatter",
         "x": [
          1896,
          1900,
          1904,
          1908,
          1912,
          1920,
          1924,
          1928,
          1932,
          1936,
          1948,
          1952,
          1956,
          1960,
          1964,
          1968,
          1972,
          1976,
          1980,
          1984,
          1988,
          1992,
          1996,
          2000,
          2004,
          2008,
          2012,
          2016
         ],
         "xaxis": "x6",
         "y": [
          0,
          0.043478260869565216,
          0,
          0,
          0,
          0.005813953488372093,
          0.015306122448979591,
          0.11042944785276074,
          0,
          0.07142857142857142,
          0.10382513661202186,
          0.09956709956709957,
          0.1111111111111111,
          0.12142857142857143,
          0.06547619047619048,
          0.08982035928143713,
          0.12053571428571429,
          0.12857142857142856,
          0.2389937106918239,
          0.17164179104477612,
          0.16205533596837945,
          0.25,
          0.3058823529411765,
          0.3185595567867036,
          0.3708791208791209,
          0.39039039039039036,
          0.4377224199288256,
          0.4563106796116505
         ],
         "yaxis": "y6"
        },
        {
         "marker": {
          "color": "#222"
         },
         "mode": "lines",
         "showlegend": false,
         "type": "scatter",
         "x": [
          1896,
          2016
         ],
         "xaxis": "x6",
         "y": [
          0.5,
          0.5
         ],
         "yaxis": "y6"
        },
        {
         "marker": {
          "color": "rgb(55, 83, 109)"
         },
         "mode": "lines",
         "showlegend": false,
         "type": "scatter",
         "x": [
          1932,
          1936,
          1948,
          1952,
          1984,
          1988,
          1992,
          1996,
          2000,
          2004,
          2008,
          2012,
          2016
         ],
         "xaxis": "x7",
         "y": [
          0,
          0.037037037037037035,
          0,
          0,
          0.386046511627907,
          0.4542124542124542,
          0.5204918032786885,
          0.6224489795918368,
          0.6642066420664207,
          0.6449086161879896,
          0.48247078464106846,
          0.5733333333333334,
          0.6147959183673469
         ],
         "yaxis": "y7"
        },
        {
         "marker": {
          "color": "#222"
         },
         "mode": "lines",
         "showlegend": false,
         "type": "scatter",
         "x": [
          1896,
          2016
         ],
         "xaxis": "x7",
         "y": [
          0.5,
          0.5
         ],
         "yaxis": "y7"
        },
        {
         "marker": {
          "color": "rgb(55, 83, 109)"
         },
         "mode": "lines",
         "showlegend": false,
         "type": "scatter",
         "x": [
          1896,
          1900,
          1904,
          1920,
          1924,
          1928,
          1932,
          1936,
          1948,
          1952,
          1956,
          1960,
          1964,
          1968,
          1972,
          1976,
          1980,
          1984,
          1988,
          1992,
          1996,
          2000,
          2004,
          2008,
          2012,
          2016
         ],
         "xaxis": "x8",
         "y": [
          0,
          0,
          0,
          0.07692307692307693,
          0,
          0.2222222222222222,
          0.3333333333333333,
          0.125,
          0.12,
          0.12345679012345678,
          0.1476510067114094,
          0.15343915343915343,
          0.1646090534979424,
          0.1875,
          0.17261904761904762,
          0.18888888888888888,
          0.23333333333333334,
          0.30165289256198347,
          0.2857142857142857,
          0.32974910394265233,
          0.40047961630695444,
          0.4473257698541329,
          0.4297872340425532,
          0.46064814814814814,
          0.454320987654321,
          0.5047619047619047
         ],
         "yaxis": "y8"
        },
        {
         "marker": {
          "color": "#222"
         },
         "mode": "lines",
         "showlegend": false,
         "type": "scatter",
         "x": [
          1896,
          2016
         ],
         "xaxis": "x8",
         "y": [
          0.5,
          0.5
         ],
         "yaxis": "y8"
        },
        {
         "marker": {
          "color": "rgb(55, 83, 109)"
         },
         "mode": "lines",
         "showlegend": false,
         "type": "scatter",
         "x": [
          1896,
          1900,
          1908,
          1912,
          1920,
          1924,
          1928,
          1932,
          1936,
          1948,
          1952,
          1956,
          1960,
          1964,
          1968,
          1972,
          1976,
          1980,
          1984,
          1988,
          1992,
          1996,
          2000,
          2004,
          2008,
          2012,
          2016
         ],
         "xaxis": "x9",
         "y": [
          0,
          0,
          0.017857142857142856,
          0.0518018018018018,
          0.05,
          0.08176100628930817,
          0.13,
          0.019230769230769232,
          0.04666666666666667,
          0.10919540229885058,
          0.11165048543689321,
          0.14432989690721648,
          0.1417910447761194,
          0.19148936170212766,
          0.14,
          0.20610687022900764,
          0.14655172413793102,
          0.15862068965517243,
          0.2471264367816092,
          0.2,
          0.23529411764705882,
          0.3728813559322034,
          0.3466666666666667,
          0.4608695652173913,
          0.5934959349593496,
          0.5864661654135338,
          0.5733333333333334
         ],
         "yaxis": "y9"
        },
        {
         "marker": {
          "color": "#222"
         },
         "mode": "lines",
         "showlegend": false,
         "type": "scatter",
         "x": [
          1896,
          2016
         ],
         "xaxis": "x9",
         "y": [
          0.5,
          0.5
         ],
         "yaxis": "y9"
        },
        {
         "marker": {
          "color": "rgb(55, 83, 109)"
         },
         "mode": "lines",
         "showlegend": false,
         "type": "scatter",
         "x": [
          1896,
          1900,
          1904,
          1908,
          1912,
          1924,
          1928,
          1932,
          1936,
          1948,
          1952,
          1956,
          1960,
          1964,
          1968,
          1972,
          1976,
          1980,
          1988,
          1992,
          1996,
          2000,
          2004,
          2008,
          2012,
          2016
         ],
         "xaxis": "x10",
         "y": [
          0,
          0,
          0,
          0,
          0,
          0.034482758620689655,
          0.15384615384615385,
          0.043478260869565216,
          0.0861244019138756,
          0.15873015873015872,
          0.14285714285714285,
          0.18018018018018017,
          0.14673913043478262,
          0.17582417582417584,
          0.19161676646706588,
          0.1939655172413793,
          0.30337078651685395,
          0.30798479087452474,
          0.19148936170212766,
          0.2672811059907834,
          0.30985915492957744,
          0.38764044943820225,
          0.430622009569378,
          0.4853801169590643,
          0.3881578947368421,
          0.42857142857142855
         ],
         "yaxis": "y10"
        },
        {
         "marker": {
          "color": "#222"
         },
         "mode": "lines",
         "showlegend": false,
         "type": "scatter",
         "x": [
          1896,
          2016
         ],
         "xaxis": "x10",
         "y": [
          0.5,
          0.5
         ],
         "yaxis": "y10"
        },
        {
         "marker": {
          "color": "rgb(55, 83, 109)"
         },
         "mode": "lines",
         "showlegend": false,
         "type": "scatter",
         "x": [
          1912,
          1920,
          1924,
          1928,
          1932,
          1936,
          1952,
          1956,
          1960,
          1964,
          1968,
          1972,
          1976,
          1984,
          1988,
          1992,
          1996,
          2000,
          2004,
          2008,
          2012,
          2016
         ],
         "xaxis": "x11",
         "y": [
          0,
          0,
          0,
          0.025,
          0.13675213675213677,
          0.10526315789473684,
          0.15942028985507245,
          0.14285714285714285,
          0.12345679012345678,
          0.17682926829268292,
          0.14619883040935672,
          0.1956521739130435,
          0.28169014084507044,
          0.23008849557522124,
          0.27058823529411763,
          0.31640625,
          0.4869281045751634,
          0.41353383458646614,
          0.545751633986928,
          0.49698795180722893,
          0.5326460481099656,
          0.48955223880597015
         ],
         "yaxis": "y11"
        },
        {
         "marker": {
          "color": "#222"
         },
         "mode": "lines",
         "showlegend": false,
         "type": "scatter",
         "x": [
          1896,
          2016
         ],
         "xaxis": "x11",
         "y": [
          0.5,
          0.5
         ],
         "yaxis": "y11"
        },
        {
         "marker": {
          "color": "rgb(55, 83, 109)"
         },
         "mode": "lines",
         "showlegend": false,
         "type": "scatter",
         "x": [
          1900,
          1908,
          1912,
          1996,
          2000,
          2004,
          2008,
          2012,
          2016
         ],
         "xaxis": "x12",
         "y": [
          0,
          0,
          0,
          0.40512820512820513,
          0.4459770114942529,
          0.452914798206278,
          0.4911894273127753,
          0.5268065268065268,
          0.5
         ],
         "yaxis": "y12"
        },
        {
         "marker": {
          "color": "#222"
         },
         "mode": "lines",
         "showlegend": false,
         "type": "scatter",
         "x": [
          1896,
          2016
         ],
         "xaxis": "x12",
         "y": [
          0.5,
          0.5
         ],
         "yaxis": "y12"
        },
        {
         "marker": {
          "color": "rgb(55, 83, 109)"
         },
         "mode": "lines",
         "showlegend": false,
         "type": "scatter",
         "x": [
          1968,
          1972,
          1976,
          1980,
          1988
         ],
         "xaxis": "x13",
         "y": [
          0.17699115044247787,
          0.2222222222222222,
          0.4232209737827715,
          0.3583815028901734,
          0.3938223938223938
         ],
         "yaxis": "y13"
        },
        {
         "marker": {
          "color": "#222"
         },
         "mode": "lines",
         "showlegend": false,
         "type": "scatter",
         "x": [
          1896,
          2016
         ],
         "xaxis": "x13",
         "y": [
          0.5,
          0.5
         ],
         "yaxis": "y13"
        },
        {
         "marker": {
          "color": "rgb(55, 83, 109)"
         },
         "mode": "lines",
         "showlegend": false,
         "type": "scatter",
         "x": [
          1900,
          1924,
          1928,
          1936,
          1952,
          1956,
          1960,
          1964,
          1968,
          1972,
          1976,
          1980,
          1984,
          1988,
          1992,
          1996,
          2000,
          2004,
          2008,
          2012,
          2016
         ],
         "xaxis": "x14",
         "y": [
          0,
          0,
          0.09523809523809523,
          0.03773584905660377,
          0.09649122807017543,
          0.22,
          0.16326530612244897,
          0.21739130434782608,
          0.1951219512195122,
          0.16981132075471697,
          0.34394904458598724,
          0.32456140350877194,
          0.4274193548387097,
          0.5294117647058824,
          0.3930635838150289,
          0.40606060606060607,
          0.5103448275862069,
          0.5370370370370371,
          0.6039603960396039,
          0.47619047619047616,
          0.6421052631578947
         ],
         "yaxis": "y14"
        },
        {
         "marker": {
          "color": "#222"
         },
         "mode": "lines",
         "showlegend": false,
         "type": "scatter",
         "x": [
          1896,
          2016
         ],
         "xaxis": "x14",
         "y": [
          0.5,
          0.5
         ],
         "yaxis": "y14"
        },
        {
         "marker": {
          "color": "rgb(55, 83, 109)"
         },
         "mode": "lines",
         "showlegend": false,
         "type": "scatter",
         "x": [
          1908,
          1912,
          1920,
          1924,
          1928,
          1932,
          1936,
          1948,
          1952,
          1956,
          1960,
          1964,
          1968,
          1972,
          1976,
          1980,
          1984,
          1988,
          1992,
          1996,
          2000,
          2004,
          2008,
          2012,
          2016
         ],
         "xaxis": "x15",
         "y": [
          0,
          0.012195121951219513,
          0.015873015873015872,
          0,
          0.028985507246376812,
          0,
          0.04672897196261682,
          0.04065040650406504,
          0.11627906976744186,
          0.014084507042253521,
          0.08547008547008547,
          0.056179775280898875,
          0.09090909090909091,
          0.07291666666666667,
          0.07228915662650602,
          0.05714285714285714,
          0.1511627906976744,
          0.24358974358974358,
          0.3181818181818182,
          0.3815789473684211,
          0.42857142857142855,
          0.32075471698113206,
          0.45614035087719296,
          0.48214285714285715,
          0.5185185185185185
         ],
         "yaxis": "y15"
        },
        {
         "marker": {
          "color": "#222"
         },
         "mode": "lines",
         "showlegend": false,
         "type": "scatter",
         "x": [
          1896,
          2016
         ],
         "xaxis": "x15",
         "y": [
          0.5,
          0.5
         ],
         "yaxis": "y15"
        },
        {
         "marker": {
          "color": "rgb(55, 83, 109)"
         },
         "mode": "lines",
         "showlegend": false,
         "type": "scatter",
         "x": [
          1900,
          1904,
          1908,
          1912,
          1920,
          1924,
          1928,
          1932,
          1936,
          1948,
          1952,
          1956,
          1960,
          1964,
          1968,
          1972,
          1976,
          1984,
          1988,
          1992,
          1996,
          2000,
          2004,
          2008,
          2012,
          2016
         ],
         "xaxis": "x16",
         "y": [
          0,
          0,
          0,
          0,
          0,
          0,
          0.10294117647058823,
          0.17,
          0.1875,
          0.14423076923076922,
          0.09345794392523364,
          0.15625,
          0.12941176470588237,
          0.17391304347826086,
          0.2014388489208633,
          0.2403846153846154,
          0.3220779220779221,
          0.3700980392156863,
          0.3201219512195122,
          0.39322033898305087,
          0.49834983498349833,
          0.4897959183673469,
          0.5038167938931297,
          0.4397590361445783,
          0.5641025641025641,
          0.5903225806451613
         ],
         "yaxis": "y16"
        },
        {
         "marker": {
          "color": "#222"
         },
         "mode": "lines",
         "showlegend": false,
         "type": "scatter",
         "x": [
          1896,
          2016
         ],
         "xaxis": "x16",
         "y": [
          0.5,
          0.5
         ],
         "yaxis": "y16"
        },
        {
         "marker": {
          "color": "rgb(55, 83, 109)"
         },
         "mode": "lines",
         "showlegend": false,
         "type": "scatter",
         "x": [
          1900,
          1908,
          1912,
          1920,
          1924,
          1928,
          1932,
          1936,
          1948,
          1952,
          1956,
          1960,
          1964,
          1968,
          1972,
          1976,
          1980,
          1984,
          1988,
          1992,
          1996,
          2000,
          2004,
          2008,
          2012,
          2016
         ],
         "xaxis": "x17",
         "y": [
          0,
          0,
          0,
          0.007692307692307693,
          0.058823529411764705,
          0.16203703703703703,
          0.4583333333333333,
          0.1484375,
          0.24817518248175183,
          0.25,
          0,
          0.2727272727272727,
          0.16,
          0.2336448598130841,
          0.24369747899159663,
          0.3333333333333333,
          0.24,
          0.39705882352941174,
          0.3673469387755102,
          0.417910447761194,
          0.42677824267782427,
          0.36363636363636365,
          0.3619047619047619,
          0.41350210970464135,
          0.45664739884393063,
          0.5569620253164557
         ],
         "yaxis": "y17"
        },
        {
         "marker": {
          "color": "#222"
         },
         "mode": "lines",
         "showlegend": false,
         "type": "scatter",
         "x": [
          1896,
          2016
         ],
         "xaxis": "x17",
         "y": [
          0.5,
          0.5
         ],
         "yaxis": "y17"
        },
        {
         "marker": {
          "color": "rgb(55, 83, 109)"
         },
         "mode": "lines",
         "showlegend": false,
         "type": "scatter",
         "x": [
          1924,
          1928,
          1932,
          1936,
          1948,
          1952,
          1956,
          1960,
          1964,
          1968,
          1972,
          1976,
          1980,
          1988,
          1992,
          1996,
          2000,
          2004,
          2008,
          2012,
          2016
         ],
         "xaxis": "x18",
         "y": [
          0.015384615384615385,
          0.07575757575757576,
          0.15,
          0.09734513274336283,
          0.17391304347826086,
          0.176,
          0.234375,
          0.15675675675675677,
          0.17857142857142858,
          0.20903954802259886,
          0.1310344827586207,
          0.13043478260869565,
          0.24183006535947713,
          0.22377622377622378,
          0.25870646766169153,
          0.23636363636363636,
          0.31016042780748665,
          0.31958762886597936,
          0.39299610894941633,
          0.4095238095238095,
          0.405982905982906
         ],
         "yaxis": "y18"
        },
        {
         "marker": {
          "color": "#222"
         },
         "mode": "lines",
         "showlegend": false,
         "type": "scatter",
         "x": [
          1896,
          2016
         ],
         "xaxis": "x18",
         "y": [
          0.5,
          0.5
         ],
         "yaxis": "y18"
        },
        {
         "marker": {
          "color": "rgb(55, 83, 109)"
         },
         "mode": "lines",
         "showlegend": false,
         "type": "scatter",
         "x": [
          1948,
          1952,
          1956,
          1960,
          1964,
          1968,
          1972,
          1976,
          1984,
          1988,
          1992,
          1996,
          2000,
          2004,
          2008,
          2012,
          2016
         ],
         "xaxis": "x19",
         "y": [
          0.021739130434782608,
          0.05263157894736842,
          0,
          0.05714285714285714,
          0.16883116883116883,
          0.24074074074074073,
          0.23809523809523808,
          0.24,
          0.33714285714285713,
          0.32917705735660846,
          0.3185840707964602,
          0.37293729372937295,
          0.37722419928825623,
          0.45075757575757575,
          0.4,
          0.46,
          0.5024154589371981
         ],
         "yaxis": "y19"
        },
        {
         "marker": {
          "color": "#222"
         },
         "mode": "lines",
         "showlegend": false,
         "type": "scatter",
         "x": [
          1896,
          2016
         ],
         "xaxis": "x19",
         "y": [
          0.5,
          0.5
         ],
         "yaxis": "y19"
        },
        {
         "marker": {
          "color": "rgb(55, 83, 109)"
         },
         "mode": "lines",
         "showlegend": false,
         "type": "scatter",
         "x": [
          1900,
          1904,
          1924,
          1928,
          1948,
          1952,
          1956,
          1960,
          1964,
          1968,
          1972,
          1976,
          1980,
          1992,
          1996,
          2000,
          2004,
          2008,
          2012,
          2016
         ],
         "xaxis": "x20",
         "y": [
          0,
          0,
          0,
          0,
          0,
          0,
          0.0625,
          0.25,
          0.07407407407407407,
          0.12173913043478261,
          0.20437956204379562,
          0.15384615384615385,
          0.15865384615384615,
          0.2840909090909091,
          0.3231707317073171,
          0.35807860262008734,
          0.3576158940397351,
          0.35443037974683544,
          0.4036697247706422,
          0.2905982905982906
         ],
         "yaxis": "y20"
        },
        {
         "marker": {
          "color": "#222"
         },
         "mode": "lines",
         "showlegend": false,
         "type": "scatter",
         "x": [
          1896,
          2016
         ],
         "xaxis": "x20",
         "y": [
          0.5,
          0.5
         ],
         "yaxis": "y20"
        },
        {
         "marker": {
          "color": "rgb(55, 83, 109)"
         },
         "mode": "lines",
         "showlegend": false,
         "type": "scatter",
         "x": [
          1900,
          1920,
          1924,
          1928,
          1932,
          1948,
          1952,
          1956,
          1960,
          1964,
          1968,
          1972,
          1976,
          1980,
          1984,
          1988,
          1992,
          1996,
          2000,
          2004,
          2008,
          2012,
          2016
         ],
         "xaxis": "x21",
         "y": [
          0,
          0,
          0.02127659574468085,
          0,
          0,
          0,
          0,
          0,
          0.0763888888888889,
          0.058823529411764705,
          0.01639344262295082,
          0.04065040650406504,
          0.08849557522123894,
          0.05806451612903226,
          0.0893854748603352,
          0.12663755458515283,
          0.2962085308056872,
          0.328719723183391,
          0.32710280373831774,
          0.439873417721519,
          0.42402826855123676,
          0.39568345323741005,
          0.46579804560260585
         ],
         "yaxis": "y21"
        },
        {
         "marker": {
          "color": "#222"
         },
         "mode": "lines",
         "showlegend": false,
         "type": "scatter",
         "x": [
          1896,
          2016
         ],
         "xaxis": "x21",
         "y": [
          0.5,
          0.5
         ],
         "yaxis": "y21"
        },
        {
         "marker": {
          "color": "rgb(55, 83, 109)"
         },
         "mode": "lines",
         "showlegend": false,
         "type": "scatter",
         "x": [
          1956,
          1960,
          1964,
          1968,
          1972,
          1984,
          1988,
          1992,
          1996,
          2000,
          2004,
          2008,
          2012,
          2016
         ],
         "xaxis": "x22",
         "y": [
          0.04,
          0,
          0,
          0.07692307692307693,
          0.03508771929824561,
          0.08196721311475409,
          0.05405405405405406,
          0.1836734693877551,
          0.19230769230769232,
          0.39285714285714285,
          0.5217391304347826,
          0.391304347826087,
          0.425531914893617,
          0.4177215189873418
         ],
         "yaxis": "y22"
        },
        {
         "marker": {
          "color": "#222"
         },
         "mode": "lines",
         "showlegend": false,
         "type": "scatter",
         "x": [
          1896,
          2016
         ],
         "xaxis": "x22",
         "y": [
          0.5,
          0.5
         ],
         "yaxis": "y22"
        },
        {
         "marker": {
          "color": "rgb(55, 83, 109)"
         },
         "mode": "lines",
         "showlegend": false,
         "type": "scatter",
         "x": [
          1948,
          1952,
          1956,
          1964,
          1968,
          1972,
          1976,
          1980,
          1984,
          1988,
          1992,
          1996,
          2000,
          2004,
          2008,
          2012,
          2016
         ],
         "xaxis": "x23",
         "y": [
          0.3076923076923077,
          0.25,
          0,
          0.19047619047619047,
          0.2,
          0.36363636363636365,
          0.45,
          0.3888888888888889,
          0.3111111111111111,
          0.3142857142857143,
          0.3888888888888889,
          0.41304347826086957,
          0.5416666666666666,
          0.5319148936170213,
          0.54,
          0.4888888888888889,
          0.5535714285714286
         ],
         "yaxis": "y23"
        },
        {
         "marker": {
          "color": "#222"
         },
         "mode": "lines",
         "showlegend": false,
         "type": "scatter",
         "x": [
          1896,
          2016
         ],
         "xaxis": "x23",
         "y": [
          0.5,
          0.5
         ],
         "yaxis": "y23"
        },
        {
         "marker": {
          "color": "rgb(55, 83, 109)"
         },
         "mode": "lines",
         "showlegend": false,
         "type": "scatter",
         "x": [
          1992,
          1996,
          2000,
          2004,
          2008,
          2012,
          2016
         ],
         "xaxis": "x24",
         "y": [
          0.07692307692307693,
          0.10714285714285714,
          0.2840909090909091,
          0.18518518518518517,
          0.1919191919191919,
          0.40186915887850466,
          0.2235294117647059
         ],
         "yaxis": "y24"
        },
        {
         "marker": {
          "color": "#222"
         },
         "mode": "lines",
         "showlegend": false,
         "type": "scatter",
         "x": [
          1896,
          2016
         ],
         "xaxis": "x24",
         "y": [
          0.5,
          0.5
         ],
         "yaxis": "y24"
        },
        {
         "marker": {
          "color": "rgb(55, 83, 109)"
         },
         "mode": "lines",
         "showlegend": false,
         "type": "scatter",
         "x": [
          1900,
          1920,
          1924,
          1928,
          1932,
          1936,
          1948,
          1952,
          1956,
          1960,
          1964,
          1968,
          1972,
          1976,
          1980,
          1984,
          1988,
          1992,
          1996,
          2000,
          2004,
          2008,
          2012,
          2016
         ],
         "xaxis": "x25",
         "y": [
          0,
          0.25,
          0.25,
          0.3333333333333333,
          0.047619047619047616,
          0,
          0.14285714285714285,
          0.14285714285714285,
          0.1568627450980392,
          0.10810810810810811,
          0.125,
          0.09615384615384616,
          0.07865168539325842,
          0.1125,
          0,
          0.24615384615384617,
          0.1927710843373494,
          0.31343283582089554,
          0.30526315789473685,
          0.47619047619047616,
          0.4527027027027027,
          0.4606741573033708,
          0.4606741573033708,
          0.49743589743589745
         ],
         "yaxis": "y25"
        },
        {
         "marker": {
          "color": "#222"
         },
         "mode": "lines",
         "showlegend": false,
         "type": "scatter",
         "x": [
          1896,
          2016
         ],
         "xaxis": "x25",
         "y": [
          0.5,
          0.5
         ],
         "yaxis": "y25"
        },
        {
         "marker": {
          "color": "rgb(55, 83, 109)"
         },
         "mode": "lines",
         "showlegend": false,
         "type": "scatter",
         "x": [
          1996,
          2000,
          2004,
          2008,
          2012,
          2016
         ],
         "xaxis": "x26",
         "y": [
          0.11267605633802817,
          0.2571428571428571,
          0.2608695652173913,
          0.26785714285714285,
          0.32075471698113206,
          0.32857142857142857
         ],
         "yaxis": "y26"
        },
        {
         "marker": {
          "color": "#222"
         },
         "mode": "lines",
         "showlegend": false,
         "type": "scatter",
         "x": [
          1896,
          2016
         ],
         "xaxis": "x26",
         "y": [
          0.5,
          0.5
         ],
         "yaxis": "y26"
        },
        {
         "marker": {
          "color": "rgb(55, 83, 109)"
         },
         "mode": "lines",
         "showlegend": false,
         "type": "scatter",
         "x": [
          1996,
          2000,
          2004,
          2008,
          2012,
          2016
         ],
         "xaxis": "x27",
         "y": [
          0.25,
          0.3384615384615385,
          0.37719298245614036,
          0.5384615384615384,
          0.35398230088495575,
          0.45544554455445546
         ],
         "yaxis": "y27"
        },
        {
         "marker": {
          "color": "#222"
         },
         "mode": "lines",
         "showlegend": false,
         "type": "scatter",
         "x": [
          1896,
          2016
         ],
         "xaxis": "x27",
         "y": [
          0.5,
          0.5
         ],
         "yaxis": "y27"
        },
        {
         "marker": {
          "color": "rgb(55, 83, 109)"
         },
         "mode": "lines",
         "showlegend": false,
         "type": "scatter",
         "x": [
          1900,
          1948,
          1952,
          1956,
          1960,
          1964,
          1968,
          1972,
          1976,
          1988,
          1992,
          1996,
          2000,
          2004,
          2008,
          2012,
          2016
         ],
         "xaxis": "x28",
         "y": [
          0,
          0,
          0,
          0,
          0,
          0.06451612903225806,
          0,
          0,
          0.047619047619047616,
          0,
          0,
          0.05555555555555555,
          0.030303030303030304,
          0.02702702702702703,
          0.05555555555555555,
          0.15384615384615385,
          0.14285714285714285
         ],
         "yaxis": "y28"
        },
        {
         "marker": {
          "color": "#222"
         },
         "mode": "lines",
         "showlegend": false,
         "type": "scatter",
         "x": [
          1896,
          2016
         ],
         "xaxis": "x28",
         "y": [
          0.5,
          0.5
         ],
         "yaxis": "y28"
        },
        {
         "marker": {
          "color": "rgb(55, 83, 109)"
         },
         "mode": "lines",
         "showlegend": false,
         "type": "scatter",
         "x": [
          1900,
          1932,
          1936,
          1948,
          1956,
          1960,
          1964,
          1968,
          1972,
          1976,
          1980,
          1984,
          1988,
          1992,
          1996,
          2000,
          2004,
          2008,
          2012,
          2016
         ],
         "xaxis": "x29",
         "y": [
          0,
          0,
          0,
          0,
          0,
          0,
          0,
          0.11627906976744186,
          0.06779661016949153,
          0.08571428571428572,
          0,
          0.07692307692307693,
          0.15,
          0.061224489795918366,
          0.1875,
          0.4318181818181818,
          0.39622641509433965,
          0.3582089552238806,
          0.5544554455445545,
          0.48951048951048953
         ],
         "yaxis": "y29"
        },
        {
         "marker": {
          "color": "#222"
         },
         "mode": "lines",
         "showlegend": false,
         "type": "scatter",
         "x": [
          1896,
          2016
         ],
         "xaxis": "x29",
         "y": [
          0.5,
          0.5
         ],
         "yaxis": "y29"
        },
        {
         "marker": {
          "color": "rgb(55, 83, 109)"
         },
         "mode": "lines",
         "showlegend": false,
         "type": "scatter",
         "x": [
          1896,
          1900,
          1904,
          1908,
          1912,
          1920,
          1924,
          1928,
          1932,
          1936,
          1948,
          1952,
          1956,
          1960,
          1964,
          1968,
          1972,
          1976,
          1980,
          1984,
          1988,
          1992,
          1996,
          2000,
          2004,
          2008,
          2012,
          2016
         ],
         "xaxis": "x30",
         "y": [
          0,
          0.05555555555555555,
          0,
          0,
          0,
          0,
          0.031496062992125984,
          0.008771929824561403,
          0,
          0.028735632183908046,
          0.03508771929824561,
          0.05732484076433121,
          0,
          0.013422818791946308,
          0.015151515151515152,
          0.047058823529411764,
          0.19205298013245034,
          0.06,
          0.0821917808219178,
          0.20930232558139536,
          0.2727272727272727,
          0.28431372549019607,
          0.3739130434782609,
          0.37254901960784315,
          0.3979591836734694,
          0.43373493975903615,
          0.2857142857142857,
          0.4411764705882353
         ],
         "yaxis": "y30"
        },
        {
         "marker": {
          "color": "#222"
         },
         "mode": "lines",
         "showlegend": false,
         "type": "scatter",
         "x": [
          1896,
          2016
         ],
         "xaxis": "x30",
         "y": [
          0.5,
          0.5
         ],
         "yaxis": "y30"
        },
        {
         "marker": {
          "color": "rgb(55, 83, 109)"
         },
         "mode": "lines",
         "showlegend": false,
         "type": "scatter",
         "x": [
          1896,
          1900,
          1904,
          1908,
          1912,
          1920,
          1924,
          1928,
          1932,
          1936,
          1948,
          1952,
          1956,
          1960,
          1964,
          1968,
          1972,
          1976,
          1980,
          1984,
          1988,
          1992,
          1996,
          2000,
          2004,
          2008,
          2012,
          2016
         ],
         "xaxis": "x31",
         "y": [
          0,
          0,
          0,
          0,
          0,
          0,
          0.02631578947368421,
          0,
          0,
          0.02564102564102564,
          0.017543859649122806,
          0,
          0,
          0,
          0,
          0,
          0.03333333333333333,
          0.05555555555555555,
          0.07317073170731707,
          0.06349206349206349,
          0.21428571428571427,
          0.2,
          0.2809917355371901,
          0.4142857142857143,
          0.4953051643192488,
          0.4605263157894737,
          0.3627450980392157,
          0.391304347826087
         ],
         "yaxis": "y31"
        },
        {
         "marker": {
          "color": "#222"
         },
         "mode": "lines",
         "showlegend": false,
         "type": "scatter",
         "x": [
          1896,
          2016
         ],
         "xaxis": "x31",
         "y": [
          0.5,
          0.5
         ],
         "yaxis": "y31"
        },
        {
         "marker": {
          "color": "rgb(55, 83, 109)"
         },
         "mode": "lines",
         "showlegend": false,
         "type": "scatter",
         "x": [
          1900,
          1908,
          1920,
          1924,
          1928,
          1932,
          1936,
          1948,
          1952,
          1956,
          1960,
          1964,
          1968,
          1972,
          1976,
          1984,
          1988,
          1992,
          1996,
          2000,
          2004,
          2008,
          2012,
          2016
         ],
         "xaxis": "x32",
         "y": [
          0,
          0,
          0,
          0,
          0,
          0,
          0.0196078431372549,
          0.05527638190954774,
          0.06504065040650407,
          0.02857142857142857,
          0.010869565217391304,
          0.058823529411764705,
          0.056179775280898875,
          0.043478260869565216,
          0.057971014492753624,
          0.12345679012345678,
          0.211864406779661,
          0.20238095238095238,
          0.26256983240223464,
          0.3146853146853147,
          0.3026315789473684,
          0.4015151515151515,
          0.291970802919708,
          0.3488372093023256
         ],
         "yaxis": "y32"
        },
        {
         "marker": {
          "color": "#222"
         },
         "mode": "lines",
         "showlegend": false,
         "type": "scatter",
         "x": [
          1896,
          2016
         ],
         "xaxis": "x32",
         "y": [
          0.5,
          0.5
         ],
         "yaxis": "y32"
        },
        {
         "marker": {
          "color": "rgb(55, 83, 109)"
         },
         "mode": "lines",
         "showlegend": false,
         "type": "scatter",
         "x": [
          1896,
          1900,
          1908,
          1912,
          1920,
          1924,
          1928,
          1932,
          1936,
          1948,
          1952,
          1956,
          1960,
          1964,
          1968,
          1972,
          1976,
          1980,
          1984,
          1988,
          1992,
          1996,
          2000,
          2004,
          2008,
          2012,
          2016
         ],
         "xaxis": "x33",
         "y": [
          0,
          0,
          0,
          0.006578947368421052,
          0.025974025974025976,
          0.136986301369863,
          0.11538461538461539,
          0.25,
          0.12931034482758622,
          0.11320754716981132,
          0.10852713178294573,
          0.16216216216216217,
          0.12,
          0.11666666666666667,
          0.0625,
          0.09523809523809523,
          0.15151515151515152,
          0.05172413793103448,
          0.18333333333333332,
          0.2692307692307692,
          0.3,
          0.5462184873949579,
          0.4536082474226804,
          0.4782608695652174,
          0.23809523809523808,
          0.42105263157894735,
          0.3445378151260504
         ],
         "yaxis": "y33"
        },
        {
         "marker": {
          "color": "#222"
         },
         "mode": "lines",
         "showlegend": false,
         "type": "scatter",
         "x": [
          1896,
          2016
         ],
         "xaxis": "x33",
         "y": [
          0.5,
          0.5
         ],
         "yaxis": "y33"
        },
        {
         "marker": {
          "color": "rgb(55, 83, 109)"
         },
         "mode": "lines",
         "showlegend": false,
         "type": "scatter",
         "x": [
          1904,
          1908,
          1912,
          1920,
          1924,
          1928,
          1932,
          1936,
          1948,
          1952,
          1956,
          1960,
          1992,
          1996,
          2000,
          2004,
          2008,
          2012,
          2016
         ],
         "xaxis": "x34",
         "y": [
          0,
          0,
          0,
          0.02564102564102564,
          0,
          0.25,
          0.16666666666666666,
          0,
          0.03125,
          0.0625,
          0.12,
          0.03636363636363636,
          0.26881720430107525,
          0.23809523809523808,
          0.2992125984251969,
          0.37735849056603776,
          0.44029850746268656,
          0.45161290322580644,
          0.3111111111111111
         ],
         "yaxis": "y34"
        },
        {
         "marker": {
          "color": "#222"
         },
         "mode": "lines",
         "showlegend": false,
         "type": "scatter",
         "x": [
          1896,
          2016
         ],
         "xaxis": "x34",
         "y": [
          0.5,
          0.5
         ],
         "yaxis": "y34"
        },
        {
         "marker": {
          "color": "rgb(55, 83, 109)"
         },
         "mode": "lines",
         "showlegend": false,
         "type": "scatter",
         "x": [
          1900,
          1920,
          1924,
          1932,
          1936,
          1948,
          1952,
          1956,
          1960,
          1964,
          1968,
          1972,
          1976,
          1980,
          1984,
          1988,
          1992,
          1996,
          2000,
          2004,
          2008,
          2012,
          2016
         ],
         "xaxis": "x35",
         "y": [
          0,
          0,
          0,
          0.01694915254237288,
          0.0821917808219178,
          0.15714285714285714,
          0.05154639175257732,
          0.02127659574468085,
          0.013888888888888888,
          0.01639344262295082,
          0.039473684210526314,
          0.037037037037037035,
          0.08860759493670886,
          0.14150943396226415,
          0.14285714285714285,
          0.20625,
          0.27472527472527475,
          0.29411764705882354,
          0.46464646464646464,
          0.4897119341563786,
          0.48134328358208955,
          0.4717741935483871,
          0.44805194805194803
         ],
         "yaxis": "y35"
        },
        {
         "marker": {
          "color": "#222"
         },
         "mode": "lines",
         "showlegend": false,
         "type": "scatter",
         "x": [
          1896,
          2016
         ],
         "xaxis": "x35",
         "y": [
          0.5,
          0.5
         ],
         "yaxis": "y35"
        }
       ],
       "layout": {
        "annotations": [
         {
          "font": {
           "size": 16
          },
          "showarrow": false,
          "text": "USA",
          "x": 0.08399999999999999,
          "xanchor": "center",
          "xref": "paper",
          "y": 0.9999999999999999,
          "yanchor": "bottom",
          "yref": "paper"
         },
         {
          "font": {
           "size": 16
          },
          "showarrow": false,
          "text": "URS",
          "x": 0.292,
          "xanchor": "center",
          "xref": "paper",
          "y": 0.9999999999999999,
          "yanchor": "bottom",
          "yref": "paper"
         },
         {
          "font": {
           "size": 16
          },
          "showarrow": false,
          "text": "GBR",
          "x": 0.5,
          "xanchor": "center",
          "xref": "paper",
          "y": 0.9999999999999999,
          "yanchor": "bottom",
          "yref": "paper"
         },
         {
          "font": {
           "size": 16
          },
          "showarrow": false,
          "text": "FRA",
          "x": 0.708,
          "xanchor": "center",
          "xref": "paper",
          "y": 0.9999999999999999,
          "yanchor": "bottom",
          "yref": "paper"
         },
         {
          "font": {
           "size": 16
          },
          "showarrow": false,
          "text": "GER",
          "x": 0.9159999999999999,
          "xanchor": "center",
          "xref": "paper",
          "y": 0.9999999999999999,
          "yanchor": "bottom",
          "yref": "paper"
         },
         {
          "font": {
           "size": 16
          },
          "showarrow": false,
          "text": "ITA",
          "x": 0.08399999999999999,
          "xanchor": "center",
          "xref": "paper",
          "y": 0.8469387755102039,
          "yanchor": "bottom",
          "yref": "paper"
         },
         {
          "font": {
           "size": 16
          },
          "showarrow": false,
          "text": "CHN",
          "x": 0.292,
          "xanchor": "center",
          "xref": "paper",
          "y": 0.8469387755102039,
          "yanchor": "bottom",
          "yref": "paper"
         },
         {
          "font": {
           "size": 16
          },
          "showarrow": false,
          "text": "AUS",
          "x": 0.5,
          "xanchor": "center",
          "xref": "paper",
          "y": 0.8469387755102039,
          "yanchor": "bottom",
          "yref": "paper"
         },
         {
          "font": {
           "size": 16
          },
          "showarrow": false,
          "text": "SWE",
          "x": 0.708,
          "xanchor": "center",
          "xref": "paper",
          "y": 0.8469387755102039,
          "yanchor": "bottom",
          "yref": "paper"
         },
         {
          "font": {
           "size": 16
          },
          "showarrow": false,
          "text": "HUN",
          "x": 0.9159999999999999,
          "xanchor": "center",
          "xref": "paper",
          "y": 0.8469387755102039,
          "yanchor": "bottom",
          "yref": "paper"
         },
         {
          "font": {
           "size": 16
          },
          "showarrow": false,
          "text": "JPN",
          "x": 0.08399999999999999,
          "xanchor": "center",
          "xref": "paper",
          "y": 0.6938775510204082,
          "yanchor": "bottom",
          "yref": "paper"
         },
         {
          "font": {
           "size": 16
          },
          "showarrow": false,
          "text": "RUS",
          "x": 0.292,
          "xanchor": "center",
          "xref": "paper",
          "y": 0.6938775510204082,
          "yanchor": "bottom",
          "yref": "paper"
         },
         {
          "font": {
           "size": 16
          },
          "showarrow": false,
          "text": "GDR",
          "x": 0.5,
          "xanchor": "center",
          "xref": "paper",
          "y": 0.6938775510204082,
          "yanchor": "bottom",
          "yref": "paper"
         },
         {
          "font": {
           "size": 16
          },
          "showarrow": false,
          "text": "ROU",
          "x": 0.708,
          "xanchor": "center",
          "xref": "paper",
          "y": 0.6938775510204082,
          "yanchor": "bottom",
          "yref": "paper"
         },
         {
          "font": {
           "size": 16
          },
          "showarrow": false,
          "text": "FIN",
          "x": 0.9159999999999999,
          "xanchor": "center",
          "xref": "paper",
          "y": 0.6938775510204082,
          "yanchor": "bottom",
          "yref": "paper"
         },
         {
          "font": {
           "size": 16
          },
          "showarrow": false,
          "text": "CAN",
          "x": 0.08399999999999999,
          "xanchor": "center",
          "xref": "paper",
          "y": 0.5408163265306122,
          "yanchor": "bottom",
          "yref": "paper"
         },
         {
          "font": {
           "size": 16
          },
          "showarrow": false,
          "text": "NED",
          "x": 0.292,
          "xanchor": "center",
          "xref": "paper",
          "y": 0.5408163265306122,
          "yanchor": "bottom",
          "yref": "paper"
         },
         {
          "font": {
           "size": 16
          },
          "showarrow": false,
          "text": "POL",
          "x": 0.5,
          "xanchor": "center",
          "xref": "paper",
          "y": 0.5408163265306122,
          "yanchor": "bottom",
          "yref": "paper"
         },
         {
          "font": {
           "size": 16
          },
          "showarrow": false,
          "text": "KOR",
          "x": 0.708,
          "xanchor": "center",
          "xref": "paper",
          "y": 0.5408163265306122,
          "yanchor": "bottom",
          "yref": "paper"
         },
         {
          "font": {
           "size": 16
          },
          "showarrow": false,
          "text": "CUB",
          "x": 0.9159999999999999,
          "xanchor": "center",
          "xref": "paper",
          "y": 0.5408163265306122,
          "yanchor": "bottom",
          "yref": "paper"
         },
         {
          "font": {
           "size": 16
          },
          "showarrow": false,
          "text": "ESP",
          "x": 0.08399999999999999,
          "xanchor": "center",
          "xref": "paper",
          "y": 0.3877551020408163,
          "yanchor": "bottom",
          "yref": "paper"
         },
         {
          "font": {
           "size": 16
          },
          "showarrow": false,
          "text": "KEN",
          "x": 0.292,
          "xanchor": "center",
          "xref": "paper",
          "y": 0.3877551020408163,
          "yanchor": "bottom",
          "yref": "paper"
         },
         {
          "font": {
           "size": 16
          },
          "showarrow": false,
          "text": "JAM",
          "x": 0.5,
          "xanchor": "center",
          "xref": "paper",
          "y": 0.3877551020408163,
          "yanchor": "bottom",
          "yref": "paper"
         },
         {
          "font": {
           "size": 16
          },
          "showarrow": false,
          "text": "CRO",
          "x": 0.708,
          "xanchor": "center",
          "xref": "paper",
          "y": 0.3877551020408163,
          "yanchor": "bottom",
          "yref": "paper"
         },
         {
          "font": {
           "size": 16
          },
          "showarrow": false,
          "text": "NZL",
          "x": 0.9159999999999999,
          "xanchor": "center",
          "xref": "paper",
          "y": 0.3877551020408163,
          "yanchor": "bottom",
          "yref": "paper"
         },
         {
          "font": {
           "size": 16
          },
          "showarrow": false,
          "text": "UZB",
          "x": 0.08399999999999999,
          "xanchor": "center",
          "xref": "paper",
          "y": 0.2346938775510204,
          "yanchor": "bottom",
          "yref": "paper"
         },
         {
          "font": {
           "size": 16
          },
          "showarrow": false,
          "text": "KAZ",
          "x": 0.292,
          "xanchor": "center",
          "xref": "paper",
          "y": 0.2346938775510204,
          "yanchor": "bottom",
          "yref": "paper"
         },
         {
          "font": {
           "size": 16
          },
          "showarrow": false,
          "text": "IRI",
          "x": 0.5,
          "xanchor": "center",
          "xref": "paper",
          "y": 0.2346938775510204,
          "yanchor": "bottom",
          "yref": "paper"
         },
         {
          "font": {
           "size": 16
          },
          "showarrow": false,
          "text": "COL",
          "x": 0.708,
          "xanchor": "center",
          "xref": "paper",
          "y": 0.2346938775510204,
          "yanchor": "bottom",
          "yref": "paper"
         },
         {
          "font": {
           "size": 16
          },
          "showarrow": false,
          "text": "SUI",
          "x": 0.9159999999999999,
          "xanchor": "center",
          "xref": "paper",
          "y": 0.2346938775510204,
          "yanchor": "bottom",
          "yref": "paper"
         },
         {
          "font": {
           "size": 16
          },
          "showarrow": false,
          "text": "GRE",
          "x": 0.08399999999999999,
          "xanchor": "center",
          "xref": "paper",
          "y": 0.08163265306122448,
          "yanchor": "bottom",
          "yref": "paper"
         },
         {
          "font": {
           "size": 16
          },
          "showarrow": false,
          "text": "ARG",
          "x": 0.292,
          "xanchor": "center",
          "xref": "paper",
          "y": 0.08163265306122448,
          "yanchor": "bottom",
          "yref": "paper"
         },
         {
          "font": {
           "size": 16
          },
          "showarrow": false,
          "text": "DEN",
          "x": 0.5,
          "xanchor": "center",
          "xref": "paper",
          "y": 0.08163265306122448,
          "yanchor": "bottom",
          "yref": "paper"
         },
         {
          "font": {
           "size": 16
          },
          "showarrow": false,
          "text": "RSA",
          "x": 0.708,
          "xanchor": "center",
          "xref": "paper",
          "y": 0.08163265306122448,
          "yanchor": "bottom",
          "yref": "paper"
         },
         {
          "font": {
           "size": 16
          },
          "showarrow": false,
          "text": "BRA",
          "x": 0.9159999999999999,
          "xanchor": "center",
          "xref": "paper",
          "y": 0.08163265306122448,
          "yanchor": "bottom",
          "yref": "paper"
         }
        ],
        "height": 1200,
        "template": {
         "data": {
          "bar": [
           {
            "error_x": {
             "color": "#2a3f5f"
            },
            "error_y": {
             "color": "#2a3f5f"
            },
            "marker": {
             "line": {
              "color": "#E5ECF6",
              "width": 0.5
             }
            },
            "type": "bar"
           }
          ],
          "barpolar": [
           {
            "marker": {
             "line": {
              "color": "#E5ECF6",
              "width": 0.5
             }
            },
            "type": "barpolar"
           }
          ],
          "carpet": [
           {
            "aaxis": {
             "endlinecolor": "#2a3f5f",
             "gridcolor": "white",
             "linecolor": "white",
             "minorgridcolor": "white",
             "startlinecolor": "#2a3f5f"
            },
            "baxis": {
             "endlinecolor": "#2a3f5f",
             "gridcolor": "white",
             "linecolor": "white",
             "minorgridcolor": "white",
             "startlinecolor": "#2a3f5f"
            },
            "type": "carpet"
           }
          ],
          "choropleth": [
           {
            "colorbar": {
             "outlinewidth": 0,
             "ticks": ""
            },
            "type": "choropleth"
           }
          ],
          "contour": [
           {
            "colorbar": {
             "outlinewidth": 0,
             "ticks": ""
            },
            "colorscale": [
             [
              0,
              "#0d0887"
             ],
             [
              0.1111111111111111,
              "#46039f"
             ],
             [
              0.2222222222222222,
              "#7201a8"
             ],
             [
              0.3333333333333333,
              "#9c179e"
             ],
             [
              0.4444444444444444,
              "#bd3786"
             ],
             [
              0.5555555555555556,
              "#d8576b"
             ],
             [
              0.6666666666666666,
              "#ed7953"
             ],
             [
              0.7777777777777778,
              "#fb9f3a"
             ],
             [
              0.8888888888888888,
              "#fdca26"
             ],
             [
              1,
              "#f0f921"
             ]
            ],
            "type": "contour"
           }
          ],
          "contourcarpet": [
           {
            "colorbar": {
             "outlinewidth": 0,
             "ticks": ""
            },
            "type": "contourcarpet"
           }
          ],
          "heatmap": [
           {
            "colorbar": {
             "outlinewidth": 0,
             "ticks": ""
            },
            "colorscale": [
             [
              0,
              "#0d0887"
             ],
             [
              0.1111111111111111,
              "#46039f"
             ],
             [
              0.2222222222222222,
              "#7201a8"
             ],
             [
              0.3333333333333333,
              "#9c179e"
             ],
             [
              0.4444444444444444,
              "#bd3786"
             ],
             [
              0.5555555555555556,
              "#d8576b"
             ],
             [
              0.6666666666666666,
              "#ed7953"
             ],
             [
              0.7777777777777778,
              "#fb9f3a"
             ],
             [
              0.8888888888888888,
              "#fdca26"
             ],
             [
              1,
              "#f0f921"
             ]
            ],
            "type": "heatmap"
           }
          ],
          "heatmapgl": [
           {
            "colorbar": {
             "outlinewidth": 0,
             "ticks": ""
            },
            "colorscale": [
             [
              0,
              "#0d0887"
             ],
             [
              0.1111111111111111,
              "#46039f"
             ],
             [
              0.2222222222222222,
              "#7201a8"
             ],
             [
              0.3333333333333333,
              "#9c179e"
             ],
             [
              0.4444444444444444,
              "#bd3786"
             ],
             [
              0.5555555555555556,
              "#d8576b"
             ],
             [
              0.6666666666666666,
              "#ed7953"
             ],
             [
              0.7777777777777778,
              "#fb9f3a"
             ],
             [
              0.8888888888888888,
              "#fdca26"
             ],
             [
              1,
              "#f0f921"
             ]
            ],
            "type": "heatmapgl"
           }
          ],
          "histogram": [
           {
            "marker": {
             "colorbar": {
              "outlinewidth": 0,
              "ticks": ""
             }
            },
            "type": "histogram"
           }
          ],
          "histogram2d": [
           {
            "colorbar": {
             "outlinewidth": 0,
             "ticks": ""
            },
            "colorscale": [
             [
              0,
              "#0d0887"
             ],
             [
              0.1111111111111111,
              "#46039f"
             ],
             [
              0.2222222222222222,
              "#7201a8"
             ],
             [
              0.3333333333333333,
              "#9c179e"
             ],
             [
              0.4444444444444444,
              "#bd3786"
             ],
             [
              0.5555555555555556,
              "#d8576b"
             ],
             [
              0.6666666666666666,
              "#ed7953"
             ],
             [
              0.7777777777777778,
              "#fb9f3a"
             ],
             [
              0.8888888888888888,
              "#fdca26"
             ],
             [
              1,
              "#f0f921"
             ]
            ],
            "type": "histogram2d"
           }
          ],
          "histogram2dcontour": [
           {
            "colorbar": {
             "outlinewidth": 0,
             "ticks": ""
            },
            "colorscale": [
             [
              0,
              "#0d0887"
             ],
             [
              0.1111111111111111,
              "#46039f"
             ],
             [
              0.2222222222222222,
              "#7201a8"
             ],
             [
              0.3333333333333333,
              "#9c179e"
             ],
             [
              0.4444444444444444,
              "#bd3786"
             ],
             [
              0.5555555555555556,
              "#d8576b"
             ],
             [
              0.6666666666666666,
              "#ed7953"
             ],
             [
              0.7777777777777778,
              "#fb9f3a"
             ],
             [
              0.8888888888888888,
              "#fdca26"
             ],
             [
              1,
              "#f0f921"
             ]
            ],
            "type": "histogram2dcontour"
           }
          ],
          "mesh3d": [
           {
            "colorbar": {
             "outlinewidth": 0,
             "ticks": ""
            },
            "type": "mesh3d"
           }
          ],
          "parcoords": [
           {
            "line": {
             "colorbar": {
              "outlinewidth": 0,
              "ticks": ""
             }
            },
            "type": "parcoords"
           }
          ],
          "pie": [
           {
            "automargin": true,
            "type": "pie"
           }
          ],
          "scatter": [
           {
            "marker": {
             "colorbar": {
              "outlinewidth": 0,
              "ticks": ""
             }
            },
            "type": "scatter"
           }
          ],
          "scatter3d": [
           {
            "line": {
             "colorbar": {
              "outlinewidth": 0,
              "ticks": ""
             }
            },
            "marker": {
             "colorbar": {
              "outlinewidth": 0,
              "ticks": ""
             }
            },
            "type": "scatter3d"
           }
          ],
          "scattercarpet": [
           {
            "marker": {
             "colorbar": {
              "outlinewidth": 0,
              "ticks": ""
             }
            },
            "type": "scattercarpet"
           }
          ],
          "scattergeo": [
           {
            "marker": {
             "colorbar": {
              "outlinewidth": 0,
              "ticks": ""
             }
            },
            "type": "scattergeo"
           }
          ],
          "scattergl": [
           {
            "marker": {
             "colorbar": {
              "outlinewidth": 0,
              "ticks": ""
             }
            },
            "type": "scattergl"
           }
          ],
          "scattermapbox": [
           {
            "marker": {
             "colorbar": {
              "outlinewidth": 0,
              "ticks": ""
             }
            },
            "type": "scattermapbox"
           }
          ],
          "scatterpolar": [
           {
            "marker": {
             "colorbar": {
              "outlinewidth": 0,
              "ticks": ""
             }
            },
            "type": "scatterpolar"
           }
          ],
          "scatterpolargl": [
           {
            "marker": {
             "colorbar": {
              "outlinewidth": 0,
              "ticks": ""
             }
            },
            "type": "scatterpolargl"
           }
          ],
          "scatterternary": [
           {
            "marker": {
             "colorbar": {
              "outlinewidth": 0,
              "ticks": ""
             }
            },
            "type": "scatterternary"
           }
          ],
          "surface": [
           {
            "colorbar": {
             "outlinewidth": 0,
             "ticks": ""
            },
            "colorscale": [
             [
              0,
              "#0d0887"
             ],
             [
              0.1111111111111111,
              "#46039f"
             ],
             [
              0.2222222222222222,
              "#7201a8"
             ],
             [
              0.3333333333333333,
              "#9c179e"
             ],
             [
              0.4444444444444444,
              "#bd3786"
             ],
             [
              0.5555555555555556,
              "#d8576b"
             ],
             [
              0.6666666666666666,
              "#ed7953"
             ],
             [
              0.7777777777777778,
              "#fb9f3a"
             ],
             [
              0.8888888888888888,
              "#fdca26"
             ],
             [
              1,
              "#f0f921"
             ]
            ],
            "type": "surface"
           }
          ],
          "table": [
           {
            "cells": {
             "fill": {
              "color": "#EBF0F8"
             },
             "line": {
              "color": "white"
             }
            },
            "header": {
             "fill": {
              "color": "#C8D4E3"
             },
             "line": {
              "color": "white"
             }
            },
            "type": "table"
           }
          ]
         },
         "layout": {
          "annotationdefaults": {
           "arrowcolor": "#2a3f5f",
           "arrowhead": 0,
           "arrowwidth": 1
          },
          "autotypenumbers": "strict",
          "coloraxis": {
           "colorbar": {
            "outlinewidth": 0,
            "ticks": ""
           }
          },
          "colorscale": {
           "diverging": [
            [
             0,
             "#8e0152"
            ],
            [
             0.1,
             "#c51b7d"
            ],
            [
             0.2,
             "#de77ae"
            ],
            [
             0.3,
             "#f1b6da"
            ],
            [
             0.4,
             "#fde0ef"
            ],
            [
             0.5,
             "#f7f7f7"
            ],
            [
             0.6,
             "#e6f5d0"
            ],
            [
             0.7,
             "#b8e186"
            ],
            [
             0.8,
             "#7fbc41"
            ],
            [
             0.9,
             "#4d9221"
            ],
            [
             1,
             "#276419"
            ]
           ],
           "sequential": [
            [
             0,
             "#0d0887"
            ],
            [
             0.1111111111111111,
             "#46039f"
            ],
            [
             0.2222222222222222,
             "#7201a8"
            ],
            [
             0.3333333333333333,
             "#9c179e"
            ],
            [
             0.4444444444444444,
             "#bd3786"
            ],
            [
             0.5555555555555556,
             "#d8576b"
            ],
            [
             0.6666666666666666,
             "#ed7953"
            ],
            [
             0.7777777777777778,
             "#fb9f3a"
            ],
            [
             0.8888888888888888,
             "#fdca26"
            ],
            [
             1,
             "#f0f921"
            ]
           ],
           "sequentialminus": [
            [
             0,
             "#0d0887"
            ],
            [
             0.1111111111111111,
             "#46039f"
            ],
            [
             0.2222222222222222,
             "#7201a8"
            ],
            [
             0.3333333333333333,
             "#9c179e"
            ],
            [
             0.4444444444444444,
             "#bd3786"
            ],
            [
             0.5555555555555556,
             "#d8576b"
            ],
            [
             0.6666666666666666,
             "#ed7953"
            ],
            [
             0.7777777777777778,
             "#fb9f3a"
            ],
            [
             0.8888888888888888,
             "#fdca26"
            ],
            [
             1,
             "#f0f921"
            ]
           ]
          },
          "colorway": [
           "#636efa",
           "#EF553B",
           "#00cc96",
           "#ab63fa",
           "#FFA15A",
           "#19d3f3",
           "#FF6692",
           "#B6E880",
           "#FF97FF",
           "#FECB52"
          ],
          "font": {
           "color": "#2a3f5f"
          },
          "geo": {
           "bgcolor": "white",
           "lakecolor": "white",
           "landcolor": "#E5ECF6",
           "showlakes": true,
           "showland": true,
           "subunitcolor": "white"
          },
          "hoverlabel": {
           "align": "left"
          },
          "hovermode": "closest",
          "mapbox": {
           "style": "light"
          },
          "paper_bgcolor": "white",
          "plot_bgcolor": "#E5ECF6",
          "polar": {
           "angularaxis": {
            "gridcolor": "white",
            "linecolor": "white",
            "ticks": ""
           },
           "bgcolor": "#E5ECF6",
           "radialaxis": {
            "gridcolor": "white",
            "linecolor": "white",
            "ticks": ""
           }
          },
          "scene": {
           "xaxis": {
            "backgroundcolor": "#E5ECF6",
            "gridcolor": "white",
            "gridwidth": 2,
            "linecolor": "white",
            "showbackground": true,
            "ticks": "",
            "zerolinecolor": "white"
           },
           "yaxis": {
            "backgroundcolor": "#E5ECF6",
            "gridcolor": "white",
            "gridwidth": 2,
            "linecolor": "white",
            "showbackground": true,
            "ticks": "",
            "zerolinecolor": "white"
           },
           "zaxis": {
            "backgroundcolor": "#E5ECF6",
            "gridcolor": "white",
            "gridwidth": 2,
            "linecolor": "white",
            "showbackground": true,
            "ticks": "",
            "zerolinecolor": "white"
           }
          },
          "shapedefaults": {
           "line": {
            "color": "#2a3f5f"
           }
          },
          "ternary": {
           "aaxis": {
            "gridcolor": "white",
            "linecolor": "white",
            "ticks": ""
           },
           "baxis": {
            "gridcolor": "white",
            "linecolor": "white",
            "ticks": ""
           },
           "bgcolor": "#E5ECF6",
           "caxis": {
            "gridcolor": "white",
            "linecolor": "white",
            "ticks": ""
           }
          },
          "title": {
           "x": 0.05
          },
          "xaxis": {
           "automargin": true,
           "gridcolor": "white",
           "linecolor": "white",
           "ticks": "",
           "title": {
            "standoff": 15
           },
           "zerolinecolor": "white",
           "zerolinewidth": 2
          },
          "yaxis": {
           "automargin": true,
           "gridcolor": "white",
           "linecolor": "white",
           "ticks": "",
           "title": {
            "standoff": 15
           },
           "zerolinecolor": "white",
           "zerolinewidth": 2
          }
         }
        },
        "width": 1000,
        "xaxis": {
         "anchor": "y",
         "domain": [
          0,
          0.16799999999999998
         ],
         "range": [
          1896,
          2020
         ]
        },
        "xaxis10": {
         "anchor": "y10",
         "domain": [
          0.832,
          1
         ],
         "range": [
          1896,
          2020
         ]
        },
        "xaxis11": {
         "anchor": "y11",
         "domain": [
          0,
          0.16799999999999998
         ],
         "range": [
          1896,
          2020
         ]
        },
        "xaxis12": {
         "anchor": "y12",
         "domain": [
          0.208,
          0.376
         ],
         "range": [
          1896,
          2020
         ]
        },
        "xaxis13": {
         "anchor": "y13",
         "domain": [
          0.416,
          0.584
         ],
         "range": [
          1896,
          2020
         ]
        },
        "xaxis14": {
         "anchor": "y14",
         "domain": [
          0.624,
          0.792
         ],
         "range": [
          1896,
          2020
         ]
        },
        "xaxis15": {
         "anchor": "y15",
         "domain": [
          0.832,
          1
         ],
         "range": [
          1896,
          2020
         ]
        },
        "xaxis16": {
         "anchor": "y16",
         "domain": [
          0,
          0.16799999999999998
         ],
         "range": [
          1896,
          2020
         ]
        },
        "xaxis17": {
         "anchor": "y17",
         "domain": [
          0.208,
          0.376
         ],
         "range": [
          1896,
          2020
         ]
        },
        "xaxis18": {
         "anchor": "y18",
         "domain": [
          0.416,
          0.584
         ],
         "range": [
          1896,
          2020
         ]
        },
        "xaxis19": {
         "anchor": "y19",
         "domain": [
          0.624,
          0.792
         ],
         "range": [
          1896,
          2020
         ]
        },
        "xaxis2": {
         "anchor": "y2",
         "domain": [
          0.208,
          0.376
         ],
         "range": [
          1896,
          2020
         ]
        },
        "xaxis20": {
         "anchor": "y20",
         "domain": [
          0.832,
          1
         ],
         "range": [
          1896,
          2020
         ]
        },
        "xaxis21": {
         "anchor": "y21",
         "domain": [
          0,
          0.16799999999999998
         ],
         "range": [
          1896,
          2020
         ]
        },
        "xaxis22": {
         "anchor": "y22",
         "domain": [
          0.208,
          0.376
         ],
         "range": [
          1896,
          2020
         ]
        },
        "xaxis23": {
         "anchor": "y23",
         "domain": [
          0.416,
          0.584
         ],
         "range": [
          1896,
          2020
         ]
        },
        "xaxis24": {
         "anchor": "y24",
         "domain": [
          0.624,
          0.792
         ],
         "range": [
          1896,
          2020
         ]
        },
        "xaxis25": {
         "anchor": "y25",
         "domain": [
          0.832,
          1
         ],
         "range": [
          1896,
          2020
         ]
        },
        "xaxis26": {
         "anchor": "y26",
         "domain": [
          0,
          0.16799999999999998
         ],
         "range": [
          1896,
          2020
         ]
        },
        "xaxis27": {
         "anchor": "y27",
         "domain": [
          0.208,
          0.376
         ],
         "range": [
          1896,
          2020
         ]
        },
        "xaxis28": {
         "anchor": "y28",
         "domain": [
          0.416,
          0.584
         ],
         "range": [
          1896,
          2020
         ]
        },
        "xaxis29": {
         "anchor": "y29",
         "domain": [
          0.624,
          0.792
         ],
         "range": [
          1896,
          2020
         ]
        },
        "xaxis3": {
         "anchor": "y3",
         "domain": [
          0.416,
          0.584
         ],
         "range": [
          1896,
          2020
         ]
        },
        "xaxis30": {
         "anchor": "y30",
         "domain": [
          0.832,
          1
         ],
         "range": [
          1896,
          2020
         ]
        },
        "xaxis31": {
         "anchor": "y31",
         "domain": [
          0,
          0.16799999999999998
         ],
         "range": [
          1896,
          2020
         ]
        },
        "xaxis32": {
         "anchor": "y32",
         "domain": [
          0.208,
          0.376
         ],
         "range": [
          1896,
          2020
         ]
        },
        "xaxis33": {
         "anchor": "y33",
         "domain": [
          0.416,
          0.584
         ],
         "range": [
          1896,
          2020
         ]
        },
        "xaxis34": {
         "anchor": "y34",
         "domain": [
          0.624,
          0.792
         ],
         "range": [
          1896,
          2020
         ]
        },
        "xaxis35": {
         "anchor": "y35",
         "domain": [
          0.832,
          1
         ],
         "range": [
          1896,
          2020
         ]
        },
        "xaxis4": {
         "anchor": "y4",
         "domain": [
          0.624,
          0.792
         ],
         "range": [
          1896,
          2020
         ]
        },
        "xaxis5": {
         "anchor": "y5",
         "domain": [
          0.832,
          1
         ],
         "range": [
          1896,
          2020
         ]
        },
        "xaxis6": {
         "anchor": "y6",
         "domain": [
          0,
          0.16799999999999998
         ],
         "range": [
          1896,
          2020
         ]
        },
        "xaxis7": {
         "anchor": "y7",
         "domain": [
          0.208,
          0.376
         ],
         "range": [
          1896,
          2020
         ]
        },
        "xaxis8": {
         "anchor": "y8",
         "domain": [
          0.416,
          0.584
         ],
         "range": [
          1896,
          2020
         ]
        },
        "xaxis9": {
         "anchor": "y9",
         "domain": [
          0.624,
          0.792
         ],
         "range": [
          1896,
          2020
         ]
        },
        "yaxis": {
         "anchor": "x",
         "domain": [
          0.9183673469387754,
          0.9999999999999999
         ],
         "range": [
          0,
          0.7
         ]
        },
        "yaxis10": {
         "anchor": "x10",
         "domain": [
          0.7653061224489794,
          0.8469387755102039
         ],
         "range": [
          0,
          0.7
         ]
        },
        "yaxis11": {
         "anchor": "x11",
         "domain": [
          0.6122448979591837,
          0.6938775510204082
         ],
         "range": [
          0,
          0.7
         ]
        },
        "yaxis12": {
         "anchor": "x12",
         "domain": [
          0.6122448979591837,
          0.6938775510204082
         ],
         "range": [
          0,
          0.7
         ]
        },
        "yaxis13": {
         "anchor": "x13",
         "domain": [
          0.6122448979591837,
          0.6938775510204082
         ],
         "range": [
          0,
          0.7
         ]
        },
        "yaxis14": {
         "anchor": "x14",
         "domain": [
          0.6122448979591837,
          0.6938775510204082
         ],
         "range": [
          0,
          0.7
         ]
        },
        "yaxis15": {
         "anchor": "x15",
         "domain": [
          0.6122448979591837,
          0.6938775510204082
         ],
         "range": [
          0,
          0.7
         ]
        },
        "yaxis16": {
         "anchor": "x16",
         "domain": [
          0.4591836734693877,
          0.5408163265306122
         ],
         "range": [
          0,
          0.7
         ]
        },
        "yaxis17": {
         "anchor": "x17",
         "domain": [
          0.4591836734693877,
          0.5408163265306122
         ],
         "range": [
          0,
          0.7
         ]
        },
        "yaxis18": {
         "anchor": "x18",
         "domain": [
          0.4591836734693877,
          0.5408163265306122
         ],
         "range": [
          0,
          0.7
         ]
        },
        "yaxis19": {
         "anchor": "x19",
         "domain": [
          0.4591836734693877,
          0.5408163265306122
         ],
         "range": [
          0,
          0.7
         ]
        },
        "yaxis2": {
         "anchor": "x2",
         "domain": [
          0.9183673469387754,
          0.9999999999999999
         ],
         "range": [
          0,
          0.7
         ]
        },
        "yaxis20": {
         "anchor": "x20",
         "domain": [
          0.4591836734693877,
          0.5408163265306122
         ],
         "range": [
          0,
          0.7
         ]
        },
        "yaxis21": {
         "anchor": "x21",
         "domain": [
          0.30612244897959184,
          0.3877551020408163
         ],
         "range": [
          0,
          0.7
         ]
        },
        "yaxis22": {
         "anchor": "x22",
         "domain": [
          0.30612244897959184,
          0.3877551020408163
         ],
         "range": [
          0,
          0.7
         ]
        },
        "yaxis23": {
         "anchor": "x23",
         "domain": [
          0.30612244897959184,
          0.3877551020408163
         ],
         "range": [
          0,
          0.7
         ]
        },
        "yaxis24": {
         "anchor": "x24",
         "domain": [
          0.30612244897959184,
          0.3877551020408163
         ],
         "range": [
          0,
          0.7
         ]
        },
        "yaxis25": {
         "anchor": "x25",
         "domain": [
          0.30612244897959184,
          0.3877551020408163
         ],
         "range": [
          0,
          0.7
         ]
        },
        "yaxis26": {
         "anchor": "x26",
         "domain": [
          0.15306122448979592,
          0.2346938775510204
         ],
         "range": [
          0,
          0.7
         ]
        },
        "yaxis27": {
         "anchor": "x27",
         "domain": [
          0.15306122448979592,
          0.2346938775510204
         ],
         "range": [
          0,
          0.7
         ]
        },
        "yaxis28": {
         "anchor": "x28",
         "domain": [
          0.15306122448979592,
          0.2346938775510204
         ],
         "range": [
          0,
          0.7
         ]
        },
        "yaxis29": {
         "anchor": "x29",
         "domain": [
          0.15306122448979592,
          0.2346938775510204
         ],
         "range": [
          0,
          0.7
         ]
        },
        "yaxis3": {
         "anchor": "x3",
         "domain": [
          0.9183673469387754,
          0.9999999999999999
         ],
         "range": [
          0,
          0.7
         ]
        },
        "yaxis30": {
         "anchor": "x30",
         "domain": [
          0.15306122448979592,
          0.2346938775510204
         ],
         "range": [
          0,
          0.7
         ]
        },
        "yaxis31": {
         "anchor": "x31",
         "domain": [
          0,
          0.08163265306122448
         ],
         "range": [
          0,
          0.7
         ]
        },
        "yaxis32": {
         "anchor": "x32",
         "domain": [
          0,
          0.08163265306122448
         ],
         "range": [
          0,
          0.7
         ]
        },
        "yaxis33": {
         "anchor": "x33",
         "domain": [
          0,
          0.08163265306122448
         ],
         "range": [
          0,
          0.7
         ]
        },
        "yaxis34": {
         "anchor": "x34",
         "domain": [
          0,
          0.08163265306122448
         ],
         "range": [
          0,
          0.7
         ]
        },
        "yaxis35": {
         "anchor": "x35",
         "domain": [
          0,
          0.08163265306122448
         ],
         "range": [
          0,
          0.7
         ]
        },
        "yaxis4": {
         "anchor": "x4",
         "domain": [
          0.9183673469387754,
          0.9999999999999999
         ],
         "range": [
          0,
          0.7
         ]
        },
        "yaxis5": {
         "anchor": "x5",
         "domain": [
          0.9183673469387754,
          0.9999999999999999
         ],
         "range": [
          0,
          0.7
         ]
        },
        "yaxis6": {
         "anchor": "x6",
         "domain": [
          0.7653061224489794,
          0.8469387755102039
         ],
         "range": [
          0,
          0.7
         ]
        },
        "yaxis7": {
         "anchor": "x7",
         "domain": [
          0.7653061224489794,
          0.8469387755102039
         ],
         "range": [
          0,
          0.7
         ]
        },
        "yaxis8": {
         "anchor": "x8",
         "domain": [
          0.7653061224489794,
          0.8469387755102039
         ],
         "range": [
          0,
          0.7
         ]
        },
        "yaxis9": {
         "anchor": "x9",
         "domain": [
          0.7653061224489794,
          0.8469387755102039
         ],
         "range": [
          0,
          0.7
         ]
        }
       }
      },
      "text/html": [
       "<div>                            <div id=\"eb076e7b-1f2b-4bf5-9ea4-3013fa83ef79\" class=\"plotly-graph-div\" style=\"height:1200px; width:1000px;\"></div>            <script type=\"text/javascript\">                require([\"plotly\"], function(Plotly) {                    window.PLOTLYENV=window.PLOTLYENV || {};                                    if (document.getElementById(\"eb076e7b-1f2b-4bf5-9ea4-3013fa83ef79\")) {                    Plotly.newPlot(                        \"eb076e7b-1f2b-4bf5-9ea4-3013fa83ef79\",                        [{\"marker\": {\"color\": \"rgb(55, 83, 109)\"}, \"mode\": \"lines\", \"showlegend\": false, \"type\": \"scatter\", \"x\": [1896, 1900, 1904, 1908, 1912, 1920, 1924, 1928, 1932, 1936, 1948, 1952, 1956, 1960, 1964, 1968, 1972, 1976, 1984, 1988, 1992, 1996, 2000, 2004, 2008, 2012, 2016], \"xaxis\": \"x\", \"y\": [0.0, 0.09333333333333334, 0.011450381679389313, 0.0, 0.0, 0.04861111111111111, 0.07744107744107744, 0.1574468085106383, 0.12099644128113879, 0.13225806451612904, 0.12666666666666668, 0.14335664335664336, 0.1540983606557377, 0.17465753424657535, 0.22832369942196531, 0.23249299719887956, 0.21, 0.29797979797979796, 0.3505747126436782, 0.3700189753320683, 0.3486238532110092, 0.4212962962962963, 0.431740614334471, 0.47654784240150094, 0.47959183673469385, 0.5056603773584906, 0.5243243243243243], \"yaxis\": \"y\"}, {\"marker\": {\"color\": \"#222\"}, \"mode\": \"lines\", \"showlegend\": false, \"type\": \"scatter\", \"x\": [1896, 2016], \"xaxis\": \"x\", \"y\": [0.5, 0.5], \"yaxis\": \"y\"}, {\"marker\": {\"color\": \"rgb(55, 83, 109)\"}, \"mode\": \"lines\", \"showlegend\": false, \"type\": \"scatter\", \"x\": [1952, 1956, 1960, 1964, 1968, 1972, 1976, 1980, 1988], \"xaxis\": \"x2\", \"y\": [0.13559322033898305, 0.1387900355871886, 0.17667844522968199, 0.19873817034700317, 0.21153846153846154, 0.1967654986522911, 0.3048780487804878, 0.3047034764826176, 0.3367983367983368], \"yaxis\": \"y2\"}, {\"marker\": {\"color\": \"#222\"}, \"mode\": \"lines\", \"showlegend\": false, \"type\": \"scatter\", \"x\": [1896, 2016], \"xaxis\": \"x2\", \"y\": [0.5, 0.5], \"yaxis\": \"y2\"}, {\"marker\": {\"color\": \"rgb(55, 83, 109)\"}, \"mode\": \"lines\", \"showlegend\": false, \"type\": \"scatter\", \"x\": [1896, 1900, 1904, 1908, 1912, 1920, 1924, 1928, 1932, 1936, 1948, 1952, 1956, 1960, 1964, 1968, 1972, 1976, 1980, 1984, 1988, 1992, 1996, 2000, 2004, 2008, 2012, 2016], \"xaxis\": \"x3\", \"y\": [0.0, 0.009615384615384616, 0.0, 0.053061224489795916, 0.03690036900369004, 0.06866952789699571, 0.10038610038610038, 0.15025906735751296, 0.19444444444444445, 0.1778846153846154, 0.1501597444089457, 0.17120622568093385, 0.14720812182741116, 0.1857707509881423, 0.21568627450980393, 0.2222222222222222, 0.2605633802816901, 0.2727272727272727, 0.319634703196347, 0.32047477744807124, 0.3652173913043478, 0.38274932614555257, 0.38666666666666666, 0.4161290322580645, 0.39015151515151514, 0.46381578947368424, 0.4849056603773585, 0.44166666666666665], \"yaxis\": \"y3\"}, {\"marker\": {\"color\": \"#222\"}, \"mode\": \"lines\", \"showlegend\": false, \"type\": \"scatter\", \"x\": [1896, 2016], \"xaxis\": \"x3\", \"y\": [0.5, 0.5], \"yaxis\": \"y3\"}, {\"marker\": {\"color\": \"rgb(55, 83, 109)\"}, \"mode\": \"lines\", \"showlegend\": false, \"type\": \"scatter\", \"x\": [1896, 1900, 1904, 1908, 1912, 1920, 1924, 1928, 1932, 1936, 1948, 1952, 1956, 1960, 1964, 1968, 1972, 1976, 1980, 1984, 1988, 1992, 1996, 2000, 2004, 2008, 2012, 2016], \"xaxis\": \"x4\", \"y\": [0.0, 0.016666666666666666, 0.0, 0.0, 0.009174311926605505, 0.0231023102310231, 0.06269592476489028, 0.13852813852813853, 0.03076923076923077, 0.05472636815920398, 0.127208480565371, 0.12653061224489795, 0.12413793103448276, 0.11764705882352941, 0.14492753623188406, 0.155, 0.13215859030837004, 0.1407766990291262, 0.19008264462809918, 0.20588235294117646, 0.2781954887218045, 0.2890855457227139, 0.3411371237458194, 0.37202380952380953, 0.36688311688311687, 0.39158576051779936, 0.4382716049382716, 0.4260204081632653], \"yaxis\": \"y4\"}, {\"marker\": {\"color\": \"#222\"}, \"mode\": \"lines\", \"showlegend\": false, \"type\": \"scatter\", \"x\": [1896, 2016], \"xaxis\": \"x4\", \"y\": [0.5, 0.5], \"yaxis\": \"y4\"}, {\"marker\": {\"color\": \"rgb(55, 83, 109)\"}, \"mode\": \"lines\", \"showlegend\": false, \"type\": \"scatter\", \"x\": [1896, 1900, 1904, 1908, 1912, 1928, 1932, 1936, 1952, 1956, 1960, 1964, 1992, 1996, 2000, 2004, 2008, 2012, 2016], \"xaxis\": \"x5\", \"y\": [0.0, 0.0, 0.0, 0.024390243902439025, 0.0273224043715847, 0.14485981308411214, 0.08433734939759036, 0.1206896551724138, 0.15609756097560976, 0.16167664670658682, 0.1870748299319728, 0.18397626112759644, 0.35205183585313177, 0.4012875536480687, 0.42890995260663506, 0.4331065759637188, 0.4357142857142857, 0.4464751958224543, 0.46411483253588515], \"yaxis\": \"y5\"}, {\"marker\": {\"color\": \"#222\"}, \"mode\": \"lines\", \"showlegend\": false, \"type\": \"scatter\", \"x\": [1896, 2016], \"xaxis\": \"x5\", \"y\": [0.5, 0.5], \"yaxis\": \"y5\"}, {\"marker\": {\"color\": \"rgb(55, 83, 109)\"}, \"mode\": \"lines\", \"showlegend\": false, \"type\": \"scatter\", \"x\": [1896, 1900, 1904, 1908, 1912, 1920, 1924, 1928, 1932, 1936, 1948, 1952, 1956, 1960, 1964, 1968, 1972, 1976, 1980, 1984, 1988, 1992, 1996, 2000, 2004, 2008, 2012, 2016], \"xaxis\": \"x6\", \"y\": [0.0, 0.043478260869565216, 0.0, 0.0, 0.0, 0.005813953488372093, 0.015306122448979591, 0.11042944785276074, 0.0, 0.07142857142857142, 0.10382513661202186, 0.09956709956709957, 0.1111111111111111, 0.12142857142857143, 0.06547619047619048, 0.08982035928143713, 0.12053571428571429, 0.12857142857142856, 0.2389937106918239, 0.17164179104477612, 0.16205533596837945, 0.25, 0.3058823529411765, 0.3185595567867036, 0.3708791208791209, 0.39039039039039036, 0.4377224199288256, 0.4563106796116505], \"yaxis\": \"y6\"}, {\"marker\": {\"color\": \"#222\"}, \"mode\": \"lines\", \"showlegend\": false, \"type\": \"scatter\", \"x\": [1896, 2016], \"xaxis\": \"x6\", \"y\": [0.5, 0.5], \"yaxis\": \"y6\"}, {\"marker\": {\"color\": \"rgb(55, 83, 109)\"}, \"mode\": \"lines\", \"showlegend\": false, \"type\": \"scatter\", \"x\": [1932, 1936, 1948, 1952, 1984, 1988, 1992, 1996, 2000, 2004, 2008, 2012, 2016], \"xaxis\": \"x7\", \"y\": [0.0, 0.037037037037037035, 0.0, 0.0, 0.386046511627907, 0.4542124542124542, 0.5204918032786885, 0.6224489795918368, 0.6642066420664207, 0.6449086161879896, 0.48247078464106846, 0.5733333333333334, 0.6147959183673469], \"yaxis\": \"y7\"}, {\"marker\": {\"color\": \"#222\"}, \"mode\": \"lines\", \"showlegend\": false, \"type\": \"scatter\", \"x\": [1896, 2016], \"xaxis\": \"x7\", \"y\": [0.5, 0.5], \"yaxis\": \"y7\"}, {\"marker\": {\"color\": \"rgb(55, 83, 109)\"}, \"mode\": \"lines\", \"showlegend\": false, \"type\": \"scatter\", \"x\": [1896, 1900, 1904, 1920, 1924, 1928, 1932, 1936, 1948, 1952, 1956, 1960, 1964, 1968, 1972, 1976, 1980, 1984, 1988, 1992, 1996, 2000, 2004, 2008, 2012, 2016], \"xaxis\": \"x8\", \"y\": [0.0, 0.0, 0.0, 0.07692307692307693, 0.0, 0.2222222222222222, 0.3333333333333333, 0.125, 0.12, 0.12345679012345678, 0.1476510067114094, 0.15343915343915343, 0.1646090534979424, 0.1875, 0.17261904761904762, 0.18888888888888888, 0.23333333333333334, 0.30165289256198347, 0.2857142857142857, 0.32974910394265233, 0.40047961630695444, 0.4473257698541329, 0.4297872340425532, 0.46064814814814814, 0.454320987654321, 0.5047619047619047], \"yaxis\": \"y8\"}, {\"marker\": {\"color\": \"#222\"}, \"mode\": \"lines\", \"showlegend\": false, \"type\": \"scatter\", \"x\": [1896, 2016], \"xaxis\": \"x8\", \"y\": [0.5, 0.5], \"yaxis\": \"y8\"}, {\"marker\": {\"color\": \"rgb(55, 83, 109)\"}, \"mode\": \"lines\", \"showlegend\": false, \"type\": \"scatter\", \"x\": [1896, 1900, 1908, 1912, 1920, 1924, 1928, 1932, 1936, 1948, 1952, 1956, 1960, 1964, 1968, 1972, 1976, 1980, 1984, 1988, 1992, 1996, 2000, 2004, 2008, 2012, 2016], \"xaxis\": \"x9\", \"y\": [0.0, 0.0, 0.017857142857142856, 0.0518018018018018, 0.05, 0.08176100628930817, 0.13, 0.019230769230769232, 0.04666666666666667, 0.10919540229885058, 0.11165048543689321, 0.14432989690721648, 0.1417910447761194, 0.19148936170212766, 0.14, 0.20610687022900764, 0.14655172413793102, 0.15862068965517243, 0.2471264367816092, 0.2, 0.23529411764705882, 0.3728813559322034, 0.3466666666666667, 0.4608695652173913, 0.5934959349593496, 0.5864661654135338, 0.5733333333333334], \"yaxis\": \"y9\"}, {\"marker\": {\"color\": \"#222\"}, \"mode\": \"lines\", \"showlegend\": false, \"type\": \"scatter\", \"x\": [1896, 2016], \"xaxis\": \"x9\", \"y\": [0.5, 0.5], \"yaxis\": \"y9\"}, {\"marker\": {\"color\": \"rgb(55, 83, 109)\"}, \"mode\": \"lines\", \"showlegend\": false, \"type\": \"scatter\", \"x\": [1896, 1900, 1904, 1908, 1912, 1924, 1928, 1932, 1936, 1948, 1952, 1956, 1960, 1964, 1968, 1972, 1976, 1980, 1988, 1992, 1996, 2000, 2004, 2008, 2012, 2016], \"xaxis\": \"x10\", \"y\": [0.0, 0.0, 0.0, 0.0, 0.0, 0.034482758620689655, 0.15384615384615385, 0.043478260869565216, 0.0861244019138756, 0.15873015873015872, 0.14285714285714285, 0.18018018018018017, 0.14673913043478262, 0.17582417582417584, 0.19161676646706588, 0.1939655172413793, 0.30337078651685395, 0.30798479087452474, 0.19148936170212766, 0.2672811059907834, 0.30985915492957744, 0.38764044943820225, 0.430622009569378, 0.4853801169590643, 0.3881578947368421, 0.42857142857142855], \"yaxis\": \"y10\"}, {\"marker\": {\"color\": \"#222\"}, \"mode\": \"lines\", \"showlegend\": false, \"type\": \"scatter\", \"x\": [1896, 2016], \"xaxis\": \"x10\", \"y\": [0.5, 0.5], \"yaxis\": \"y10\"}, {\"marker\": {\"color\": \"rgb(55, 83, 109)\"}, \"mode\": \"lines\", \"showlegend\": false, \"type\": \"scatter\", \"x\": [1912, 1920, 1924, 1928, 1932, 1936, 1952, 1956, 1960, 1964, 1968, 1972, 1976, 1984, 1988, 1992, 1996, 2000, 2004, 2008, 2012, 2016], \"xaxis\": \"x11\", \"y\": [0.0, 0.0, 0.0, 0.025, 0.13675213675213677, 0.10526315789473684, 0.15942028985507245, 0.14285714285714285, 0.12345679012345678, 0.17682926829268292, 0.14619883040935672, 0.1956521739130435, 0.28169014084507044, 0.23008849557522124, 0.27058823529411763, 0.31640625, 0.4869281045751634, 0.41353383458646614, 0.545751633986928, 0.49698795180722893, 0.5326460481099656, 0.48955223880597015], \"yaxis\": \"y11\"}, {\"marker\": {\"color\": \"#222\"}, \"mode\": \"lines\", \"showlegend\": false, \"type\": \"scatter\", \"x\": [1896, 2016], \"xaxis\": \"x11\", \"y\": [0.5, 0.5], \"yaxis\": \"y11\"}, {\"marker\": {\"color\": \"rgb(55, 83, 109)\"}, \"mode\": \"lines\", \"showlegend\": false, \"type\": \"scatter\", \"x\": [1900, 1908, 1912, 1996, 2000, 2004, 2008, 2012, 2016], \"xaxis\": \"x12\", \"y\": [0.0, 0.0, 0.0, 0.40512820512820513, 0.4459770114942529, 0.452914798206278, 0.4911894273127753, 0.5268065268065268, 0.5], \"yaxis\": \"y12\"}, {\"marker\": {\"color\": \"#222\"}, \"mode\": \"lines\", \"showlegend\": false, \"type\": \"scatter\", \"x\": [1896, 2016], \"xaxis\": \"x12\", \"y\": [0.5, 0.5], \"yaxis\": \"y12\"}, {\"marker\": {\"color\": \"rgb(55, 83, 109)\"}, \"mode\": \"lines\", \"showlegend\": false, \"type\": \"scatter\", \"x\": [1968, 1972, 1976, 1980, 1988], \"xaxis\": \"x13\", \"y\": [0.17699115044247787, 0.2222222222222222, 0.4232209737827715, 0.3583815028901734, 0.3938223938223938], \"yaxis\": \"y13\"}, {\"marker\": {\"color\": \"#222\"}, \"mode\": \"lines\", \"showlegend\": false, \"type\": \"scatter\", \"x\": [1896, 2016], \"xaxis\": \"x13\", \"y\": [0.5, 0.5], \"yaxis\": \"y13\"}, {\"marker\": {\"color\": \"rgb(55, 83, 109)\"}, \"mode\": \"lines\", \"showlegend\": false, \"type\": \"scatter\", \"x\": [1900, 1924, 1928, 1936, 1952, 1956, 1960, 1964, 1968, 1972, 1976, 1980, 1984, 1988, 1992, 1996, 2000, 2004, 2008, 2012, 2016], \"xaxis\": \"x14\", \"y\": [0.0, 0.0, 0.09523809523809523, 0.03773584905660377, 0.09649122807017543, 0.22, 0.16326530612244897, 0.21739130434782608, 0.1951219512195122, 0.16981132075471697, 0.34394904458598724, 0.32456140350877194, 0.4274193548387097, 0.5294117647058824, 0.3930635838150289, 0.40606060606060607, 0.5103448275862069, 0.5370370370370371, 0.6039603960396039, 0.47619047619047616, 0.6421052631578947], \"yaxis\": \"y14\"}, {\"marker\": {\"color\": \"#222\"}, \"mode\": \"lines\", \"showlegend\": false, \"type\": \"scatter\", \"x\": [1896, 2016], \"xaxis\": \"x14\", \"y\": [0.5, 0.5], \"yaxis\": \"y14\"}, {\"marker\": {\"color\": \"rgb(55, 83, 109)\"}, \"mode\": \"lines\", \"showlegend\": false, \"type\": \"scatter\", \"x\": [1908, 1912, 1920, 1924, 1928, 1932, 1936, 1948, 1952, 1956, 1960, 1964, 1968, 1972, 1976, 1980, 1984, 1988, 1992, 1996, 2000, 2004, 2008, 2012, 2016], \"xaxis\": \"x15\", \"y\": [0.0, 0.012195121951219513, 0.015873015873015872, 0.0, 0.028985507246376812, 0.0, 0.04672897196261682, 0.04065040650406504, 0.11627906976744186, 0.014084507042253521, 0.08547008547008547, 0.056179775280898875, 0.09090909090909091, 0.07291666666666667, 0.07228915662650602, 0.05714285714285714, 0.1511627906976744, 0.24358974358974358, 0.3181818181818182, 0.3815789473684211, 0.42857142857142855, 0.32075471698113206, 0.45614035087719296, 0.48214285714285715, 0.5185185185185185], \"yaxis\": \"y15\"}, {\"marker\": {\"color\": \"#222\"}, \"mode\": \"lines\", \"showlegend\": false, \"type\": \"scatter\", \"x\": [1896, 2016], \"xaxis\": \"x15\", \"y\": [0.5, 0.5], \"yaxis\": \"y15\"}, {\"marker\": {\"color\": \"rgb(55, 83, 109)\"}, \"mode\": \"lines\", \"showlegend\": false, \"type\": \"scatter\", \"x\": [1900, 1904, 1908, 1912, 1920, 1924, 1928, 1932, 1936, 1948, 1952, 1956, 1960, 1964, 1968, 1972, 1976, 1984, 1988, 1992, 1996, 2000, 2004, 2008, 2012, 2016], \"xaxis\": \"x16\", \"y\": [0.0, 0.0, 0.0, 0.0, 0.0, 0.0, 0.10294117647058823, 0.17, 0.1875, 0.14423076923076922, 0.09345794392523364, 0.15625, 0.12941176470588237, 0.17391304347826086, 0.2014388489208633, 0.2403846153846154, 0.3220779220779221, 0.3700980392156863, 0.3201219512195122, 0.39322033898305087, 0.49834983498349833, 0.4897959183673469, 0.5038167938931297, 0.4397590361445783, 0.5641025641025641, 0.5903225806451613], \"yaxis\": \"y16\"}, {\"marker\": {\"color\": \"#222\"}, \"mode\": \"lines\", \"showlegend\": false, \"type\": \"scatter\", \"x\": [1896, 2016], \"xaxis\": \"x16\", \"y\": [0.5, 0.5], \"yaxis\": \"y16\"}, {\"marker\": {\"color\": \"rgb(55, 83, 109)\"}, \"mode\": \"lines\", \"showlegend\": false, \"type\": \"scatter\", \"x\": [1900, 1908, 1912, 1920, 1924, 1928, 1932, 1936, 1948, 1952, 1956, 1960, 1964, 1968, 1972, 1976, 1980, 1984, 1988, 1992, 1996, 2000, 2004, 2008, 2012, 2016], \"xaxis\": \"x17\", \"y\": [0.0, 0.0, 0.0, 0.007692307692307693, 0.058823529411764705, 0.16203703703703703, 0.4583333333333333, 0.1484375, 0.24817518248175183, 0.25, 0.0, 0.2727272727272727, 0.16, 0.2336448598130841, 0.24369747899159663, 0.3333333333333333, 0.24, 0.39705882352941174, 0.3673469387755102, 0.417910447761194, 0.42677824267782427, 0.36363636363636365, 0.3619047619047619, 0.41350210970464135, 0.45664739884393063, 0.5569620253164557], \"yaxis\": \"y17\"}, {\"marker\": {\"color\": \"#222\"}, \"mode\": \"lines\", \"showlegend\": false, \"type\": \"scatter\", \"x\": [1896, 2016], \"xaxis\": \"x17\", \"y\": [0.5, 0.5], \"yaxis\": \"y17\"}, {\"marker\": {\"color\": \"rgb(55, 83, 109)\"}, \"mode\": \"lines\", \"showlegend\": false, \"type\": \"scatter\", \"x\": [1924, 1928, 1932, 1936, 1948, 1952, 1956, 1960, 1964, 1968, 1972, 1976, 1980, 1988, 1992, 1996, 2000, 2004, 2008, 2012, 2016], \"xaxis\": \"x18\", \"y\": [0.015384615384615385, 0.07575757575757576, 0.15, 0.09734513274336283, 0.17391304347826086, 0.176, 0.234375, 0.15675675675675677, 0.17857142857142858, 0.20903954802259886, 0.1310344827586207, 0.13043478260869565, 0.24183006535947713, 0.22377622377622378, 0.25870646766169153, 0.23636363636363636, 0.31016042780748665, 0.31958762886597936, 0.39299610894941633, 0.4095238095238095, 0.405982905982906], \"yaxis\": \"y18\"}, {\"marker\": {\"color\": \"#222\"}, \"mode\": \"lines\", \"showlegend\": false, \"type\": \"scatter\", \"x\": [1896, 2016], \"xaxis\": \"x18\", \"y\": [0.5, 0.5], \"yaxis\": \"y18\"}, {\"marker\": {\"color\": \"rgb(55, 83, 109)\"}, \"mode\": \"lines\", \"showlegend\": false, \"type\": \"scatter\", \"x\": [1948, 1952, 1956, 1960, 1964, 1968, 1972, 1976, 1984, 1988, 1992, 1996, 2000, 2004, 2008, 2012, 2016], \"xaxis\": \"x19\", \"y\": [0.021739130434782608, 0.05263157894736842, 0.0, 0.05714285714285714, 0.16883116883116883, 0.24074074074074073, 0.23809523809523808, 0.24, 0.33714285714285713, 0.32917705735660846, 0.3185840707964602, 0.37293729372937295, 0.37722419928825623, 0.45075757575757575, 0.4, 0.46, 0.5024154589371981], \"yaxis\": \"y19\"}, {\"marker\": {\"color\": \"#222\"}, \"mode\": \"lines\", \"showlegend\": false, \"type\": \"scatter\", \"x\": [1896, 2016], \"xaxis\": \"x19\", \"y\": [0.5, 0.5], \"yaxis\": \"y19\"}, {\"marker\": {\"color\": \"rgb(55, 83, 109)\"}, \"mode\": \"lines\", \"showlegend\": false, \"type\": \"scatter\", \"x\": [1900, 1904, 1924, 1928, 1948, 1952, 1956, 1960, 1964, 1968, 1972, 1976, 1980, 1992, 1996, 2000, 2004, 2008, 2012, 2016], \"xaxis\": \"x20\", \"y\": [0.0, 0.0, 0.0, 0.0, 0.0, 0.0, 0.0625, 0.25, 0.07407407407407407, 0.12173913043478261, 0.20437956204379562, 0.15384615384615385, 0.15865384615384615, 0.2840909090909091, 0.3231707317073171, 0.35807860262008734, 0.3576158940397351, 0.35443037974683544, 0.4036697247706422, 0.2905982905982906], \"yaxis\": \"y20\"}, {\"marker\": {\"color\": \"#222\"}, \"mode\": \"lines\", \"showlegend\": false, \"type\": \"scatter\", \"x\": [1896, 2016], \"xaxis\": \"x20\", \"y\": [0.5, 0.5], \"yaxis\": \"y20\"}, {\"marker\": {\"color\": \"rgb(55, 83, 109)\"}, \"mode\": \"lines\", \"showlegend\": false, \"type\": \"scatter\", \"x\": [1900, 1920, 1924, 1928, 1932, 1948, 1952, 1956, 1960, 1964, 1968, 1972, 1976, 1980, 1984, 1988, 1992, 1996, 2000, 2004, 2008, 2012, 2016], \"xaxis\": \"x21\", \"y\": [0.0, 0.0, 0.02127659574468085, 0.0, 0.0, 0.0, 0.0, 0.0, 0.0763888888888889, 0.058823529411764705, 0.01639344262295082, 0.04065040650406504, 0.08849557522123894, 0.05806451612903226, 0.0893854748603352, 0.12663755458515283, 0.2962085308056872, 0.328719723183391, 0.32710280373831774, 0.439873417721519, 0.42402826855123676, 0.39568345323741005, 0.46579804560260585], \"yaxis\": \"y21\"}, {\"marker\": {\"color\": \"#222\"}, \"mode\": \"lines\", \"showlegend\": false, \"type\": \"scatter\", \"x\": [1896, 2016], \"xaxis\": \"x21\", \"y\": [0.5, 0.5], \"yaxis\": \"y21\"}, {\"marker\": {\"color\": \"rgb(55, 83, 109)\"}, \"mode\": \"lines\", \"showlegend\": false, \"type\": \"scatter\", \"x\": [1956, 1960, 1964, 1968, 1972, 1984, 1988, 1992, 1996, 2000, 2004, 2008, 2012, 2016], \"xaxis\": \"x22\", \"y\": [0.04, 0.0, 0.0, 0.07692307692307693, 0.03508771929824561, 0.08196721311475409, 0.05405405405405406, 0.1836734693877551, 0.19230769230769232, 0.39285714285714285, 0.5217391304347826, 0.391304347826087, 0.425531914893617, 0.4177215189873418], \"yaxis\": \"y22\"}, {\"marker\": {\"color\": \"#222\"}, \"mode\": \"lines\", \"showlegend\": false, \"type\": \"scatter\", \"x\": [1896, 2016], \"xaxis\": \"x22\", \"y\": [0.5, 0.5], \"yaxis\": \"y22\"}, {\"marker\": {\"color\": \"rgb(55, 83, 109)\"}, \"mode\": \"lines\", \"showlegend\": false, \"type\": \"scatter\", \"x\": [1948, 1952, 1956, 1964, 1968, 1972, 1976, 1980, 1984, 1988, 1992, 1996, 2000, 2004, 2008, 2012, 2016], \"xaxis\": \"x23\", \"y\": [0.3076923076923077, 0.25, 0.0, 0.19047619047619047, 0.2, 0.36363636363636365, 0.45, 0.3888888888888889, 0.3111111111111111, 0.3142857142857143, 0.3888888888888889, 0.41304347826086957, 0.5416666666666666, 0.5319148936170213, 0.54, 0.4888888888888889, 0.5535714285714286], \"yaxis\": \"y23\"}, {\"marker\": {\"color\": \"#222\"}, \"mode\": \"lines\", \"showlegend\": false, \"type\": \"scatter\", \"x\": [1896, 2016], \"xaxis\": \"x23\", \"y\": [0.5, 0.5], \"yaxis\": \"y23\"}, {\"marker\": {\"color\": \"rgb(55, 83, 109)\"}, \"mode\": \"lines\", \"showlegend\": false, \"type\": \"scatter\", \"x\": [1992, 1996, 2000, 2004, 2008, 2012, 2016], \"xaxis\": \"x24\", \"y\": [0.07692307692307693, 0.10714285714285714, 0.2840909090909091, 0.18518518518518517, 0.1919191919191919, 0.40186915887850466, 0.2235294117647059], \"yaxis\": \"y24\"}, {\"marker\": {\"color\": \"#222\"}, \"mode\": \"lines\", \"showlegend\": false, \"type\": \"scatter\", \"x\": [1896, 2016], \"xaxis\": \"x24\", \"y\": [0.5, 0.5], \"yaxis\": \"y24\"}, {\"marker\": {\"color\": \"rgb(55, 83, 109)\"}, \"mode\": \"lines\", \"showlegend\": false, \"type\": \"scatter\", \"x\": [1900, 1920, 1924, 1928, 1932, 1936, 1948, 1952, 1956, 1960, 1964, 1968, 1972, 1976, 1980, 1984, 1988, 1992, 1996, 2000, 2004, 2008, 2012, 2016], \"xaxis\": \"x25\", \"y\": [0.0, 0.25, 0.25, 0.3333333333333333, 0.047619047619047616, 0.0, 0.14285714285714285, 0.14285714285714285, 0.1568627450980392, 0.10810810810810811, 0.125, 0.09615384615384616, 0.07865168539325842, 0.1125, 0.0, 0.24615384615384617, 0.1927710843373494, 0.31343283582089554, 0.30526315789473685, 0.47619047619047616, 0.4527027027027027, 0.4606741573033708, 0.4606741573033708, 0.49743589743589745], \"yaxis\": \"y25\"}, {\"marker\": {\"color\": \"#222\"}, \"mode\": \"lines\", \"showlegend\": false, \"type\": \"scatter\", \"x\": [1896, 2016], \"xaxis\": \"x25\", \"y\": [0.5, 0.5], \"yaxis\": \"y25\"}, {\"marker\": {\"color\": \"rgb(55, 83, 109)\"}, \"mode\": \"lines\", \"showlegend\": false, \"type\": \"scatter\", \"x\": [1996, 2000, 2004, 2008, 2012, 2016], \"xaxis\": \"x26\", \"y\": [0.11267605633802817, 0.2571428571428571, 0.2608695652173913, 0.26785714285714285, 0.32075471698113206, 0.32857142857142857], \"yaxis\": \"y26\"}, {\"marker\": {\"color\": \"#222\"}, \"mode\": \"lines\", \"showlegend\": false, \"type\": \"scatter\", \"x\": [1896, 2016], \"xaxis\": \"x26\", \"y\": [0.5, 0.5], \"yaxis\": \"y26\"}, {\"marker\": {\"color\": \"rgb(55, 83, 109)\"}, \"mode\": \"lines\", \"showlegend\": false, \"type\": \"scatter\", \"x\": [1996, 2000, 2004, 2008, 2012, 2016], \"xaxis\": \"x27\", \"y\": [0.25, 0.3384615384615385, 0.37719298245614036, 0.5384615384615384, 0.35398230088495575, 0.45544554455445546], \"yaxis\": \"y27\"}, {\"marker\": {\"color\": \"#222\"}, \"mode\": \"lines\", \"showlegend\": false, \"type\": \"scatter\", \"x\": [1896, 2016], \"xaxis\": \"x27\", \"y\": [0.5, 0.5], \"yaxis\": \"y27\"}, {\"marker\": {\"color\": \"rgb(55, 83, 109)\"}, \"mode\": \"lines\", \"showlegend\": false, \"type\": \"scatter\", \"x\": [1900, 1948, 1952, 1956, 1960, 1964, 1968, 1972, 1976, 1988, 1992, 1996, 2000, 2004, 2008, 2012, 2016], \"xaxis\": \"x28\", \"y\": [0.0, 0.0, 0.0, 0.0, 0.0, 0.06451612903225806, 0.0, 0.0, 0.047619047619047616, 0.0, 0.0, 0.05555555555555555, 0.030303030303030304, 0.02702702702702703, 0.05555555555555555, 0.15384615384615385, 0.14285714285714285], \"yaxis\": \"y28\"}, {\"marker\": {\"color\": \"#222\"}, \"mode\": \"lines\", \"showlegend\": false, \"type\": \"scatter\", \"x\": [1896, 2016], \"xaxis\": \"x28\", \"y\": [0.5, 0.5], \"yaxis\": \"y28\"}, {\"marker\": {\"color\": \"rgb(55, 83, 109)\"}, \"mode\": \"lines\", \"showlegend\": false, \"type\": \"scatter\", \"x\": [1900, 1932, 1936, 1948, 1956, 1960, 1964, 1968, 1972, 1976, 1980, 1984, 1988, 1992, 1996, 2000, 2004, 2008, 2012, 2016], \"xaxis\": \"x29\", \"y\": [0.0, 0.0, 0.0, 0.0, 0.0, 0.0, 0.0, 0.11627906976744186, 0.06779661016949153, 0.08571428571428572, 0.0, 0.07692307692307693, 0.15, 0.061224489795918366, 0.1875, 0.4318181818181818, 0.39622641509433965, 0.3582089552238806, 0.5544554455445545, 0.48951048951048953], \"yaxis\": \"y29\"}, {\"marker\": {\"color\": \"#222\"}, \"mode\": \"lines\", \"showlegend\": false, \"type\": \"scatter\", \"x\": [1896, 2016], \"xaxis\": \"x29\", \"y\": [0.5, 0.5], \"yaxis\": \"y29\"}, {\"marker\": {\"color\": \"rgb(55, 83, 109)\"}, \"mode\": \"lines\", \"showlegend\": false, \"type\": \"scatter\", \"x\": [1896, 1900, 1904, 1908, 1912, 1920, 1924, 1928, 1932, 1936, 1948, 1952, 1956, 1960, 1964, 1968, 1972, 1976, 1980, 1984, 1988, 1992, 1996, 2000, 2004, 2008, 2012, 2016], \"xaxis\": \"x30\", \"y\": [0.0, 0.05555555555555555, 0.0, 0.0, 0.0, 0.0, 0.031496062992125984, 0.008771929824561403, 0.0, 0.028735632183908046, 0.03508771929824561, 0.05732484076433121, 0.0, 0.013422818791946308, 0.015151515151515152, 0.047058823529411764, 0.19205298013245034, 0.06, 0.0821917808219178, 0.20930232558139536, 0.2727272727272727, 0.28431372549019607, 0.3739130434782609, 0.37254901960784315, 0.3979591836734694, 0.43373493975903615, 0.2857142857142857, 0.4411764705882353], \"yaxis\": \"y30\"}, {\"marker\": {\"color\": \"#222\"}, \"mode\": \"lines\", \"showlegend\": false, \"type\": \"scatter\", \"x\": [1896, 2016], \"xaxis\": \"x30\", \"y\": [0.5, 0.5], \"yaxis\": \"y30\"}, {\"marker\": {\"color\": \"rgb(55, 83, 109)\"}, \"mode\": \"lines\", \"showlegend\": false, \"type\": \"scatter\", \"x\": [1896, 1900, 1904, 1908, 1912, 1920, 1924, 1928, 1932, 1936, 1948, 1952, 1956, 1960, 1964, 1968, 1972, 1976, 1980, 1984, 1988, 1992, 1996, 2000, 2004, 2008, 2012, 2016], \"xaxis\": \"x31\", \"y\": [0.0, 0.0, 0.0, 0.0, 0.0, 0.0, 0.02631578947368421, 0.0, 0.0, 0.02564102564102564, 0.017543859649122806, 0.0, 0.0, 0.0, 0.0, 0.0, 0.03333333333333333, 0.05555555555555555, 0.07317073170731707, 0.06349206349206349, 0.21428571428571427, 0.2, 0.2809917355371901, 0.4142857142857143, 0.4953051643192488, 0.4605263157894737, 0.3627450980392157, 0.391304347826087], \"yaxis\": \"y31\"}, {\"marker\": {\"color\": \"#222\"}, \"mode\": \"lines\", \"showlegend\": false, \"type\": \"scatter\", \"x\": [1896, 2016], \"xaxis\": \"x31\", \"y\": [0.5, 0.5], \"yaxis\": \"y31\"}, {\"marker\": {\"color\": \"rgb(55, 83, 109)\"}, \"mode\": \"lines\", \"showlegend\": false, \"type\": \"scatter\", \"x\": [1900, 1908, 1920, 1924, 1928, 1932, 1936, 1948, 1952, 1956, 1960, 1964, 1968, 1972, 1976, 1984, 1988, 1992, 1996, 2000, 2004, 2008, 2012, 2016], \"xaxis\": \"x32\", \"y\": [0.0, 0.0, 0.0, 0.0, 0.0, 0.0, 0.0196078431372549, 0.05527638190954774, 0.06504065040650407, 0.02857142857142857, 0.010869565217391304, 0.058823529411764705, 0.056179775280898875, 0.043478260869565216, 0.057971014492753624, 0.12345679012345678, 0.211864406779661, 0.20238095238095238, 0.26256983240223464, 0.3146853146853147, 0.3026315789473684, 0.4015151515151515, 0.291970802919708, 0.3488372093023256], \"yaxis\": \"y32\"}, {\"marker\": {\"color\": \"#222\"}, \"mode\": \"lines\", \"showlegend\": false, \"type\": \"scatter\", \"x\": [1896, 2016], \"xaxis\": \"x32\", \"y\": [0.5, 0.5], \"yaxis\": \"y32\"}, {\"marker\": {\"color\": \"rgb(55, 83, 109)\"}, \"mode\": \"lines\", \"showlegend\": false, \"type\": \"scatter\", \"x\": [1896, 1900, 1908, 1912, 1920, 1924, 1928, 1932, 1936, 1948, 1952, 1956, 1960, 1964, 1968, 1972, 1976, 1980, 1984, 1988, 1992, 1996, 2000, 2004, 2008, 2012, 2016], \"xaxis\": \"x33\", \"y\": [0.0, 0.0, 0.0, 0.006578947368421052, 0.025974025974025976, 0.136986301369863, 0.11538461538461539, 0.25, 0.12931034482758622, 0.11320754716981132, 0.10852713178294573, 0.16216216216216217, 0.12, 0.11666666666666667, 0.0625, 0.09523809523809523, 0.15151515151515152, 0.05172413793103448, 0.18333333333333332, 0.2692307692307692, 0.3, 0.5462184873949579, 0.4536082474226804, 0.4782608695652174, 0.23809523809523808, 0.42105263157894735, 0.3445378151260504], \"yaxis\": \"y33\"}, {\"marker\": {\"color\": \"#222\"}, \"mode\": \"lines\", \"showlegend\": false, \"type\": \"scatter\", \"x\": [1896, 2016], \"xaxis\": \"x33\", \"y\": [0.5, 0.5], \"yaxis\": \"y33\"}, {\"marker\": {\"color\": \"rgb(55, 83, 109)\"}, \"mode\": \"lines\", \"showlegend\": false, \"type\": \"scatter\", \"x\": [1904, 1908, 1912, 1920, 1924, 1928, 1932, 1936, 1948, 1952, 1956, 1960, 1992, 1996, 2000, 2004, 2008, 2012, 2016], \"xaxis\": \"x34\", \"y\": [0.0, 0.0, 0.0, 0.02564102564102564, 0.0, 0.25, 0.16666666666666666, 0.0, 0.03125, 0.0625, 0.12, 0.03636363636363636, 0.26881720430107525, 0.23809523809523808, 0.2992125984251969, 0.37735849056603776, 0.44029850746268656, 0.45161290322580644, 0.3111111111111111], \"yaxis\": \"y34\"}, {\"marker\": {\"color\": \"#222\"}, \"mode\": \"lines\", \"showlegend\": false, \"type\": \"scatter\", \"x\": [1896, 2016], \"xaxis\": \"x34\", \"y\": [0.5, 0.5], \"yaxis\": \"y34\"}, {\"marker\": {\"color\": \"rgb(55, 83, 109)\"}, \"mode\": \"lines\", \"showlegend\": false, \"type\": \"scatter\", \"x\": [1900, 1920, 1924, 1932, 1936, 1948, 1952, 1956, 1960, 1964, 1968, 1972, 1976, 1980, 1984, 1988, 1992, 1996, 2000, 2004, 2008, 2012, 2016], \"xaxis\": \"x35\", \"y\": [0.0, 0.0, 0.0, 0.01694915254237288, 0.0821917808219178, 0.15714285714285714, 0.05154639175257732, 0.02127659574468085, 0.013888888888888888, 0.01639344262295082, 0.039473684210526314, 0.037037037037037035, 0.08860759493670886, 0.14150943396226415, 0.14285714285714285, 0.20625, 0.27472527472527475, 0.29411764705882354, 0.46464646464646464, 0.4897119341563786, 0.48134328358208955, 0.4717741935483871, 0.44805194805194803], \"yaxis\": \"y35\"}, {\"marker\": {\"color\": \"#222\"}, \"mode\": \"lines\", \"showlegend\": false, \"type\": \"scatter\", \"x\": [1896, 2016], \"xaxis\": \"x35\", \"y\": [0.5, 0.5], \"yaxis\": \"y35\"}],                        {\"annotations\": [{\"font\": {\"size\": 16}, \"showarrow\": false, \"text\": \"USA\", \"x\": 0.08399999999999999, \"xanchor\": \"center\", \"xref\": \"paper\", \"y\": 0.9999999999999999, \"yanchor\": \"bottom\", \"yref\": \"paper\"}, {\"font\": {\"size\": 16}, \"showarrow\": false, \"text\": \"URS\", \"x\": 0.292, \"xanchor\": \"center\", \"xref\": \"paper\", \"y\": 0.9999999999999999, \"yanchor\": \"bottom\", \"yref\": \"paper\"}, {\"font\": {\"size\": 16}, \"showarrow\": false, \"text\": \"GBR\", \"x\": 0.5, \"xanchor\": \"center\", \"xref\": \"paper\", \"y\": 0.9999999999999999, \"yanchor\": \"bottom\", \"yref\": \"paper\"}, {\"font\": {\"size\": 16}, \"showarrow\": false, \"text\": \"FRA\", \"x\": 0.708, \"xanchor\": \"center\", \"xref\": \"paper\", \"y\": 0.9999999999999999, \"yanchor\": \"bottom\", \"yref\": \"paper\"}, {\"font\": {\"size\": 16}, \"showarrow\": false, \"text\": \"GER\", \"x\": 0.9159999999999999, \"xanchor\": \"center\", \"xref\": \"paper\", \"y\": 0.9999999999999999, \"yanchor\": \"bottom\", \"yref\": \"paper\"}, {\"font\": {\"size\": 16}, \"showarrow\": false, \"text\": \"ITA\", \"x\": 0.08399999999999999, \"xanchor\": \"center\", \"xref\": \"paper\", \"y\": 0.8469387755102039, \"yanchor\": \"bottom\", \"yref\": \"paper\"}, {\"font\": {\"size\": 16}, \"showarrow\": false, \"text\": \"CHN\", \"x\": 0.292, \"xanchor\": \"center\", \"xref\": \"paper\", \"y\": 0.8469387755102039, \"yanchor\": \"bottom\", \"yref\": \"paper\"}, {\"font\": {\"size\": 16}, \"showarrow\": false, \"text\": \"AUS\", \"x\": 0.5, \"xanchor\": \"center\", \"xref\": \"paper\", \"y\": 0.8469387755102039, \"yanchor\": \"bottom\", \"yref\": \"paper\"}, {\"font\": {\"size\": 16}, \"showarrow\": false, \"text\": \"SWE\", \"x\": 0.708, \"xanchor\": \"center\", \"xref\": \"paper\", \"y\": 0.8469387755102039, \"yanchor\": \"bottom\", \"yref\": \"paper\"}, {\"font\": {\"size\": 16}, \"showarrow\": false, \"text\": \"HUN\", \"x\": 0.9159999999999999, \"xanchor\": \"center\", \"xref\": \"paper\", \"y\": 0.8469387755102039, \"yanchor\": \"bottom\", \"yref\": \"paper\"}, {\"font\": {\"size\": 16}, \"showarrow\": false, \"text\": \"JPN\", \"x\": 0.08399999999999999, \"xanchor\": \"center\", \"xref\": \"paper\", \"y\": 0.6938775510204082, \"yanchor\": \"bottom\", \"yref\": \"paper\"}, {\"font\": {\"size\": 16}, \"showarrow\": false, \"text\": \"RUS\", \"x\": 0.292, \"xanchor\": \"center\", \"xref\": \"paper\", \"y\": 0.6938775510204082, \"yanchor\": \"bottom\", \"yref\": \"paper\"}, {\"font\": {\"size\": 16}, \"showarrow\": false, \"text\": \"GDR\", \"x\": 0.5, \"xanchor\": \"center\", \"xref\": \"paper\", \"y\": 0.6938775510204082, \"yanchor\": \"bottom\", \"yref\": \"paper\"}, {\"font\": {\"size\": 16}, \"showarrow\": false, \"text\": \"ROU\", \"x\": 0.708, \"xanchor\": \"center\", \"xref\": \"paper\", \"y\": 0.6938775510204082, \"yanchor\": \"bottom\", \"yref\": \"paper\"}, {\"font\": {\"size\": 16}, \"showarrow\": false, \"text\": \"FIN\", \"x\": 0.9159999999999999, \"xanchor\": \"center\", \"xref\": \"paper\", \"y\": 0.6938775510204082, \"yanchor\": \"bottom\", \"yref\": \"paper\"}, {\"font\": {\"size\": 16}, \"showarrow\": false, \"text\": \"CAN\", \"x\": 0.08399999999999999, \"xanchor\": \"center\", \"xref\": \"paper\", \"y\": 0.5408163265306122, \"yanchor\": \"bottom\", \"yref\": \"paper\"}, {\"font\": {\"size\": 16}, \"showarrow\": false, \"text\": \"NED\", \"x\": 0.292, \"xanchor\": \"center\", \"xref\": \"paper\", \"y\": 0.5408163265306122, \"yanchor\": \"bottom\", \"yref\": \"paper\"}, {\"font\": {\"size\": 16}, \"showarrow\": false, \"text\": \"POL\", \"x\": 0.5, \"xanchor\": \"center\", \"xref\": \"paper\", \"y\": 0.5408163265306122, \"yanchor\": \"bottom\", \"yref\": \"paper\"}, {\"font\": {\"size\": 16}, \"showarrow\": false, \"text\": \"KOR\", \"x\": 0.708, \"xanchor\": \"center\", \"xref\": \"paper\", \"y\": 0.5408163265306122, \"yanchor\": \"bottom\", \"yref\": \"paper\"}, {\"font\": {\"size\": 16}, \"showarrow\": false, \"text\": \"CUB\", \"x\": 0.9159999999999999, \"xanchor\": \"center\", \"xref\": \"paper\", \"y\": 0.5408163265306122, \"yanchor\": \"bottom\", \"yref\": \"paper\"}, {\"font\": {\"size\": 16}, \"showarrow\": false, \"text\": \"ESP\", \"x\": 0.08399999999999999, \"xanchor\": \"center\", \"xref\": \"paper\", \"y\": 0.3877551020408163, \"yanchor\": \"bottom\", \"yref\": \"paper\"}, {\"font\": {\"size\": 16}, \"showarrow\": false, \"text\": \"KEN\", \"x\": 0.292, \"xanchor\": \"center\", \"xref\": \"paper\", \"y\": 0.3877551020408163, \"yanchor\": \"bottom\", \"yref\": \"paper\"}, {\"font\": {\"size\": 16}, \"showarrow\": false, \"text\": \"JAM\", \"x\": 0.5, \"xanchor\": \"center\", \"xref\": \"paper\", \"y\": 0.3877551020408163, \"yanchor\": \"bottom\", \"yref\": \"paper\"}, {\"font\": {\"size\": 16}, \"showarrow\": false, \"text\": \"CRO\", \"x\": 0.708, \"xanchor\": \"center\", \"xref\": \"paper\", \"y\": 0.3877551020408163, \"yanchor\": \"bottom\", \"yref\": \"paper\"}, {\"font\": {\"size\": 16}, \"showarrow\": false, \"text\": \"NZL\", \"x\": 0.9159999999999999, \"xanchor\": \"center\", \"xref\": \"paper\", \"y\": 0.3877551020408163, \"yanchor\": \"bottom\", \"yref\": \"paper\"}, {\"font\": {\"size\": 16}, \"showarrow\": false, \"text\": \"UZB\", \"x\": 0.08399999999999999, \"xanchor\": \"center\", \"xref\": \"paper\", \"y\": 0.2346938775510204, \"yanchor\": \"bottom\", \"yref\": \"paper\"}, {\"font\": {\"size\": 16}, \"showarrow\": false, \"text\": \"KAZ\", \"x\": 0.292, \"xanchor\": \"center\", \"xref\": \"paper\", \"y\": 0.2346938775510204, \"yanchor\": \"bottom\", \"yref\": \"paper\"}, {\"font\": {\"size\": 16}, \"showarrow\": false, \"text\": \"IRI\", \"x\": 0.5, \"xanchor\": \"center\", \"xref\": \"paper\", \"y\": 0.2346938775510204, \"yanchor\": \"bottom\", \"yref\": \"paper\"}, {\"font\": {\"size\": 16}, \"showarrow\": false, \"text\": \"COL\", \"x\": 0.708, \"xanchor\": \"center\", \"xref\": \"paper\", \"y\": 0.2346938775510204, \"yanchor\": \"bottom\", \"yref\": \"paper\"}, {\"font\": {\"size\": 16}, \"showarrow\": false, \"text\": \"SUI\", \"x\": 0.9159999999999999, \"xanchor\": \"center\", \"xref\": \"paper\", \"y\": 0.2346938775510204, \"yanchor\": \"bottom\", \"yref\": \"paper\"}, {\"font\": {\"size\": 16}, \"showarrow\": false, \"text\": \"GRE\", \"x\": 0.08399999999999999, \"xanchor\": \"center\", \"xref\": \"paper\", \"y\": 0.08163265306122448, \"yanchor\": \"bottom\", \"yref\": \"paper\"}, {\"font\": {\"size\": 16}, \"showarrow\": false, \"text\": \"ARG\", \"x\": 0.292, \"xanchor\": \"center\", \"xref\": \"paper\", \"y\": 0.08163265306122448, \"yanchor\": \"bottom\", \"yref\": \"paper\"}, {\"font\": {\"size\": 16}, \"showarrow\": false, \"text\": \"DEN\", \"x\": 0.5, \"xanchor\": \"center\", \"xref\": \"paper\", \"y\": 0.08163265306122448, \"yanchor\": \"bottom\", \"yref\": \"paper\"}, {\"font\": {\"size\": 16}, \"showarrow\": false, \"text\": \"RSA\", \"x\": 0.708, \"xanchor\": \"center\", \"xref\": \"paper\", \"y\": 0.08163265306122448, \"yanchor\": \"bottom\", \"yref\": \"paper\"}, {\"font\": {\"size\": 16}, \"showarrow\": false, \"text\": \"BRA\", \"x\": 0.9159999999999999, \"xanchor\": \"center\", \"xref\": \"paper\", \"y\": 0.08163265306122448, \"yanchor\": \"bottom\", \"yref\": \"paper\"}], \"height\": 1200, \"template\": {\"data\": {\"bar\": [{\"error_x\": {\"color\": \"#2a3f5f\"}, \"error_y\": {\"color\": \"#2a3f5f\"}, \"marker\": {\"line\": {\"color\": \"#E5ECF6\", \"width\": 0.5}}, \"type\": \"bar\"}], \"barpolar\": [{\"marker\": {\"line\": {\"color\": \"#E5ECF6\", \"width\": 0.5}}, \"type\": \"barpolar\"}], \"carpet\": [{\"aaxis\": {\"endlinecolor\": \"#2a3f5f\", \"gridcolor\": \"white\", \"linecolor\": \"white\", \"minorgridcolor\": \"white\", \"startlinecolor\": \"#2a3f5f\"}, \"baxis\": {\"endlinecolor\": \"#2a3f5f\", \"gridcolor\": \"white\", \"linecolor\": \"white\", \"minorgridcolor\": \"white\", \"startlinecolor\": \"#2a3f5f\"}, \"type\": \"carpet\"}], \"choropleth\": [{\"colorbar\": {\"outlinewidth\": 0, \"ticks\": \"\"}, \"type\": \"choropleth\"}], \"contour\": [{\"colorbar\": {\"outlinewidth\": 0, \"ticks\": \"\"}, \"colorscale\": [[0.0, \"#0d0887\"], [0.1111111111111111, \"#46039f\"], [0.2222222222222222, \"#7201a8\"], [0.3333333333333333, \"#9c179e\"], [0.4444444444444444, \"#bd3786\"], [0.5555555555555556, \"#d8576b\"], [0.6666666666666666, \"#ed7953\"], [0.7777777777777778, \"#fb9f3a\"], [0.8888888888888888, \"#fdca26\"], [1.0, \"#f0f921\"]], \"type\": \"contour\"}], \"contourcarpet\": [{\"colorbar\": {\"outlinewidth\": 0, \"ticks\": \"\"}, \"type\": \"contourcarpet\"}], \"heatmap\": [{\"colorbar\": {\"outlinewidth\": 0, \"ticks\": \"\"}, \"colorscale\": [[0.0, \"#0d0887\"], [0.1111111111111111, \"#46039f\"], [0.2222222222222222, \"#7201a8\"], [0.3333333333333333, \"#9c179e\"], [0.4444444444444444, \"#bd3786\"], [0.5555555555555556, \"#d8576b\"], [0.6666666666666666, \"#ed7953\"], [0.7777777777777778, \"#fb9f3a\"], [0.8888888888888888, \"#fdca26\"], [1.0, \"#f0f921\"]], \"type\": \"heatmap\"}], \"heatmapgl\": [{\"colorbar\": {\"outlinewidth\": 0, \"ticks\": \"\"}, \"colorscale\": [[0.0, \"#0d0887\"], [0.1111111111111111, \"#46039f\"], [0.2222222222222222, \"#7201a8\"], [0.3333333333333333, \"#9c179e\"], [0.4444444444444444, \"#bd3786\"], [0.5555555555555556, \"#d8576b\"], [0.6666666666666666, \"#ed7953\"], [0.7777777777777778, \"#fb9f3a\"], [0.8888888888888888, \"#fdca26\"], [1.0, \"#f0f921\"]], \"type\": \"heatmapgl\"}], \"histogram\": [{\"marker\": {\"colorbar\": {\"outlinewidth\": 0, \"ticks\": \"\"}}, \"type\": \"histogram\"}], \"histogram2d\": [{\"colorbar\": {\"outlinewidth\": 0, \"ticks\": \"\"}, \"colorscale\": [[0.0, \"#0d0887\"], [0.1111111111111111, \"#46039f\"], [0.2222222222222222, \"#7201a8\"], [0.3333333333333333, \"#9c179e\"], [0.4444444444444444, \"#bd3786\"], [0.5555555555555556, \"#d8576b\"], [0.6666666666666666, \"#ed7953\"], [0.7777777777777778, \"#fb9f3a\"], [0.8888888888888888, \"#fdca26\"], [1.0, \"#f0f921\"]], \"type\": \"histogram2d\"}], \"histogram2dcontour\": [{\"colorbar\": {\"outlinewidth\": 0, \"ticks\": \"\"}, \"colorscale\": [[0.0, \"#0d0887\"], [0.1111111111111111, \"#46039f\"], [0.2222222222222222, \"#7201a8\"], [0.3333333333333333, \"#9c179e\"], [0.4444444444444444, \"#bd3786\"], [0.5555555555555556, \"#d8576b\"], [0.6666666666666666, \"#ed7953\"], [0.7777777777777778, \"#fb9f3a\"], [0.8888888888888888, \"#fdca26\"], [1.0, \"#f0f921\"]], \"type\": \"histogram2dcontour\"}], \"mesh3d\": [{\"colorbar\": {\"outlinewidth\": 0, \"ticks\": \"\"}, \"type\": \"mesh3d\"}], \"parcoords\": [{\"line\": {\"colorbar\": {\"outlinewidth\": 0, \"ticks\": \"\"}}, \"type\": \"parcoords\"}], \"pie\": [{\"automargin\": true, \"type\": \"pie\"}], \"scatter\": [{\"marker\": {\"colorbar\": {\"outlinewidth\": 0, \"ticks\": \"\"}}, \"type\": \"scatter\"}], \"scatter3d\": [{\"line\": {\"colorbar\": {\"outlinewidth\": 0, \"ticks\": \"\"}}, \"marker\": {\"colorbar\": {\"outlinewidth\": 0, \"ticks\": \"\"}}, \"type\": \"scatter3d\"}], \"scattercarpet\": [{\"marker\": {\"colorbar\": {\"outlinewidth\": 0, \"ticks\": \"\"}}, \"type\": \"scattercarpet\"}], \"scattergeo\": [{\"marker\": {\"colorbar\": {\"outlinewidth\": 0, \"ticks\": \"\"}}, \"type\": \"scattergeo\"}], \"scattergl\": [{\"marker\": {\"colorbar\": {\"outlinewidth\": 0, \"ticks\": \"\"}}, \"type\": \"scattergl\"}], \"scattermapbox\": [{\"marker\": {\"colorbar\": {\"outlinewidth\": 0, \"ticks\": \"\"}}, \"type\": \"scattermapbox\"}], \"scatterpolar\": [{\"marker\": {\"colorbar\": {\"outlinewidth\": 0, \"ticks\": \"\"}}, \"type\": \"scatterpolar\"}], \"scatterpolargl\": [{\"marker\": {\"colorbar\": {\"outlinewidth\": 0, \"ticks\": \"\"}}, \"type\": \"scatterpolargl\"}], \"scatterternary\": [{\"marker\": {\"colorbar\": {\"outlinewidth\": 0, \"ticks\": \"\"}}, \"type\": \"scatterternary\"}], \"surface\": [{\"colorbar\": {\"outlinewidth\": 0, \"ticks\": \"\"}, \"colorscale\": [[0.0, \"#0d0887\"], [0.1111111111111111, \"#46039f\"], [0.2222222222222222, \"#7201a8\"], [0.3333333333333333, \"#9c179e\"], [0.4444444444444444, \"#bd3786\"], [0.5555555555555556, \"#d8576b\"], [0.6666666666666666, \"#ed7953\"], [0.7777777777777778, \"#fb9f3a\"], [0.8888888888888888, \"#fdca26\"], [1.0, \"#f0f921\"]], \"type\": \"surface\"}], \"table\": [{\"cells\": {\"fill\": {\"color\": \"#EBF0F8\"}, \"line\": {\"color\": \"white\"}}, \"header\": {\"fill\": {\"color\": \"#C8D4E3\"}, \"line\": {\"color\": \"white\"}}, \"type\": \"table\"}]}, \"layout\": {\"annotationdefaults\": {\"arrowcolor\": \"#2a3f5f\", \"arrowhead\": 0, \"arrowwidth\": 1}, \"autotypenumbers\": \"strict\", \"coloraxis\": {\"colorbar\": {\"outlinewidth\": 0, \"ticks\": \"\"}}, \"colorscale\": {\"diverging\": [[0, \"#8e0152\"], [0.1, \"#c51b7d\"], [0.2, \"#de77ae\"], [0.3, \"#f1b6da\"], [0.4, \"#fde0ef\"], [0.5, \"#f7f7f7\"], [0.6, \"#e6f5d0\"], [0.7, \"#b8e186\"], [0.8, \"#7fbc41\"], [0.9, \"#4d9221\"], [1, \"#276419\"]], \"sequential\": [[0.0, \"#0d0887\"], [0.1111111111111111, \"#46039f\"], [0.2222222222222222, \"#7201a8\"], [0.3333333333333333, \"#9c179e\"], [0.4444444444444444, \"#bd3786\"], [0.5555555555555556, \"#d8576b\"], [0.6666666666666666, \"#ed7953\"], [0.7777777777777778, \"#fb9f3a\"], [0.8888888888888888, \"#fdca26\"], [1.0, \"#f0f921\"]], \"sequentialminus\": [[0.0, \"#0d0887\"], [0.1111111111111111, \"#46039f\"], [0.2222222222222222, \"#7201a8\"], [0.3333333333333333, \"#9c179e\"], [0.4444444444444444, \"#bd3786\"], [0.5555555555555556, \"#d8576b\"], [0.6666666666666666, \"#ed7953\"], [0.7777777777777778, \"#fb9f3a\"], [0.8888888888888888, \"#fdca26\"], [1.0, \"#f0f921\"]]}, \"colorway\": [\"#636efa\", \"#EF553B\", \"#00cc96\", \"#ab63fa\", \"#FFA15A\", \"#19d3f3\", \"#FF6692\", \"#B6E880\", \"#FF97FF\", \"#FECB52\"], \"font\": {\"color\": \"#2a3f5f\"}, \"geo\": {\"bgcolor\": \"white\", \"lakecolor\": \"white\", \"landcolor\": \"#E5ECF6\", \"showlakes\": true, \"showland\": true, \"subunitcolor\": \"white\"}, \"hoverlabel\": {\"align\": \"left\"}, \"hovermode\": \"closest\", \"mapbox\": {\"style\": \"light\"}, \"paper_bgcolor\": \"white\", \"plot_bgcolor\": \"#E5ECF6\", \"polar\": {\"angularaxis\": {\"gridcolor\": \"white\", \"linecolor\": \"white\", \"ticks\": \"\"}, \"bgcolor\": \"#E5ECF6\", \"radialaxis\": {\"gridcolor\": \"white\", \"linecolor\": \"white\", \"ticks\": \"\"}}, \"scene\": {\"xaxis\": {\"backgroundcolor\": \"#E5ECF6\", \"gridcolor\": \"white\", \"gridwidth\": 2, \"linecolor\": \"white\", \"showbackground\": true, \"ticks\": \"\", \"zerolinecolor\": \"white\"}, \"yaxis\": {\"backgroundcolor\": \"#E5ECF6\", \"gridcolor\": \"white\", \"gridwidth\": 2, \"linecolor\": \"white\", \"showbackground\": true, \"ticks\": \"\", \"zerolinecolor\": \"white\"}, \"zaxis\": {\"backgroundcolor\": \"#E5ECF6\", \"gridcolor\": \"white\", \"gridwidth\": 2, \"linecolor\": \"white\", \"showbackground\": true, \"ticks\": \"\", \"zerolinecolor\": \"white\"}}, \"shapedefaults\": {\"line\": {\"color\": \"#2a3f5f\"}}, \"ternary\": {\"aaxis\": {\"gridcolor\": \"white\", \"linecolor\": \"white\", \"ticks\": \"\"}, \"baxis\": {\"gridcolor\": \"white\", \"linecolor\": \"white\", \"ticks\": \"\"}, \"bgcolor\": \"#E5ECF6\", \"caxis\": {\"gridcolor\": \"white\", \"linecolor\": \"white\", \"ticks\": \"\"}}, \"title\": {\"x\": 0.05}, \"xaxis\": {\"automargin\": true, \"gridcolor\": \"white\", \"linecolor\": \"white\", \"ticks\": \"\", \"title\": {\"standoff\": 15}, \"zerolinecolor\": \"white\", \"zerolinewidth\": 2}, \"yaxis\": {\"automargin\": true, \"gridcolor\": \"white\", \"linecolor\": \"white\", \"ticks\": \"\", \"title\": {\"standoff\": 15}, \"zerolinecolor\": \"white\", \"zerolinewidth\": 2}}}, \"width\": 1000, \"xaxis\": {\"anchor\": \"y\", \"domain\": [0.0, 0.16799999999999998], \"range\": [1896, 2020]}, \"xaxis10\": {\"anchor\": \"y10\", \"domain\": [0.832, 1.0], \"range\": [1896, 2020]}, \"xaxis11\": {\"anchor\": \"y11\", \"domain\": [0.0, 0.16799999999999998], \"range\": [1896, 2020]}, \"xaxis12\": {\"anchor\": \"y12\", \"domain\": [0.208, 0.376], \"range\": [1896, 2020]}, \"xaxis13\": {\"anchor\": \"y13\", \"domain\": [0.416, 0.584], \"range\": [1896, 2020]}, \"xaxis14\": {\"anchor\": \"y14\", \"domain\": [0.624, 0.792], \"range\": [1896, 2020]}, \"xaxis15\": {\"anchor\": \"y15\", \"domain\": [0.832, 1.0], \"range\": [1896, 2020]}, \"xaxis16\": {\"anchor\": \"y16\", \"domain\": [0.0, 0.16799999999999998], \"range\": [1896, 2020]}, \"xaxis17\": {\"anchor\": \"y17\", \"domain\": [0.208, 0.376], \"range\": [1896, 2020]}, \"xaxis18\": {\"anchor\": \"y18\", \"domain\": [0.416, 0.584], \"range\": [1896, 2020]}, \"xaxis19\": {\"anchor\": \"y19\", \"domain\": [0.624, 0.792], \"range\": [1896, 2020]}, \"xaxis2\": {\"anchor\": \"y2\", \"domain\": [0.208, 0.376], \"range\": [1896, 2020]}, \"xaxis20\": {\"anchor\": \"y20\", \"domain\": [0.832, 1.0], \"range\": [1896, 2020]}, \"xaxis21\": {\"anchor\": \"y21\", \"domain\": [0.0, 0.16799999999999998], \"range\": [1896, 2020]}, \"xaxis22\": {\"anchor\": \"y22\", \"domain\": [0.208, 0.376], \"range\": [1896, 2020]}, \"xaxis23\": {\"anchor\": \"y23\", \"domain\": [0.416, 0.584], \"range\": [1896, 2020]}, \"xaxis24\": {\"anchor\": \"y24\", \"domain\": [0.624, 0.792], \"range\": [1896, 2020]}, \"xaxis25\": {\"anchor\": \"y25\", \"domain\": [0.832, 1.0], \"range\": [1896, 2020]}, \"xaxis26\": {\"anchor\": \"y26\", \"domain\": [0.0, 0.16799999999999998], \"range\": [1896, 2020]}, \"xaxis27\": {\"anchor\": \"y27\", \"domain\": [0.208, 0.376], \"range\": [1896, 2020]}, \"xaxis28\": {\"anchor\": \"y28\", \"domain\": [0.416, 0.584], \"range\": [1896, 2020]}, \"xaxis29\": {\"anchor\": \"y29\", \"domain\": [0.624, 0.792], \"range\": [1896, 2020]}, \"xaxis3\": {\"anchor\": \"y3\", \"domain\": [0.416, 0.584], \"range\": [1896, 2020]}, \"xaxis30\": {\"anchor\": \"y30\", \"domain\": [0.832, 1.0], \"range\": [1896, 2020]}, \"xaxis31\": {\"anchor\": \"y31\", \"domain\": [0.0, 0.16799999999999998], \"range\": [1896, 2020]}, \"xaxis32\": {\"anchor\": \"y32\", \"domain\": [0.208, 0.376], \"range\": [1896, 2020]}, \"xaxis33\": {\"anchor\": \"y33\", \"domain\": [0.416, 0.584], \"range\": [1896, 2020]}, \"xaxis34\": {\"anchor\": \"y34\", \"domain\": [0.624, 0.792], \"range\": [1896, 2020]}, \"xaxis35\": {\"anchor\": \"y35\", \"domain\": [0.832, 1.0], \"range\": [1896, 2020]}, \"xaxis4\": {\"anchor\": \"y4\", \"domain\": [0.624, 0.792], \"range\": [1896, 2020]}, \"xaxis5\": {\"anchor\": \"y5\", \"domain\": [0.832, 1.0], \"range\": [1896, 2020]}, \"xaxis6\": {\"anchor\": \"y6\", \"domain\": [0.0, 0.16799999999999998], \"range\": [1896, 2020]}, \"xaxis7\": {\"anchor\": \"y7\", \"domain\": [0.208, 0.376], \"range\": [1896, 2020]}, \"xaxis8\": {\"anchor\": \"y8\", \"domain\": [0.416, 0.584], \"range\": [1896, 2020]}, \"xaxis9\": {\"anchor\": \"y9\", \"domain\": [0.624, 0.792], \"range\": [1896, 2020]}, \"yaxis\": {\"anchor\": \"x\", \"domain\": [0.9183673469387754, 0.9999999999999999], \"range\": [0, 0.7]}, \"yaxis10\": {\"anchor\": \"x10\", \"domain\": [0.7653061224489794, 0.8469387755102039], \"range\": [0, 0.7]}, \"yaxis11\": {\"anchor\": \"x11\", \"domain\": [0.6122448979591837, 0.6938775510204082], \"range\": [0, 0.7]}, \"yaxis12\": {\"anchor\": \"x12\", \"domain\": [0.6122448979591837, 0.6938775510204082], \"range\": [0, 0.7]}, \"yaxis13\": {\"anchor\": \"x13\", \"domain\": [0.6122448979591837, 0.6938775510204082], \"range\": [0, 0.7]}, \"yaxis14\": {\"anchor\": \"x14\", \"domain\": [0.6122448979591837, 0.6938775510204082], \"range\": [0, 0.7]}, \"yaxis15\": {\"anchor\": \"x15\", \"domain\": [0.6122448979591837, 0.6938775510204082], \"range\": [0, 0.7]}, \"yaxis16\": {\"anchor\": \"x16\", \"domain\": [0.4591836734693877, 0.5408163265306122], \"range\": [0, 0.7]}, \"yaxis17\": {\"anchor\": \"x17\", \"domain\": [0.4591836734693877, 0.5408163265306122], \"range\": [0, 0.7]}, \"yaxis18\": {\"anchor\": \"x18\", \"domain\": [0.4591836734693877, 0.5408163265306122], \"range\": [0, 0.7]}, \"yaxis19\": {\"anchor\": \"x19\", \"domain\": [0.4591836734693877, 0.5408163265306122], \"range\": [0, 0.7]}, \"yaxis2\": {\"anchor\": \"x2\", \"domain\": [0.9183673469387754, 0.9999999999999999], \"range\": [0, 0.7]}, \"yaxis20\": {\"anchor\": \"x20\", \"domain\": [0.4591836734693877, 0.5408163265306122], \"range\": [0, 0.7]}, \"yaxis21\": {\"anchor\": \"x21\", \"domain\": [0.30612244897959184, 0.3877551020408163], \"range\": [0, 0.7]}, \"yaxis22\": {\"anchor\": \"x22\", \"domain\": [0.30612244897959184, 0.3877551020408163], \"range\": [0, 0.7]}, \"yaxis23\": {\"anchor\": \"x23\", \"domain\": [0.30612244897959184, 0.3877551020408163], \"range\": [0, 0.7]}, \"yaxis24\": {\"anchor\": \"x24\", \"domain\": [0.30612244897959184, 0.3877551020408163], \"range\": [0, 0.7]}, \"yaxis25\": {\"anchor\": \"x25\", \"domain\": [0.30612244897959184, 0.3877551020408163], \"range\": [0, 0.7]}, \"yaxis26\": {\"anchor\": \"x26\", \"domain\": [0.15306122448979592, 0.2346938775510204], \"range\": [0, 0.7]}, \"yaxis27\": {\"anchor\": \"x27\", \"domain\": [0.15306122448979592, 0.2346938775510204], \"range\": [0, 0.7]}, \"yaxis28\": {\"anchor\": \"x28\", \"domain\": [0.15306122448979592, 0.2346938775510204], \"range\": [0, 0.7]}, \"yaxis29\": {\"anchor\": \"x29\", \"domain\": [0.15306122448979592, 0.2346938775510204], \"range\": [0, 0.7]}, \"yaxis3\": {\"anchor\": \"x3\", \"domain\": [0.9183673469387754, 0.9999999999999999], \"range\": [0, 0.7]}, \"yaxis30\": {\"anchor\": \"x30\", \"domain\": [0.15306122448979592, 0.2346938775510204], \"range\": [0, 0.7]}, \"yaxis31\": {\"anchor\": \"x31\", \"domain\": [0.0, 0.08163265306122448], \"range\": [0, 0.7]}, \"yaxis32\": {\"anchor\": \"x32\", \"domain\": [0.0, 0.08163265306122448], \"range\": [0, 0.7]}, \"yaxis33\": {\"anchor\": \"x33\", \"domain\": [0.0, 0.08163265306122448], \"range\": [0, 0.7]}, \"yaxis34\": {\"anchor\": \"x34\", \"domain\": [0.0, 0.08163265306122448], \"range\": [0, 0.7]}, \"yaxis35\": {\"anchor\": \"x35\", \"domain\": [0.0, 0.08163265306122448], \"range\": [0, 0.7]}, \"yaxis4\": {\"anchor\": \"x4\", \"domain\": [0.9183673469387754, 0.9999999999999999], \"range\": [0, 0.7]}, \"yaxis5\": {\"anchor\": \"x5\", \"domain\": [0.9183673469387754, 0.9999999999999999], \"range\": [0, 0.7]}, \"yaxis6\": {\"anchor\": \"x6\", \"domain\": [0.7653061224489794, 0.8469387755102039], \"range\": [0, 0.7]}, \"yaxis7\": {\"anchor\": \"x7\", \"domain\": [0.7653061224489794, 0.8469387755102039], \"range\": [0, 0.7]}, \"yaxis8\": {\"anchor\": \"x8\", \"domain\": [0.7653061224489794, 0.8469387755102039], \"range\": [0, 0.7]}, \"yaxis9\": {\"anchor\": \"x9\", \"domain\": [0.7653061224489794, 0.8469387755102039], \"range\": [0, 0.7]}},                        {\"responsive\": true}                    ).then(function(){\n",
       "                            \n",
       "var gd = document.getElementById('eb076e7b-1f2b-4bf5-9ea4-3013fa83ef79');\n",
       "var x = new MutationObserver(function (mutations, observer) {{\n",
       "        var display = window.getComputedStyle(gd).display;\n",
       "        if (!display || display === 'none') {{\n",
       "            console.log([gd, 'removed!']);\n",
       "            Plotly.purge(gd);\n",
       "            observer.disconnect();\n",
       "        }}\n",
       "}});\n",
       "\n",
       "// Listen for the removal of the full notebook cells\n",
       "var notebookContainer = gd.closest('#notebook-container');\n",
       "if (notebookContainer) {{\n",
       "    x.observe(notebookContainer, {childList: true});\n",
       "}}\n",
       "\n",
       "// Listen for the clearing of the current output cell\n",
       "var outputEl = gd.closest('.output');\n",
       "if (outputEl) {{\n",
       "    x.observe(outputEl, {childList: true});\n",
       "}}\n",
       "\n",
       "                        })                };                });            </script>        </div>"
      ]
     },
     "metadata": {},
     "output_type": "display_data"
    }
   ],
   "source": [
    "# Plots many small multiples\n",
    "countries = [\n",
    "             'USA', 'URS', 'GBR', 'FRA', 'GER',\n",
    "             'ITA', 'CHN', 'AUS', 'SWE', 'HUN',\n",
    "             'JPN', 'RUS', 'GDR', 'ROU', 'FIN',\n",
    "             'CAN', 'NED', 'POL', 'KOR', 'CUB',\n",
    "             'ESP', 'KEN', 'JAM', 'CRO', 'NZL', \n",
    "             'UZB', 'KAZ', 'IRI', 'COL', 'SUI', \n",
    "             'GRE', 'ARG', 'DEN', 'RSA', 'BRA',\n",
    "            ]\n",
    "\n",
    "positions = [\n",
    "             (1,1), (1,2), (1,3), (1,4), (1,5),\n",
    "             (2,1), (2,2), (2,3), (2,4), (2,5),\n",
    "             (3,1), (3,2), (3,3), (3,4), (3,5),\n",
    "             (4,1), (4,2), (4,3), (4,4), (4,5),\n",
    "             (5,1), (5,2), (5,3), (5,4), (5,5),\n",
    "             (6,1), (6,2), (6,3), (6,4), (6,5),\n",
    "             (7,1), (7,2), (7,3), (7,4), (7,5),\n",
    "    ]\n",
    "\n",
    "\n",
    "fig = make_subplots(rows=7, cols=5, subplot_titles=countries)\n",
    "\n",
    "\n",
    "assert len(countries) == len(positions)\n",
    "\n",
    "for NOC, position in zip(countries, positions):\n",
    "    \n",
    "    subset = noc_games_sex[noc_games_sex.NOC==NOC]\n",
    "    subset = subset.sort_values(by='Year')\n",
    "    \n",
    "    row = position[0]\n",
    "    col = position[1]\n",
    "\n",
    "    fig.add_trace(go.Scatter(x=subset.Year,\n",
    "                    y=subset.Percentage_women,\n",
    "                    mode='lines',\n",
    "                    marker_color='rgb(55, 83, 109)',\n",
    "                    showlegend=False),\n",
    "                    row=row,\n",
    "                    col=col,\n",
    "                )\n",
    "    \n",
    "    # Adds a 50% line\n",
    "    fig.add_trace(go.Scatter(x=[1896, 2016], \n",
    "                             y=[.5, .5],\n",
    "                             mode='lines',\n",
    "                             showlegend=False,\n",
    "                             marker_color=\"#222\"),\n",
    "                             row=row,\n",
    "                             col=col)\n",
    "\n",
    "    fig.update_xaxes(range=[1896, 2020], row=row, col=col)\n",
    "    fig.update_yaxes(range=[0, .7], row=row, col=col)\n",
    "\n",
    "\n",
    "fig.update_layout(height=1200, width=1000)\n",
    "fig.show()"
   ]
  },
  {
   "cell_type": "markdown",
   "metadata": {},
   "source": [
    "The nations above were highlighted because of the ammount of medals they won, but this excludes big teams such as India (120 people at Rio 2016) or Turkey (103). What if we select countries by size of delegation in the last games?"
   ]
  },
  {
   "cell_type": "code",
   "execution_count": 257,
   "metadata": {},
   "outputs": [],
   "source": [
    "# Computes a totals columns\n",
    "noc_games_sex[\"total\"] = noc_games_sex.F.fillna(0) + noc_games_sex.M.fillna(0)"
   ]
  },
  {
   "cell_type": "code",
   "execution_count": 258,
   "metadata": {
    "scrolled": false
   },
   "outputs": [],
   "source": [
    "# Extracts big delegations in Rio -- 50 athletes or more\n",
    "big_teams = (noc_games_sex[(noc_games_sex.Year==2016) & (noc_games_sex.total >= 50)]\n",
    "     .sort_values(by='total', ascending=False)\n",
    "     .NOC\n",
    "     .unique())"
   ]
  },
  {
   "cell_type": "code",
   "execution_count": 259,
   "metadata": {},
   "outputs": [
    {
     "data": {
      "text/plain": [
       "58"
      ]
     },
     "execution_count": 259,
     "metadata": {},
     "output_type": "execute_result"
    }
   ],
   "source": [
    "# How many do we have\n",
    "len(big_teams)"
   ]
  },
  {
   "cell_type": "code",
   "execution_count": 260,
   "metadata": {
    "scrolled": false
   },
   "outputs": [
    {
     "data": {
      "application/vnd.plotly.v1+json": {
       "config": {
        "plotlyServerURL": "https://plot.ly"
       },
       "data": [
        {
         "marker": {
          "color": "rgb(55, 83, 109)"
         },
         "mode": "lines+markers",
         "showlegend": false,
         "type": "scatter",
         "x": [
          1896,
          1900,
          1904,
          1908,
          1912,
          1920,
          1924,
          1928,
          1932,
          1936,
          1948,
          1952,
          1956,
          1960,
          1964,
          1968,
          1972,
          1976,
          1984,
          1988,
          1992,
          1996,
          2000,
          2004,
          2008,
          2012,
          2016
         ],
         "xaxis": "x",
         "y": [
          0,
          0.09333333333333334,
          0.011450381679389313,
          0,
          0,
          0.04861111111111111,
          0.07744107744107744,
          0.1574468085106383,
          0.12099644128113879,
          0.13225806451612904,
          0.12666666666666668,
          0.14335664335664336,
          0.1540983606557377,
          0.17465753424657535,
          0.22832369942196531,
          0.23249299719887956,
          0.21,
          0.29797979797979796,
          0.3505747126436782,
          0.3700189753320683,
          0.3486238532110092,
          0.4212962962962963,
          0.431740614334471,
          0.47654784240150094,
          0.47959183673469385,
          0.5056603773584906,
          0.5243243243243243
         ],
         "yaxis": "y"
        },
        {
         "marker": {
          "color": "#222"
         },
         "mode": "lines",
         "showlegend": false,
         "type": "scatter",
         "x": [
          1896,
          2016
         ],
         "xaxis": "x",
         "y": [
          0.5,
          0.5
         ],
         "yaxis": "y"
        },
        {
         "marker": {
          "color": "rgb(55, 83, 109)"
         },
         "mode": "lines+markers",
         "showlegend": false,
         "type": "scatter",
         "x": [
          1900,
          1920,
          1924,
          1932,
          1936,
          1948,
          1952,
          1956,
          1960,
          1964,
          1968,
          1972,
          1976,
          1980,
          1984,
          1988,
          1992,
          1996,
          2000,
          2004,
          2008,
          2012,
          2016
         ],
         "xaxis": "x2",
         "y": [
          0,
          0,
          0,
          0.01694915254237288,
          0.0821917808219178,
          0.15714285714285714,
          0.05154639175257732,
          0.02127659574468085,
          0.013888888888888888,
          0.01639344262295082,
          0.039473684210526314,
          0.037037037037037035,
          0.08860759493670886,
          0.14150943396226415,
          0.14285714285714285,
          0.20625,
          0.27472527472527475,
          0.29411764705882354,
          0.46464646464646464,
          0.4897119341563786,
          0.48134328358208955,
          0.4717741935483871,
          0.44805194805194803
         ],
         "yaxis": "y2"
        },
        {
         "marker": {
          "color": "#222"
         },
         "mode": "lines",
         "showlegend": false,
         "type": "scatter",
         "x": [
          1896,
          2016
         ],
         "xaxis": "x2",
         "y": [
          0.5,
          0.5
         ],
         "yaxis": "y2"
        },
        {
         "marker": {
          "color": "rgb(55, 83, 109)"
         },
         "mode": "lines+markers",
         "showlegend": false,
         "type": "scatter",
         "x": [
          1896,
          1900,
          1904,
          1920,
          1924,
          1928,
          1932,
          1936,
          1948,
          1952,
          1956,
          1960,
          1964,
          1968,
          1972,
          1976,
          1980,
          1984,
          1988,
          1992,
          1996,
          2000,
          2004,
          2008,
          2012,
          2016
         ],
         "xaxis": "x3",
         "y": [
          0,
          0,
          0,
          0.07692307692307693,
          0,
          0.2222222222222222,
          0.3333333333333333,
          0.125,
          0.12,
          0.12345679012345678,
          0.1476510067114094,
          0.15343915343915343,
          0.1646090534979424,
          0.1875,
          0.17261904761904762,
          0.18888888888888888,
          0.23333333333333334,
          0.30165289256198347,
          0.2857142857142857,
          0.32974910394265233,
          0.40047961630695444,
          0.4473257698541329,
          0.4297872340425532,
          0.46064814814814814,
          0.454320987654321,
          0.5047619047619047
         ],
         "yaxis": "y3"
        },
        {
         "marker": {
          "color": "#222"
         },
         "mode": "lines",
         "showlegend": false,
         "type": "scatter",
         "x": [
          1896,
          2016
         ],
         "xaxis": "x3",
         "y": [
          0.5,
          0.5
         ],
         "yaxis": "y3"
        },
        {
         "marker": {
          "color": "rgb(55, 83, 109)"
         },
         "mode": "lines+markers",
         "showlegend": false,
         "type": "scatter",
         "x": [
          1896,
          1900,
          1904,
          1908,
          1912,
          1928,
          1932,
          1936,
          1952,
          1956,
          1960,
          1964,
          1992,
          1996,
          2000,
          2004,
          2008,
          2012,
          2016
         ],
         "xaxis": "x4",
         "y": [
          0,
          0,
          0,
          0.024390243902439025,
          0.0273224043715847,
          0.14485981308411214,
          0.08433734939759036,
          0.1206896551724138,
          0.15609756097560976,
          0.16167664670658682,
          0.1870748299319728,
          0.18397626112759644,
          0.35205183585313177,
          0.4012875536480687,
          0.42890995260663506,
          0.4331065759637188,
          0.4357142857142857,
          0.4464751958224543,
          0.46411483253588515
         ],
         "yaxis": "y4"
        },
        {
         "marker": {
          "color": "#222"
         },
         "mode": "lines",
         "showlegend": false,
         "type": "scatter",
         "x": [
          1896,
          2016
         ],
         "xaxis": "x4",
         "y": [
          0.5,
          0.5
         ],
         "yaxis": "y4"
        },
        {
         "marker": {
          "color": "rgb(55, 83, 109)"
         },
         "mode": "lines+markers",
         "showlegend": false,
         "type": "scatter",
         "x": [
          1896,
          1900,
          1904,
          1908,
          1912,
          1920,
          1924,
          1928,
          1932,
          1936,
          1948,
          1952,
          1956,
          1960,
          1964,
          1968,
          1972,
          1976,
          1980,
          1984,
          1988,
          1992,
          1996,
          2000,
          2004,
          2008,
          2012,
          2016
         ],
         "xaxis": "x5",
         "y": [
          0,
          0.016666666666666666,
          0,
          0,
          0.009174311926605505,
          0.0231023102310231,
          0.06269592476489028,
          0.13852813852813853,
          0.03076923076923077,
          0.05472636815920398,
          0.127208480565371,
          0.12653061224489795,
          0.12413793103448276,
          0.11764705882352941,
          0.14492753623188406,
          0.155,
          0.13215859030837004,
          0.1407766990291262,
          0.19008264462809918,
          0.20588235294117646,
          0.2781954887218045,
          0.2890855457227139,
          0.3411371237458194,
          0.37202380952380953,
          0.36688311688311687,
          0.39158576051779936,
          0.4382716049382716,
          0.4260204081632653
         ],
         "yaxis": "y5"
        },
        {
         "marker": {
          "color": "#222"
         },
         "mode": "lines",
         "showlegend": false,
         "type": "scatter",
         "x": [
          1896,
          2016
         ],
         "xaxis": "x5",
         "y": [
          0.5,
          0.5
         ],
         "yaxis": "y5"
        },
        {
         "marker": {
          "color": "rgb(55, 83, 109)"
         },
         "mode": "lines+markers",
         "showlegend": false,
         "type": "scatter",
         "x": [
          1932,
          1936,
          1948,
          1952,
          1984,
          1988,
          1992,
          1996,
          2000,
          2004,
          2008,
          2012,
          2016
         ],
         "xaxis": "x6",
         "y": [
          0,
          0.037037037037037035,
          0,
          0,
          0.386046511627907,
          0.4542124542124542,
          0.5204918032786885,
          0.6224489795918368,
          0.6642066420664207,
          0.6449086161879896,
          0.48247078464106846,
          0.5733333333333334,
          0.6147959183673469
         ],
         "yaxis": "y6"
        },
        {
         "marker": {
          "color": "#222"
         },
         "mode": "lines",
         "showlegend": false,
         "type": "scatter",
         "x": [
          1896,
          2016
         ],
         "xaxis": "x6",
         "y": [
          0.5,
          0.5
         ],
         "yaxis": "y6"
        },
        {
         "marker": {
          "color": "rgb(55, 83, 109)"
         },
         "mode": "lines+markers",
         "showlegend": false,
         "type": "scatter",
         "x": [
          1896,
          1900,
          1904,
          1908,
          1912,
          1920,
          1924,
          1928,
          1932,
          1936,
          1948,
          1952,
          1956,
          1960,
          1964,
          1968,
          1972,
          1976,
          1980,
          1984,
          1988,
          1992,
          1996,
          2000,
          2004,
          2008,
          2012,
          2016
         ],
         "xaxis": "x7",
         "y": [
          0,
          0.009615384615384616,
          0,
          0.053061224489795916,
          0.03690036900369004,
          0.06866952789699571,
          0.10038610038610038,
          0.15025906735751296,
          0.19444444444444445,
          0.1778846153846154,
          0.1501597444089457,
          0.17120622568093385,
          0.14720812182741116,
          0.1857707509881423,
          0.21568627450980393,
          0.2222222222222222,
          0.2605633802816901,
          0.2727272727272727,
          0.319634703196347,
          0.32047477744807124,
          0.3652173913043478,
          0.38274932614555257,
          0.38666666666666666,
          0.4161290322580645,
          0.39015151515151514,
          0.46381578947368424,
          0.4849056603773585,
          0.44166666666666665
         ],
         "yaxis": "y7"
        },
        {
         "marker": {
          "color": "#222"
         },
         "mode": "lines",
         "showlegend": false,
         "type": "scatter",
         "x": [
          1896,
          2016
         ],
         "xaxis": "x7",
         "y": [
          0.5,
          0.5
         ],
         "yaxis": "y7"
        },
        {
         "marker": {
          "color": "rgb(55, 83, 109)"
         },
         "mode": "lines+markers",
         "showlegend": false,
         "type": "scatter",
         "x": [
          1912,
          1920,
          1924,
          1928,
          1932,
          1936,
          1952,
          1956,
          1960,
          1964,
          1968,
          1972,
          1976,
          1984,
          1988,
          1992,
          1996,
          2000,
          2004,
          2008,
          2012,
          2016
         ],
         "xaxis": "x8",
         "y": [
          0,
          0,
          0,
          0.025,
          0.13675213675213677,
          0.10526315789473684,
          0.15942028985507245,
          0.14285714285714285,
          0.12345679012345678,
          0.17682926829268292,
          0.14619883040935672,
          0.1956521739130435,
          0.28169014084507044,
          0.23008849557522124,
          0.27058823529411763,
          0.31640625,
          0.4869281045751634,
          0.41353383458646614,
          0.545751633986928,
          0.49698795180722893,
          0.5326460481099656,
          0.48955223880597015
         ],
         "yaxis": "y8"
        },
        {
         "marker": {
          "color": "#222"
         },
         "mode": "lines",
         "showlegend": false,
         "type": "scatter",
         "x": [
          1896,
          2016
         ],
         "xaxis": "x8",
         "y": [
          0.5,
          0.5
         ],
         "yaxis": "y8"
        },
        {
         "marker": {
          "color": "rgb(55, 83, 109)"
         },
         "mode": "lines+markers",
         "showlegend": false,
         "type": "scatter",
         "x": [
          1900,
          1904,
          1908,
          1912,
          1920,
          1924,
          1928,
          1932,
          1936,
          1948,
          1952,
          1956,
          1960,
          1964,
          1968,
          1972,
          1976,
          1984,
          1988,
          1992,
          1996,
          2000,
          2004,
          2008,
          2012,
          2016
         ],
         "xaxis": "x9",
         "y": [
          0,
          0,
          0,
          0,
          0,
          0,
          0.10294117647058823,
          0.17,
          0.1875,
          0.14423076923076922,
          0.09345794392523364,
          0.15625,
          0.12941176470588237,
          0.17391304347826086,
          0.2014388489208633,
          0.2403846153846154,
          0.3220779220779221,
          0.3700980392156863,
          0.3201219512195122,
          0.39322033898305087,
          0.49834983498349833,
          0.4897959183673469,
          0.5038167938931297,
          0.4397590361445783,
          0.5641025641025641,
          0.5903225806451613
         ],
         "yaxis": "y9"
        },
        {
         "marker": {
          "color": "#222"
         },
         "mode": "lines",
         "showlegend": false,
         "type": "scatter",
         "x": [
          1896,
          2016
         ],
         "xaxis": "x9",
         "y": [
          0.5,
          0.5
         ],
         "yaxis": "y9"
        },
        {
         "marker": {
          "color": "rgb(55, 83, 109)"
         },
         "mode": "lines+markers",
         "showlegend": false,
         "type": "scatter",
         "x": [
          1896,
          1900,
          1904,
          1908,
          1912,
          1920,
          1924,
          1928,
          1932,
          1936,
          1948,
          1952,
          1956,
          1960,
          1964,
          1968,
          1972,
          1976,
          1980,
          1984,
          1988,
          1992,
          1996,
          2000,
          2004,
          2008,
          2012,
          2016
         ],
         "xaxis": "x10",
         "y": [
          0,
          0.043478260869565216,
          0,
          0,
          0,
          0.005813953488372093,
          0.015306122448979591,
          0.11042944785276074,
          0,
          0.07142857142857142,
          0.10382513661202186,
          0.09956709956709957,
          0.1111111111111111,
          0.12142857142857143,
          0.06547619047619048,
          0.08982035928143713,
          0.12053571428571429,
          0.12857142857142856,
          0.2389937106918239,
          0.17164179104477612,
          0.16205533596837945,
          0.25,
          0.3058823529411765,
          0.3185595567867036,
          0.3708791208791209,
          0.39039039039039036,
          0.4377224199288256,
          0.4563106796116505
         ],
         "yaxis": "y10"
        },
        {
         "marker": {
          "color": "#222"
         },
         "mode": "lines",
         "showlegend": false,
         "type": "scatter",
         "x": [
          1896,
          2016
         ],
         "xaxis": "x10",
         "y": [
          0.5,
          0.5
         ],
         "yaxis": "y10"
        },
        {
         "marker": {
          "color": "rgb(55, 83, 109)"
         },
         "mode": "lines+markers",
         "showlegend": false,
         "type": "scatter",
         "x": [
          1900,
          1920,
          1924,
          1928,
          1932,
          1948,
          1952,
          1956,
          1960,
          1964,
          1968,
          1972,
          1976,
          1980,
          1984,
          1988,
          1992,
          1996,
          2000,
          2004,
          2008,
          2012,
          2016
         ],
         "xaxis": "x11",
         "y": [
          0,
          0,
          0.02127659574468085,
          0,
          0,
          0,
          0,
          0,
          0.0763888888888889,
          0.058823529411764705,
          0.01639344262295082,
          0.04065040650406504,
          0.08849557522123894,
          0.05806451612903226,
          0.0893854748603352,
          0.12663755458515283,
          0.2962085308056872,
          0.328719723183391,
          0.32710280373831774,
          0.439873417721519,
          0.42402826855123676,
          0.39568345323741005,
          0.46579804560260585
         ],
         "yaxis": "y11"
        },
        {
         "marker": {
          "color": "#222"
         },
         "mode": "lines",
         "showlegend": false,
         "type": "scatter",
         "x": [
          1896,
          2016
         ],
         "xaxis": "x11",
         "y": [
          0.5,
          0.5
         ],
         "yaxis": "y11"
        },
        {
         "marker": {
          "color": "rgb(55, 83, 109)"
         },
         "mode": "lines+markers",
         "showlegend": false,
         "type": "scatter",
         "x": [
          1900,
          1908,
          1912,
          1996,
          2000,
          2004,
          2008,
          2012,
          2016
         ],
         "xaxis": "x12",
         "y": [
          0,
          0,
          0,
          0.40512820512820513,
          0.4459770114942529,
          0.452914798206278,
          0.4911894273127753,
          0.5268065268065268,
          0.5
         ],
         "yaxis": "y12"
        },
        {
         "marker": {
          "color": "#222"
         },
         "mode": "lines",
         "showlegend": false,
         "type": "scatter",
         "x": [
          1896,
          2016
         ],
         "xaxis": "x12",
         "y": [
          0.5,
          0.5
         ],
         "yaxis": "y12"
        },
        {
         "marker": {
          "color": "rgb(55, 83, 109)"
         },
         "mode": "lines+markers",
         "showlegend": false,
         "type": "scatter",
         "x": [
          1900,
          1908,
          1912,
          1920,
          1924,
          1928,
          1932,
          1936,
          1948,
          1952,
          1956,
          1960,
          1964,
          1968,
          1972,
          1976,
          1980,
          1984,
          1988,
          1992,
          1996,
          2000,
          2004,
          2008,
          2012,
          2016
         ],
         "xaxis": "x13",
         "y": [
          0,
          0,
          0,
          0.007692307692307693,
          0.058823529411764705,
          0.16203703703703703,
          0.4583333333333333,
          0.1484375,
          0.24817518248175183,
          0.25,
          0,
          0.2727272727272727,
          0.16,
          0.2336448598130841,
          0.24369747899159663,
          0.3333333333333333,
          0.24,
          0.39705882352941174,
          0.3673469387755102,
          0.417910447761194,
          0.42677824267782427,
          0.36363636363636365,
          0.3619047619047619,
          0.41350210970464135,
          0.45664739884393063,
          0.5569620253164557
         ],
         "yaxis": "y13"
        },
        {
         "marker": {
          "color": "#222"
         },
         "mode": "lines",
         "showlegend": false,
         "type": "scatter",
         "x": [
          1896,
          2016
         ],
         "xaxis": "x13",
         "y": [
          0.5,
          0.5
         ],
         "yaxis": "y13"
        },
        {
         "marker": {
          "color": "rgb(55, 83, 109)"
         },
         "mode": "lines+markers",
         "showlegend": false,
         "type": "scatter",
         "x": [
          1924,
          1928,
          1932,
          1936,
          1948,
          1952,
          1956,
          1960,
          1964,
          1968,
          1972,
          1976,
          1980,
          1988,
          1992,
          1996,
          2000,
          2004,
          2008,
          2012,
          2016
         ],
         "xaxis": "x14",
         "y": [
          0.015384615384615385,
          0.07575757575757576,
          0.15,
          0.09734513274336283,
          0.17391304347826086,
          0.176,
          0.234375,
          0.15675675675675677,
          0.17857142857142858,
          0.20903954802259886,
          0.1310344827586207,
          0.13043478260869565,
          0.24183006535947713,
          0.22377622377622378,
          0.25870646766169153,
          0.23636363636363636,
          0.31016042780748665,
          0.31958762886597936,
          0.39299610894941633,
          0.4095238095238095,
          0.405982905982906
         ],
         "yaxis": "y14"
        },
        {
         "marker": {
          "color": "#222"
         },
         "mode": "lines",
         "showlegend": false,
         "type": "scatter",
         "x": [
          1896,
          2016
         ],
         "xaxis": "x14",
         "y": [
          0.5,
          0.5
         ],
         "yaxis": "y14"
        },
        {
         "marker": {
          "color": "rgb(55, 83, 109)"
         },
         "mode": "lines+markers",
         "showlegend": false,
         "type": "scatter",
         "x": [
          1900,
          1908,
          1920,
          1924,
          1928,
          1932,
          1936,
          1948,
          1952,
          1956,
          1960,
          1964,
          1968,
          1972,
          1976,
          1984,
          1988,
          1992,
          1996,
          2000,
          2004,
          2008,
          2012,
          2016
         ],
         "xaxis": "x15",
         "y": [
          0,
          0,
          0,
          0,
          0,
          0,
          0.0196078431372549,
          0.05527638190954774,
          0.06504065040650407,
          0.02857142857142857,
          0.010869565217391304,
          0.058823529411764705,
          0.056179775280898875,
          0.043478260869565216,
          0.057971014492753624,
          0.12345679012345678,
          0.211864406779661,
          0.20238095238095238,
          0.26256983240223464,
          0.3146853146853147,
          0.3026315789473684,
          0.4015151515151515,
          0.291970802919708,
          0.3488372093023256
         ],
         "yaxis": "y15"
        },
        {
         "marker": {
          "color": "#222"
         },
         "mode": "lines",
         "showlegend": false,
         "type": "scatter",
         "x": [
          1896,
          2016
         ],
         "xaxis": "x15",
         "y": [
          0.5,
          0.5
         ],
         "yaxis": "y15"
        },
        {
         "marker": {
          "color": "rgb(55, 83, 109)"
         },
         "mode": "lines+markers",
         "showlegend": false,
         "type": "scatter",
         "x": [
          1948,
          1952,
          1956,
          1960,
          1964,
          1968,
          1972,
          1976,
          1984,
          1988,
          1992,
          1996,
          2000,
          2004,
          2008,
          2012,
          2016
         ],
         "xaxis": "x16",
         "y": [
          0.021739130434782608,
          0.05263157894736842,
          0,
          0.05714285714285714,
          0.16883116883116883,
          0.24074074074074073,
          0.23809523809523808,
          0.24,
          0.33714285714285713,
          0.32917705735660846,
          0.3185840707964602,
          0.37293729372937295,
          0.37722419928825623,
          0.45075757575757575,
          0.4,
          0.46,
          0.5024154589371981
         ],
         "yaxis": "y16"
        },
        {
         "marker": {
          "color": "#222"
         },
         "mode": "lines",
         "showlegend": false,
         "type": "scatter",
         "x": [
          1896,
          2016
         ],
         "xaxis": "x16",
         "y": [
          0.5,
          0.5
         ],
         "yaxis": "y16"
        },
        {
         "marker": {
          "color": "rgb(55, 83, 109)"
         },
         "mode": "lines+markers",
         "showlegend": false,
         "type": "scatter",
         "x": [
          1996,
          2000,
          2004,
          2008,
          2012,
          2016
         ],
         "xaxis": "x17",
         "y": [
          0.36796536796536794,
          0.39565217391304347,
          0.4811715481171548,
          0.4773662551440329,
          0.4826086956521739,
          0.5735294117647058
         ],
         "yaxis": "y17"
        },
        {
         "marker": {
          "color": "#222"
         },
         "mode": "lines",
         "showlegend": false,
         "type": "scatter",
         "x": [
          1896,
          2016
         ],
         "xaxis": "x17",
         "y": [
          0.5,
          0.5
         ],
         "yaxis": "y17"
        },
        {
         "marker": {
          "color": "rgb(55, 83, 109)"
         },
         "mode": "lines+markers",
         "showlegend": false,
         "type": "scatter",
         "x": [
          1900,
          1920,
          1924,
          1928,
          1932,
          1936,
          1948,
          1952,
          1956,
          1960,
          1964,
          1968,
          1972,
          1976,
          1980,
          1984,
          1988,
          1992,
          1996,
          2000,
          2004,
          2008,
          2012,
          2016
         ],
         "xaxis": "x18",
         "y": [
          0,
          0.25,
          0.25,
          0.3333333333333333,
          0.047619047619047616,
          0,
          0.14285714285714285,
          0.14285714285714285,
          0.1568627450980392,
          0.10810810810810811,
          0.125,
          0.09615384615384616,
          0.07865168539325842,
          0.1125,
          0,
          0.24615384615384617,
          0.1927710843373494,
          0.31343283582089554,
          0.30526315789473685,
          0.47619047619047616,
          0.4527027027027027,
          0.4606741573033708,
          0.4606741573033708,
          0.49743589743589745
         ],
         "yaxis": "y18"
        },
        {
         "marker": {
          "color": "#222"
         },
         "mode": "lines",
         "showlegend": false,
         "type": "scatter",
         "x": [
          1896,
          2016
         ],
         "xaxis": "x18",
         "y": [
          0.5,
          0.5
         ],
         "yaxis": "y18"
        },
        {
         "marker": {
          "color": "rgb(55, 83, 109)"
         },
         "mode": "lines+markers",
         "showlegend": false,
         "type": "scatter",
         "x": [
          1896,
          1900,
          1904,
          1908,
          1912,
          1924,
          1928,
          1932,
          1936,
          1948,
          1952,
          1956,
          1960,
          1964,
          1968,
          1972,
          1976,
          1980,
          1988,
          1992,
          1996,
          2000,
          2004,
          2008,
          2012,
          2016
         ],
         "xaxis": "x19",
         "y": [
          0,
          0,
          0,
          0,
          0,
          0.034482758620689655,
          0.15384615384615385,
          0.043478260869565216,
          0.0861244019138756,
          0.15873015873015872,
          0.14285714285714285,
          0.18018018018018017,
          0.14673913043478262,
          0.17582417582417584,
          0.19161676646706588,
          0.1939655172413793,
          0.30337078651685395,
          0.30798479087452474,
          0.19148936170212766,
          0.2672811059907834,
          0.30985915492957744,
          0.38764044943820225,
          0.430622009569378,
          0.4853801169590643,
          0.3881578947368421,
          0.42857142857142855
         ],
         "yaxis": "y19"
        },
        {
         "marker": {
          "color": "#222"
         },
         "mode": "lines",
         "showlegend": false,
         "type": "scatter",
         "x": [
          1896,
          2016
         ],
         "xaxis": "x19",
         "y": [
          0.5,
          0.5
         ],
         "yaxis": "y19"
        },
        {
         "marker": {
          "color": "rgb(55, 83, 109)"
         },
         "mode": "lines+markers",
         "showlegend": false,
         "type": "scatter",
         "x": [
          1896,
          1900,
          1908,
          1912,
          1920,
          1924,
          1928,
          1932,
          1936,
          1948,
          1952,
          1956,
          1960,
          1964,
          1968,
          1972,
          1976,
          1980,
          1984,
          1988,
          1992,
          1996,
          2000,
          2004,
          2008,
          2012,
          2016
         ],
         "xaxis": "x20",
         "y": [
          0,
          0,
          0.017857142857142856,
          0.0518018018018018,
          0.05,
          0.08176100628930817,
          0.13,
          0.019230769230769232,
          0.04666666666666667,
          0.10919540229885058,
          0.11165048543689321,
          0.14432989690721648,
          0.1417910447761194,
          0.19148936170212766,
          0.14,
          0.20610687022900764,
          0.14655172413793102,
          0.15862068965517243,
          0.2471264367816092,
          0.2,
          0.23529411764705882,
          0.3728813559322034,
          0.3466666666666667,
          0.4608695652173913,
          0.5934959349593496,
          0.5864661654135338,
          0.5733333333333334
         ],
         "yaxis": "y20"
        },
        {
         "marker": {
          "color": "#222"
         },
         "mode": "lines",
         "showlegend": false,
         "type": "scatter",
         "x": [
          1896,
          2016
         ],
         "xaxis": "x20",
         "y": [
          0.5,
          0.5
         ],
         "yaxis": "y20"
        },
        {
         "marker": {
          "color": "rgb(55, 83, 109)"
         },
         "mode": "lines+markers",
         "showlegend": false,
         "type": "scatter",
         "x": [
          1900,
          1932,
          1936,
          1948,
          1956,
          1960,
          1964,
          1968,
          1972,
          1976,
          1980,
          1984,
          1988,
          1992,
          1996,
          2000,
          2004,
          2008,
          2012,
          2016
         ],
         "xaxis": "x21",
         "y": [
          0,
          0,
          0,
          0,
          0,
          0,
          0,
          0.11627906976744186,
          0.06779661016949153,
          0.08571428571428572,
          0,
          0.07692307692307693,
          0.15,
          0.061224489795918366,
          0.1875,
          0.4318181818181818,
          0.39622641509433965,
          0.3582089552238806,
          0.5544554455445545,
          0.48951048951048953
         ],
         "yaxis": "y21"
        },
        {
         "marker": {
          "color": "#222"
         },
         "mode": "lines",
         "showlegend": false,
         "type": "scatter",
         "x": [
          1896,
          2016
         ],
         "xaxis": "x21",
         "y": [
          0.5,
          0.5
         ],
         "yaxis": "y21"
        },
        {
         "marker": {
          "color": "rgb(55, 83, 109)"
         },
         "mode": "lines+markers",
         "showlegend": false,
         "type": "scatter",
         "x": [
          1904,
          1908,
          1912,
          1920,
          1924,
          1928,
          1932,
          1936,
          1948,
          1952,
          1956,
          1960,
          1992,
          1996,
          2000,
          2004,
          2008,
          2012,
          2016
         ],
         "xaxis": "x22",
         "y": [
          0,
          0,
          0,
          0.02564102564102564,
          0,
          0.25,
          0.16666666666666666,
          0,
          0.03125,
          0.0625,
          0.12,
          0.03636363636363636,
          0.26881720430107525,
          0.23809523809523808,
          0.2992125984251969,
          0.37735849056603776,
          0.44029850746268656,
          0.45161290322580644,
          0.3111111111111111
         ],
         "yaxis": "y22"
        },
        {
         "marker": {
          "color": "#222"
         },
         "mode": "lines",
         "showlegend": false,
         "type": "scatter",
         "x": [
          1896,
          2016
         ],
         "xaxis": "x22",
         "y": [
          0.5,
          0.5
         ],
         "yaxis": "y22"
        },
        {
         "marker": {
          "color": "rgb(55, 83, 109)"
         },
         "mode": "lines+markers",
         "showlegend": false,
         "type": "scatter",
         "x": [
          1900,
          1924,
          1928,
          1932,
          1936,
          1948,
          1952,
          1956,
          1960,
          1964,
          1968,
          1972,
          1976,
          1980,
          1984,
          1988,
          1992,
          1996,
          2000,
          2004,
          2008,
          2012,
          2016
         ],
         "xaxis": "x23",
         "y": [
          0,
          0,
          0,
          0.028169014084507043,
          0,
          0.07954545454545454,
          0.046875,
          0.125,
          0.08695652173913043,
          0.0425531914893617,
          0.15272727272727274,
          0.12643678160919541,
          0.05154639175257732,
          0.2,
          0.2222222222222222,
          0.20481927710843373,
          0.2549019607843137,
          0.2755102040816326,
          0.3333333333333333,
          0.45871559633027525,
          0.4819277108433735,
          0.37373737373737376,
          0.35772357723577236
         ],
         "yaxis": "y23"
        },
        {
         "marker": {
          "color": "#222"
         },
         "mode": "lines",
         "showlegend": false,
         "type": "scatter",
         "x": [
          1896,
          2016
         ],
         "xaxis": "x23",
         "y": [
          0.5,
          0.5
         ],
         "yaxis": "y23"
        },
        {
         "marker": {
          "color": "rgb(55, 83, 109)"
         },
         "mode": "lines+markers",
         "showlegend": false,
         "type": "scatter",
         "x": [
          1920,
          1924,
          1928,
          1936,
          1948,
          1952,
          1956,
          1964,
          1968,
          1972,
          1976,
          1984,
          1988,
          1992,
          1996,
          2000,
          2004,
          2008,
          2012,
          2016
         ],
         "xaxis": "x24",
         "y": [
          0,
          0,
          0,
          0,
          0,
          0,
          0,
          0,
          0,
          0,
          0,
          0.05263157894736842,
          0.02040816326530612,
          0.04,
          0.06896551724137931,
          0.16853932584269662,
          0.16494845360824742,
          0.26,
          0.3119266055045872,
          0.30578512396694213
         ],
         "yaxis": "y24"
        },
        {
         "marker": {
          "color": "#222"
         },
         "mode": "lines",
         "showlegend": false,
         "type": "scatter",
         "x": [
          1896,
          2016
         ],
         "xaxis": "x24",
         "y": [
          0.5,
          0.5
         ],
         "yaxis": "y24"
        },
        {
         "marker": {
          "color": "rgb(55, 83, 109)"
         },
         "mode": "lines+markers",
         "showlegend": false,
         "type": "scatter",
         "x": [
          1996,
          2000,
          2004,
          2008,
          2012,
          2016
         ],
         "xaxis": "x25",
         "y": [
          0.42038216560509556,
          0.48201438848920863,
          0.45695364238410596,
          0.4745762711864407,
          0.44375,
          0.5583333333333333
         ],
         "yaxis": "y25"
        },
        {
         "marker": {
          "color": "#222"
         },
         "mode": "lines",
         "showlegend": false,
         "type": "scatter",
         "x": [
          1896,
          2016
         ],
         "xaxis": "x25",
         "y": [
          0.5,
          0.5
         ],
         "yaxis": "y25"
        },
        {
         "marker": {
          "color": "rgb(55, 83, 109)"
         },
         "mode": "lines+markers",
         "showlegend": false,
         "type": "scatter",
         "x": [
          1896,
          1900,
          1908,
          1912,
          1920,
          1924,
          1928,
          1932,
          1936,
          1948,
          1952,
          1956,
          1960,
          1964,
          1968,
          1972,
          1976,
          1980,
          1984,
          1988,
          1992,
          1996,
          2000,
          2004,
          2008,
          2012,
          2016
         ],
         "xaxis": "x26",
         "y": [
          0,
          0,
          0,
          0.006578947368421052,
          0.025974025974025976,
          0.136986301369863,
          0.11538461538461539,
          0.25,
          0.12931034482758622,
          0.11320754716981132,
          0.10852713178294573,
          0.16216216216216217,
          0.12,
          0.11666666666666667,
          0.0625,
          0.09523809523809523,
          0.15151515151515152,
          0.05172413793103448,
          0.18333333333333332,
          0.2692307692307692,
          0.3,
          0.5462184873949579,
          0.4536082474226804,
          0.4782608695652174,
          0.23809523809523808,
          0.42105263157894735,
          0.3445378151260504
         ],
         "yaxis": "y26"
        },
        {
         "marker": {
          "color": "#222"
         },
         "mode": "lines",
         "showlegend": false,
         "type": "scatter",
         "x": [
          1896,
          2016
         ],
         "xaxis": "x26",
         "y": [
          0.5,
          0.5
         ],
         "yaxis": "y26"
        },
        {
         "marker": {
          "color": "rgb(55, 83, 109)"
         },
         "mode": "lines+markers",
         "showlegend": false,
         "type": "scatter",
         "x": [
          1900,
          1904,
          1924,
          1928,
          1948,
          1952,
          1956,
          1960,
          1964,
          1968,
          1972,
          1976,
          1980,
          1992,
          1996,
          2000,
          2004,
          2008,
          2012,
          2016
         ],
         "xaxis": "x27",
         "y": [
          0,
          0,
          0,
          0,
          0,
          0,
          0.0625,
          0.25,
          0.07407407407407407,
          0.12173913043478261,
          0.20437956204379562,
          0.15384615384615385,
          0.15865384615384615,
          0.2840909090909091,
          0.3231707317073171,
          0.35807860262008734,
          0.3576158940397351,
          0.35443037974683544,
          0.4036697247706422,
          0.2905982905982906
         ],
         "yaxis": "y27"
        },
        {
         "marker": {
          "color": "#222"
         },
         "mode": "lines",
         "showlegend": false,
         "type": "scatter",
         "x": [
          1896,
          2016
         ],
         "xaxis": "x27",
         "y": [
          0.5,
          0.5
         ],
         "yaxis": "y27"
        },
        {
         "marker": {
          "color": "rgb(55, 83, 109)"
         },
         "mode": "lines+markers",
         "showlegend": false,
         "type": "scatter",
         "x": [
          1900,
          1920,
          1924,
          1928,
          1932,
          1936,
          1948,
          1952,
          1956,
          1960,
          1964,
          1968,
          1972,
          1976,
          1980,
          1984,
          1988,
          1992,
          1996,
          2000,
          2004,
          2008,
          2012,
          2016
         ],
         "xaxis": "x28",
         "y": [
          0,
          0,
          0.07692307692307693,
          0,
          0,
          0,
          0,
          0.0625,
          0.01694915254237288,
          0,
          0.018867924528301886,
          0,
          0.024390243902439025,
          0,
          0.2222222222222222,
          0.125,
          0.15217391304347827,
          0.11538461538461539,
          0.1836734693877551,
          0.3230769230769231,
          0.3424657534246575,
          0.41509433962264153,
          0.2839506172839506,
          0.45535714285714285
         ],
         "yaxis": "y28"
        },
        {
         "marker": {
          "color": "#222"
         },
         "mode": "lines",
         "showlegend": false,
         "type": "scatter",
         "x": [
          1896,
          2016
         ],
         "xaxis": "x28",
         "y": [
          0.5,
          0.5
         ],
         "yaxis": "y28"
        },
        {
         "marker": {
          "color": "rgb(55, 83, 109)"
         },
         "mode": "lines+markers",
         "showlegend": false,
         "type": "scatter",
         "x": [
          1900,
          1908,
          1912,
          1920,
          1924,
          1928,
          1932,
          1936,
          1948,
          1952,
          1956,
          1960,
          1964,
          1968,
          1972,
          1976,
          1980,
          1984,
          1988,
          1992,
          1996,
          2000,
          2004,
          2008,
          2012,
          2016
         ],
         "xaxis": "x29",
         "y": [
          0,
          0,
          0.02857142857142857,
          0.030303030303030304,
          0.02976190476190476,
          0.06432748538011696,
          0.14285714285714285,
          0.04201680672268908,
          0.12837837837837837,
          0.037037037037037035,
          0.07017543859649122,
          0.07920792079207921,
          0.01639344262295082,
          0.06097560975609756,
          0.06818181818181818,
          0.25742574257425743,
          0.2711864406779661,
          0.25396825396825395,
          0.4067796610169492,
          0.36764705882352944,
          0.32786885245901637,
          0.47058823529411764,
          0.38,
          0.18085106382978725,
          0.3783783783783784,
          0.3269230769230769
         ],
         "yaxis": "y29"
        },
        {
         "marker": {
          "color": "#222"
         },
         "mode": "lines",
         "showlegend": false,
         "type": "scatter",
         "x": [
          1896,
          2016
         ],
         "xaxis": "x29",
         "y": [
          0.5,
          0.5
         ],
         "yaxis": "y29"
        },
        {
         "marker": {
          "color": "rgb(55, 83, 109)"
         },
         "mode": "lines+markers",
         "showlegend": false,
         "type": "scatter",
         "x": [
          1996,
          2000,
          2004,
          2008,
          2012,
          2016
         ],
         "xaxis": "x30",
         "y": [
          0.3391304347826087,
          0.2773109243697479,
          0.43661971830985913,
          0.44029850746268656,
          0.48872180451127817,
          0.40384615384615385
         ],
         "yaxis": "y30"
        },
        {
         "marker": {
          "color": "#222"
         },
         "mode": "lines",
         "showlegend": false,
         "type": "scatter",
         "x": [
          1896,
          2016
         ],
         "xaxis": "x30",
         "y": [
          0.5,
          0.5
         ],
         "yaxis": "y30"
        },
        {
         "marker": {
          "color": "rgb(55, 83, 109)"
         },
         "mode": "lines+markers",
         "showlegend": false,
         "type": "scatter",
         "x": [
          1912,
          2008,
          2012,
          2016
         ],
         "xaxis": "x31",
         "y": [
          0,
          0.27586206896551724,
          0.3103448275862069,
          0.4368932038834951
         ],
         "yaxis": "y31"
        },
        {
         "marker": {
          "color": "#222"
         },
         "mode": "lines",
         "showlegend": false,
         "type": "scatter",
         "x": [
          1896,
          2016
         ],
         "xaxis": "x31",
         "y": [
          0.5,
          0.5
         ],
         "yaxis": "y31"
        },
        {
         "marker": {
          "color": "rgb(55, 83, 109)"
         },
         "mode": "lines+markers",
         "showlegend": false,
         "type": "scatter",
         "x": [
          1896,
          1900,
          1904,
          1908,
          1912,
          1920,
          1924,
          1928,
          1932,
          1936,
          1948,
          1952,
          1956,
          1960,
          1964,
          1968,
          1972,
          1976,
          1980,
          1984,
          1988,
          1992,
          1996,
          2000,
          2004,
          2008,
          2012,
          2016
         ],
         "xaxis": "x32",
         "y": [
          0,
          0.05555555555555555,
          0,
          0,
          0,
          0,
          0.031496062992125984,
          0.008771929824561403,
          0,
          0.028735632183908046,
          0.03508771929824561,
          0.05732484076433121,
          0,
          0.013422818791946308,
          0.015151515151515152,
          0.047058823529411764,
          0.19205298013245034,
          0.06,
          0.0821917808219178,
          0.20930232558139536,
          0.2727272727272727,
          0.28431372549019607,
          0.3739130434782609,
          0.37254901960784315,
          0.3979591836734694,
          0.43373493975903615,
          0.2857142857142857,
          0.4411764705882353
         ],
         "yaxis": "y32"
        },
        {
         "marker": {
          "color": "#222"
         },
         "mode": "lines",
         "showlegend": false,
         "type": "scatter",
         "x": [
          1896,
          2016
         ],
         "xaxis": "x32",
         "y": [
          0.5,
          0.5
         ],
         "yaxis": "y32"
        },
        {
         "marker": {
          "color": "rgb(55, 83, 109)"
         },
         "mode": "lines+markers",
         "showlegend": false,
         "type": "scatter",
         "x": [
          1996,
          2000,
          2004,
          2008,
          2012,
          2016
         ],
         "xaxis": "x33",
         "y": [
          0.25,
          0.3384615384615385,
          0.37719298245614036,
          0.5384615384615384,
          0.35398230088495575,
          0.45544554455445546
         ],
         "yaxis": "y33"
        },
        {
         "marker": {
          "color": "#222"
         },
         "mode": "lines",
         "showlegend": false,
         "type": "scatter",
         "x": [
          1896,
          2016
         ],
         "xaxis": "x33",
         "y": [
          0.5,
          0.5
         ],
         "yaxis": "y33"
        },
        {
         "marker": {
          "color": "rgb(55, 83, 109)"
         },
         "mode": "lines+markers",
         "showlegend": false,
         "type": "scatter",
         "x": [
          1912,
          1924,
          1928,
          1936,
          1948,
          1952,
          1956,
          1960,
          1964,
          1968,
          1972,
          1976,
          1984,
          1988,
          1992,
          1996,
          2000,
          2004,
          2008,
          2012,
          2016
         ],
         "xaxis": "x34",
         "y": [
          0,
          0,
          0,
          0.041666666666666664,
          0.017543859649122806,
          0,
          0,
          0.061224489795918366,
          0,
          0,
          0.023255813953488372,
          0.037037037037037035,
          0.021739130434782608,
          0.12195121951219512,
          0.12195121951219512,
          0.16981132075471697,
          0.2631578947368421,
          0.3125,
          0.2835820895522388,
          0.5714285714285714,
          0.47
         ],
         "yaxis": "y34"
        },
        {
         "marker": {
          "color": "#222"
         },
         "mode": "lines",
         "showlegend": false,
         "type": "scatter",
         "x": [
          1896,
          2016
         ],
         "xaxis": "x34",
         "y": [
          0.5,
          0.5
         ],
         "yaxis": "y34"
        },
        {
         "marker": {
          "color": "rgb(55, 83, 109)"
         },
         "mode": "lines+markers",
         "showlegend": false,
         "type": "scatter",
         "x": [
          1900,
          1924,
          1928,
          1936,
          1952,
          1956,
          1960,
          1964,
          1968,
          1972,
          1976,
          1980,
          1984,
          1988,
          1992,
          1996,
          2000,
          2004,
          2008,
          2012,
          2016
         ],
         "xaxis": "x35",
         "y": [
          0,
          0,
          0.09523809523809523,
          0.03773584905660377,
          0.09649122807017543,
          0.22,
          0.16326530612244897,
          0.21739130434782608,
          0.1951219512195122,
          0.16981132075471697,
          0.34394904458598724,
          0.32456140350877194,
          0.4274193548387097,
          0.5294117647058824,
          0.3930635838150289,
          0.40606060606060607,
          0.5103448275862069,
          0.5370370370370371,
          0.6039603960396039,
          0.47619047619047616,
          0.6421052631578947
         ],
         "yaxis": "y35"
        },
        {
         "marker": {
          "color": "#222"
         },
         "mode": "lines",
         "showlegend": false,
         "type": "scatter",
         "x": [
          1896,
          2016
         ],
         "xaxis": "x35",
         "y": [
          0.5,
          0.5
         ],
         "yaxis": "y35"
        },
        {
         "marker": {
          "color": "rgb(55, 83, 109)"
         },
         "mode": "lines+markers",
         "showlegend": false,
         "type": "scatter",
         "x": [
          1896,
          1900,
          1904,
          1908,
          1912,
          1920,
          1924,
          1928,
          1932,
          1936,
          1948,
          1952,
          1956,
          1960,
          1964,
          1968,
          1972,
          1976,
          1980,
          1984,
          1988,
          1992,
          1996,
          2000,
          2004,
          2008,
          2012,
          2016
         ],
         "xaxis": "x36",
         "y": [
          0,
          0,
          0,
          0,
          0,
          0,
          0.02631578947368421,
          0,
          0,
          0.02564102564102564,
          0.017543859649122806,
          0,
          0,
          0,
          0,
          0,
          0.03333333333333333,
          0.05555555555555555,
          0.07317073170731707,
          0.06349206349206349,
          0.21428571428571427,
          0.2,
          0.2809917355371901,
          0.4142857142857143,
          0.4953051643192488,
          0.4605263157894737,
          0.3627450980392157,
          0.391304347826087
         ],
         "yaxis": "y36"
        },
        {
         "marker": {
          "color": "#222"
         },
         "mode": "lines",
         "showlegend": false,
         "type": "scatter",
         "x": [
          1896,
          2016
         ],
         "xaxis": "x36",
         "y": [
          0.5,
          0.5
         ],
         "yaxis": "y36"
        },
        {
         "marker": {
          "color": "rgb(55, 83, 109)"
         },
         "mode": "lines+markers",
         "showlegend": false,
         "type": "scatter",
         "x": [
          1912,
          1920,
          1924,
          1928,
          1932,
          1936,
          1948,
          1952,
          1956,
          1960,
          1964,
          1968,
          1972,
          1976,
          1980,
          1984,
          1988,
          1992,
          1996,
          2000,
          2004,
          2008,
          2012,
          2016
         ],
         "xaxis": "x37",
         "y": [
          0,
          0,
          0,
          0,
          0,
          0,
          0,
          0.04225352112676056,
          0,
          0.07692307692307693,
          0.05,
          0.05,
          0,
          0,
          0.09090909090909091,
          0.23684210526315788,
          0.15384615384615385,
          0.24444444444444444,
          0.22429906542056074,
          0.21311475409836064,
          0.20987654320987653,
          0.33766233766233766,
          0.42105263157894735,
          0.32222222222222224
         ],
         "yaxis": "y37"
        },
        {
         "marker": {
          "color": "#222"
         },
         "mode": "lines",
         "showlegend": false,
         "type": "scatter",
         "x": [
          1896,
          2016
         ],
         "xaxis": "x37",
         "y": [
          0.5,
          0.5
         ],
         "yaxis": "y37"
        },
        {
         "marker": {
          "color": "rgb(55, 83, 109)"
         },
         "mode": "lines+markers",
         "showlegend": false,
         "type": "scatter",
         "x": [
          1992,
          1996,
          2000,
          2004,
          2008,
          2012,
          2016
         ],
         "xaxis": "x38",
         "y": [
          0.07692307692307693,
          0.10714285714285714,
          0.2840909090909091,
          0.18518518518518517,
          0.1919191919191919,
          0.40186915887850466,
          0.2235294117647059
         ],
         "yaxis": "y38"
        },
        {
         "marker": {
          "color": "#222"
         },
         "mode": "lines",
         "showlegend": false,
         "type": "scatter",
         "x": [
          1896,
          2016
         ],
         "xaxis": "x38",
         "y": [
          0.5,
          0.5
         ],
         "yaxis": "y38"
        },
        {
         "marker": {
          "color": "rgb(55, 83, 109)"
         },
         "mode": "lines+markers",
         "showlegend": false,
         "type": "scatter",
         "x": [
          1948,
          1952,
          1956,
          1960,
          1964,
          1968,
          1972,
          1976,
          1980,
          1984,
          1988,
          1992,
          1996,
          2000,
          2004,
          2008,
          2012,
          2016
         ],
         "xaxis": "x39",
         "y": [
          0,
          0.05263157894736842,
          0,
          0.1388888888888889,
          0.0625,
          0,
          0.13043478260869565,
          0.28125,
          0,
          0.038461538461538464,
          0.11764705882352941,
          0.15384615384615385,
          0.1282051282051282,
          0.28,
          0.3125,
          0.4722222222222222,
          0.38235294117647056,
          0.2823529411764706
         ],
         "yaxis": "y39"
        },
        {
         "marker": {
          "color": "#222"
         },
         "mode": "lines",
         "showlegend": false,
         "type": "scatter",
         "x": [
          1896,
          2016
         ],
         "xaxis": "x39",
         "y": [
          0.5,
          0.5
         ],
         "yaxis": "y39"
        },
        {
         "marker": {
          "color": "rgb(55, 83, 109)"
         },
         "mode": "lines+markers",
         "showlegend": false,
         "type": "scatter",
         "x": [
          1956,
          1960,
          1964,
          1968,
          1972,
          1984,
          1988,
          1992,
          1996,
          2000,
          2004,
          2008,
          2012,
          2016
         ],
         "xaxis": "x40",
         "y": [
          0.04,
          0,
          0,
          0.07692307692307693,
          0.03508771929824561,
          0.08196721311475409,
          0.05405405405405406,
          0.1836734693877551,
          0.19230769230769232,
          0.39285714285714285,
          0.5217391304347826,
          0.391304347826087,
          0.425531914893617,
          0.4177215189873418
         ],
         "yaxis": "y40"
        },
        {
         "marker": {
          "color": "#222"
         },
         "mode": "lines",
         "showlegend": false,
         "type": "scatter",
         "x": [
          1896,
          2016
         ],
         "xaxis": "x40",
         "y": [
          0.5,
          0.5
         ],
         "yaxis": "y40"
        },
        {
         "marker": {
          "color": "rgb(55, 83, 109)"
         },
         "mode": "lines+markers",
         "showlegend": false,
         "type": "scatter",
         "x": [
          1924,
          1928,
          1932,
          1948,
          1952,
          1956,
          1960,
          1964,
          1968,
          1972,
          1976,
          1980,
          1984,
          1988,
          1992,
          1996,
          2000,
          2004,
          2008,
          2012,
          2016
         ],
         "xaxis": "x41",
         "y": [
          0.05,
          0.034482758620689655,
          0,
          0.015873015873015872,
          0,
          0.05555555555555555,
          0.04081632653061224,
          0.04,
          0.1935483870967742,
          0.13559322033898305,
          0.06818181818181818,
          0.06382978723404255,
          0.3333333333333333,
          0.14754098360655737,
          0.15517241379310345,
          0.20512820512820512,
          0.375,
          0.30434782608695654,
          0.2909090909090909,
          0.4375,
          0.34210526315789475
         ],
         "yaxis": "y41"
        },
        {
         "marker": {
          "color": "#222"
         },
         "mode": "lines",
         "showlegend": false,
         "type": "scatter",
         "x": [
          1896,
          2016
         ],
         "xaxis": "x41",
         "y": [
          0.5,
          0.5
         ],
         "yaxis": "y41"
        },
        {
         "marker": {
          "color": "rgb(55, 83, 109)"
         },
         "mode": "lines+markers",
         "showlegend": false,
         "type": "scatter",
         "x": [
          1952,
          1956,
          1960,
          1964,
          1968,
          1972,
          1980,
          1984,
          1988,
          1992,
          1996,
          2000,
          2004,
          2008,
          2012,
          2016
         ],
         "xaxis": "x42",
         "y": [
          0,
          0,
          0,
          0.1111111111111111,
          0.1388888888888889,
          0.2,
          0.13636363636363635,
          0.0625,
          0.11594202898550725,
          0.41818181818181815,
          0.24615384615384617,
          0.46987951807228917,
          0.6571428571428571,
          0.5,
          0.3877551020408163,
          0.3380281690140845
         ],
         "yaxis": "y42"
        },
        {
         "marker": {
          "color": "#222"
         },
         "mode": "lines",
         "showlegend": false,
         "type": "scatter",
         "x": [
          1896,
          2016
         ],
         "xaxis": "x42",
         "y": [
          0.5,
          0.5
         ],
         "yaxis": "y42"
        },
        {
         "marker": {
          "color": "rgb(55, 83, 109)"
         },
         "mode": "lines+markers",
         "showlegend": false,
         "type": "scatter",
         "x": [
          1896,
          1900,
          1904,
          1908,
          1912,
          1924,
          1928,
          1932,
          1936,
          1948,
          1952,
          1956,
          1960,
          1964,
          1968,
          1972,
          1976,
          1980,
          1984,
          1988,
          1992,
          1996,
          2000,
          2004,
          2008,
          2012,
          2016
         ],
         "xaxis": "x43",
         "y": [
          0,
          0,
          0,
          0,
          0.07058823529411765,
          0.061224489795918366,
          0.09615384615384616,
          0.2222222222222222,
          0.09770114942528736,
          0.22807017543859648,
          0.1875,
          0.14705882352941177,
          0.20388349514563106,
          0.19642857142857142,
          0.18604651162790697,
          0.12612612612612611,
          0.1,
          0.2289156626506024,
          0.30392156862745096,
          0.0958904109589041,
          0.30392156862745096,
          0.2222222222222222,
          0.40217391304347827,
          0.2702702702702703,
          0.42857142857142855,
          0.44285714285714284,
          0.4788732394366197
         ],
         "yaxis": "y43"
        },
        {
         "marker": {
          "color": "#222"
         },
         "mode": "lines",
         "showlegend": false,
         "type": "scatter",
         "x": [
          1896,
          2016
         ],
         "xaxis": "x43",
         "y": [
          0.5,
          0.5
         ],
         "yaxis": "y43"
        },
        {
         "marker": {
          "color": "rgb(55, 83, 109)"
         },
         "mode": "lines+markers",
         "showlegend": false,
         "type": "scatter",
         "x": [
          1996,
          2000,
          2004,
          2008,
          2012,
          2016
         ],
         "xaxis": "x44",
         "y": [
          0.11267605633802817,
          0.2571428571428571,
          0.2608695652173913,
          0.26785714285714285,
          0.32075471698113206,
          0.32857142857142857
         ],
         "yaxis": "y44"
        },
        {
         "marker": {
          "color": "#222"
         },
         "mode": "lines",
         "showlegend": false,
         "type": "scatter",
         "x": [
          1896,
          2016
         ],
         "xaxis": "x44",
         "y": [
          0.5,
          0.5
         ],
         "yaxis": "y44"
        },
        {
         "marker": {
          "color": "rgb(55, 83, 109)"
         },
         "mode": "lines+markers",
         "showlegend": false,
         "type": "scatter",
         "x": [
          1924,
          1928,
          1992,
          1996,
          2000,
          2004,
          2008,
          2012,
          2016
         ],
         "xaxis": "x45",
         "y": [
          0,
          0.08333333333333333,
          0.23404255319148937,
          0.26229508196721313,
          0.3442622950819672,
          0.2033898305084746,
          0.38028169014084506,
          0.3709677419354839,
          0.2835820895522388
         ],
         "yaxis": "y45"
        },
        {
         "marker": {
          "color": "#222"
         },
         "mode": "lines",
         "showlegend": false,
         "type": "scatter",
         "x": [
          1896,
          2016
         ],
         "xaxis": "x45",
         "y": [
          0.5,
          0.5
         ],
         "yaxis": "y45"
        },
        {
         "marker": {
          "color": "rgb(55, 83, 109)"
         },
         "mode": "lines+markers",
         "showlegend": false,
         "type": "scatter",
         "x": [
          1964,
          1968,
          1972,
          1980,
          1984,
          1988,
          1992,
          1996,
          2000,
          2004,
          2008,
          2012,
          2016
         ],
         "xaxis": "x46",
         "y": [
          0,
          0,
          0,
          0,
          0,
          0.047619047619047616,
          0.05714285714285714,
          0.13333333333333333,
          0.2127659574468085,
          0.2459016393442623,
          0.39285714285714285,
          0.4473684210526316,
          0.15625
         ],
         "yaxis": "y46"
        },
        {
         "marker": {
          "color": "#222"
         },
         "mode": "lines",
         "showlegend": false,
         "type": "scatter",
         "x": [
          1896,
          2016
         ],
         "xaxis": "x46",
         "y": [
          0.5,
          0.5
         ],
         "yaxis": "y46"
        },
        {
         "marker": {
          "color": "rgb(55, 83, 109)"
         },
         "mode": "lines+markers",
         "showlegend": false,
         "type": "scatter",
         "x": [
          1992,
          1996,
          2000,
          2004,
          2008,
          2012,
          2016
         ],
         "xaxis": "x47",
         "y": [
          0.17142857142857143,
          0.32432432432432434,
          0.25675675675675674,
          0.2911392405063291,
          0.3442622950819672,
          0.5692307692307692,
          0.38095238095238093
         ],
         "yaxis": "y47"
        },
        {
         "marker": {
          "color": "#222"
         },
         "mode": "lines",
         "showlegend": false,
         "type": "scatter",
         "x": [
          1896,
          2016
         ],
         "xaxis": "x47",
         "y": [
          0.5,
          0.5
         ],
         "yaxis": "y47"
        },
        {
         "marker": {
          "color": "rgb(55, 83, 109)"
         },
         "mode": "lines+markers",
         "showlegend": false,
         "type": "scatter",
         "x": [
          1900,
          1948,
          1952,
          1956,
          1960,
          1964,
          1968,
          1972,
          1976,
          1988,
          1992,
          1996,
          2000,
          2004,
          2008,
          2012,
          2016
         ],
         "xaxis": "x48",
         "y": [
          0,
          0,
          0,
          0,
          0,
          0.06451612903225806,
          0,
          0,
          0.047619047619047616,
          0,
          0,
          0.05555555555555555,
          0.030303030303030304,
          0.02702702702702703,
          0.05555555555555555,
          0.15384615384615385,
          0.14285714285714285
         ],
         "yaxis": "y48"
        },
        {
         "marker": {
          "color": "#222"
         },
         "mode": "lines",
         "showlegend": false,
         "type": "scatter",
         "x": [
          1896,
          2016
         ],
         "xaxis": "x48",
         "y": [
          0.5,
          0.5
         ],
         "yaxis": "y48"
        },
        {
         "marker": {
          "color": "rgb(55, 83, 109)"
         },
         "mode": "lines+markers",
         "showlegend": false,
         "type": "scatter",
         "x": [
          1900,
          1904,
          1908,
          1912,
          1920,
          1924,
          1928,
          1932,
          1936,
          1948,
          1952,
          1956,
          1960,
          1964,
          1968,
          1972,
          1976,
          1984,
          1988,
          1992,
          1996,
          2000,
          2004,
          2008,
          2012,
          2016
         ],
         "xaxis": "x49",
         "y": [
          0,
          0,
          0,
          0.010526315789473684,
          0.03125,
          0.03389830508474576,
          0,
          0,
          0.02857142857142857,
          0.0375,
          0.058823529411764705,
          0.13636363636363635,
          0.025,
          0.07692307692307693,
          0.17391304347826086,
          0.09821428571428571,
          0.09090909090909091,
          0.18446601941747573,
          0.36231884057971014,
          0.3855421686746988,
          0.5670103092783505,
          0.5268817204301075,
          0.3269230769230769,
          0.6428571428571429,
          0.45901639344262296,
          0.532258064516129
         ],
         "yaxis": "y49"
        },
        {
         "marker": {
          "color": "#222"
         },
         "mode": "lines",
         "showlegend": false,
         "type": "scatter",
         "x": [
          1896,
          2016
         ],
         "xaxis": "x49",
         "y": [
          0.5,
          0.5
         ],
         "yaxis": "y49"
        },
        {
         "marker": {
          "color": "rgb(55, 83, 109)"
         },
         "mode": "lines+markers",
         "showlegend": false,
         "type": "scatter",
         "x": [
          1960,
          1964,
          1968,
          1972,
          1976,
          1984,
          1988,
          1992,
          1996,
          2000,
          2004,
          2008,
          2012,
          2016
         ],
         "xaxis": "x50",
         "y": [
          0,
          0,
          0,
          0,
          0.06666666666666667,
          0.043478260869565216,
          0.04878048780487805,
          0.15384615384615385,
          0.11764705882352941,
          0.14893617021276595,
          0.18518518518518517,
          0.46153846153846156,
          0.24096385542168675,
          0.32786885245901637
         ],
         "yaxis": "y50"
        },
        {
         "marker": {
          "color": "#222"
         },
         "mode": "lines",
         "showlegend": false,
         "type": "scatter",
         "x": [
          1896,
          2016
         ],
         "xaxis": "x50",
         "y": [
          0.5,
          0.5
         ],
         "yaxis": "y50"
        },
        {
         "marker": {
          "color": "rgb(55, 83, 109)"
         },
         "mode": "lines+markers",
         "showlegend": false,
         "type": "scatter",
         "x": [
          1996,
          2000,
          2004,
          2008,
          2012,
          2016
         ],
         "xaxis": "x51",
         "y": [
          0.13043478260869565,
          0.1935483870967742,
          0.16666666666666666,
          0.3181818181818182,
          0.2692307692307692,
          0.25
         ],
         "yaxis": "y51"
        },
        {
         "marker": {
          "color": "#222"
         },
         "mode": "lines",
         "showlegend": false,
         "type": "scatter",
         "x": [
          1896,
          2016
         ],
         "xaxis": "x51",
         "y": [
          0.5,
          0.5
         ],
         "yaxis": "y51"
        },
        {
         "marker": {
          "color": "rgb(55, 83, 109)"
         },
         "mode": "lines+markers",
         "showlegend": false,
         "type": "scatter",
         "x": [
          1948,
          1952,
          1956,
          1964,
          1968,
          1972,
          1976,
          1980,
          1984,
          1988,
          1992,
          1996,
          2000,
          2004,
          2008,
          2012,
          2016
         ],
         "xaxis": "x52",
         "y": [
          0.3076923076923077,
          0.25,
          0,
          0.19047619047619047,
          0.2,
          0.36363636363636365,
          0.45,
          0.3888888888888889,
          0.3111111111111111,
          0.3142857142857143,
          0.3888888888888889,
          0.41304347826086957,
          0.5416666666666666,
          0.5319148936170213,
          0.54,
          0.4888888888888889,
          0.5535714285714286
         ],
         "yaxis": "y52"
        },
        {
         "marker": {
          "color": "#222"
         },
         "mode": "lines",
         "showlegend": false,
         "type": "scatter",
         "x": [
          1896,
          2016
         ],
         "xaxis": "x52",
         "y": [
          0.5,
          0.5
         ],
         "yaxis": "y52"
        },
        {
         "marker": {
          "color": "rgb(55, 83, 109)"
         },
         "mode": "lines+markers",
         "showlegend": false,
         "type": "scatter",
         "x": [
          1956,
          1960,
          1964,
          1968,
          1972,
          1984,
          1988,
          1992,
          1996,
          2000,
          2004,
          2008,
          2012,
          2016
         ],
         "xaxis": "x53",
         "y": [
          0,
          0.1111111111111111,
          0.075,
          0.18604651162790697,
          0.2857142857142857,
          0.18421052631578946,
          0.29508196721311475,
          0.25806451612903225,
          0.5675675675675675,
          0.6181818181818182,
          0.4431818181818182,
          0.45569620253164556,
          0.5681818181818182,
          0.5272727272727272
         ],
         "yaxis": "y53"
        },
        {
         "marker": {
          "color": "#222"
         },
         "mode": "lines",
         "showlegend": false,
         "type": "scatter",
         "x": [
          1896,
          2016
         ],
         "xaxis": "x53",
         "y": [
          0.5,
          0.5
         ],
         "yaxis": "y53"
        },
        {
         "marker": {
          "color": "rgb(55, 83, 109)"
         },
         "mode": "lines+markers",
         "showlegend": false,
         "type": "scatter",
         "x": [
          1952,
          1956,
          1960,
          1964,
          1968,
          1972,
          1976,
          1984,
          1988,
          1992,
          1996,
          2000,
          2004,
          2008,
          2012,
          2016
         ],
         "xaxis": "x54",
         "y": [
          0,
          0,
          0,
          0.12962962962962962,
          0,
          0,
          0.07142857142857142,
          0.2857142857142857,
          0.14285714285714285,
          0.5,
          0.32432432432432434,
          0.34615384615384615,
          0.42857142857142855,
          0.5319148936170213,
          0.4864864864864865,
          0.5185185185185185
         ],
         "yaxis": "y54"
        },
        {
         "marker": {
          "color": "#222"
         },
         "mode": "lines",
         "showlegend": false,
         "type": "scatter",
         "x": [
          1896,
          2016
         ],
         "xaxis": "x54",
         "y": [
          0.5,
          0.5
         ],
         "yaxis": "y54"
        },
        {
         "marker": {
          "color": "rgb(55, 83, 109)"
         },
         "mode": "lines+markers",
         "showlegend": false,
         "type": "scatter",
         "x": [
          1908,
          1912,
          1920,
          1924,
          1928,
          1932,
          1936,
          1948,
          1952,
          1956,
          1960,
          1964,
          1968,
          1972,
          1976,
          1980,
          1984,
          1988,
          1992,
          1996,
          2000,
          2004,
          2008,
          2012,
          2016
         ],
         "xaxis": "x55",
         "y": [
          0,
          0.012195121951219513,
          0.015873015873015872,
          0,
          0.028985507246376812,
          0,
          0.04672897196261682,
          0.04065040650406504,
          0.11627906976744186,
          0.014084507042253521,
          0.08547008547008547,
          0.056179775280898875,
          0.09090909090909091,
          0.07291666666666667,
          0.07228915662650602,
          0.05714285714285714,
          0.1511627906976744,
          0.24358974358974358,
          0.3181818181818182,
          0.3815789473684211,
          0.42857142857142855,
          0.32075471698113206,
          0.45614035087719296,
          0.48214285714285715,
          0.5185185185185185
         ],
         "yaxis": "y55"
        },
        {
         "marker": {
          "color": "#222"
         },
         "mode": "lines",
         "showlegend": false,
         "type": "scatter",
         "x": [
          1896,
          2016
         ],
         "xaxis": "x55",
         "y": [
          0.5,
          0.5
         ],
         "yaxis": "y55"
        },
        {
         "marker": {
          "color": "rgb(55, 83, 109)"
         },
         "mode": "lines+markers",
         "showlegend": false,
         "type": "scatter",
         "x": [
          1956,
          1960,
          1968,
          1972,
          1976,
          1984,
          1988,
          1992,
          1996,
          2000,
          2004,
          2008,
          2012,
          2016
         ],
         "xaxis": "x56",
         "y": [
          0,
          0,
          0,
          0,
          0.5,
          0.21428571428571427,
          0.17391304347826086,
          0.2222222222222222,
          0.17647058823529413,
          0.42857142857142855,
          0.5,
          0.3333333333333333,
          0.3333333333333333,
          0.32075471698113206
         ],
         "yaxis": "y56"
        },
        {
         "marker": {
          "color": "#222"
         },
         "mode": "lines",
         "showlegend": false,
         "type": "scatter",
         "x": [
          1896,
          2016
         ],
         "xaxis": "x56",
         "y": [
          0.5,
          0.5
         ],
         "yaxis": "y56"
        },
        {
         "marker": {
          "color": "rgb(55, 83, 109)"
         },
         "mode": "lines+markers",
         "showlegend": false,
         "type": "scatter",
         "x": [
          1996,
          2000,
          2004,
          2008,
          2012,
          2016
         ],
         "xaxis": "x57",
         "y": [
          0.18309859154929578,
          0.25,
          0.25,
          0.38596491228070173,
          0.44680851063829785,
          0.37254901960784315
         ],
         "yaxis": "y57"
        },
        {
         "marker": {
          "color": "#222"
         },
         "mode": "lines",
         "showlegend": false,
         "type": "scatter",
         "x": [
          1896,
          2016
         ],
         "xaxis": "x57",
         "y": [
          0.5,
          0.5
         ],
         "yaxis": "y57"
        },
        {
         "marker": {
          "color": "rgb(55, 83, 109)"
         },
         "mode": "lines+markers",
         "showlegend": false,
         "type": "scatter",
         "x": [
          1924,
          1928,
          1936,
          1952,
          1956,
          1960,
          1964,
          1968,
          1972,
          1976,
          1980,
          1988,
          1992,
          1996,
          2000,
          2004,
          2008,
          2012,
          2016
         ],
         "xaxis": "x58",
         "y": [
          0,
          0,
          0,
          0.14285714285714285,
          0.06382978723404255,
          0.09183673469387756,
          0.1111111111111111,
          0.08928571428571429,
          0.18461538461538463,
          0.33544303797468356,
          0.3247232472324723,
          0.3953488372093023,
          0.3695652173913043,
          0.32727272727272727,
          0.42857142857142855,
          0.4842105263157895,
          0.38571428571428573,
          0.4126984126984127,
          0.43137254901960786
         ],
         "yaxis": "y58"
        },
        {
         "marker": {
          "color": "#222"
         },
         "mode": "lines",
         "showlegend": false,
         "type": "scatter",
         "x": [
          1896,
          2016
         ],
         "xaxis": "x58",
         "y": [
          0.5,
          0.5
         ],
         "yaxis": "y58"
        }
       ],
       "layout": {
        "annotations": [
         {
          "font": {
           "size": 16
          },
          "showarrow": false,
          "text": "USA",
          "x": 0.08399999999999999,
          "xanchor": "center",
          "xref": "paper",
          "y": 1,
          "yanchor": "bottom",
          "yref": "paper"
         },
         {
          "font": {
           "size": 16
          },
          "showarrow": false,
          "text": "BRA",
          "x": 0.292,
          "xanchor": "center",
          "xref": "paper",
          "y": 1,
          "yanchor": "bottom",
          "yref": "paper"
         },
         {
          "font": {
           "size": 16
          },
          "showarrow": false,
          "text": "AUS",
          "x": 0.5,
          "xanchor": "center",
          "xref": "paper",
          "y": 1,
          "yanchor": "bottom",
          "yref": "paper"
         },
         {
          "font": {
           "size": 16
          },
          "showarrow": false,
          "text": "GER",
          "x": 0.708,
          "xanchor": "center",
          "xref": "paper",
          "y": 1,
          "yanchor": "bottom",
          "yref": "paper"
         },
         {
          "font": {
           "size": 16
          },
          "showarrow": false,
          "text": "FRA",
          "x": 0.9159999999999999,
          "xanchor": "center",
          "xref": "paper",
          "y": 1,
          "yanchor": "bottom",
          "yref": "paper"
         },
         {
          "font": {
           "size": 16
          },
          "showarrow": false,
          "text": "CHN",
          "x": 0.08399999999999999,
          "xanchor": "center",
          "xref": "paper",
          "y": 0.9131944444444444,
          "yanchor": "bottom",
          "yref": "paper"
         },
         {
          "font": {
           "size": 16
          },
          "showarrow": false,
          "text": "GBR",
          "x": 0.292,
          "xanchor": "center",
          "xref": "paper",
          "y": 0.9131944444444444,
          "yanchor": "bottom",
          "yref": "paper"
         },
         {
          "font": {
           "size": 16
          },
          "showarrow": false,
          "text": "JPN",
          "x": 0.5,
          "xanchor": "center",
          "xref": "paper",
          "y": 0.9131944444444444,
          "yanchor": "bottom",
          "yref": "paper"
         },
         {
          "font": {
           "size": 16
          },
          "showarrow": false,
          "text": "CAN",
          "x": 0.708,
          "xanchor": "center",
          "xref": "paper",
          "y": 0.9131944444444444,
          "yanchor": "bottom",
          "yref": "paper"
         },
         {
          "font": {
           "size": 16
          },
          "showarrow": false,
          "text": "ITA",
          "x": 0.9159999999999999,
          "xanchor": "center",
          "xref": "paper",
          "y": 0.9131944444444444,
          "yanchor": "bottom",
          "yref": "paper"
         },
         {
          "font": {
           "size": 16
          },
          "showarrow": false,
          "text": "ESP",
          "x": 0.08399999999999999,
          "xanchor": "center",
          "xref": "paper",
          "y": 0.8263888888888888,
          "yanchor": "bottom",
          "yref": "paper"
         },
         {
          "font": {
           "size": 16
          },
          "showarrow": false,
          "text": "RUS",
          "x": 0.292,
          "xanchor": "center",
          "xref": "paper",
          "y": 0.8263888888888888,
          "yanchor": "bottom",
          "yref": "paper"
         },
         {
          "font": {
           "size": 16
          },
          "showarrow": false,
          "text": "NED",
          "x": 0.5,
          "xanchor": "center",
          "xref": "paper",
          "y": 0.8263888888888888,
          "yanchor": "bottom",
          "yref": "paper"
         },
         {
          "font": {
           "size": 16
          },
          "showarrow": false,
          "text": "POL",
          "x": 0.708,
          "xanchor": "center",
          "xref": "paper",
          "y": 0.8263888888888888,
          "yanchor": "bottom",
          "yref": "paper"
         },
         {
          "font": {
           "size": 16
          },
          "showarrow": false,
          "text": "ARG",
          "x": 0.9159999999999999,
          "xanchor": "center",
          "xref": "paper",
          "y": 0.8263888888888888,
          "yanchor": "bottom",
          "yref": "paper"
         },
         {
          "font": {
           "size": 16
          },
          "showarrow": false,
          "text": "KOR",
          "x": 0.08399999999999999,
          "xanchor": "center",
          "xref": "paper",
          "y": 0.7395833333333333,
          "yanchor": "bottom",
          "yref": "paper"
         },
         {
          "font": {
           "size": 16
          },
          "showarrow": false,
          "text": "UKR",
          "x": 0.292,
          "xanchor": "center",
          "xref": "paper",
          "y": 0.7395833333333333,
          "yanchor": "bottom",
          "yref": "paper"
         },
         {
          "font": {
           "size": 16
          },
          "showarrow": false,
          "text": "NZL",
          "x": 0.5,
          "xanchor": "center",
          "xref": "paper",
          "y": 0.7395833333333333,
          "yanchor": "bottom",
          "yref": "paper"
         },
         {
          "font": {
           "size": 16
          },
          "showarrow": false,
          "text": "HUN",
          "x": 0.708,
          "xanchor": "center",
          "xref": "paper",
          "y": 0.7395833333333333,
          "yanchor": "bottom",
          "yref": "paper"
         },
         {
          "font": {
           "size": 16
          },
          "showarrow": false,
          "text": "SWE",
          "x": 0.9159999999999999,
          "xanchor": "center",
          "xref": "paper",
          "y": 0.7395833333333333,
          "yanchor": "bottom",
          "yref": "paper"
         },
         {
          "font": {
           "size": 16
          },
          "showarrow": false,
          "text": "COL",
          "x": 0.08399999999999999,
          "xanchor": "center",
          "xref": "paper",
          "y": 0.6527777777777777,
          "yanchor": "bottom",
          "yref": "paper"
         },
         {
          "font": {
           "size": 16
          },
          "showarrow": false,
          "text": "RSA",
          "x": 0.292,
          "xanchor": "center",
          "xref": "paper",
          "y": 0.6527777777777777,
          "yanchor": "bottom",
          "yref": "paper"
         },
         {
          "font": {
           "size": 16
          },
          "showarrow": false,
          "text": "MEX",
          "x": 0.5,
          "xanchor": "center",
          "xref": "paper",
          "y": 0.6527777777777777,
          "yanchor": "bottom",
          "yref": "paper"
         },
         {
          "font": {
           "size": 16
          },
          "showarrow": false,
          "text": "EGY",
          "x": 0.708,
          "xanchor": "center",
          "xref": "paper",
          "y": 0.6527777777777777,
          "yanchor": "bottom",
          "yref": "paper"
         },
         {
          "font": {
           "size": 16
          },
          "showarrow": false,
          "text": "BLR",
          "x": 0.9159999999999999,
          "xanchor": "center",
          "xref": "paper",
          "y": 0.6527777777777777,
          "yanchor": "bottom",
          "yref": "paper"
         },
         {
          "font": {
           "size": 16
          },
          "showarrow": false,
          "text": "DEN",
          "x": 0.08399999999999999,
          "xanchor": "center",
          "xref": "paper",
          "y": 0.5659722222222223,
          "yanchor": "bottom",
          "yref": "paper"
         },
         {
          "font": {
           "size": 16
          },
          "showarrow": false,
          "text": "CUB",
          "x": 0.292,
          "xanchor": "center",
          "xref": "paper",
          "y": 0.5659722222222223,
          "yanchor": "bottom",
          "yref": "paper"
         },
         {
          "font": {
           "size": 16
          },
          "showarrow": false,
          "text": "IND",
          "x": 0.5,
          "xanchor": "center",
          "xref": "paper",
          "y": 0.5659722222222223,
          "yanchor": "bottom",
          "yref": "paper"
         },
         {
          "font": {
           "size": 16
          },
          "showarrow": false,
          "text": "BEL",
          "x": 0.708,
          "xanchor": "center",
          "xref": "paper",
          "y": 0.5659722222222223,
          "yanchor": "bottom",
          "yref": "paper"
         },
         {
          "font": {
           "size": 16
          },
          "showarrow": false,
          "text": "CZE",
          "x": 0.9159999999999999,
          "xanchor": "center",
          "xref": "paper",
          "y": 0.5659722222222223,
          "yanchor": "bottom",
          "yref": "paper"
         },
         {
          "font": {
           "size": 16
          },
          "showarrow": false,
          "text": "SRB",
          "x": 0.08399999999999999,
          "xanchor": "center",
          "xref": "paper",
          "y": 0.4791666666666667,
          "yanchor": "bottom",
          "yref": "paper"
         },
         {
          "font": {
           "size": 16
          },
          "showarrow": false,
          "text": "SUI",
          "x": 0.292,
          "xanchor": "center",
          "xref": "paper",
          "y": 0.4791666666666667,
          "yanchor": "bottom",
          "yref": "paper"
         },
         {
          "font": {
           "size": 16
          },
          "showarrow": false,
          "text": "KAZ",
          "x": 0.5,
          "xanchor": "center",
          "xref": "paper",
          "y": 0.4791666666666667,
          "yanchor": "bottom",
          "yref": "paper"
         },
         {
          "font": {
           "size": 16
          },
          "showarrow": false,
          "text": "TUR",
          "x": 0.708,
          "xanchor": "center",
          "xref": "paper",
          "y": 0.4791666666666667,
          "yanchor": "bottom",
          "yref": "paper"
         },
         {
          "font": {
           "size": 16
          },
          "showarrow": false,
          "text": "ROU",
          "x": 0.9159999999999999,
          "xanchor": "center",
          "xref": "paper",
          "y": 0.4791666666666667,
          "yanchor": "bottom",
          "yref": "paper"
         },
         {
          "font": {
           "size": 16
          },
          "showarrow": false,
          "text": "GRE",
          "x": 0.08399999999999999,
          "xanchor": "center",
          "xref": "paper",
          "y": 0.3923611111111111,
          "yanchor": "bottom",
          "yref": "paper"
         },
         {
          "font": {
           "size": 16
          },
          "showarrow": false,
          "text": "POR",
          "x": 0.292,
          "xanchor": "center",
          "xref": "paper",
          "y": 0.3923611111111111,
          "yanchor": "bottom",
          "yref": "paper"
         },
         {
          "font": {
           "size": 16
          },
          "showarrow": false,
          "text": "CRO",
          "x": 0.5,
          "xanchor": "center",
          "xref": "paper",
          "y": 0.3923611111111111,
          "yanchor": "bottom",
          "yref": "paper"
         },
         {
          "font": {
           "size": 16
          },
          "showarrow": false,
          "text": "VEN",
          "x": 0.708,
          "xanchor": "center",
          "xref": "paper",
          "y": 0.3923611111111111,
          "yanchor": "bottom",
          "yref": "paper"
         },
         {
          "font": {
           "size": 16
          },
          "showarrow": false,
          "text": "KEN",
          "x": 0.9159999999999999,
          "xanchor": "center",
          "xref": "paper",
          "y": 0.3923611111111111,
          "yanchor": "bottom",
          "yref": "paper"
         },
         {
          "font": {
           "size": 16
          },
          "showarrow": false,
          "text": "IRL",
          "x": 0.08399999999999999,
          "xanchor": "center",
          "xref": "paper",
          "y": 0.3055555555555556,
          "yanchor": "bottom",
          "yref": "paper"
         },
         {
          "font": {
           "size": 16
          },
          "showarrow": false,
          "text": "NGR",
          "x": 0.292,
          "xanchor": "center",
          "xref": "paper",
          "y": 0.3055555555555556,
          "yanchor": "bottom",
          "yref": "paper"
         },
         {
          "font": {
           "size": 16
          },
          "showarrow": false,
          "text": "AUT",
          "x": 0.5,
          "xanchor": "center",
          "xref": "paper",
          "y": 0.3055555555555556,
          "yanchor": "bottom",
          "yref": "paper"
         },
         {
          "font": {
           "size": 16
          },
          "showarrow": false,
          "text": "UZB",
          "x": 0.708,
          "xanchor": "center",
          "xref": "paper",
          "y": 0.3055555555555556,
          "yanchor": "bottom",
          "yref": "paper"
         },
         {
          "font": {
           "size": 16
          },
          "showarrow": false,
          "text": "LTU",
          "x": 0.9159999999999999,
          "xanchor": "center",
          "xref": "paper",
          "y": 0.3055555555555556,
          "yanchor": "bottom",
          "yref": "paper"
         },
         {
          "font": {
           "size": 16
          },
          "showarrow": false,
          "text": "ALG",
          "x": 0.08399999999999999,
          "xanchor": "center",
          "xref": "paper",
          "y": 0.21875,
          "yanchor": "bottom",
          "yref": "paper"
         },
         {
          "font": {
           "size": 16
          },
          "showarrow": false,
          "text": "SLO",
          "x": 0.292,
          "xanchor": "center",
          "xref": "paper",
          "y": 0.21875,
          "yanchor": "bottom",
          "yref": "paper"
         },
         {
          "font": {
           "size": 16
          },
          "showarrow": false,
          "text": "IRI",
          "x": 0.5,
          "xanchor": "center",
          "xref": "paper",
          "y": 0.21875,
          "yanchor": "bottom",
          "yref": "paper"
         },
         {
          "font": {
           "size": 16
          },
          "showarrow": false,
          "text": "NOR",
          "x": 0.708,
          "xanchor": "center",
          "xref": "paper",
          "y": 0.21875,
          "yanchor": "bottom",
          "yref": "paper"
         },
         {
          "font": {
           "size": 16
          },
          "showarrow": false,
          "text": "TUN",
          "x": 0.9159999999999999,
          "xanchor": "center",
          "xref": "paper",
          "y": 0.21875,
          "yanchor": "bottom",
          "yref": "paper"
         },
         {
          "font": {
           "size": 16
          },
          "showarrow": false,
          "text": "AZE",
          "x": 0.08399999999999999,
          "xanchor": "center",
          "xref": "paper",
          "y": 0.13194444444444445,
          "yanchor": "bottom",
          "yref": "paper"
         },
         {
          "font": {
           "size": 16
          },
          "showarrow": false,
          "text": "JAM",
          "x": 0.292,
          "xanchor": "center",
          "xref": "paper",
          "y": 0.13194444444444445,
          "yanchor": "bottom",
          "yref": "paper"
         },
         {
          "font": {
           "size": 16
          },
          "showarrow": false,
          "text": "TPE",
          "x": 0.5,
          "xanchor": "center",
          "xref": "paper",
          "y": 0.13194444444444445,
          "yanchor": "bottom",
          "yref": "paper"
         },
         {
          "font": {
           "size": 16
          },
          "showarrow": false,
          "text": "THA",
          "x": 0.708,
          "xanchor": "center",
          "xref": "paper",
          "y": 0.13194444444444445,
          "yanchor": "bottom",
          "yref": "paper"
         },
         {
          "font": {
           "size": 16
          },
          "showarrow": false,
          "text": "FIN",
          "x": 0.9159999999999999,
          "xanchor": "center",
          "xref": "paper",
          "y": 0.13194444444444445,
          "yanchor": "bottom",
          "yref": "paper"
         },
         {
          "font": {
           "size": 16
          },
          "showarrow": false,
          "text": "FIJ",
          "x": 0.08399999999999999,
          "xanchor": "center",
          "xref": "paper",
          "y": 0.045138888888888895,
          "yanchor": "bottom",
          "yref": "paper"
         },
         {
          "font": {
           "size": 16
          },
          "showarrow": false,
          "text": "SVK",
          "x": 0.292,
          "xanchor": "center",
          "xref": "paper",
          "y": 0.045138888888888895,
          "yanchor": "bottom",
          "yref": "paper"
         },
         {
          "font": {
           "size": 16
          },
          "showarrow": false,
          "text": "BUL",
          "x": 0.5,
          "xanchor": "center",
          "xref": "paper",
          "y": 0.045138888888888895,
          "yanchor": "bottom",
          "yref": "paper"
         }
        ],
        "height": 2400,
        "template": {
         "data": {
          "bar": [
           {
            "error_x": {
             "color": "#2a3f5f"
            },
            "error_y": {
             "color": "#2a3f5f"
            },
            "marker": {
             "line": {
              "color": "#E5ECF6",
              "width": 0.5
             }
            },
            "type": "bar"
           }
          ],
          "barpolar": [
           {
            "marker": {
             "line": {
              "color": "#E5ECF6",
              "width": 0.5
             }
            },
            "type": "barpolar"
           }
          ],
          "carpet": [
           {
            "aaxis": {
             "endlinecolor": "#2a3f5f",
             "gridcolor": "white",
             "linecolor": "white",
             "minorgridcolor": "white",
             "startlinecolor": "#2a3f5f"
            },
            "baxis": {
             "endlinecolor": "#2a3f5f",
             "gridcolor": "white",
             "linecolor": "white",
             "minorgridcolor": "white",
             "startlinecolor": "#2a3f5f"
            },
            "type": "carpet"
           }
          ],
          "choropleth": [
           {
            "colorbar": {
             "outlinewidth": 0,
             "ticks": ""
            },
            "type": "choropleth"
           }
          ],
          "contour": [
           {
            "colorbar": {
             "outlinewidth": 0,
             "ticks": ""
            },
            "colorscale": [
             [
              0,
              "#0d0887"
             ],
             [
              0.1111111111111111,
              "#46039f"
             ],
             [
              0.2222222222222222,
              "#7201a8"
             ],
             [
              0.3333333333333333,
              "#9c179e"
             ],
             [
              0.4444444444444444,
              "#bd3786"
             ],
             [
              0.5555555555555556,
              "#d8576b"
             ],
             [
              0.6666666666666666,
              "#ed7953"
             ],
             [
              0.7777777777777778,
              "#fb9f3a"
             ],
             [
              0.8888888888888888,
              "#fdca26"
             ],
             [
              1,
              "#f0f921"
             ]
            ],
            "type": "contour"
           }
          ],
          "contourcarpet": [
           {
            "colorbar": {
             "outlinewidth": 0,
             "ticks": ""
            },
            "type": "contourcarpet"
           }
          ],
          "heatmap": [
           {
            "colorbar": {
             "outlinewidth": 0,
             "ticks": ""
            },
            "colorscale": [
             [
              0,
              "#0d0887"
             ],
             [
              0.1111111111111111,
              "#46039f"
             ],
             [
              0.2222222222222222,
              "#7201a8"
             ],
             [
              0.3333333333333333,
              "#9c179e"
             ],
             [
              0.4444444444444444,
              "#bd3786"
             ],
             [
              0.5555555555555556,
              "#d8576b"
             ],
             [
              0.6666666666666666,
              "#ed7953"
             ],
             [
              0.7777777777777778,
              "#fb9f3a"
             ],
             [
              0.8888888888888888,
              "#fdca26"
             ],
             [
              1,
              "#f0f921"
             ]
            ],
            "type": "heatmap"
           }
          ],
          "heatmapgl": [
           {
            "colorbar": {
             "outlinewidth": 0,
             "ticks": ""
            },
            "colorscale": [
             [
              0,
              "#0d0887"
             ],
             [
              0.1111111111111111,
              "#46039f"
             ],
             [
              0.2222222222222222,
              "#7201a8"
             ],
             [
              0.3333333333333333,
              "#9c179e"
             ],
             [
              0.4444444444444444,
              "#bd3786"
             ],
             [
              0.5555555555555556,
              "#d8576b"
             ],
             [
              0.6666666666666666,
              "#ed7953"
             ],
             [
              0.7777777777777778,
              "#fb9f3a"
             ],
             [
              0.8888888888888888,
              "#fdca26"
             ],
             [
              1,
              "#f0f921"
             ]
            ],
            "type": "heatmapgl"
           }
          ],
          "histogram": [
           {
            "marker": {
             "colorbar": {
              "outlinewidth": 0,
              "ticks": ""
             }
            },
            "type": "histogram"
           }
          ],
          "histogram2d": [
           {
            "colorbar": {
             "outlinewidth": 0,
             "ticks": ""
            },
            "colorscale": [
             [
              0,
              "#0d0887"
             ],
             [
              0.1111111111111111,
              "#46039f"
             ],
             [
              0.2222222222222222,
              "#7201a8"
             ],
             [
              0.3333333333333333,
              "#9c179e"
             ],
             [
              0.4444444444444444,
              "#bd3786"
             ],
             [
              0.5555555555555556,
              "#d8576b"
             ],
             [
              0.6666666666666666,
              "#ed7953"
             ],
             [
              0.7777777777777778,
              "#fb9f3a"
             ],
             [
              0.8888888888888888,
              "#fdca26"
             ],
             [
              1,
              "#f0f921"
             ]
            ],
            "type": "histogram2d"
           }
          ],
          "histogram2dcontour": [
           {
            "colorbar": {
             "outlinewidth": 0,
             "ticks": ""
            },
            "colorscale": [
             [
              0,
              "#0d0887"
             ],
             [
              0.1111111111111111,
              "#46039f"
             ],
             [
              0.2222222222222222,
              "#7201a8"
             ],
             [
              0.3333333333333333,
              "#9c179e"
             ],
             [
              0.4444444444444444,
              "#bd3786"
             ],
             [
              0.5555555555555556,
              "#d8576b"
             ],
             [
              0.6666666666666666,
              "#ed7953"
             ],
             [
              0.7777777777777778,
              "#fb9f3a"
             ],
             [
              0.8888888888888888,
              "#fdca26"
             ],
             [
              1,
              "#f0f921"
             ]
            ],
            "type": "histogram2dcontour"
           }
          ],
          "mesh3d": [
           {
            "colorbar": {
             "outlinewidth": 0,
             "ticks": ""
            },
            "type": "mesh3d"
           }
          ],
          "parcoords": [
           {
            "line": {
             "colorbar": {
              "outlinewidth": 0,
              "ticks": ""
             }
            },
            "type": "parcoords"
           }
          ],
          "pie": [
           {
            "automargin": true,
            "type": "pie"
           }
          ],
          "scatter": [
           {
            "marker": {
             "colorbar": {
              "outlinewidth": 0,
              "ticks": ""
             }
            },
            "type": "scatter"
           }
          ],
          "scatter3d": [
           {
            "line": {
             "colorbar": {
              "outlinewidth": 0,
              "ticks": ""
             }
            },
            "marker": {
             "colorbar": {
              "outlinewidth": 0,
              "ticks": ""
             }
            },
            "type": "scatter3d"
           }
          ],
          "scattercarpet": [
           {
            "marker": {
             "colorbar": {
              "outlinewidth": 0,
              "ticks": ""
             }
            },
            "type": "scattercarpet"
           }
          ],
          "scattergeo": [
           {
            "marker": {
             "colorbar": {
              "outlinewidth": 0,
              "ticks": ""
             }
            },
            "type": "scattergeo"
           }
          ],
          "scattergl": [
           {
            "marker": {
             "colorbar": {
              "outlinewidth": 0,
              "ticks": ""
             }
            },
            "type": "scattergl"
           }
          ],
          "scattermapbox": [
           {
            "marker": {
             "colorbar": {
              "outlinewidth": 0,
              "ticks": ""
             }
            },
            "type": "scattermapbox"
           }
          ],
          "scatterpolar": [
           {
            "marker": {
             "colorbar": {
              "outlinewidth": 0,
              "ticks": ""
             }
            },
            "type": "scatterpolar"
           }
          ],
          "scatterpolargl": [
           {
            "marker": {
             "colorbar": {
              "outlinewidth": 0,
              "ticks": ""
             }
            },
            "type": "scatterpolargl"
           }
          ],
          "scatterternary": [
           {
            "marker": {
             "colorbar": {
              "outlinewidth": 0,
              "ticks": ""
             }
            },
            "type": "scatterternary"
           }
          ],
          "surface": [
           {
            "colorbar": {
             "outlinewidth": 0,
             "ticks": ""
            },
            "colorscale": [
             [
              0,
              "#0d0887"
             ],
             [
              0.1111111111111111,
              "#46039f"
             ],
             [
              0.2222222222222222,
              "#7201a8"
             ],
             [
              0.3333333333333333,
              "#9c179e"
             ],
             [
              0.4444444444444444,
              "#bd3786"
             ],
             [
              0.5555555555555556,
              "#d8576b"
             ],
             [
              0.6666666666666666,
              "#ed7953"
             ],
             [
              0.7777777777777778,
              "#fb9f3a"
             ],
             [
              0.8888888888888888,
              "#fdca26"
             ],
             [
              1,
              "#f0f921"
             ]
            ],
            "type": "surface"
           }
          ],
          "table": [
           {
            "cells": {
             "fill": {
              "color": "#EBF0F8"
             },
             "line": {
              "color": "white"
             }
            },
            "header": {
             "fill": {
              "color": "#C8D4E3"
             },
             "line": {
              "color": "white"
             }
            },
            "type": "table"
           }
          ]
         },
         "layout": {
          "annotationdefaults": {
           "arrowcolor": "#2a3f5f",
           "arrowhead": 0,
           "arrowwidth": 1
          },
          "autotypenumbers": "strict",
          "coloraxis": {
           "colorbar": {
            "outlinewidth": 0,
            "ticks": ""
           }
          },
          "colorscale": {
           "diverging": [
            [
             0,
             "#8e0152"
            ],
            [
             0.1,
             "#c51b7d"
            ],
            [
             0.2,
             "#de77ae"
            ],
            [
             0.3,
             "#f1b6da"
            ],
            [
             0.4,
             "#fde0ef"
            ],
            [
             0.5,
             "#f7f7f7"
            ],
            [
             0.6,
             "#e6f5d0"
            ],
            [
             0.7,
             "#b8e186"
            ],
            [
             0.8,
             "#7fbc41"
            ],
            [
             0.9,
             "#4d9221"
            ],
            [
             1,
             "#276419"
            ]
           ],
           "sequential": [
            [
             0,
             "#0d0887"
            ],
            [
             0.1111111111111111,
             "#46039f"
            ],
            [
             0.2222222222222222,
             "#7201a8"
            ],
            [
             0.3333333333333333,
             "#9c179e"
            ],
            [
             0.4444444444444444,
             "#bd3786"
            ],
            [
             0.5555555555555556,
             "#d8576b"
            ],
            [
             0.6666666666666666,
             "#ed7953"
            ],
            [
             0.7777777777777778,
             "#fb9f3a"
            ],
            [
             0.8888888888888888,
             "#fdca26"
            ],
            [
             1,
             "#f0f921"
            ]
           ],
           "sequentialminus": [
            [
             0,
             "#0d0887"
            ],
            [
             0.1111111111111111,
             "#46039f"
            ],
            [
             0.2222222222222222,
             "#7201a8"
            ],
            [
             0.3333333333333333,
             "#9c179e"
            ],
            [
             0.4444444444444444,
             "#bd3786"
            ],
            [
             0.5555555555555556,
             "#d8576b"
            ],
            [
             0.6666666666666666,
             "#ed7953"
            ],
            [
             0.7777777777777778,
             "#fb9f3a"
            ],
            [
             0.8888888888888888,
             "#fdca26"
            ],
            [
             1,
             "#f0f921"
            ]
           ]
          },
          "colorway": [
           "#636efa",
           "#EF553B",
           "#00cc96",
           "#ab63fa",
           "#FFA15A",
           "#19d3f3",
           "#FF6692",
           "#B6E880",
           "#FF97FF",
           "#FECB52"
          ],
          "font": {
           "color": "#2a3f5f"
          },
          "geo": {
           "bgcolor": "white",
           "lakecolor": "white",
           "landcolor": "#E5ECF6",
           "showlakes": true,
           "showland": true,
           "subunitcolor": "white"
          },
          "hoverlabel": {
           "align": "left"
          },
          "hovermode": "closest",
          "mapbox": {
           "style": "light"
          },
          "paper_bgcolor": "white",
          "plot_bgcolor": "#E5ECF6",
          "polar": {
           "angularaxis": {
            "gridcolor": "white",
            "linecolor": "white",
            "ticks": ""
           },
           "bgcolor": "#E5ECF6",
           "radialaxis": {
            "gridcolor": "white",
            "linecolor": "white",
            "ticks": ""
           }
          },
          "scene": {
           "xaxis": {
            "backgroundcolor": "#E5ECF6",
            "gridcolor": "white",
            "gridwidth": 2,
            "linecolor": "white",
            "showbackground": true,
            "ticks": "",
            "zerolinecolor": "white"
           },
           "yaxis": {
            "backgroundcolor": "#E5ECF6",
            "gridcolor": "white",
            "gridwidth": 2,
            "linecolor": "white",
            "showbackground": true,
            "ticks": "",
            "zerolinecolor": "white"
           },
           "zaxis": {
            "backgroundcolor": "#E5ECF6",
            "gridcolor": "white",
            "gridwidth": 2,
            "linecolor": "white",
            "showbackground": true,
            "ticks": "",
            "zerolinecolor": "white"
           }
          },
          "shapedefaults": {
           "line": {
            "color": "#2a3f5f"
           }
          },
          "ternary": {
           "aaxis": {
            "gridcolor": "white",
            "linecolor": "white",
            "ticks": ""
           },
           "baxis": {
            "gridcolor": "white",
            "linecolor": "white",
            "ticks": ""
           },
           "bgcolor": "#E5ECF6",
           "caxis": {
            "gridcolor": "white",
            "linecolor": "white",
            "ticks": ""
           }
          },
          "title": {
           "x": 0.05
          },
          "xaxis": {
           "automargin": true,
           "gridcolor": "white",
           "linecolor": "white",
           "ticks": "",
           "title": {
            "standoff": 15
           },
           "zerolinecolor": "white",
           "zerolinewidth": 2
          },
          "yaxis": {
           "automargin": true,
           "gridcolor": "white",
           "linecolor": "white",
           "ticks": "",
           "title": {
            "standoff": 15
           },
           "zerolinecolor": "white",
           "zerolinewidth": 2
          }
         }
        },
        "width": 1000,
        "xaxis": {
         "anchor": "y",
         "domain": [
          0,
          0.16799999999999998
         ],
         "range": [
          1896,
          2020
         ]
        },
        "xaxis10": {
         "anchor": "y10",
         "domain": [
          0.832,
          1
         ],
         "range": [
          1896,
          2020
         ]
        },
        "xaxis11": {
         "anchor": "y11",
         "domain": [
          0,
          0.16799999999999998
         ],
         "range": [
          1896,
          2020
         ]
        },
        "xaxis12": {
         "anchor": "y12",
         "domain": [
          0.208,
          0.376
         ],
         "range": [
          1896,
          2020
         ]
        },
        "xaxis13": {
         "anchor": "y13",
         "domain": [
          0.416,
          0.584
         ],
         "range": [
          1896,
          2020
         ]
        },
        "xaxis14": {
         "anchor": "y14",
         "domain": [
          0.624,
          0.792
         ],
         "range": [
          1896,
          2020
         ]
        },
        "xaxis15": {
         "anchor": "y15",
         "domain": [
          0.832,
          1
         ],
         "range": [
          1896,
          2020
         ]
        },
        "xaxis16": {
         "anchor": "y16",
         "domain": [
          0,
          0.16799999999999998
         ],
         "range": [
          1896,
          2020
         ]
        },
        "xaxis17": {
         "anchor": "y17",
         "domain": [
          0.208,
          0.376
         ],
         "range": [
          1896,
          2020
         ]
        },
        "xaxis18": {
         "anchor": "y18",
         "domain": [
          0.416,
          0.584
         ],
         "range": [
          1896,
          2020
         ]
        },
        "xaxis19": {
         "anchor": "y19",
         "domain": [
          0.624,
          0.792
         ],
         "range": [
          1896,
          2020
         ]
        },
        "xaxis2": {
         "anchor": "y2",
         "domain": [
          0.208,
          0.376
         ],
         "range": [
          1896,
          2020
         ]
        },
        "xaxis20": {
         "anchor": "y20",
         "domain": [
          0.832,
          1
         ],
         "range": [
          1896,
          2020
         ]
        },
        "xaxis21": {
         "anchor": "y21",
         "domain": [
          0,
          0.16799999999999998
         ],
         "range": [
          1896,
          2020
         ]
        },
        "xaxis22": {
         "anchor": "y22",
         "domain": [
          0.208,
          0.376
         ],
         "range": [
          1896,
          2020
         ]
        },
        "xaxis23": {
         "anchor": "y23",
         "domain": [
          0.416,
          0.584
         ],
         "range": [
          1896,
          2020
         ]
        },
        "xaxis24": {
         "anchor": "y24",
         "domain": [
          0.624,
          0.792
         ],
         "range": [
          1896,
          2020
         ]
        },
        "xaxis25": {
         "anchor": "y25",
         "domain": [
          0.832,
          1
         ],
         "range": [
          1896,
          2020
         ]
        },
        "xaxis26": {
         "anchor": "y26",
         "domain": [
          0,
          0.16799999999999998
         ],
         "range": [
          1896,
          2020
         ]
        },
        "xaxis27": {
         "anchor": "y27",
         "domain": [
          0.208,
          0.376
         ],
         "range": [
          1896,
          2020
         ]
        },
        "xaxis28": {
         "anchor": "y28",
         "domain": [
          0.416,
          0.584
         ],
         "range": [
          1896,
          2020
         ]
        },
        "xaxis29": {
         "anchor": "y29",
         "domain": [
          0.624,
          0.792
         ],
         "range": [
          1896,
          2020
         ]
        },
        "xaxis3": {
         "anchor": "y3",
         "domain": [
          0.416,
          0.584
         ],
         "range": [
          1896,
          2020
         ]
        },
        "xaxis30": {
         "anchor": "y30",
         "domain": [
          0.832,
          1
         ],
         "range": [
          1896,
          2020
         ]
        },
        "xaxis31": {
         "anchor": "y31",
         "domain": [
          0,
          0.16799999999999998
         ],
         "range": [
          1896,
          2020
         ]
        },
        "xaxis32": {
         "anchor": "y32",
         "domain": [
          0.208,
          0.376
         ],
         "range": [
          1896,
          2020
         ]
        },
        "xaxis33": {
         "anchor": "y33",
         "domain": [
          0.416,
          0.584
         ],
         "range": [
          1896,
          2020
         ]
        },
        "xaxis34": {
         "anchor": "y34",
         "domain": [
          0.624,
          0.792
         ],
         "range": [
          1896,
          2020
         ]
        },
        "xaxis35": {
         "anchor": "y35",
         "domain": [
          0.832,
          1
         ],
         "range": [
          1896,
          2020
         ]
        },
        "xaxis36": {
         "anchor": "y36",
         "domain": [
          0,
          0.16799999999999998
         ],
         "range": [
          1896,
          2020
         ]
        },
        "xaxis37": {
         "anchor": "y37",
         "domain": [
          0.208,
          0.376
         ],
         "range": [
          1896,
          2020
         ]
        },
        "xaxis38": {
         "anchor": "y38",
         "domain": [
          0.416,
          0.584
         ],
         "range": [
          1896,
          2020
         ]
        },
        "xaxis39": {
         "anchor": "y39",
         "domain": [
          0.624,
          0.792
         ],
         "range": [
          1896,
          2020
         ]
        },
        "xaxis4": {
         "anchor": "y4",
         "domain": [
          0.624,
          0.792
         ],
         "range": [
          1896,
          2020
         ]
        },
        "xaxis40": {
         "anchor": "y40",
         "domain": [
          0.832,
          1
         ],
         "range": [
          1896,
          2020
         ]
        },
        "xaxis41": {
         "anchor": "y41",
         "domain": [
          0,
          0.16799999999999998
         ],
         "range": [
          1896,
          2020
         ]
        },
        "xaxis42": {
         "anchor": "y42",
         "domain": [
          0.208,
          0.376
         ],
         "range": [
          1896,
          2020
         ]
        },
        "xaxis43": {
         "anchor": "y43",
         "domain": [
          0.416,
          0.584
         ],
         "range": [
          1896,
          2020
         ]
        },
        "xaxis44": {
         "anchor": "y44",
         "domain": [
          0.624,
          0.792
         ],
         "range": [
          1896,
          2020
         ]
        },
        "xaxis45": {
         "anchor": "y45",
         "domain": [
          0.832,
          1
         ],
         "range": [
          1896,
          2020
         ]
        },
        "xaxis46": {
         "anchor": "y46",
         "domain": [
          0,
          0.16799999999999998
         ],
         "range": [
          1896,
          2020
         ]
        },
        "xaxis47": {
         "anchor": "y47",
         "domain": [
          0.208,
          0.376
         ],
         "range": [
          1896,
          2020
         ]
        },
        "xaxis48": {
         "anchor": "y48",
         "domain": [
          0.416,
          0.584
         ],
         "range": [
          1896,
          2020
         ]
        },
        "xaxis49": {
         "anchor": "y49",
         "domain": [
          0.624,
          0.792
         ],
         "range": [
          1896,
          2020
         ]
        },
        "xaxis5": {
         "anchor": "y5",
         "domain": [
          0.832,
          1
         ],
         "range": [
          1896,
          2020
         ]
        },
        "xaxis50": {
         "anchor": "y50",
         "domain": [
          0.832,
          1
         ],
         "range": [
          1896,
          2020
         ]
        },
        "xaxis51": {
         "anchor": "y51",
         "domain": [
          0,
          0.16799999999999998
         ],
         "range": [
          1896,
          2020
         ]
        },
        "xaxis52": {
         "anchor": "y52",
         "domain": [
          0.208,
          0.376
         ],
         "range": [
          1896,
          2020
         ]
        },
        "xaxis53": {
         "anchor": "y53",
         "domain": [
          0.416,
          0.584
         ],
         "range": [
          1896,
          2020
         ]
        },
        "xaxis54": {
         "anchor": "y54",
         "domain": [
          0.624,
          0.792
         ],
         "range": [
          1896,
          2020
         ]
        },
        "xaxis55": {
         "anchor": "y55",
         "domain": [
          0.832,
          1
         ],
         "range": [
          1896,
          2020
         ]
        },
        "xaxis56": {
         "anchor": "y56",
         "domain": [
          0,
          0.16799999999999998
         ],
         "range": [
          1896,
          2020
         ]
        },
        "xaxis57": {
         "anchor": "y57",
         "domain": [
          0.208,
          0.376
         ],
         "range": [
          1896,
          2020
         ]
        },
        "xaxis58": {
         "anchor": "y58",
         "domain": [
          0.416,
          0.584
         ],
         "range": [
          1896,
          2020
         ]
        },
        "xaxis59": {
         "anchor": "y59",
         "domain": [
          0.624,
          0.792
         ]
        },
        "xaxis6": {
         "anchor": "y6",
         "domain": [
          0,
          0.16799999999999998
         ],
         "range": [
          1896,
          2020
         ]
        },
        "xaxis60": {
         "anchor": "y60",
         "domain": [
          0.832,
          1
         ]
        },
        "xaxis7": {
         "anchor": "y7",
         "domain": [
          0.208,
          0.376
         ],
         "range": [
          1896,
          2020
         ]
        },
        "xaxis8": {
         "anchor": "y8",
         "domain": [
          0.416,
          0.584
         ],
         "range": [
          1896,
          2020
         ]
        },
        "xaxis9": {
         "anchor": "y9",
         "domain": [
          0.624,
          0.792
         ],
         "range": [
          1896,
          2020
         ]
        },
        "yaxis": {
         "anchor": "x",
         "domain": [
          0.9548611111111112,
          1
         ],
         "range": [
          0,
          0.7
         ]
        },
        "yaxis10": {
         "anchor": "x10",
         "domain": [
          0.8680555555555556,
          0.9131944444444444
         ],
         "range": [
          0,
          0.7
         ]
        },
        "yaxis11": {
         "anchor": "x11",
         "domain": [
          0.78125,
          0.8263888888888888
         ],
         "range": [
          0,
          0.7
         ]
        },
        "yaxis12": {
         "anchor": "x12",
         "domain": [
          0.78125,
          0.8263888888888888
         ],
         "range": [
          0,
          0.7
         ]
        },
        "yaxis13": {
         "anchor": "x13",
         "domain": [
          0.78125,
          0.8263888888888888
         ],
         "range": [
          0,
          0.7
         ]
        },
        "yaxis14": {
         "anchor": "x14",
         "domain": [
          0.78125,
          0.8263888888888888
         ],
         "range": [
          0,
          0.7
         ]
        },
        "yaxis15": {
         "anchor": "x15",
         "domain": [
          0.78125,
          0.8263888888888888
         ],
         "range": [
          0,
          0.7
         ]
        },
        "yaxis16": {
         "anchor": "x16",
         "domain": [
          0.6944444444444444,
          0.7395833333333333
         ],
         "range": [
          0,
          0.7
         ]
        },
        "yaxis17": {
         "anchor": "x17",
         "domain": [
          0.6944444444444444,
          0.7395833333333333
         ],
         "range": [
          0,
          0.7
         ]
        },
        "yaxis18": {
         "anchor": "x18",
         "domain": [
          0.6944444444444444,
          0.7395833333333333
         ],
         "range": [
          0,
          0.7
         ]
        },
        "yaxis19": {
         "anchor": "x19",
         "domain": [
          0.6944444444444444,
          0.7395833333333333
         ],
         "range": [
          0,
          0.7
         ]
        },
        "yaxis2": {
         "anchor": "x2",
         "domain": [
          0.9548611111111112,
          1
         ],
         "range": [
          0,
          0.7
         ]
        },
        "yaxis20": {
         "anchor": "x20",
         "domain": [
          0.6944444444444444,
          0.7395833333333333
         ],
         "range": [
          0,
          0.7
         ]
        },
        "yaxis21": {
         "anchor": "x21",
         "domain": [
          0.6076388888888888,
          0.6527777777777777
         ],
         "range": [
          0,
          0.7
         ]
        },
        "yaxis22": {
         "anchor": "x22",
         "domain": [
          0.6076388888888888,
          0.6527777777777777
         ],
         "range": [
          0,
          0.7
         ]
        },
        "yaxis23": {
         "anchor": "x23",
         "domain": [
          0.6076388888888888,
          0.6527777777777777
         ],
         "range": [
          0,
          0.7
         ]
        },
        "yaxis24": {
         "anchor": "x24",
         "domain": [
          0.6076388888888888,
          0.6527777777777777
         ],
         "range": [
          0,
          0.7
         ]
        },
        "yaxis25": {
         "anchor": "x25",
         "domain": [
          0.6076388888888888,
          0.6527777777777777
         ],
         "range": [
          0,
          0.7
         ]
        },
        "yaxis26": {
         "anchor": "x26",
         "domain": [
          0.5208333333333334,
          0.5659722222222223
         ],
         "range": [
          0,
          0.7
         ]
        },
        "yaxis27": {
         "anchor": "x27",
         "domain": [
          0.5208333333333334,
          0.5659722222222223
         ],
         "range": [
          0,
          0.7
         ]
        },
        "yaxis28": {
         "anchor": "x28",
         "domain": [
          0.5208333333333334,
          0.5659722222222223
         ],
         "range": [
          0,
          0.7
         ]
        },
        "yaxis29": {
         "anchor": "x29",
         "domain": [
          0.5208333333333334,
          0.5659722222222223
         ],
         "range": [
          0,
          0.7
         ]
        },
        "yaxis3": {
         "anchor": "x3",
         "domain": [
          0.9548611111111112,
          1
         ],
         "range": [
          0,
          0.7
         ]
        },
        "yaxis30": {
         "anchor": "x30",
         "domain": [
          0.5208333333333334,
          0.5659722222222223
         ],
         "range": [
          0,
          0.7
         ]
        },
        "yaxis31": {
         "anchor": "x31",
         "domain": [
          0.4340277777777778,
          0.4791666666666667
         ],
         "range": [
          0,
          0.7
         ]
        },
        "yaxis32": {
         "anchor": "x32",
         "domain": [
          0.4340277777777778,
          0.4791666666666667
         ],
         "range": [
          0,
          0.7
         ]
        },
        "yaxis33": {
         "anchor": "x33",
         "domain": [
          0.4340277777777778,
          0.4791666666666667
         ],
         "range": [
          0,
          0.7
         ]
        },
        "yaxis34": {
         "anchor": "x34",
         "domain": [
          0.4340277777777778,
          0.4791666666666667
         ],
         "range": [
          0,
          0.7
         ]
        },
        "yaxis35": {
         "anchor": "x35",
         "domain": [
          0.4340277777777778,
          0.4791666666666667
         ],
         "range": [
          0,
          0.7
         ]
        },
        "yaxis36": {
         "anchor": "x36",
         "domain": [
          0.3472222222222222,
          0.3923611111111111
         ],
         "range": [
          0,
          0.7
         ]
        },
        "yaxis37": {
         "anchor": "x37",
         "domain": [
          0.3472222222222222,
          0.3923611111111111
         ],
         "range": [
          0,
          0.7
         ]
        },
        "yaxis38": {
         "anchor": "x38",
         "domain": [
          0.3472222222222222,
          0.3923611111111111
         ],
         "range": [
          0,
          0.7
         ]
        },
        "yaxis39": {
         "anchor": "x39",
         "domain": [
          0.3472222222222222,
          0.3923611111111111
         ],
         "range": [
          0,
          0.7
         ]
        },
        "yaxis4": {
         "anchor": "x4",
         "domain": [
          0.9548611111111112,
          1
         ],
         "range": [
          0,
          0.7
         ]
        },
        "yaxis40": {
         "anchor": "x40",
         "domain": [
          0.3472222222222222,
          0.3923611111111111
         ],
         "range": [
          0,
          0.7
         ]
        },
        "yaxis41": {
         "anchor": "x41",
         "domain": [
          0.2604166666666667,
          0.3055555555555556
         ],
         "range": [
          0,
          0.7
         ]
        },
        "yaxis42": {
         "anchor": "x42",
         "domain": [
          0.2604166666666667,
          0.3055555555555556
         ],
         "range": [
          0,
          0.7
         ]
        },
        "yaxis43": {
         "anchor": "x43",
         "domain": [
          0.2604166666666667,
          0.3055555555555556
         ],
         "range": [
          0,
          0.7
         ]
        },
        "yaxis44": {
         "anchor": "x44",
         "domain": [
          0.2604166666666667,
          0.3055555555555556
         ],
         "range": [
          0,
          0.7
         ]
        },
        "yaxis45": {
         "anchor": "x45",
         "domain": [
          0.2604166666666667,
          0.3055555555555556
         ],
         "range": [
          0,
          0.7
         ]
        },
        "yaxis46": {
         "anchor": "x46",
         "domain": [
          0.1736111111111111,
          0.21875
         ],
         "range": [
          0,
          0.7
         ]
        },
        "yaxis47": {
         "anchor": "x47",
         "domain": [
          0.1736111111111111,
          0.21875
         ],
         "range": [
          0,
          0.7
         ]
        },
        "yaxis48": {
         "anchor": "x48",
         "domain": [
          0.1736111111111111,
          0.21875
         ],
         "range": [
          0,
          0.7
         ]
        },
        "yaxis49": {
         "anchor": "x49",
         "domain": [
          0.1736111111111111,
          0.21875
         ],
         "range": [
          0,
          0.7
         ]
        },
        "yaxis5": {
         "anchor": "x5",
         "domain": [
          0.9548611111111112,
          1
         ],
         "range": [
          0,
          0.7
         ]
        },
        "yaxis50": {
         "anchor": "x50",
         "domain": [
          0.1736111111111111,
          0.21875
         ],
         "range": [
          0,
          0.7
         ]
        },
        "yaxis51": {
         "anchor": "x51",
         "domain": [
          0.08680555555555555,
          0.13194444444444445
         ],
         "range": [
          0,
          0.7
         ]
        },
        "yaxis52": {
         "anchor": "x52",
         "domain": [
          0.08680555555555555,
          0.13194444444444445
         ],
         "range": [
          0,
          0.7
         ]
        },
        "yaxis53": {
         "anchor": "x53",
         "domain": [
          0.08680555555555555,
          0.13194444444444445
         ],
         "range": [
          0,
          0.7
         ]
        },
        "yaxis54": {
         "anchor": "x54",
         "domain": [
          0.08680555555555555,
          0.13194444444444445
         ],
         "range": [
          0,
          0.7
         ]
        },
        "yaxis55": {
         "anchor": "x55",
         "domain": [
          0.08680555555555555,
          0.13194444444444445
         ],
         "range": [
          0,
          0.7
         ]
        },
        "yaxis56": {
         "anchor": "x56",
         "domain": [
          0,
          0.045138888888888895
         ],
         "range": [
          0,
          0.7
         ]
        },
        "yaxis57": {
         "anchor": "x57",
         "domain": [
          0,
          0.045138888888888895
         ],
         "range": [
          0,
          0.7
         ]
        },
        "yaxis58": {
         "anchor": "x58",
         "domain": [
          0,
          0.045138888888888895
         ],
         "range": [
          0,
          0.7
         ]
        },
        "yaxis59": {
         "anchor": "x59",
         "domain": [
          0,
          0.045138888888888895
         ]
        },
        "yaxis6": {
         "anchor": "x6",
         "domain": [
          0.8680555555555556,
          0.9131944444444444
         ],
         "range": [
          0,
          0.7
         ]
        },
        "yaxis60": {
         "anchor": "x60",
         "domain": [
          0,
          0.045138888888888895
         ]
        },
        "yaxis7": {
         "anchor": "x7",
         "domain": [
          0.8680555555555556,
          0.9131944444444444
         ],
         "range": [
          0,
          0.7
         ]
        },
        "yaxis8": {
         "anchor": "x8",
         "domain": [
          0.8680555555555556,
          0.9131944444444444
         ],
         "range": [
          0,
          0.7
         ]
        },
        "yaxis9": {
         "anchor": "x9",
         "domain": [
          0.8680555555555556,
          0.9131944444444444
         ],
         "range": [
          0,
          0.7
         ]
        }
       }
      },
      "text/html": [
       "<div>                            <div id=\"79b41659-fe24-46f5-8ffc-88d524a781c3\" class=\"plotly-graph-div\" style=\"height:2400px; width:1000px;\"></div>            <script type=\"text/javascript\">                require([\"plotly\"], function(Plotly) {                    window.PLOTLYENV=window.PLOTLYENV || {};                                    if (document.getElementById(\"79b41659-fe24-46f5-8ffc-88d524a781c3\")) {                    Plotly.newPlot(                        \"79b41659-fe24-46f5-8ffc-88d524a781c3\",                        [{\"marker\": {\"color\": \"rgb(55, 83, 109)\"}, \"mode\": \"lines+markers\", \"showlegend\": false, \"type\": \"scatter\", \"x\": [1896, 1900, 1904, 1908, 1912, 1920, 1924, 1928, 1932, 1936, 1948, 1952, 1956, 1960, 1964, 1968, 1972, 1976, 1984, 1988, 1992, 1996, 2000, 2004, 2008, 2012, 2016], \"xaxis\": \"x\", \"y\": [0.0, 0.09333333333333334, 0.011450381679389313, 0.0, 0.0, 0.04861111111111111, 0.07744107744107744, 0.1574468085106383, 0.12099644128113879, 0.13225806451612904, 0.12666666666666668, 0.14335664335664336, 0.1540983606557377, 0.17465753424657535, 0.22832369942196531, 0.23249299719887956, 0.21, 0.29797979797979796, 0.3505747126436782, 0.3700189753320683, 0.3486238532110092, 0.4212962962962963, 0.431740614334471, 0.47654784240150094, 0.47959183673469385, 0.5056603773584906, 0.5243243243243243], \"yaxis\": \"y\"}, {\"marker\": {\"color\": \"#222\"}, \"mode\": \"lines\", \"showlegend\": false, \"type\": \"scatter\", \"x\": [1896, 2016], \"xaxis\": \"x\", \"y\": [0.5, 0.5], \"yaxis\": \"y\"}, {\"marker\": {\"color\": \"rgb(55, 83, 109)\"}, \"mode\": \"lines+markers\", \"showlegend\": false, \"type\": \"scatter\", \"x\": [1900, 1920, 1924, 1932, 1936, 1948, 1952, 1956, 1960, 1964, 1968, 1972, 1976, 1980, 1984, 1988, 1992, 1996, 2000, 2004, 2008, 2012, 2016], \"xaxis\": \"x2\", \"y\": [0.0, 0.0, 0.0, 0.01694915254237288, 0.0821917808219178, 0.15714285714285714, 0.05154639175257732, 0.02127659574468085, 0.013888888888888888, 0.01639344262295082, 0.039473684210526314, 0.037037037037037035, 0.08860759493670886, 0.14150943396226415, 0.14285714285714285, 0.20625, 0.27472527472527475, 0.29411764705882354, 0.46464646464646464, 0.4897119341563786, 0.48134328358208955, 0.4717741935483871, 0.44805194805194803], \"yaxis\": \"y2\"}, {\"marker\": {\"color\": \"#222\"}, \"mode\": \"lines\", \"showlegend\": false, \"type\": \"scatter\", \"x\": [1896, 2016], \"xaxis\": \"x2\", \"y\": [0.5, 0.5], \"yaxis\": \"y2\"}, {\"marker\": {\"color\": \"rgb(55, 83, 109)\"}, \"mode\": \"lines+markers\", \"showlegend\": false, \"type\": \"scatter\", \"x\": [1896, 1900, 1904, 1920, 1924, 1928, 1932, 1936, 1948, 1952, 1956, 1960, 1964, 1968, 1972, 1976, 1980, 1984, 1988, 1992, 1996, 2000, 2004, 2008, 2012, 2016], \"xaxis\": \"x3\", \"y\": [0.0, 0.0, 0.0, 0.07692307692307693, 0.0, 0.2222222222222222, 0.3333333333333333, 0.125, 0.12, 0.12345679012345678, 0.1476510067114094, 0.15343915343915343, 0.1646090534979424, 0.1875, 0.17261904761904762, 0.18888888888888888, 0.23333333333333334, 0.30165289256198347, 0.2857142857142857, 0.32974910394265233, 0.40047961630695444, 0.4473257698541329, 0.4297872340425532, 0.46064814814814814, 0.454320987654321, 0.5047619047619047], \"yaxis\": \"y3\"}, {\"marker\": {\"color\": \"#222\"}, \"mode\": \"lines\", \"showlegend\": false, \"type\": \"scatter\", \"x\": [1896, 2016], \"xaxis\": \"x3\", \"y\": [0.5, 0.5], \"yaxis\": \"y3\"}, {\"marker\": {\"color\": \"rgb(55, 83, 109)\"}, \"mode\": \"lines+markers\", \"showlegend\": false, \"type\": \"scatter\", \"x\": [1896, 1900, 1904, 1908, 1912, 1928, 1932, 1936, 1952, 1956, 1960, 1964, 1992, 1996, 2000, 2004, 2008, 2012, 2016], \"xaxis\": \"x4\", \"y\": [0.0, 0.0, 0.0, 0.024390243902439025, 0.0273224043715847, 0.14485981308411214, 0.08433734939759036, 0.1206896551724138, 0.15609756097560976, 0.16167664670658682, 0.1870748299319728, 0.18397626112759644, 0.35205183585313177, 0.4012875536480687, 0.42890995260663506, 0.4331065759637188, 0.4357142857142857, 0.4464751958224543, 0.46411483253588515], \"yaxis\": \"y4\"}, {\"marker\": {\"color\": \"#222\"}, \"mode\": \"lines\", \"showlegend\": false, \"type\": \"scatter\", \"x\": [1896, 2016], \"xaxis\": \"x4\", \"y\": [0.5, 0.5], \"yaxis\": \"y4\"}, {\"marker\": {\"color\": \"rgb(55, 83, 109)\"}, \"mode\": \"lines+markers\", \"showlegend\": false, \"type\": \"scatter\", \"x\": [1896, 1900, 1904, 1908, 1912, 1920, 1924, 1928, 1932, 1936, 1948, 1952, 1956, 1960, 1964, 1968, 1972, 1976, 1980, 1984, 1988, 1992, 1996, 2000, 2004, 2008, 2012, 2016], \"xaxis\": \"x5\", \"y\": [0.0, 0.016666666666666666, 0.0, 0.0, 0.009174311926605505, 0.0231023102310231, 0.06269592476489028, 0.13852813852813853, 0.03076923076923077, 0.05472636815920398, 0.127208480565371, 0.12653061224489795, 0.12413793103448276, 0.11764705882352941, 0.14492753623188406, 0.155, 0.13215859030837004, 0.1407766990291262, 0.19008264462809918, 0.20588235294117646, 0.2781954887218045, 0.2890855457227139, 0.3411371237458194, 0.37202380952380953, 0.36688311688311687, 0.39158576051779936, 0.4382716049382716, 0.4260204081632653], \"yaxis\": \"y5\"}, {\"marker\": {\"color\": \"#222\"}, \"mode\": \"lines\", \"showlegend\": false, \"type\": \"scatter\", \"x\": [1896, 2016], \"xaxis\": \"x5\", \"y\": [0.5, 0.5], \"yaxis\": \"y5\"}, {\"marker\": {\"color\": \"rgb(55, 83, 109)\"}, \"mode\": \"lines+markers\", \"showlegend\": false, \"type\": \"scatter\", \"x\": [1932, 1936, 1948, 1952, 1984, 1988, 1992, 1996, 2000, 2004, 2008, 2012, 2016], \"xaxis\": \"x6\", \"y\": [0.0, 0.037037037037037035, 0.0, 0.0, 0.386046511627907, 0.4542124542124542, 0.5204918032786885, 0.6224489795918368, 0.6642066420664207, 0.6449086161879896, 0.48247078464106846, 0.5733333333333334, 0.6147959183673469], \"yaxis\": \"y6\"}, {\"marker\": {\"color\": \"#222\"}, \"mode\": \"lines\", \"showlegend\": false, \"type\": \"scatter\", \"x\": [1896, 2016], \"xaxis\": \"x6\", \"y\": [0.5, 0.5], \"yaxis\": \"y6\"}, {\"marker\": {\"color\": \"rgb(55, 83, 109)\"}, \"mode\": \"lines+markers\", \"showlegend\": false, \"type\": \"scatter\", \"x\": [1896, 1900, 1904, 1908, 1912, 1920, 1924, 1928, 1932, 1936, 1948, 1952, 1956, 1960, 1964, 1968, 1972, 1976, 1980, 1984, 1988, 1992, 1996, 2000, 2004, 2008, 2012, 2016], \"xaxis\": \"x7\", \"y\": [0.0, 0.009615384615384616, 0.0, 0.053061224489795916, 0.03690036900369004, 0.06866952789699571, 0.10038610038610038, 0.15025906735751296, 0.19444444444444445, 0.1778846153846154, 0.1501597444089457, 0.17120622568093385, 0.14720812182741116, 0.1857707509881423, 0.21568627450980393, 0.2222222222222222, 0.2605633802816901, 0.2727272727272727, 0.319634703196347, 0.32047477744807124, 0.3652173913043478, 0.38274932614555257, 0.38666666666666666, 0.4161290322580645, 0.39015151515151514, 0.46381578947368424, 0.4849056603773585, 0.44166666666666665], \"yaxis\": \"y7\"}, {\"marker\": {\"color\": \"#222\"}, \"mode\": \"lines\", \"showlegend\": false, \"type\": \"scatter\", \"x\": [1896, 2016], \"xaxis\": \"x7\", \"y\": [0.5, 0.5], \"yaxis\": \"y7\"}, {\"marker\": {\"color\": \"rgb(55, 83, 109)\"}, \"mode\": \"lines+markers\", \"showlegend\": false, \"type\": \"scatter\", \"x\": [1912, 1920, 1924, 1928, 1932, 1936, 1952, 1956, 1960, 1964, 1968, 1972, 1976, 1984, 1988, 1992, 1996, 2000, 2004, 2008, 2012, 2016], \"xaxis\": \"x8\", \"y\": [0.0, 0.0, 0.0, 0.025, 0.13675213675213677, 0.10526315789473684, 0.15942028985507245, 0.14285714285714285, 0.12345679012345678, 0.17682926829268292, 0.14619883040935672, 0.1956521739130435, 0.28169014084507044, 0.23008849557522124, 0.27058823529411763, 0.31640625, 0.4869281045751634, 0.41353383458646614, 0.545751633986928, 0.49698795180722893, 0.5326460481099656, 0.48955223880597015], \"yaxis\": \"y8\"}, {\"marker\": {\"color\": \"#222\"}, \"mode\": \"lines\", \"showlegend\": false, \"type\": \"scatter\", \"x\": [1896, 2016], \"xaxis\": \"x8\", \"y\": [0.5, 0.5], \"yaxis\": \"y8\"}, {\"marker\": {\"color\": \"rgb(55, 83, 109)\"}, \"mode\": \"lines+markers\", \"showlegend\": false, \"type\": \"scatter\", \"x\": [1900, 1904, 1908, 1912, 1920, 1924, 1928, 1932, 1936, 1948, 1952, 1956, 1960, 1964, 1968, 1972, 1976, 1984, 1988, 1992, 1996, 2000, 2004, 2008, 2012, 2016], \"xaxis\": \"x9\", \"y\": [0.0, 0.0, 0.0, 0.0, 0.0, 0.0, 0.10294117647058823, 0.17, 0.1875, 0.14423076923076922, 0.09345794392523364, 0.15625, 0.12941176470588237, 0.17391304347826086, 0.2014388489208633, 0.2403846153846154, 0.3220779220779221, 0.3700980392156863, 0.3201219512195122, 0.39322033898305087, 0.49834983498349833, 0.4897959183673469, 0.5038167938931297, 0.4397590361445783, 0.5641025641025641, 0.5903225806451613], \"yaxis\": \"y9\"}, {\"marker\": {\"color\": \"#222\"}, \"mode\": \"lines\", \"showlegend\": false, \"type\": \"scatter\", \"x\": [1896, 2016], \"xaxis\": \"x9\", \"y\": [0.5, 0.5], \"yaxis\": \"y9\"}, {\"marker\": {\"color\": \"rgb(55, 83, 109)\"}, \"mode\": \"lines+markers\", \"showlegend\": false, \"type\": \"scatter\", \"x\": [1896, 1900, 1904, 1908, 1912, 1920, 1924, 1928, 1932, 1936, 1948, 1952, 1956, 1960, 1964, 1968, 1972, 1976, 1980, 1984, 1988, 1992, 1996, 2000, 2004, 2008, 2012, 2016], \"xaxis\": \"x10\", \"y\": [0.0, 0.043478260869565216, 0.0, 0.0, 0.0, 0.005813953488372093, 0.015306122448979591, 0.11042944785276074, 0.0, 0.07142857142857142, 0.10382513661202186, 0.09956709956709957, 0.1111111111111111, 0.12142857142857143, 0.06547619047619048, 0.08982035928143713, 0.12053571428571429, 0.12857142857142856, 0.2389937106918239, 0.17164179104477612, 0.16205533596837945, 0.25, 0.3058823529411765, 0.3185595567867036, 0.3708791208791209, 0.39039039039039036, 0.4377224199288256, 0.4563106796116505], \"yaxis\": \"y10\"}, {\"marker\": {\"color\": \"#222\"}, \"mode\": \"lines\", \"showlegend\": false, \"type\": \"scatter\", \"x\": [1896, 2016], \"xaxis\": \"x10\", \"y\": [0.5, 0.5], \"yaxis\": \"y10\"}, {\"marker\": {\"color\": \"rgb(55, 83, 109)\"}, \"mode\": \"lines+markers\", \"showlegend\": false, \"type\": \"scatter\", \"x\": [1900, 1920, 1924, 1928, 1932, 1948, 1952, 1956, 1960, 1964, 1968, 1972, 1976, 1980, 1984, 1988, 1992, 1996, 2000, 2004, 2008, 2012, 2016], \"xaxis\": \"x11\", \"y\": [0.0, 0.0, 0.02127659574468085, 0.0, 0.0, 0.0, 0.0, 0.0, 0.0763888888888889, 0.058823529411764705, 0.01639344262295082, 0.04065040650406504, 0.08849557522123894, 0.05806451612903226, 0.0893854748603352, 0.12663755458515283, 0.2962085308056872, 0.328719723183391, 0.32710280373831774, 0.439873417721519, 0.42402826855123676, 0.39568345323741005, 0.46579804560260585], \"yaxis\": \"y11\"}, {\"marker\": {\"color\": \"#222\"}, \"mode\": \"lines\", \"showlegend\": false, \"type\": \"scatter\", \"x\": [1896, 2016], \"xaxis\": \"x11\", \"y\": [0.5, 0.5], \"yaxis\": \"y11\"}, {\"marker\": {\"color\": \"rgb(55, 83, 109)\"}, \"mode\": \"lines+markers\", \"showlegend\": false, \"type\": \"scatter\", \"x\": [1900, 1908, 1912, 1996, 2000, 2004, 2008, 2012, 2016], \"xaxis\": \"x12\", \"y\": [0.0, 0.0, 0.0, 0.40512820512820513, 0.4459770114942529, 0.452914798206278, 0.4911894273127753, 0.5268065268065268, 0.5], \"yaxis\": \"y12\"}, {\"marker\": {\"color\": \"#222\"}, \"mode\": \"lines\", \"showlegend\": false, \"type\": \"scatter\", \"x\": [1896, 2016], \"xaxis\": \"x12\", \"y\": [0.5, 0.5], \"yaxis\": \"y12\"}, {\"marker\": {\"color\": \"rgb(55, 83, 109)\"}, \"mode\": \"lines+markers\", \"showlegend\": false, \"type\": \"scatter\", \"x\": [1900, 1908, 1912, 1920, 1924, 1928, 1932, 1936, 1948, 1952, 1956, 1960, 1964, 1968, 1972, 1976, 1980, 1984, 1988, 1992, 1996, 2000, 2004, 2008, 2012, 2016], \"xaxis\": \"x13\", \"y\": [0.0, 0.0, 0.0, 0.007692307692307693, 0.058823529411764705, 0.16203703703703703, 0.4583333333333333, 0.1484375, 0.24817518248175183, 0.25, 0.0, 0.2727272727272727, 0.16, 0.2336448598130841, 0.24369747899159663, 0.3333333333333333, 0.24, 0.39705882352941174, 0.3673469387755102, 0.417910447761194, 0.42677824267782427, 0.36363636363636365, 0.3619047619047619, 0.41350210970464135, 0.45664739884393063, 0.5569620253164557], \"yaxis\": \"y13\"}, {\"marker\": {\"color\": \"#222\"}, \"mode\": \"lines\", \"showlegend\": false, \"type\": \"scatter\", \"x\": [1896, 2016], \"xaxis\": \"x13\", \"y\": [0.5, 0.5], \"yaxis\": \"y13\"}, {\"marker\": {\"color\": \"rgb(55, 83, 109)\"}, \"mode\": \"lines+markers\", \"showlegend\": false, \"type\": \"scatter\", \"x\": [1924, 1928, 1932, 1936, 1948, 1952, 1956, 1960, 1964, 1968, 1972, 1976, 1980, 1988, 1992, 1996, 2000, 2004, 2008, 2012, 2016], \"xaxis\": \"x14\", \"y\": [0.015384615384615385, 0.07575757575757576, 0.15, 0.09734513274336283, 0.17391304347826086, 0.176, 0.234375, 0.15675675675675677, 0.17857142857142858, 0.20903954802259886, 0.1310344827586207, 0.13043478260869565, 0.24183006535947713, 0.22377622377622378, 0.25870646766169153, 0.23636363636363636, 0.31016042780748665, 0.31958762886597936, 0.39299610894941633, 0.4095238095238095, 0.405982905982906], \"yaxis\": \"y14\"}, {\"marker\": {\"color\": \"#222\"}, \"mode\": \"lines\", \"showlegend\": false, \"type\": \"scatter\", \"x\": [1896, 2016], \"xaxis\": \"x14\", \"y\": [0.5, 0.5], \"yaxis\": \"y14\"}, {\"marker\": {\"color\": \"rgb(55, 83, 109)\"}, \"mode\": \"lines+markers\", \"showlegend\": false, \"type\": \"scatter\", \"x\": [1900, 1908, 1920, 1924, 1928, 1932, 1936, 1948, 1952, 1956, 1960, 1964, 1968, 1972, 1976, 1984, 1988, 1992, 1996, 2000, 2004, 2008, 2012, 2016], \"xaxis\": \"x15\", \"y\": [0.0, 0.0, 0.0, 0.0, 0.0, 0.0, 0.0196078431372549, 0.05527638190954774, 0.06504065040650407, 0.02857142857142857, 0.010869565217391304, 0.058823529411764705, 0.056179775280898875, 0.043478260869565216, 0.057971014492753624, 0.12345679012345678, 0.211864406779661, 0.20238095238095238, 0.26256983240223464, 0.3146853146853147, 0.3026315789473684, 0.4015151515151515, 0.291970802919708, 0.3488372093023256], \"yaxis\": \"y15\"}, {\"marker\": {\"color\": \"#222\"}, \"mode\": \"lines\", \"showlegend\": false, \"type\": \"scatter\", \"x\": [1896, 2016], \"xaxis\": \"x15\", \"y\": [0.5, 0.5], \"yaxis\": \"y15\"}, {\"marker\": {\"color\": \"rgb(55, 83, 109)\"}, \"mode\": \"lines+markers\", \"showlegend\": false, \"type\": \"scatter\", \"x\": [1948, 1952, 1956, 1960, 1964, 1968, 1972, 1976, 1984, 1988, 1992, 1996, 2000, 2004, 2008, 2012, 2016], \"xaxis\": \"x16\", \"y\": [0.021739130434782608, 0.05263157894736842, 0.0, 0.05714285714285714, 0.16883116883116883, 0.24074074074074073, 0.23809523809523808, 0.24, 0.33714285714285713, 0.32917705735660846, 0.3185840707964602, 0.37293729372937295, 0.37722419928825623, 0.45075757575757575, 0.4, 0.46, 0.5024154589371981], \"yaxis\": \"y16\"}, {\"marker\": {\"color\": \"#222\"}, \"mode\": \"lines\", \"showlegend\": false, \"type\": \"scatter\", \"x\": [1896, 2016], \"xaxis\": \"x16\", \"y\": [0.5, 0.5], \"yaxis\": \"y16\"}, {\"marker\": {\"color\": \"rgb(55, 83, 109)\"}, \"mode\": \"lines+markers\", \"showlegend\": false, \"type\": \"scatter\", \"x\": [1996, 2000, 2004, 2008, 2012, 2016], \"xaxis\": \"x17\", \"y\": [0.36796536796536794, 0.39565217391304347, 0.4811715481171548, 0.4773662551440329, 0.4826086956521739, 0.5735294117647058], \"yaxis\": \"y17\"}, {\"marker\": {\"color\": \"#222\"}, \"mode\": \"lines\", \"showlegend\": false, \"type\": \"scatter\", \"x\": [1896, 2016], \"xaxis\": \"x17\", \"y\": [0.5, 0.5], \"yaxis\": \"y17\"}, {\"marker\": {\"color\": \"rgb(55, 83, 109)\"}, \"mode\": \"lines+markers\", \"showlegend\": false, \"type\": \"scatter\", \"x\": [1900, 1920, 1924, 1928, 1932, 1936, 1948, 1952, 1956, 1960, 1964, 1968, 1972, 1976, 1980, 1984, 1988, 1992, 1996, 2000, 2004, 2008, 2012, 2016], \"xaxis\": \"x18\", \"y\": [0.0, 0.25, 0.25, 0.3333333333333333, 0.047619047619047616, 0.0, 0.14285714285714285, 0.14285714285714285, 0.1568627450980392, 0.10810810810810811, 0.125, 0.09615384615384616, 0.07865168539325842, 0.1125, 0.0, 0.24615384615384617, 0.1927710843373494, 0.31343283582089554, 0.30526315789473685, 0.47619047619047616, 0.4527027027027027, 0.4606741573033708, 0.4606741573033708, 0.49743589743589745], \"yaxis\": \"y18\"}, {\"marker\": {\"color\": \"#222\"}, \"mode\": \"lines\", \"showlegend\": false, \"type\": \"scatter\", \"x\": [1896, 2016], \"xaxis\": \"x18\", \"y\": [0.5, 0.5], \"yaxis\": \"y18\"}, {\"marker\": {\"color\": \"rgb(55, 83, 109)\"}, \"mode\": \"lines+markers\", \"showlegend\": false, \"type\": \"scatter\", \"x\": [1896, 1900, 1904, 1908, 1912, 1924, 1928, 1932, 1936, 1948, 1952, 1956, 1960, 1964, 1968, 1972, 1976, 1980, 1988, 1992, 1996, 2000, 2004, 2008, 2012, 2016], \"xaxis\": \"x19\", \"y\": [0.0, 0.0, 0.0, 0.0, 0.0, 0.034482758620689655, 0.15384615384615385, 0.043478260869565216, 0.0861244019138756, 0.15873015873015872, 0.14285714285714285, 0.18018018018018017, 0.14673913043478262, 0.17582417582417584, 0.19161676646706588, 0.1939655172413793, 0.30337078651685395, 0.30798479087452474, 0.19148936170212766, 0.2672811059907834, 0.30985915492957744, 0.38764044943820225, 0.430622009569378, 0.4853801169590643, 0.3881578947368421, 0.42857142857142855], \"yaxis\": \"y19\"}, {\"marker\": {\"color\": \"#222\"}, \"mode\": \"lines\", \"showlegend\": false, \"type\": \"scatter\", \"x\": [1896, 2016], \"xaxis\": \"x19\", \"y\": [0.5, 0.5], \"yaxis\": \"y19\"}, {\"marker\": {\"color\": \"rgb(55, 83, 109)\"}, \"mode\": \"lines+markers\", \"showlegend\": false, \"type\": \"scatter\", \"x\": [1896, 1900, 1908, 1912, 1920, 1924, 1928, 1932, 1936, 1948, 1952, 1956, 1960, 1964, 1968, 1972, 1976, 1980, 1984, 1988, 1992, 1996, 2000, 2004, 2008, 2012, 2016], \"xaxis\": \"x20\", \"y\": [0.0, 0.0, 0.017857142857142856, 0.0518018018018018, 0.05, 0.08176100628930817, 0.13, 0.019230769230769232, 0.04666666666666667, 0.10919540229885058, 0.11165048543689321, 0.14432989690721648, 0.1417910447761194, 0.19148936170212766, 0.14, 0.20610687022900764, 0.14655172413793102, 0.15862068965517243, 0.2471264367816092, 0.2, 0.23529411764705882, 0.3728813559322034, 0.3466666666666667, 0.4608695652173913, 0.5934959349593496, 0.5864661654135338, 0.5733333333333334], \"yaxis\": \"y20\"}, {\"marker\": {\"color\": \"#222\"}, \"mode\": \"lines\", \"showlegend\": false, \"type\": \"scatter\", \"x\": [1896, 2016], \"xaxis\": \"x20\", \"y\": [0.5, 0.5], \"yaxis\": \"y20\"}, {\"marker\": {\"color\": \"rgb(55, 83, 109)\"}, \"mode\": \"lines+markers\", \"showlegend\": false, \"type\": \"scatter\", \"x\": [1900, 1932, 1936, 1948, 1956, 1960, 1964, 1968, 1972, 1976, 1980, 1984, 1988, 1992, 1996, 2000, 2004, 2008, 2012, 2016], \"xaxis\": \"x21\", \"y\": [0.0, 0.0, 0.0, 0.0, 0.0, 0.0, 0.0, 0.11627906976744186, 0.06779661016949153, 0.08571428571428572, 0.0, 0.07692307692307693, 0.15, 0.061224489795918366, 0.1875, 0.4318181818181818, 0.39622641509433965, 0.3582089552238806, 0.5544554455445545, 0.48951048951048953], \"yaxis\": \"y21\"}, {\"marker\": {\"color\": \"#222\"}, \"mode\": \"lines\", \"showlegend\": false, \"type\": \"scatter\", \"x\": [1896, 2016], \"xaxis\": \"x21\", \"y\": [0.5, 0.5], \"yaxis\": \"y21\"}, {\"marker\": {\"color\": \"rgb(55, 83, 109)\"}, \"mode\": \"lines+markers\", \"showlegend\": false, \"type\": \"scatter\", \"x\": [1904, 1908, 1912, 1920, 1924, 1928, 1932, 1936, 1948, 1952, 1956, 1960, 1992, 1996, 2000, 2004, 2008, 2012, 2016], \"xaxis\": \"x22\", \"y\": [0.0, 0.0, 0.0, 0.02564102564102564, 0.0, 0.25, 0.16666666666666666, 0.0, 0.03125, 0.0625, 0.12, 0.03636363636363636, 0.26881720430107525, 0.23809523809523808, 0.2992125984251969, 0.37735849056603776, 0.44029850746268656, 0.45161290322580644, 0.3111111111111111], \"yaxis\": \"y22\"}, {\"marker\": {\"color\": \"#222\"}, \"mode\": \"lines\", \"showlegend\": false, \"type\": \"scatter\", \"x\": [1896, 2016], \"xaxis\": \"x22\", \"y\": [0.5, 0.5], \"yaxis\": \"y22\"}, {\"marker\": {\"color\": \"rgb(55, 83, 109)\"}, \"mode\": \"lines+markers\", \"showlegend\": false, \"type\": \"scatter\", \"x\": [1900, 1924, 1928, 1932, 1936, 1948, 1952, 1956, 1960, 1964, 1968, 1972, 1976, 1980, 1984, 1988, 1992, 1996, 2000, 2004, 2008, 2012, 2016], \"xaxis\": \"x23\", \"y\": [0.0, 0.0, 0.0, 0.028169014084507043, 0.0, 0.07954545454545454, 0.046875, 0.125, 0.08695652173913043, 0.0425531914893617, 0.15272727272727274, 0.12643678160919541, 0.05154639175257732, 0.2, 0.2222222222222222, 0.20481927710843373, 0.2549019607843137, 0.2755102040816326, 0.3333333333333333, 0.45871559633027525, 0.4819277108433735, 0.37373737373737376, 0.35772357723577236], \"yaxis\": \"y23\"}, {\"marker\": {\"color\": \"#222\"}, \"mode\": \"lines\", \"showlegend\": false, \"type\": \"scatter\", \"x\": [1896, 2016], \"xaxis\": \"x23\", \"y\": [0.5, 0.5], \"yaxis\": \"y23\"}, {\"marker\": {\"color\": \"rgb(55, 83, 109)\"}, \"mode\": \"lines+markers\", \"showlegend\": false, \"type\": \"scatter\", \"x\": [1920, 1924, 1928, 1936, 1948, 1952, 1956, 1964, 1968, 1972, 1976, 1984, 1988, 1992, 1996, 2000, 2004, 2008, 2012, 2016], \"xaxis\": \"x24\", \"y\": [0.0, 0.0, 0.0, 0.0, 0.0, 0.0, 0.0, 0.0, 0.0, 0.0, 0.0, 0.05263157894736842, 0.02040816326530612, 0.04, 0.06896551724137931, 0.16853932584269662, 0.16494845360824742, 0.26, 0.3119266055045872, 0.30578512396694213], \"yaxis\": \"y24\"}, {\"marker\": {\"color\": \"#222\"}, \"mode\": \"lines\", \"showlegend\": false, \"type\": \"scatter\", \"x\": [1896, 2016], \"xaxis\": \"x24\", \"y\": [0.5, 0.5], \"yaxis\": \"y24\"}, {\"marker\": {\"color\": \"rgb(55, 83, 109)\"}, \"mode\": \"lines+markers\", \"showlegend\": false, \"type\": \"scatter\", \"x\": [1996, 2000, 2004, 2008, 2012, 2016], \"xaxis\": \"x25\", \"y\": [0.42038216560509556, 0.48201438848920863, 0.45695364238410596, 0.4745762711864407, 0.44375, 0.5583333333333333], \"yaxis\": \"y25\"}, {\"marker\": {\"color\": \"#222\"}, \"mode\": \"lines\", \"showlegend\": false, \"type\": \"scatter\", \"x\": [1896, 2016], \"xaxis\": \"x25\", \"y\": [0.5, 0.5], \"yaxis\": \"y25\"}, {\"marker\": {\"color\": \"rgb(55, 83, 109)\"}, \"mode\": \"lines+markers\", \"showlegend\": false, \"type\": \"scatter\", \"x\": [1896, 1900, 1908, 1912, 1920, 1924, 1928, 1932, 1936, 1948, 1952, 1956, 1960, 1964, 1968, 1972, 1976, 1980, 1984, 1988, 1992, 1996, 2000, 2004, 2008, 2012, 2016], \"xaxis\": \"x26\", \"y\": [0.0, 0.0, 0.0, 0.006578947368421052, 0.025974025974025976, 0.136986301369863, 0.11538461538461539, 0.25, 0.12931034482758622, 0.11320754716981132, 0.10852713178294573, 0.16216216216216217, 0.12, 0.11666666666666667, 0.0625, 0.09523809523809523, 0.15151515151515152, 0.05172413793103448, 0.18333333333333332, 0.2692307692307692, 0.3, 0.5462184873949579, 0.4536082474226804, 0.4782608695652174, 0.23809523809523808, 0.42105263157894735, 0.3445378151260504], \"yaxis\": \"y26\"}, {\"marker\": {\"color\": \"#222\"}, \"mode\": \"lines\", \"showlegend\": false, \"type\": \"scatter\", \"x\": [1896, 2016], \"xaxis\": \"x26\", \"y\": [0.5, 0.5], \"yaxis\": \"y26\"}, {\"marker\": {\"color\": \"rgb(55, 83, 109)\"}, \"mode\": \"lines+markers\", \"showlegend\": false, \"type\": \"scatter\", \"x\": [1900, 1904, 1924, 1928, 1948, 1952, 1956, 1960, 1964, 1968, 1972, 1976, 1980, 1992, 1996, 2000, 2004, 2008, 2012, 2016], \"xaxis\": \"x27\", \"y\": [0.0, 0.0, 0.0, 0.0, 0.0, 0.0, 0.0625, 0.25, 0.07407407407407407, 0.12173913043478261, 0.20437956204379562, 0.15384615384615385, 0.15865384615384615, 0.2840909090909091, 0.3231707317073171, 0.35807860262008734, 0.3576158940397351, 0.35443037974683544, 0.4036697247706422, 0.2905982905982906], \"yaxis\": \"y27\"}, {\"marker\": {\"color\": \"#222\"}, \"mode\": \"lines\", \"showlegend\": false, \"type\": \"scatter\", \"x\": [1896, 2016], \"xaxis\": \"x27\", \"y\": [0.5, 0.5], \"yaxis\": \"y27\"}, {\"marker\": {\"color\": \"rgb(55, 83, 109)\"}, \"mode\": \"lines+markers\", \"showlegend\": false, \"type\": \"scatter\", \"x\": [1900, 1920, 1924, 1928, 1932, 1936, 1948, 1952, 1956, 1960, 1964, 1968, 1972, 1976, 1980, 1984, 1988, 1992, 1996, 2000, 2004, 2008, 2012, 2016], \"xaxis\": \"x28\", \"y\": [0.0, 0.0, 0.07692307692307693, 0.0, 0.0, 0.0, 0.0, 0.0625, 0.01694915254237288, 0.0, 0.018867924528301886, 0.0, 0.024390243902439025, 0.0, 0.2222222222222222, 0.125, 0.15217391304347827, 0.11538461538461539, 0.1836734693877551, 0.3230769230769231, 0.3424657534246575, 0.41509433962264153, 0.2839506172839506, 0.45535714285714285], \"yaxis\": \"y28\"}, {\"marker\": {\"color\": \"#222\"}, \"mode\": \"lines\", \"showlegend\": false, \"type\": \"scatter\", \"x\": [1896, 2016], \"xaxis\": \"x28\", \"y\": [0.5, 0.5], \"yaxis\": \"y28\"}, {\"marker\": {\"color\": \"rgb(55, 83, 109)\"}, \"mode\": \"lines+markers\", \"showlegend\": false, \"type\": \"scatter\", \"x\": [1900, 1908, 1912, 1920, 1924, 1928, 1932, 1936, 1948, 1952, 1956, 1960, 1964, 1968, 1972, 1976, 1980, 1984, 1988, 1992, 1996, 2000, 2004, 2008, 2012, 2016], \"xaxis\": \"x29\", \"y\": [0.0, 0.0, 0.02857142857142857, 0.030303030303030304, 0.02976190476190476, 0.06432748538011696, 0.14285714285714285, 0.04201680672268908, 0.12837837837837837, 0.037037037037037035, 0.07017543859649122, 0.07920792079207921, 0.01639344262295082, 0.06097560975609756, 0.06818181818181818, 0.25742574257425743, 0.2711864406779661, 0.25396825396825395, 0.4067796610169492, 0.36764705882352944, 0.32786885245901637, 0.47058823529411764, 0.38, 0.18085106382978725, 0.3783783783783784, 0.3269230769230769], \"yaxis\": \"y29\"}, {\"marker\": {\"color\": \"#222\"}, \"mode\": \"lines\", \"showlegend\": false, \"type\": \"scatter\", \"x\": [1896, 2016], \"xaxis\": \"x29\", \"y\": [0.5, 0.5], \"yaxis\": \"y29\"}, {\"marker\": {\"color\": \"rgb(55, 83, 109)\"}, \"mode\": \"lines+markers\", \"showlegend\": false, \"type\": \"scatter\", \"x\": [1996, 2000, 2004, 2008, 2012, 2016], \"xaxis\": \"x30\", \"y\": [0.3391304347826087, 0.2773109243697479, 0.43661971830985913, 0.44029850746268656, 0.48872180451127817, 0.40384615384615385], \"yaxis\": \"y30\"}, {\"marker\": {\"color\": \"#222\"}, \"mode\": \"lines\", \"showlegend\": false, \"type\": \"scatter\", \"x\": [1896, 2016], \"xaxis\": \"x30\", \"y\": [0.5, 0.5], \"yaxis\": \"y30\"}, {\"marker\": {\"color\": \"rgb(55, 83, 109)\"}, \"mode\": \"lines+markers\", \"showlegend\": false, \"type\": \"scatter\", \"x\": [1912, 2008, 2012, 2016], \"xaxis\": \"x31\", \"y\": [0.0, 0.27586206896551724, 0.3103448275862069, 0.4368932038834951], \"yaxis\": \"y31\"}, {\"marker\": {\"color\": \"#222\"}, \"mode\": \"lines\", \"showlegend\": false, \"type\": \"scatter\", \"x\": [1896, 2016], \"xaxis\": \"x31\", \"y\": [0.5, 0.5], \"yaxis\": \"y31\"}, {\"marker\": {\"color\": \"rgb(55, 83, 109)\"}, \"mode\": \"lines+markers\", \"showlegend\": false, \"type\": \"scatter\", \"x\": [1896, 1900, 1904, 1908, 1912, 1920, 1924, 1928, 1932, 1936, 1948, 1952, 1956, 1960, 1964, 1968, 1972, 1976, 1980, 1984, 1988, 1992, 1996, 2000, 2004, 2008, 2012, 2016], \"xaxis\": \"x32\", \"y\": [0.0, 0.05555555555555555, 0.0, 0.0, 0.0, 0.0, 0.031496062992125984, 0.008771929824561403, 0.0, 0.028735632183908046, 0.03508771929824561, 0.05732484076433121, 0.0, 0.013422818791946308, 0.015151515151515152, 0.047058823529411764, 0.19205298013245034, 0.06, 0.0821917808219178, 0.20930232558139536, 0.2727272727272727, 0.28431372549019607, 0.3739130434782609, 0.37254901960784315, 0.3979591836734694, 0.43373493975903615, 0.2857142857142857, 0.4411764705882353], \"yaxis\": \"y32\"}, {\"marker\": {\"color\": \"#222\"}, \"mode\": \"lines\", \"showlegend\": false, \"type\": \"scatter\", \"x\": [1896, 2016], \"xaxis\": \"x32\", \"y\": [0.5, 0.5], \"yaxis\": \"y32\"}, {\"marker\": {\"color\": \"rgb(55, 83, 109)\"}, \"mode\": \"lines+markers\", \"showlegend\": false, \"type\": \"scatter\", \"x\": [1996, 2000, 2004, 2008, 2012, 2016], \"xaxis\": \"x33\", \"y\": [0.25, 0.3384615384615385, 0.37719298245614036, 0.5384615384615384, 0.35398230088495575, 0.45544554455445546], \"yaxis\": \"y33\"}, {\"marker\": {\"color\": \"#222\"}, \"mode\": \"lines\", \"showlegend\": false, \"type\": \"scatter\", \"x\": [1896, 2016], \"xaxis\": \"x33\", \"y\": [0.5, 0.5], \"yaxis\": \"y33\"}, {\"marker\": {\"color\": \"rgb(55, 83, 109)\"}, \"mode\": \"lines+markers\", \"showlegend\": false, \"type\": \"scatter\", \"x\": [1912, 1924, 1928, 1936, 1948, 1952, 1956, 1960, 1964, 1968, 1972, 1976, 1984, 1988, 1992, 1996, 2000, 2004, 2008, 2012, 2016], \"xaxis\": \"x34\", \"y\": [0.0, 0.0, 0.0, 0.041666666666666664, 0.017543859649122806, 0.0, 0.0, 0.061224489795918366, 0.0, 0.0, 0.023255813953488372, 0.037037037037037035, 0.021739130434782608, 0.12195121951219512, 0.12195121951219512, 0.16981132075471697, 0.2631578947368421, 0.3125, 0.2835820895522388, 0.5714285714285714, 0.47], \"yaxis\": \"y34\"}, {\"marker\": {\"color\": \"#222\"}, \"mode\": \"lines\", \"showlegend\": false, \"type\": \"scatter\", \"x\": [1896, 2016], \"xaxis\": \"x34\", \"y\": [0.5, 0.5], \"yaxis\": \"y34\"}, {\"marker\": {\"color\": \"rgb(55, 83, 109)\"}, \"mode\": \"lines+markers\", \"showlegend\": false, \"type\": \"scatter\", \"x\": [1900, 1924, 1928, 1936, 1952, 1956, 1960, 1964, 1968, 1972, 1976, 1980, 1984, 1988, 1992, 1996, 2000, 2004, 2008, 2012, 2016], \"xaxis\": \"x35\", \"y\": [0.0, 0.0, 0.09523809523809523, 0.03773584905660377, 0.09649122807017543, 0.22, 0.16326530612244897, 0.21739130434782608, 0.1951219512195122, 0.16981132075471697, 0.34394904458598724, 0.32456140350877194, 0.4274193548387097, 0.5294117647058824, 0.3930635838150289, 0.40606060606060607, 0.5103448275862069, 0.5370370370370371, 0.6039603960396039, 0.47619047619047616, 0.6421052631578947], \"yaxis\": \"y35\"}, {\"marker\": {\"color\": \"#222\"}, \"mode\": \"lines\", \"showlegend\": false, \"type\": \"scatter\", \"x\": [1896, 2016], \"xaxis\": \"x35\", \"y\": [0.5, 0.5], \"yaxis\": \"y35\"}, {\"marker\": {\"color\": \"rgb(55, 83, 109)\"}, \"mode\": \"lines+markers\", \"showlegend\": false, \"type\": \"scatter\", \"x\": [1896, 1900, 1904, 1908, 1912, 1920, 1924, 1928, 1932, 1936, 1948, 1952, 1956, 1960, 1964, 1968, 1972, 1976, 1980, 1984, 1988, 1992, 1996, 2000, 2004, 2008, 2012, 2016], \"xaxis\": \"x36\", \"y\": [0.0, 0.0, 0.0, 0.0, 0.0, 0.0, 0.02631578947368421, 0.0, 0.0, 0.02564102564102564, 0.017543859649122806, 0.0, 0.0, 0.0, 0.0, 0.0, 0.03333333333333333, 0.05555555555555555, 0.07317073170731707, 0.06349206349206349, 0.21428571428571427, 0.2, 0.2809917355371901, 0.4142857142857143, 0.4953051643192488, 0.4605263157894737, 0.3627450980392157, 0.391304347826087], \"yaxis\": \"y36\"}, {\"marker\": {\"color\": \"#222\"}, \"mode\": \"lines\", \"showlegend\": false, \"type\": \"scatter\", \"x\": [1896, 2016], \"xaxis\": \"x36\", \"y\": [0.5, 0.5], \"yaxis\": \"y36\"}, {\"marker\": {\"color\": \"rgb(55, 83, 109)\"}, \"mode\": \"lines+markers\", \"showlegend\": false, \"type\": \"scatter\", \"x\": [1912, 1920, 1924, 1928, 1932, 1936, 1948, 1952, 1956, 1960, 1964, 1968, 1972, 1976, 1980, 1984, 1988, 1992, 1996, 2000, 2004, 2008, 2012, 2016], \"xaxis\": \"x37\", \"y\": [0.0, 0.0, 0.0, 0.0, 0.0, 0.0, 0.0, 0.04225352112676056, 0.0, 0.07692307692307693, 0.05, 0.05, 0.0, 0.0, 0.09090909090909091, 0.23684210526315788, 0.15384615384615385, 0.24444444444444444, 0.22429906542056074, 0.21311475409836064, 0.20987654320987653, 0.33766233766233766, 0.42105263157894735, 0.32222222222222224], \"yaxis\": \"y37\"}, {\"marker\": {\"color\": \"#222\"}, \"mode\": \"lines\", \"showlegend\": false, \"type\": \"scatter\", \"x\": [1896, 2016], \"xaxis\": \"x37\", \"y\": [0.5, 0.5], \"yaxis\": \"y37\"}, {\"marker\": {\"color\": \"rgb(55, 83, 109)\"}, \"mode\": \"lines+markers\", \"showlegend\": false, \"type\": \"scatter\", \"x\": [1992, 1996, 2000, 2004, 2008, 2012, 2016], \"xaxis\": \"x38\", \"y\": [0.07692307692307693, 0.10714285714285714, 0.2840909090909091, 0.18518518518518517, 0.1919191919191919, 0.40186915887850466, 0.2235294117647059], \"yaxis\": \"y38\"}, {\"marker\": {\"color\": \"#222\"}, \"mode\": \"lines\", \"showlegend\": false, \"type\": \"scatter\", \"x\": [1896, 2016], \"xaxis\": \"x38\", \"y\": [0.5, 0.5], \"yaxis\": \"y38\"}, {\"marker\": {\"color\": \"rgb(55, 83, 109)\"}, \"mode\": \"lines+markers\", \"showlegend\": false, \"type\": \"scatter\", \"x\": [1948, 1952, 1956, 1960, 1964, 1968, 1972, 1976, 1980, 1984, 1988, 1992, 1996, 2000, 2004, 2008, 2012, 2016], \"xaxis\": \"x39\", \"y\": [0.0, 0.05263157894736842, 0.0, 0.1388888888888889, 0.0625, 0.0, 0.13043478260869565, 0.28125, 0.0, 0.038461538461538464, 0.11764705882352941, 0.15384615384615385, 0.1282051282051282, 0.28, 0.3125, 0.4722222222222222, 0.38235294117647056, 0.2823529411764706], \"yaxis\": \"y39\"}, {\"marker\": {\"color\": \"#222\"}, \"mode\": \"lines\", \"showlegend\": false, \"type\": \"scatter\", \"x\": [1896, 2016], \"xaxis\": \"x39\", \"y\": [0.5, 0.5], \"yaxis\": \"y39\"}, {\"marker\": {\"color\": \"rgb(55, 83, 109)\"}, \"mode\": \"lines+markers\", \"showlegend\": false, \"type\": \"scatter\", \"x\": [1956, 1960, 1964, 1968, 1972, 1984, 1988, 1992, 1996, 2000, 2004, 2008, 2012, 2016], \"xaxis\": \"x40\", \"y\": [0.04, 0.0, 0.0, 0.07692307692307693, 0.03508771929824561, 0.08196721311475409, 0.05405405405405406, 0.1836734693877551, 0.19230769230769232, 0.39285714285714285, 0.5217391304347826, 0.391304347826087, 0.425531914893617, 0.4177215189873418], \"yaxis\": \"y40\"}, {\"marker\": {\"color\": \"#222\"}, \"mode\": \"lines\", \"showlegend\": false, \"type\": \"scatter\", \"x\": [1896, 2016], \"xaxis\": \"x40\", \"y\": [0.5, 0.5], \"yaxis\": \"y40\"}, {\"marker\": {\"color\": \"rgb(55, 83, 109)\"}, \"mode\": \"lines+markers\", \"showlegend\": false, \"type\": \"scatter\", \"x\": [1924, 1928, 1932, 1948, 1952, 1956, 1960, 1964, 1968, 1972, 1976, 1980, 1984, 1988, 1992, 1996, 2000, 2004, 2008, 2012, 2016], \"xaxis\": \"x41\", \"y\": [0.05, 0.034482758620689655, 0.0, 0.015873015873015872, 0.0, 0.05555555555555555, 0.04081632653061224, 0.04, 0.1935483870967742, 0.13559322033898305, 0.06818181818181818, 0.06382978723404255, 0.3333333333333333, 0.14754098360655737, 0.15517241379310345, 0.20512820512820512, 0.375, 0.30434782608695654, 0.2909090909090909, 0.4375, 0.34210526315789475], \"yaxis\": \"y41\"}, {\"marker\": {\"color\": \"#222\"}, \"mode\": \"lines\", \"showlegend\": false, \"type\": \"scatter\", \"x\": [1896, 2016], \"xaxis\": \"x41\", \"y\": [0.5, 0.5], \"yaxis\": \"y41\"}, {\"marker\": {\"color\": \"rgb(55, 83, 109)\"}, \"mode\": \"lines+markers\", \"showlegend\": false, \"type\": \"scatter\", \"x\": [1952, 1956, 1960, 1964, 1968, 1972, 1980, 1984, 1988, 1992, 1996, 2000, 2004, 2008, 2012, 2016], \"xaxis\": \"x42\", \"y\": [0.0, 0.0, 0.0, 0.1111111111111111, 0.1388888888888889, 0.2, 0.13636363636363635, 0.0625, 0.11594202898550725, 0.41818181818181815, 0.24615384615384617, 0.46987951807228917, 0.6571428571428571, 0.5, 0.3877551020408163, 0.3380281690140845], \"yaxis\": \"y42\"}, {\"marker\": {\"color\": \"#222\"}, \"mode\": \"lines\", \"showlegend\": false, \"type\": \"scatter\", \"x\": [1896, 2016], \"xaxis\": \"x42\", \"y\": [0.5, 0.5], \"yaxis\": \"y42\"}, {\"marker\": {\"color\": \"rgb(55, 83, 109)\"}, \"mode\": \"lines+markers\", \"showlegend\": false, \"type\": \"scatter\", \"x\": [1896, 1900, 1904, 1908, 1912, 1924, 1928, 1932, 1936, 1948, 1952, 1956, 1960, 1964, 1968, 1972, 1976, 1980, 1984, 1988, 1992, 1996, 2000, 2004, 2008, 2012, 2016], \"xaxis\": \"x43\", \"y\": [0.0, 0.0, 0.0, 0.0, 0.07058823529411765, 0.061224489795918366, 0.09615384615384616, 0.2222222222222222, 0.09770114942528736, 0.22807017543859648, 0.1875, 0.14705882352941177, 0.20388349514563106, 0.19642857142857142, 0.18604651162790697, 0.12612612612612611, 0.1, 0.2289156626506024, 0.30392156862745096, 0.0958904109589041, 0.30392156862745096, 0.2222222222222222, 0.40217391304347827, 0.2702702702702703, 0.42857142857142855, 0.44285714285714284, 0.4788732394366197], \"yaxis\": \"y43\"}, {\"marker\": {\"color\": \"#222\"}, \"mode\": \"lines\", \"showlegend\": false, \"type\": \"scatter\", \"x\": [1896, 2016], \"xaxis\": \"x43\", \"y\": [0.5, 0.5], \"yaxis\": \"y43\"}, {\"marker\": {\"color\": \"rgb(55, 83, 109)\"}, \"mode\": \"lines+markers\", \"showlegend\": false, \"type\": \"scatter\", \"x\": [1996, 2000, 2004, 2008, 2012, 2016], \"xaxis\": \"x44\", \"y\": [0.11267605633802817, 0.2571428571428571, 0.2608695652173913, 0.26785714285714285, 0.32075471698113206, 0.32857142857142857], \"yaxis\": \"y44\"}, {\"marker\": {\"color\": \"#222\"}, \"mode\": \"lines\", \"showlegend\": false, \"type\": \"scatter\", \"x\": [1896, 2016], \"xaxis\": \"x44\", \"y\": [0.5, 0.5], \"yaxis\": \"y44\"}, {\"marker\": {\"color\": \"rgb(55, 83, 109)\"}, \"mode\": \"lines+markers\", \"showlegend\": false, \"type\": \"scatter\", \"x\": [1924, 1928, 1992, 1996, 2000, 2004, 2008, 2012, 2016], \"xaxis\": \"x45\", \"y\": [0.0, 0.08333333333333333, 0.23404255319148937, 0.26229508196721313, 0.3442622950819672, 0.2033898305084746, 0.38028169014084506, 0.3709677419354839, 0.2835820895522388], \"yaxis\": \"y45\"}, {\"marker\": {\"color\": \"#222\"}, \"mode\": \"lines\", \"showlegend\": false, \"type\": \"scatter\", \"x\": [1896, 2016], \"xaxis\": \"x45\", \"y\": [0.5, 0.5], \"yaxis\": \"y45\"}, {\"marker\": {\"color\": \"rgb(55, 83, 109)\"}, \"mode\": \"lines+markers\", \"showlegend\": false, \"type\": \"scatter\", \"x\": [1964, 1968, 1972, 1980, 1984, 1988, 1992, 1996, 2000, 2004, 2008, 2012, 2016], \"xaxis\": \"x46\", \"y\": [0.0, 0.0, 0.0, 0.0, 0.0, 0.047619047619047616, 0.05714285714285714, 0.13333333333333333, 0.2127659574468085, 0.2459016393442623, 0.39285714285714285, 0.4473684210526316, 0.15625], \"yaxis\": \"y46\"}, {\"marker\": {\"color\": \"#222\"}, \"mode\": \"lines\", \"showlegend\": false, \"type\": \"scatter\", \"x\": [1896, 2016], \"xaxis\": \"x46\", \"y\": [0.5, 0.5], \"yaxis\": \"y46\"}, {\"marker\": {\"color\": \"rgb(55, 83, 109)\"}, \"mode\": \"lines+markers\", \"showlegend\": false, \"type\": \"scatter\", \"x\": [1992, 1996, 2000, 2004, 2008, 2012, 2016], \"xaxis\": \"x47\", \"y\": [0.17142857142857143, 0.32432432432432434, 0.25675675675675674, 0.2911392405063291, 0.3442622950819672, 0.5692307692307692, 0.38095238095238093], \"yaxis\": \"y47\"}, {\"marker\": {\"color\": \"#222\"}, \"mode\": \"lines\", \"showlegend\": false, \"type\": \"scatter\", \"x\": [1896, 2016], \"xaxis\": \"x47\", \"y\": [0.5, 0.5], \"yaxis\": \"y47\"}, {\"marker\": {\"color\": \"rgb(55, 83, 109)\"}, \"mode\": \"lines+markers\", \"showlegend\": false, \"type\": \"scatter\", \"x\": [1900, 1948, 1952, 1956, 1960, 1964, 1968, 1972, 1976, 1988, 1992, 1996, 2000, 2004, 2008, 2012, 2016], \"xaxis\": \"x48\", \"y\": [0.0, 0.0, 0.0, 0.0, 0.0, 0.06451612903225806, 0.0, 0.0, 0.047619047619047616, 0.0, 0.0, 0.05555555555555555, 0.030303030303030304, 0.02702702702702703, 0.05555555555555555, 0.15384615384615385, 0.14285714285714285], \"yaxis\": \"y48\"}, {\"marker\": {\"color\": \"#222\"}, \"mode\": \"lines\", \"showlegend\": false, \"type\": \"scatter\", \"x\": [1896, 2016], \"xaxis\": \"x48\", \"y\": [0.5, 0.5], \"yaxis\": \"y48\"}, {\"marker\": {\"color\": \"rgb(55, 83, 109)\"}, \"mode\": \"lines+markers\", \"showlegend\": false, \"type\": \"scatter\", \"x\": [1900, 1904, 1908, 1912, 1920, 1924, 1928, 1932, 1936, 1948, 1952, 1956, 1960, 1964, 1968, 1972, 1976, 1984, 1988, 1992, 1996, 2000, 2004, 2008, 2012, 2016], \"xaxis\": \"x49\", \"y\": [0.0, 0.0, 0.0, 0.010526315789473684, 0.03125, 0.03389830508474576, 0.0, 0.0, 0.02857142857142857, 0.0375, 0.058823529411764705, 0.13636363636363635, 0.025, 0.07692307692307693, 0.17391304347826086, 0.09821428571428571, 0.09090909090909091, 0.18446601941747573, 0.36231884057971014, 0.3855421686746988, 0.5670103092783505, 0.5268817204301075, 0.3269230769230769, 0.6428571428571429, 0.45901639344262296, 0.532258064516129], \"yaxis\": \"y49\"}, {\"marker\": {\"color\": \"#222\"}, \"mode\": \"lines\", \"showlegend\": false, \"type\": \"scatter\", \"x\": [1896, 2016], \"xaxis\": \"x49\", \"y\": [0.5, 0.5], \"yaxis\": \"y49\"}, {\"marker\": {\"color\": \"rgb(55, 83, 109)\"}, \"mode\": \"lines+markers\", \"showlegend\": false, \"type\": \"scatter\", \"x\": [1960, 1964, 1968, 1972, 1976, 1984, 1988, 1992, 1996, 2000, 2004, 2008, 2012, 2016], \"xaxis\": \"x50\", \"y\": [0.0, 0.0, 0.0, 0.0, 0.06666666666666667, 0.043478260869565216, 0.04878048780487805, 0.15384615384615385, 0.11764705882352941, 0.14893617021276595, 0.18518518518518517, 0.46153846153846156, 0.24096385542168675, 0.32786885245901637], \"yaxis\": \"y50\"}, {\"marker\": {\"color\": \"#222\"}, \"mode\": \"lines\", \"showlegend\": false, \"type\": \"scatter\", \"x\": [1896, 2016], \"xaxis\": \"x50\", \"y\": [0.5, 0.5], \"yaxis\": \"y50\"}, {\"marker\": {\"color\": \"rgb(55, 83, 109)\"}, \"mode\": \"lines+markers\", \"showlegend\": false, \"type\": \"scatter\", \"x\": [1996, 2000, 2004, 2008, 2012, 2016], \"xaxis\": \"x51\", \"y\": [0.13043478260869565, 0.1935483870967742, 0.16666666666666666, 0.3181818181818182, 0.2692307692307692, 0.25], \"yaxis\": \"y51\"}, {\"marker\": {\"color\": \"#222\"}, \"mode\": \"lines\", \"showlegend\": false, \"type\": \"scatter\", \"x\": [1896, 2016], \"xaxis\": \"x51\", \"y\": [0.5, 0.5], \"yaxis\": \"y51\"}, {\"marker\": {\"color\": \"rgb(55, 83, 109)\"}, \"mode\": \"lines+markers\", \"showlegend\": false, \"type\": \"scatter\", \"x\": [1948, 1952, 1956, 1964, 1968, 1972, 1976, 1980, 1984, 1988, 1992, 1996, 2000, 2004, 2008, 2012, 2016], \"xaxis\": \"x52\", \"y\": [0.3076923076923077, 0.25, 0.0, 0.19047619047619047, 0.2, 0.36363636363636365, 0.45, 0.3888888888888889, 0.3111111111111111, 0.3142857142857143, 0.3888888888888889, 0.41304347826086957, 0.5416666666666666, 0.5319148936170213, 0.54, 0.4888888888888889, 0.5535714285714286], \"yaxis\": \"y52\"}, {\"marker\": {\"color\": \"#222\"}, \"mode\": \"lines\", \"showlegend\": false, \"type\": \"scatter\", \"x\": [1896, 2016], \"xaxis\": \"x52\", \"y\": [0.5, 0.5], \"yaxis\": \"y52\"}, {\"marker\": {\"color\": \"rgb(55, 83, 109)\"}, \"mode\": \"lines+markers\", \"showlegend\": false, \"type\": \"scatter\", \"x\": [1956, 1960, 1964, 1968, 1972, 1984, 1988, 1992, 1996, 2000, 2004, 2008, 2012, 2016], \"xaxis\": \"x53\", \"y\": [0.0, 0.1111111111111111, 0.075, 0.18604651162790697, 0.2857142857142857, 0.18421052631578946, 0.29508196721311475, 0.25806451612903225, 0.5675675675675675, 0.6181818181818182, 0.4431818181818182, 0.45569620253164556, 0.5681818181818182, 0.5272727272727272], \"yaxis\": \"y53\"}, {\"marker\": {\"color\": \"#222\"}, \"mode\": \"lines\", \"showlegend\": false, \"type\": \"scatter\", \"x\": [1896, 2016], \"xaxis\": \"x53\", \"y\": [0.5, 0.5], \"yaxis\": \"y53\"}, {\"marker\": {\"color\": \"rgb(55, 83, 109)\"}, \"mode\": \"lines+markers\", \"showlegend\": false, \"type\": \"scatter\", \"x\": [1952, 1956, 1960, 1964, 1968, 1972, 1976, 1984, 1988, 1992, 1996, 2000, 2004, 2008, 2012, 2016], \"xaxis\": \"x54\", \"y\": [0.0, 0.0, 0.0, 0.12962962962962962, 0.0, 0.0, 0.07142857142857142, 0.2857142857142857, 0.14285714285714285, 0.5, 0.32432432432432434, 0.34615384615384615, 0.42857142857142855, 0.5319148936170213, 0.4864864864864865, 0.5185185185185185], \"yaxis\": \"y54\"}, {\"marker\": {\"color\": \"#222\"}, \"mode\": \"lines\", \"showlegend\": false, \"type\": \"scatter\", \"x\": [1896, 2016], \"xaxis\": \"x54\", \"y\": [0.5, 0.5], \"yaxis\": \"y54\"}, {\"marker\": {\"color\": \"rgb(55, 83, 109)\"}, \"mode\": \"lines+markers\", \"showlegend\": false, \"type\": \"scatter\", \"x\": [1908, 1912, 1920, 1924, 1928, 1932, 1936, 1948, 1952, 1956, 1960, 1964, 1968, 1972, 1976, 1980, 1984, 1988, 1992, 1996, 2000, 2004, 2008, 2012, 2016], \"xaxis\": \"x55\", \"y\": [0.0, 0.012195121951219513, 0.015873015873015872, 0.0, 0.028985507246376812, 0.0, 0.04672897196261682, 0.04065040650406504, 0.11627906976744186, 0.014084507042253521, 0.08547008547008547, 0.056179775280898875, 0.09090909090909091, 0.07291666666666667, 0.07228915662650602, 0.05714285714285714, 0.1511627906976744, 0.24358974358974358, 0.3181818181818182, 0.3815789473684211, 0.42857142857142855, 0.32075471698113206, 0.45614035087719296, 0.48214285714285715, 0.5185185185185185], \"yaxis\": \"y55\"}, {\"marker\": {\"color\": \"#222\"}, \"mode\": \"lines\", \"showlegend\": false, \"type\": \"scatter\", \"x\": [1896, 2016], \"xaxis\": \"x55\", \"y\": [0.5, 0.5], \"yaxis\": \"y55\"}, {\"marker\": {\"color\": \"rgb(55, 83, 109)\"}, \"mode\": \"lines+markers\", \"showlegend\": false, \"type\": \"scatter\", \"x\": [1956, 1960, 1968, 1972, 1976, 1984, 1988, 1992, 1996, 2000, 2004, 2008, 2012, 2016], \"xaxis\": \"x56\", \"y\": [0.0, 0.0, 0.0, 0.0, 0.5, 0.21428571428571427, 0.17391304347826086, 0.2222222222222222, 0.17647058823529413, 0.42857142857142855, 0.5, 0.3333333333333333, 0.3333333333333333, 0.32075471698113206], \"yaxis\": \"y56\"}, {\"marker\": {\"color\": \"#222\"}, \"mode\": \"lines\", \"showlegend\": false, \"type\": \"scatter\", \"x\": [1896, 2016], \"xaxis\": \"x56\", \"y\": [0.5, 0.5], \"yaxis\": \"y56\"}, {\"marker\": {\"color\": \"rgb(55, 83, 109)\"}, \"mode\": \"lines+markers\", \"showlegend\": false, \"type\": \"scatter\", \"x\": [1996, 2000, 2004, 2008, 2012, 2016], \"xaxis\": \"x57\", \"y\": [0.18309859154929578, 0.25, 0.25, 0.38596491228070173, 0.44680851063829785, 0.37254901960784315], \"yaxis\": \"y57\"}, {\"marker\": {\"color\": \"#222\"}, \"mode\": \"lines\", \"showlegend\": false, \"type\": \"scatter\", \"x\": [1896, 2016], \"xaxis\": \"x57\", \"y\": [0.5, 0.5], \"yaxis\": \"y57\"}, {\"marker\": {\"color\": \"rgb(55, 83, 109)\"}, \"mode\": \"lines+markers\", \"showlegend\": false, \"type\": \"scatter\", \"x\": [1924, 1928, 1936, 1952, 1956, 1960, 1964, 1968, 1972, 1976, 1980, 1988, 1992, 1996, 2000, 2004, 2008, 2012, 2016], \"xaxis\": \"x58\", \"y\": [0.0, 0.0, 0.0, 0.14285714285714285, 0.06382978723404255, 0.09183673469387756, 0.1111111111111111, 0.08928571428571429, 0.18461538461538463, 0.33544303797468356, 0.3247232472324723, 0.3953488372093023, 0.3695652173913043, 0.32727272727272727, 0.42857142857142855, 0.4842105263157895, 0.38571428571428573, 0.4126984126984127, 0.43137254901960786], \"yaxis\": \"y58\"}, {\"marker\": {\"color\": \"#222\"}, \"mode\": \"lines\", \"showlegend\": false, \"type\": \"scatter\", \"x\": [1896, 2016], \"xaxis\": \"x58\", \"y\": [0.5, 0.5], \"yaxis\": \"y58\"}],                        {\"annotations\": [{\"font\": {\"size\": 16}, \"showarrow\": false, \"text\": \"USA\", \"x\": 0.08399999999999999, \"xanchor\": \"center\", \"xref\": \"paper\", \"y\": 1.0, \"yanchor\": \"bottom\", \"yref\": \"paper\"}, {\"font\": {\"size\": 16}, \"showarrow\": false, \"text\": \"BRA\", \"x\": 0.292, \"xanchor\": \"center\", \"xref\": \"paper\", \"y\": 1.0, \"yanchor\": \"bottom\", \"yref\": \"paper\"}, {\"font\": {\"size\": 16}, \"showarrow\": false, \"text\": \"AUS\", \"x\": 0.5, \"xanchor\": \"center\", \"xref\": \"paper\", \"y\": 1.0, \"yanchor\": \"bottom\", \"yref\": \"paper\"}, {\"font\": {\"size\": 16}, \"showarrow\": false, \"text\": \"GER\", \"x\": 0.708, \"xanchor\": \"center\", \"xref\": \"paper\", \"y\": 1.0, \"yanchor\": \"bottom\", \"yref\": \"paper\"}, {\"font\": {\"size\": 16}, \"showarrow\": false, \"text\": \"FRA\", \"x\": 0.9159999999999999, \"xanchor\": \"center\", \"xref\": \"paper\", \"y\": 1.0, \"yanchor\": \"bottom\", \"yref\": \"paper\"}, {\"font\": {\"size\": 16}, \"showarrow\": false, \"text\": \"CHN\", \"x\": 0.08399999999999999, \"xanchor\": \"center\", \"xref\": \"paper\", \"y\": 0.9131944444444444, \"yanchor\": \"bottom\", \"yref\": \"paper\"}, {\"font\": {\"size\": 16}, \"showarrow\": false, \"text\": \"GBR\", \"x\": 0.292, \"xanchor\": \"center\", \"xref\": \"paper\", \"y\": 0.9131944444444444, \"yanchor\": \"bottom\", \"yref\": \"paper\"}, {\"font\": {\"size\": 16}, \"showarrow\": false, \"text\": \"JPN\", \"x\": 0.5, \"xanchor\": \"center\", \"xref\": \"paper\", \"y\": 0.9131944444444444, \"yanchor\": \"bottom\", \"yref\": \"paper\"}, {\"font\": {\"size\": 16}, \"showarrow\": false, \"text\": \"CAN\", \"x\": 0.708, \"xanchor\": \"center\", \"xref\": \"paper\", \"y\": 0.9131944444444444, \"yanchor\": \"bottom\", \"yref\": \"paper\"}, {\"font\": {\"size\": 16}, \"showarrow\": false, \"text\": \"ITA\", \"x\": 0.9159999999999999, \"xanchor\": \"center\", \"xref\": \"paper\", \"y\": 0.9131944444444444, \"yanchor\": \"bottom\", \"yref\": \"paper\"}, {\"font\": {\"size\": 16}, \"showarrow\": false, \"text\": \"ESP\", \"x\": 0.08399999999999999, \"xanchor\": \"center\", \"xref\": \"paper\", \"y\": 0.8263888888888888, \"yanchor\": \"bottom\", \"yref\": \"paper\"}, {\"font\": {\"size\": 16}, \"showarrow\": false, \"text\": \"RUS\", \"x\": 0.292, \"xanchor\": \"center\", \"xref\": \"paper\", \"y\": 0.8263888888888888, \"yanchor\": \"bottom\", \"yref\": \"paper\"}, {\"font\": {\"size\": 16}, \"showarrow\": false, \"text\": \"NED\", \"x\": 0.5, \"xanchor\": \"center\", \"xref\": \"paper\", \"y\": 0.8263888888888888, \"yanchor\": \"bottom\", \"yref\": \"paper\"}, {\"font\": {\"size\": 16}, \"showarrow\": false, \"text\": \"POL\", \"x\": 0.708, \"xanchor\": \"center\", \"xref\": \"paper\", \"y\": 0.8263888888888888, \"yanchor\": \"bottom\", \"yref\": \"paper\"}, {\"font\": {\"size\": 16}, \"showarrow\": false, \"text\": \"ARG\", \"x\": 0.9159999999999999, \"xanchor\": \"center\", \"xref\": \"paper\", \"y\": 0.8263888888888888, \"yanchor\": \"bottom\", \"yref\": \"paper\"}, {\"font\": {\"size\": 16}, \"showarrow\": false, \"text\": \"KOR\", \"x\": 0.08399999999999999, \"xanchor\": \"center\", \"xref\": \"paper\", \"y\": 0.7395833333333333, \"yanchor\": \"bottom\", \"yref\": \"paper\"}, {\"font\": {\"size\": 16}, \"showarrow\": false, \"text\": \"UKR\", \"x\": 0.292, \"xanchor\": \"center\", \"xref\": \"paper\", \"y\": 0.7395833333333333, \"yanchor\": \"bottom\", \"yref\": \"paper\"}, {\"font\": {\"size\": 16}, \"showarrow\": false, \"text\": \"NZL\", \"x\": 0.5, \"xanchor\": \"center\", \"xref\": \"paper\", \"y\": 0.7395833333333333, \"yanchor\": \"bottom\", \"yref\": \"paper\"}, {\"font\": {\"size\": 16}, \"showarrow\": false, \"text\": \"HUN\", \"x\": 0.708, \"xanchor\": \"center\", \"xref\": \"paper\", \"y\": 0.7395833333333333, \"yanchor\": \"bottom\", \"yref\": \"paper\"}, {\"font\": {\"size\": 16}, \"showarrow\": false, \"text\": \"SWE\", \"x\": 0.9159999999999999, \"xanchor\": \"center\", \"xref\": \"paper\", \"y\": 0.7395833333333333, \"yanchor\": \"bottom\", \"yref\": \"paper\"}, {\"font\": {\"size\": 16}, \"showarrow\": false, \"text\": \"COL\", \"x\": 0.08399999999999999, \"xanchor\": \"center\", \"xref\": \"paper\", \"y\": 0.6527777777777777, \"yanchor\": \"bottom\", \"yref\": \"paper\"}, {\"font\": {\"size\": 16}, \"showarrow\": false, \"text\": \"RSA\", \"x\": 0.292, \"xanchor\": \"center\", \"xref\": \"paper\", \"y\": 0.6527777777777777, \"yanchor\": \"bottom\", \"yref\": \"paper\"}, {\"font\": {\"size\": 16}, \"showarrow\": false, \"text\": \"MEX\", \"x\": 0.5, \"xanchor\": \"center\", \"xref\": \"paper\", \"y\": 0.6527777777777777, \"yanchor\": \"bottom\", \"yref\": \"paper\"}, {\"font\": {\"size\": 16}, \"showarrow\": false, \"text\": \"EGY\", \"x\": 0.708, \"xanchor\": \"center\", \"xref\": \"paper\", \"y\": 0.6527777777777777, \"yanchor\": \"bottom\", \"yref\": \"paper\"}, {\"font\": {\"size\": 16}, \"showarrow\": false, \"text\": \"BLR\", \"x\": 0.9159999999999999, \"xanchor\": \"center\", \"xref\": \"paper\", \"y\": 0.6527777777777777, \"yanchor\": \"bottom\", \"yref\": \"paper\"}, {\"font\": {\"size\": 16}, \"showarrow\": false, \"text\": \"DEN\", \"x\": 0.08399999999999999, \"xanchor\": \"center\", \"xref\": \"paper\", \"y\": 0.5659722222222223, \"yanchor\": \"bottom\", \"yref\": \"paper\"}, {\"font\": {\"size\": 16}, \"showarrow\": false, \"text\": \"CUB\", \"x\": 0.292, \"xanchor\": \"center\", \"xref\": \"paper\", \"y\": 0.5659722222222223, \"yanchor\": \"bottom\", \"yref\": \"paper\"}, {\"font\": {\"size\": 16}, \"showarrow\": false, \"text\": \"IND\", \"x\": 0.5, \"xanchor\": \"center\", \"xref\": \"paper\", \"y\": 0.5659722222222223, \"yanchor\": \"bottom\", \"yref\": \"paper\"}, {\"font\": {\"size\": 16}, \"showarrow\": false, \"text\": \"BEL\", \"x\": 0.708, \"xanchor\": \"center\", \"xref\": \"paper\", \"y\": 0.5659722222222223, \"yanchor\": \"bottom\", \"yref\": \"paper\"}, {\"font\": {\"size\": 16}, \"showarrow\": false, \"text\": \"CZE\", \"x\": 0.9159999999999999, \"xanchor\": \"center\", \"xref\": \"paper\", \"y\": 0.5659722222222223, \"yanchor\": \"bottom\", \"yref\": \"paper\"}, {\"font\": {\"size\": 16}, \"showarrow\": false, \"text\": \"SRB\", \"x\": 0.08399999999999999, \"xanchor\": \"center\", \"xref\": \"paper\", \"y\": 0.4791666666666667, \"yanchor\": \"bottom\", \"yref\": \"paper\"}, {\"font\": {\"size\": 16}, \"showarrow\": false, \"text\": \"SUI\", \"x\": 0.292, \"xanchor\": \"center\", \"xref\": \"paper\", \"y\": 0.4791666666666667, \"yanchor\": \"bottom\", \"yref\": \"paper\"}, {\"font\": {\"size\": 16}, \"showarrow\": false, \"text\": \"KAZ\", \"x\": 0.5, \"xanchor\": \"center\", \"xref\": \"paper\", \"y\": 0.4791666666666667, \"yanchor\": \"bottom\", \"yref\": \"paper\"}, {\"font\": {\"size\": 16}, \"showarrow\": false, \"text\": \"TUR\", \"x\": 0.708, \"xanchor\": \"center\", \"xref\": \"paper\", \"y\": 0.4791666666666667, \"yanchor\": \"bottom\", \"yref\": \"paper\"}, {\"font\": {\"size\": 16}, \"showarrow\": false, \"text\": \"ROU\", \"x\": 0.9159999999999999, \"xanchor\": \"center\", \"xref\": \"paper\", \"y\": 0.4791666666666667, \"yanchor\": \"bottom\", \"yref\": \"paper\"}, {\"font\": {\"size\": 16}, \"showarrow\": false, \"text\": \"GRE\", \"x\": 0.08399999999999999, \"xanchor\": \"center\", \"xref\": \"paper\", \"y\": 0.3923611111111111, \"yanchor\": \"bottom\", \"yref\": \"paper\"}, {\"font\": {\"size\": 16}, \"showarrow\": false, \"text\": \"POR\", \"x\": 0.292, \"xanchor\": \"center\", \"xref\": \"paper\", \"y\": 0.3923611111111111, \"yanchor\": \"bottom\", \"yref\": \"paper\"}, {\"font\": {\"size\": 16}, \"showarrow\": false, \"text\": \"CRO\", \"x\": 0.5, \"xanchor\": \"center\", \"xref\": \"paper\", \"y\": 0.3923611111111111, \"yanchor\": \"bottom\", \"yref\": \"paper\"}, {\"font\": {\"size\": 16}, \"showarrow\": false, \"text\": \"VEN\", \"x\": 0.708, \"xanchor\": \"center\", \"xref\": \"paper\", \"y\": 0.3923611111111111, \"yanchor\": \"bottom\", \"yref\": \"paper\"}, {\"font\": {\"size\": 16}, \"showarrow\": false, \"text\": \"KEN\", \"x\": 0.9159999999999999, \"xanchor\": \"center\", \"xref\": \"paper\", \"y\": 0.3923611111111111, \"yanchor\": \"bottom\", \"yref\": \"paper\"}, {\"font\": {\"size\": 16}, \"showarrow\": false, \"text\": \"IRL\", \"x\": 0.08399999999999999, \"xanchor\": \"center\", \"xref\": \"paper\", \"y\": 0.3055555555555556, \"yanchor\": \"bottom\", \"yref\": \"paper\"}, {\"font\": {\"size\": 16}, \"showarrow\": false, \"text\": \"NGR\", \"x\": 0.292, \"xanchor\": \"center\", \"xref\": \"paper\", \"y\": 0.3055555555555556, \"yanchor\": \"bottom\", \"yref\": \"paper\"}, {\"font\": {\"size\": 16}, \"showarrow\": false, \"text\": \"AUT\", \"x\": 0.5, \"xanchor\": \"center\", \"xref\": \"paper\", \"y\": 0.3055555555555556, \"yanchor\": \"bottom\", \"yref\": \"paper\"}, {\"font\": {\"size\": 16}, \"showarrow\": false, \"text\": \"UZB\", \"x\": 0.708, \"xanchor\": \"center\", \"xref\": \"paper\", \"y\": 0.3055555555555556, \"yanchor\": \"bottom\", \"yref\": \"paper\"}, {\"font\": {\"size\": 16}, \"showarrow\": false, \"text\": \"LTU\", \"x\": 0.9159999999999999, \"xanchor\": \"center\", \"xref\": \"paper\", \"y\": 0.3055555555555556, \"yanchor\": \"bottom\", \"yref\": \"paper\"}, {\"font\": {\"size\": 16}, \"showarrow\": false, \"text\": \"ALG\", \"x\": 0.08399999999999999, \"xanchor\": \"center\", \"xref\": \"paper\", \"y\": 0.21875, \"yanchor\": \"bottom\", \"yref\": \"paper\"}, {\"font\": {\"size\": 16}, \"showarrow\": false, \"text\": \"SLO\", \"x\": 0.292, \"xanchor\": \"center\", \"xref\": \"paper\", \"y\": 0.21875, \"yanchor\": \"bottom\", \"yref\": \"paper\"}, {\"font\": {\"size\": 16}, \"showarrow\": false, \"text\": \"IRI\", \"x\": 0.5, \"xanchor\": \"center\", \"xref\": \"paper\", \"y\": 0.21875, \"yanchor\": \"bottom\", \"yref\": \"paper\"}, {\"font\": {\"size\": 16}, \"showarrow\": false, \"text\": \"NOR\", \"x\": 0.708, \"xanchor\": \"center\", \"xref\": \"paper\", \"y\": 0.21875, \"yanchor\": \"bottom\", \"yref\": \"paper\"}, {\"font\": {\"size\": 16}, \"showarrow\": false, \"text\": \"TUN\", \"x\": 0.9159999999999999, \"xanchor\": \"center\", \"xref\": \"paper\", \"y\": 0.21875, \"yanchor\": \"bottom\", \"yref\": \"paper\"}, {\"font\": {\"size\": 16}, \"showarrow\": false, \"text\": \"AZE\", \"x\": 0.08399999999999999, \"xanchor\": \"center\", \"xref\": \"paper\", \"y\": 0.13194444444444445, \"yanchor\": \"bottom\", \"yref\": \"paper\"}, {\"font\": {\"size\": 16}, \"showarrow\": false, \"text\": \"JAM\", \"x\": 0.292, \"xanchor\": \"center\", \"xref\": \"paper\", \"y\": 0.13194444444444445, \"yanchor\": \"bottom\", \"yref\": \"paper\"}, {\"font\": {\"size\": 16}, \"showarrow\": false, \"text\": \"TPE\", \"x\": 0.5, \"xanchor\": \"center\", \"xref\": \"paper\", \"y\": 0.13194444444444445, \"yanchor\": \"bottom\", \"yref\": \"paper\"}, {\"font\": {\"size\": 16}, \"showarrow\": false, \"text\": \"THA\", \"x\": 0.708, \"xanchor\": \"center\", \"xref\": \"paper\", \"y\": 0.13194444444444445, \"yanchor\": \"bottom\", \"yref\": \"paper\"}, {\"font\": {\"size\": 16}, \"showarrow\": false, \"text\": \"FIN\", \"x\": 0.9159999999999999, \"xanchor\": \"center\", \"xref\": \"paper\", \"y\": 0.13194444444444445, \"yanchor\": \"bottom\", \"yref\": \"paper\"}, {\"font\": {\"size\": 16}, \"showarrow\": false, \"text\": \"FIJ\", \"x\": 0.08399999999999999, \"xanchor\": \"center\", \"xref\": \"paper\", \"y\": 0.045138888888888895, \"yanchor\": \"bottom\", \"yref\": \"paper\"}, {\"font\": {\"size\": 16}, \"showarrow\": false, \"text\": \"SVK\", \"x\": 0.292, \"xanchor\": \"center\", \"xref\": \"paper\", \"y\": 0.045138888888888895, \"yanchor\": \"bottom\", \"yref\": \"paper\"}, {\"font\": {\"size\": 16}, \"showarrow\": false, \"text\": \"BUL\", \"x\": 0.5, \"xanchor\": \"center\", \"xref\": \"paper\", \"y\": 0.045138888888888895, \"yanchor\": \"bottom\", \"yref\": \"paper\"}], \"height\": 2400, \"template\": {\"data\": {\"bar\": [{\"error_x\": {\"color\": \"#2a3f5f\"}, \"error_y\": {\"color\": \"#2a3f5f\"}, \"marker\": {\"line\": {\"color\": \"#E5ECF6\", \"width\": 0.5}}, \"type\": \"bar\"}], \"barpolar\": [{\"marker\": {\"line\": {\"color\": \"#E5ECF6\", \"width\": 0.5}}, \"type\": \"barpolar\"}], \"carpet\": [{\"aaxis\": {\"endlinecolor\": \"#2a3f5f\", \"gridcolor\": \"white\", \"linecolor\": \"white\", \"minorgridcolor\": \"white\", \"startlinecolor\": \"#2a3f5f\"}, \"baxis\": {\"endlinecolor\": \"#2a3f5f\", \"gridcolor\": \"white\", \"linecolor\": \"white\", \"minorgridcolor\": \"white\", \"startlinecolor\": \"#2a3f5f\"}, \"type\": \"carpet\"}], \"choropleth\": [{\"colorbar\": {\"outlinewidth\": 0, \"ticks\": \"\"}, \"type\": \"choropleth\"}], \"contour\": [{\"colorbar\": {\"outlinewidth\": 0, \"ticks\": \"\"}, \"colorscale\": [[0.0, \"#0d0887\"], [0.1111111111111111, \"#46039f\"], [0.2222222222222222, \"#7201a8\"], [0.3333333333333333, \"#9c179e\"], [0.4444444444444444, \"#bd3786\"], [0.5555555555555556, \"#d8576b\"], [0.6666666666666666, \"#ed7953\"], [0.7777777777777778, \"#fb9f3a\"], [0.8888888888888888, \"#fdca26\"], [1.0, \"#f0f921\"]], \"type\": \"contour\"}], \"contourcarpet\": [{\"colorbar\": {\"outlinewidth\": 0, \"ticks\": \"\"}, \"type\": \"contourcarpet\"}], \"heatmap\": [{\"colorbar\": {\"outlinewidth\": 0, \"ticks\": \"\"}, \"colorscale\": [[0.0, \"#0d0887\"], [0.1111111111111111, \"#46039f\"], [0.2222222222222222, \"#7201a8\"], [0.3333333333333333, \"#9c179e\"], [0.4444444444444444, \"#bd3786\"], [0.5555555555555556, \"#d8576b\"], [0.6666666666666666, \"#ed7953\"], [0.7777777777777778, \"#fb9f3a\"], [0.8888888888888888, \"#fdca26\"], [1.0, \"#f0f921\"]], \"type\": \"heatmap\"}], \"heatmapgl\": [{\"colorbar\": {\"outlinewidth\": 0, \"ticks\": \"\"}, \"colorscale\": [[0.0, \"#0d0887\"], [0.1111111111111111, \"#46039f\"], [0.2222222222222222, \"#7201a8\"], [0.3333333333333333, \"#9c179e\"], [0.4444444444444444, \"#bd3786\"], [0.5555555555555556, \"#d8576b\"], [0.6666666666666666, \"#ed7953\"], [0.7777777777777778, \"#fb9f3a\"], [0.8888888888888888, \"#fdca26\"], [1.0, \"#f0f921\"]], \"type\": \"heatmapgl\"}], \"histogram\": [{\"marker\": {\"colorbar\": {\"outlinewidth\": 0, \"ticks\": \"\"}}, \"type\": \"histogram\"}], \"histogram2d\": [{\"colorbar\": {\"outlinewidth\": 0, \"ticks\": \"\"}, \"colorscale\": [[0.0, \"#0d0887\"], [0.1111111111111111, \"#46039f\"], [0.2222222222222222, \"#7201a8\"], [0.3333333333333333, \"#9c179e\"], [0.4444444444444444, \"#bd3786\"], [0.5555555555555556, \"#d8576b\"], [0.6666666666666666, \"#ed7953\"], [0.7777777777777778, \"#fb9f3a\"], [0.8888888888888888, \"#fdca26\"], [1.0, \"#f0f921\"]], \"type\": \"histogram2d\"}], \"histogram2dcontour\": [{\"colorbar\": {\"outlinewidth\": 0, \"ticks\": \"\"}, \"colorscale\": [[0.0, \"#0d0887\"], [0.1111111111111111, \"#46039f\"], [0.2222222222222222, \"#7201a8\"], [0.3333333333333333, \"#9c179e\"], [0.4444444444444444, \"#bd3786\"], [0.5555555555555556, \"#d8576b\"], [0.6666666666666666, \"#ed7953\"], [0.7777777777777778, \"#fb9f3a\"], [0.8888888888888888, \"#fdca26\"], [1.0, \"#f0f921\"]], \"type\": \"histogram2dcontour\"}], \"mesh3d\": [{\"colorbar\": {\"outlinewidth\": 0, \"ticks\": \"\"}, \"type\": \"mesh3d\"}], \"parcoords\": [{\"line\": {\"colorbar\": {\"outlinewidth\": 0, \"ticks\": \"\"}}, \"type\": \"parcoords\"}], \"pie\": [{\"automargin\": true, \"type\": \"pie\"}], \"scatter\": [{\"marker\": {\"colorbar\": {\"outlinewidth\": 0, \"ticks\": \"\"}}, \"type\": \"scatter\"}], \"scatter3d\": [{\"line\": {\"colorbar\": {\"outlinewidth\": 0, \"ticks\": \"\"}}, \"marker\": {\"colorbar\": {\"outlinewidth\": 0, \"ticks\": \"\"}}, \"type\": \"scatter3d\"}], \"scattercarpet\": [{\"marker\": {\"colorbar\": {\"outlinewidth\": 0, \"ticks\": \"\"}}, \"type\": \"scattercarpet\"}], \"scattergeo\": [{\"marker\": {\"colorbar\": {\"outlinewidth\": 0, \"ticks\": \"\"}}, \"type\": \"scattergeo\"}], \"scattergl\": [{\"marker\": {\"colorbar\": {\"outlinewidth\": 0, \"ticks\": \"\"}}, \"type\": \"scattergl\"}], \"scattermapbox\": [{\"marker\": {\"colorbar\": {\"outlinewidth\": 0, \"ticks\": \"\"}}, \"type\": \"scattermapbox\"}], \"scatterpolar\": [{\"marker\": {\"colorbar\": {\"outlinewidth\": 0, \"ticks\": \"\"}}, \"type\": \"scatterpolar\"}], \"scatterpolargl\": [{\"marker\": {\"colorbar\": {\"outlinewidth\": 0, \"ticks\": \"\"}}, \"type\": \"scatterpolargl\"}], \"scatterternary\": [{\"marker\": {\"colorbar\": {\"outlinewidth\": 0, \"ticks\": \"\"}}, \"type\": \"scatterternary\"}], \"surface\": [{\"colorbar\": {\"outlinewidth\": 0, \"ticks\": \"\"}, \"colorscale\": [[0.0, \"#0d0887\"], [0.1111111111111111, \"#46039f\"], [0.2222222222222222, \"#7201a8\"], [0.3333333333333333, \"#9c179e\"], [0.4444444444444444, \"#bd3786\"], [0.5555555555555556, \"#d8576b\"], [0.6666666666666666, \"#ed7953\"], [0.7777777777777778, \"#fb9f3a\"], [0.8888888888888888, \"#fdca26\"], [1.0, \"#f0f921\"]], \"type\": \"surface\"}], \"table\": [{\"cells\": {\"fill\": {\"color\": \"#EBF0F8\"}, \"line\": {\"color\": \"white\"}}, \"header\": {\"fill\": {\"color\": \"#C8D4E3\"}, \"line\": {\"color\": \"white\"}}, \"type\": \"table\"}]}, \"layout\": {\"annotationdefaults\": {\"arrowcolor\": \"#2a3f5f\", \"arrowhead\": 0, \"arrowwidth\": 1}, \"autotypenumbers\": \"strict\", \"coloraxis\": {\"colorbar\": {\"outlinewidth\": 0, \"ticks\": \"\"}}, \"colorscale\": {\"diverging\": [[0, \"#8e0152\"], [0.1, \"#c51b7d\"], [0.2, \"#de77ae\"], [0.3, \"#f1b6da\"], [0.4, \"#fde0ef\"], [0.5, \"#f7f7f7\"], [0.6, \"#e6f5d0\"], [0.7, \"#b8e186\"], [0.8, \"#7fbc41\"], [0.9, \"#4d9221\"], [1, \"#276419\"]], \"sequential\": [[0.0, \"#0d0887\"], [0.1111111111111111, \"#46039f\"], [0.2222222222222222, \"#7201a8\"], [0.3333333333333333, \"#9c179e\"], [0.4444444444444444, \"#bd3786\"], [0.5555555555555556, \"#d8576b\"], [0.6666666666666666, \"#ed7953\"], [0.7777777777777778, \"#fb9f3a\"], [0.8888888888888888, \"#fdca26\"], [1.0, \"#f0f921\"]], \"sequentialminus\": [[0.0, \"#0d0887\"], [0.1111111111111111, \"#46039f\"], [0.2222222222222222, \"#7201a8\"], [0.3333333333333333, \"#9c179e\"], [0.4444444444444444, \"#bd3786\"], [0.5555555555555556, \"#d8576b\"], [0.6666666666666666, \"#ed7953\"], [0.7777777777777778, \"#fb9f3a\"], [0.8888888888888888, \"#fdca26\"], [1.0, \"#f0f921\"]]}, \"colorway\": [\"#636efa\", \"#EF553B\", \"#00cc96\", \"#ab63fa\", \"#FFA15A\", \"#19d3f3\", \"#FF6692\", \"#B6E880\", \"#FF97FF\", \"#FECB52\"], \"font\": {\"color\": \"#2a3f5f\"}, \"geo\": {\"bgcolor\": \"white\", \"lakecolor\": \"white\", \"landcolor\": \"#E5ECF6\", \"showlakes\": true, \"showland\": true, \"subunitcolor\": \"white\"}, \"hoverlabel\": {\"align\": \"left\"}, \"hovermode\": \"closest\", \"mapbox\": {\"style\": \"light\"}, \"paper_bgcolor\": \"white\", \"plot_bgcolor\": \"#E5ECF6\", \"polar\": {\"angularaxis\": {\"gridcolor\": \"white\", \"linecolor\": \"white\", \"ticks\": \"\"}, \"bgcolor\": \"#E5ECF6\", \"radialaxis\": {\"gridcolor\": \"white\", \"linecolor\": \"white\", \"ticks\": \"\"}}, \"scene\": {\"xaxis\": {\"backgroundcolor\": \"#E5ECF6\", \"gridcolor\": \"white\", \"gridwidth\": 2, \"linecolor\": \"white\", \"showbackground\": true, \"ticks\": \"\", \"zerolinecolor\": \"white\"}, \"yaxis\": {\"backgroundcolor\": \"#E5ECF6\", \"gridcolor\": \"white\", \"gridwidth\": 2, \"linecolor\": \"white\", \"showbackground\": true, \"ticks\": \"\", \"zerolinecolor\": \"white\"}, \"zaxis\": {\"backgroundcolor\": \"#E5ECF6\", \"gridcolor\": \"white\", \"gridwidth\": 2, \"linecolor\": \"white\", \"showbackground\": true, \"ticks\": \"\", \"zerolinecolor\": \"white\"}}, \"shapedefaults\": {\"line\": {\"color\": \"#2a3f5f\"}}, \"ternary\": {\"aaxis\": {\"gridcolor\": \"white\", \"linecolor\": \"white\", \"ticks\": \"\"}, \"baxis\": {\"gridcolor\": \"white\", \"linecolor\": \"white\", \"ticks\": \"\"}, \"bgcolor\": \"#E5ECF6\", \"caxis\": {\"gridcolor\": \"white\", \"linecolor\": \"white\", \"ticks\": \"\"}}, \"title\": {\"x\": 0.05}, \"xaxis\": {\"automargin\": true, \"gridcolor\": \"white\", \"linecolor\": \"white\", \"ticks\": \"\", \"title\": {\"standoff\": 15}, \"zerolinecolor\": \"white\", \"zerolinewidth\": 2}, \"yaxis\": {\"automargin\": true, \"gridcolor\": \"white\", \"linecolor\": \"white\", \"ticks\": \"\", \"title\": {\"standoff\": 15}, \"zerolinecolor\": \"white\", \"zerolinewidth\": 2}}}, \"width\": 1000, \"xaxis\": {\"anchor\": \"y\", \"domain\": [0.0, 0.16799999999999998], \"range\": [1896, 2020]}, \"xaxis10\": {\"anchor\": \"y10\", \"domain\": [0.832, 1.0], \"range\": [1896, 2020]}, \"xaxis11\": {\"anchor\": \"y11\", \"domain\": [0.0, 0.16799999999999998], \"range\": [1896, 2020]}, \"xaxis12\": {\"anchor\": \"y12\", \"domain\": [0.208, 0.376], \"range\": [1896, 2020]}, \"xaxis13\": {\"anchor\": \"y13\", \"domain\": [0.416, 0.584], \"range\": [1896, 2020]}, \"xaxis14\": {\"anchor\": \"y14\", \"domain\": [0.624, 0.792], \"range\": [1896, 2020]}, \"xaxis15\": {\"anchor\": \"y15\", \"domain\": [0.832, 1.0], \"range\": [1896, 2020]}, \"xaxis16\": {\"anchor\": \"y16\", \"domain\": [0.0, 0.16799999999999998], \"range\": [1896, 2020]}, \"xaxis17\": {\"anchor\": \"y17\", \"domain\": [0.208, 0.376], \"range\": [1896, 2020]}, \"xaxis18\": {\"anchor\": \"y18\", \"domain\": [0.416, 0.584], \"range\": [1896, 2020]}, \"xaxis19\": {\"anchor\": \"y19\", \"domain\": [0.624, 0.792], \"range\": [1896, 2020]}, \"xaxis2\": {\"anchor\": \"y2\", \"domain\": [0.208, 0.376], \"range\": [1896, 2020]}, \"xaxis20\": {\"anchor\": \"y20\", \"domain\": [0.832, 1.0], \"range\": [1896, 2020]}, \"xaxis21\": {\"anchor\": \"y21\", \"domain\": [0.0, 0.16799999999999998], \"range\": [1896, 2020]}, \"xaxis22\": {\"anchor\": \"y22\", \"domain\": [0.208, 0.376], \"range\": [1896, 2020]}, \"xaxis23\": {\"anchor\": \"y23\", \"domain\": [0.416, 0.584], \"range\": [1896, 2020]}, \"xaxis24\": {\"anchor\": \"y24\", \"domain\": [0.624, 0.792], \"range\": [1896, 2020]}, \"xaxis25\": {\"anchor\": \"y25\", \"domain\": [0.832, 1.0], \"range\": [1896, 2020]}, \"xaxis26\": {\"anchor\": \"y26\", \"domain\": [0.0, 0.16799999999999998], \"range\": [1896, 2020]}, \"xaxis27\": {\"anchor\": \"y27\", \"domain\": [0.208, 0.376], \"range\": [1896, 2020]}, \"xaxis28\": {\"anchor\": \"y28\", \"domain\": [0.416, 0.584], \"range\": [1896, 2020]}, \"xaxis29\": {\"anchor\": \"y29\", \"domain\": [0.624, 0.792], \"range\": [1896, 2020]}, \"xaxis3\": {\"anchor\": \"y3\", \"domain\": [0.416, 0.584], \"range\": [1896, 2020]}, \"xaxis30\": {\"anchor\": \"y30\", \"domain\": [0.832, 1.0], \"range\": [1896, 2020]}, \"xaxis31\": {\"anchor\": \"y31\", \"domain\": [0.0, 0.16799999999999998], \"range\": [1896, 2020]}, \"xaxis32\": {\"anchor\": \"y32\", \"domain\": [0.208, 0.376], \"range\": [1896, 2020]}, \"xaxis33\": {\"anchor\": \"y33\", \"domain\": [0.416, 0.584], \"range\": [1896, 2020]}, \"xaxis34\": {\"anchor\": \"y34\", \"domain\": [0.624, 0.792], \"range\": [1896, 2020]}, \"xaxis35\": {\"anchor\": \"y35\", \"domain\": [0.832, 1.0], \"range\": [1896, 2020]}, \"xaxis36\": {\"anchor\": \"y36\", \"domain\": [0.0, 0.16799999999999998], \"range\": [1896, 2020]}, \"xaxis37\": {\"anchor\": \"y37\", \"domain\": [0.208, 0.376], \"range\": [1896, 2020]}, \"xaxis38\": {\"anchor\": \"y38\", \"domain\": [0.416, 0.584], \"range\": [1896, 2020]}, \"xaxis39\": {\"anchor\": \"y39\", \"domain\": [0.624, 0.792], \"range\": [1896, 2020]}, \"xaxis4\": {\"anchor\": \"y4\", \"domain\": [0.624, 0.792], \"range\": [1896, 2020]}, \"xaxis40\": {\"anchor\": \"y40\", \"domain\": [0.832, 1.0], \"range\": [1896, 2020]}, \"xaxis41\": {\"anchor\": \"y41\", \"domain\": [0.0, 0.16799999999999998], \"range\": [1896, 2020]}, \"xaxis42\": {\"anchor\": \"y42\", \"domain\": [0.208, 0.376], \"range\": [1896, 2020]}, \"xaxis43\": {\"anchor\": \"y43\", \"domain\": [0.416, 0.584], \"range\": [1896, 2020]}, \"xaxis44\": {\"anchor\": \"y44\", \"domain\": [0.624, 0.792], \"range\": [1896, 2020]}, \"xaxis45\": {\"anchor\": \"y45\", \"domain\": [0.832, 1.0], \"range\": [1896, 2020]}, \"xaxis46\": {\"anchor\": \"y46\", \"domain\": [0.0, 0.16799999999999998], \"range\": [1896, 2020]}, \"xaxis47\": {\"anchor\": \"y47\", \"domain\": [0.208, 0.376], \"range\": [1896, 2020]}, \"xaxis48\": {\"anchor\": \"y48\", \"domain\": [0.416, 0.584], \"range\": [1896, 2020]}, \"xaxis49\": {\"anchor\": \"y49\", \"domain\": [0.624, 0.792], \"range\": [1896, 2020]}, \"xaxis5\": {\"anchor\": \"y5\", \"domain\": [0.832, 1.0], \"range\": [1896, 2020]}, \"xaxis50\": {\"anchor\": \"y50\", \"domain\": [0.832, 1.0], \"range\": [1896, 2020]}, \"xaxis51\": {\"anchor\": \"y51\", \"domain\": [0.0, 0.16799999999999998], \"range\": [1896, 2020]}, \"xaxis52\": {\"anchor\": \"y52\", \"domain\": [0.208, 0.376], \"range\": [1896, 2020]}, \"xaxis53\": {\"anchor\": \"y53\", \"domain\": [0.416, 0.584], \"range\": [1896, 2020]}, \"xaxis54\": {\"anchor\": \"y54\", \"domain\": [0.624, 0.792], \"range\": [1896, 2020]}, \"xaxis55\": {\"anchor\": \"y55\", \"domain\": [0.832, 1.0], \"range\": [1896, 2020]}, \"xaxis56\": {\"anchor\": \"y56\", \"domain\": [0.0, 0.16799999999999998], \"range\": [1896, 2020]}, \"xaxis57\": {\"anchor\": \"y57\", \"domain\": [0.208, 0.376], \"range\": [1896, 2020]}, \"xaxis58\": {\"anchor\": \"y58\", \"domain\": [0.416, 0.584], \"range\": [1896, 2020]}, \"xaxis59\": {\"anchor\": \"y59\", \"domain\": [0.624, 0.792]}, \"xaxis6\": {\"anchor\": \"y6\", \"domain\": [0.0, 0.16799999999999998], \"range\": [1896, 2020]}, \"xaxis60\": {\"anchor\": \"y60\", \"domain\": [0.832, 1.0]}, \"xaxis7\": {\"anchor\": \"y7\", \"domain\": [0.208, 0.376], \"range\": [1896, 2020]}, \"xaxis8\": {\"anchor\": \"y8\", \"domain\": [0.416, 0.584], \"range\": [1896, 2020]}, \"xaxis9\": {\"anchor\": \"y9\", \"domain\": [0.624, 0.792], \"range\": [1896, 2020]}, \"yaxis\": {\"anchor\": \"x\", \"domain\": [0.9548611111111112, 1.0], \"range\": [0, 0.7]}, \"yaxis10\": {\"anchor\": \"x10\", \"domain\": [0.8680555555555556, 0.9131944444444444], \"range\": [0, 0.7]}, \"yaxis11\": {\"anchor\": \"x11\", \"domain\": [0.78125, 0.8263888888888888], \"range\": [0, 0.7]}, \"yaxis12\": {\"anchor\": \"x12\", \"domain\": [0.78125, 0.8263888888888888], \"range\": [0, 0.7]}, \"yaxis13\": {\"anchor\": \"x13\", \"domain\": [0.78125, 0.8263888888888888], \"range\": [0, 0.7]}, \"yaxis14\": {\"anchor\": \"x14\", \"domain\": [0.78125, 0.8263888888888888], \"range\": [0, 0.7]}, \"yaxis15\": {\"anchor\": \"x15\", \"domain\": [0.78125, 0.8263888888888888], \"range\": [0, 0.7]}, \"yaxis16\": {\"anchor\": \"x16\", \"domain\": [0.6944444444444444, 0.7395833333333333], \"range\": [0, 0.7]}, \"yaxis17\": {\"anchor\": \"x17\", \"domain\": [0.6944444444444444, 0.7395833333333333], \"range\": [0, 0.7]}, \"yaxis18\": {\"anchor\": \"x18\", \"domain\": [0.6944444444444444, 0.7395833333333333], \"range\": [0, 0.7]}, \"yaxis19\": {\"anchor\": \"x19\", \"domain\": [0.6944444444444444, 0.7395833333333333], \"range\": [0, 0.7]}, \"yaxis2\": {\"anchor\": \"x2\", \"domain\": [0.9548611111111112, 1.0], \"range\": [0, 0.7]}, \"yaxis20\": {\"anchor\": \"x20\", \"domain\": [0.6944444444444444, 0.7395833333333333], \"range\": [0, 0.7]}, \"yaxis21\": {\"anchor\": \"x21\", \"domain\": [0.6076388888888888, 0.6527777777777777], \"range\": [0, 0.7]}, \"yaxis22\": {\"anchor\": \"x22\", \"domain\": [0.6076388888888888, 0.6527777777777777], \"range\": [0, 0.7]}, \"yaxis23\": {\"anchor\": \"x23\", \"domain\": [0.6076388888888888, 0.6527777777777777], \"range\": [0, 0.7]}, \"yaxis24\": {\"anchor\": \"x24\", \"domain\": [0.6076388888888888, 0.6527777777777777], \"range\": [0, 0.7]}, \"yaxis25\": {\"anchor\": \"x25\", \"domain\": [0.6076388888888888, 0.6527777777777777], \"range\": [0, 0.7]}, \"yaxis26\": {\"anchor\": \"x26\", \"domain\": [0.5208333333333334, 0.5659722222222223], \"range\": [0, 0.7]}, \"yaxis27\": {\"anchor\": \"x27\", \"domain\": [0.5208333333333334, 0.5659722222222223], \"range\": [0, 0.7]}, \"yaxis28\": {\"anchor\": \"x28\", \"domain\": [0.5208333333333334, 0.5659722222222223], \"range\": [0, 0.7]}, \"yaxis29\": {\"anchor\": \"x29\", \"domain\": [0.5208333333333334, 0.5659722222222223], \"range\": [0, 0.7]}, \"yaxis3\": {\"anchor\": \"x3\", \"domain\": [0.9548611111111112, 1.0], \"range\": [0, 0.7]}, \"yaxis30\": {\"anchor\": \"x30\", \"domain\": [0.5208333333333334, 0.5659722222222223], \"range\": [0, 0.7]}, \"yaxis31\": {\"anchor\": \"x31\", \"domain\": [0.4340277777777778, 0.4791666666666667], \"range\": [0, 0.7]}, \"yaxis32\": {\"anchor\": \"x32\", \"domain\": [0.4340277777777778, 0.4791666666666667], \"range\": [0, 0.7]}, \"yaxis33\": {\"anchor\": \"x33\", \"domain\": [0.4340277777777778, 0.4791666666666667], \"range\": [0, 0.7]}, \"yaxis34\": {\"anchor\": \"x34\", \"domain\": [0.4340277777777778, 0.4791666666666667], \"range\": [0, 0.7]}, \"yaxis35\": {\"anchor\": \"x35\", \"domain\": [0.4340277777777778, 0.4791666666666667], \"range\": [0, 0.7]}, \"yaxis36\": {\"anchor\": \"x36\", \"domain\": [0.3472222222222222, 0.3923611111111111], \"range\": [0, 0.7]}, \"yaxis37\": {\"anchor\": \"x37\", \"domain\": [0.3472222222222222, 0.3923611111111111], \"range\": [0, 0.7]}, \"yaxis38\": {\"anchor\": \"x38\", \"domain\": [0.3472222222222222, 0.3923611111111111], \"range\": [0, 0.7]}, \"yaxis39\": {\"anchor\": \"x39\", \"domain\": [0.3472222222222222, 0.3923611111111111], \"range\": [0, 0.7]}, \"yaxis4\": {\"anchor\": \"x4\", \"domain\": [0.9548611111111112, 1.0], \"range\": [0, 0.7]}, \"yaxis40\": {\"anchor\": \"x40\", \"domain\": [0.3472222222222222, 0.3923611111111111], \"range\": [0, 0.7]}, \"yaxis41\": {\"anchor\": \"x41\", \"domain\": [0.2604166666666667, 0.3055555555555556], \"range\": [0, 0.7]}, \"yaxis42\": {\"anchor\": \"x42\", \"domain\": [0.2604166666666667, 0.3055555555555556], \"range\": [0, 0.7]}, \"yaxis43\": {\"anchor\": \"x43\", \"domain\": [0.2604166666666667, 0.3055555555555556], \"range\": [0, 0.7]}, \"yaxis44\": {\"anchor\": \"x44\", \"domain\": [0.2604166666666667, 0.3055555555555556], \"range\": [0, 0.7]}, \"yaxis45\": {\"anchor\": \"x45\", \"domain\": [0.2604166666666667, 0.3055555555555556], \"range\": [0, 0.7]}, \"yaxis46\": {\"anchor\": \"x46\", \"domain\": [0.1736111111111111, 0.21875], \"range\": [0, 0.7]}, \"yaxis47\": {\"anchor\": \"x47\", \"domain\": [0.1736111111111111, 0.21875], \"range\": [0, 0.7]}, \"yaxis48\": {\"anchor\": \"x48\", \"domain\": [0.1736111111111111, 0.21875], \"range\": [0, 0.7]}, \"yaxis49\": {\"anchor\": \"x49\", \"domain\": [0.1736111111111111, 0.21875], \"range\": [0, 0.7]}, \"yaxis5\": {\"anchor\": \"x5\", \"domain\": [0.9548611111111112, 1.0], \"range\": [0, 0.7]}, \"yaxis50\": {\"anchor\": \"x50\", \"domain\": [0.1736111111111111, 0.21875], \"range\": [0, 0.7]}, \"yaxis51\": {\"anchor\": \"x51\", \"domain\": [0.08680555555555555, 0.13194444444444445], \"range\": [0, 0.7]}, \"yaxis52\": {\"anchor\": \"x52\", \"domain\": [0.08680555555555555, 0.13194444444444445], \"range\": [0, 0.7]}, \"yaxis53\": {\"anchor\": \"x53\", \"domain\": [0.08680555555555555, 0.13194444444444445], \"range\": [0, 0.7]}, \"yaxis54\": {\"anchor\": \"x54\", \"domain\": [0.08680555555555555, 0.13194444444444445], \"range\": [0, 0.7]}, \"yaxis55\": {\"anchor\": \"x55\", \"domain\": [0.08680555555555555, 0.13194444444444445], \"range\": [0, 0.7]}, \"yaxis56\": {\"anchor\": \"x56\", \"domain\": [0.0, 0.045138888888888895], \"range\": [0, 0.7]}, \"yaxis57\": {\"anchor\": \"x57\", \"domain\": [0.0, 0.045138888888888895], \"range\": [0, 0.7]}, \"yaxis58\": {\"anchor\": \"x58\", \"domain\": [0.0, 0.045138888888888895], \"range\": [0, 0.7]}, \"yaxis59\": {\"anchor\": \"x59\", \"domain\": [0.0, 0.045138888888888895]}, \"yaxis6\": {\"anchor\": \"x6\", \"domain\": [0.8680555555555556, 0.9131944444444444], \"range\": [0, 0.7]}, \"yaxis60\": {\"anchor\": \"x60\", \"domain\": [0.0, 0.045138888888888895]}, \"yaxis7\": {\"anchor\": \"x7\", \"domain\": [0.8680555555555556, 0.9131944444444444], \"range\": [0, 0.7]}, \"yaxis8\": {\"anchor\": \"x8\", \"domain\": [0.8680555555555556, 0.9131944444444444], \"range\": [0, 0.7]}, \"yaxis9\": {\"anchor\": \"x9\", \"domain\": [0.8680555555555556, 0.9131944444444444], \"range\": [0, 0.7]}},                        {\"responsive\": true}                    ).then(function(){\n",
       "                            \n",
       "var gd = document.getElementById('79b41659-fe24-46f5-8ffc-88d524a781c3');\n",
       "var x = new MutationObserver(function (mutations, observer) {{\n",
       "        var display = window.getComputedStyle(gd).display;\n",
       "        if (!display || display === 'none') {{\n",
       "            console.log([gd, 'removed!']);\n",
       "            Plotly.purge(gd);\n",
       "            observer.disconnect();\n",
       "        }}\n",
       "}});\n",
       "\n",
       "// Listen for the removal of the full notebook cells\n",
       "var notebookContainer = gd.closest('#notebook-container');\n",
       "if (notebookContainer) {{\n",
       "    x.observe(notebookContainer, {childList: true});\n",
       "}}\n",
       "\n",
       "// Listen for the clearing of the current output cell\n",
       "var outputEl = gd.closest('.output');\n",
       "if (outputEl) {{\n",
       "    x.observe(outputEl, {childList: true});\n",
       "}}\n",
       "\n",
       "                        })                };                });            </script>        </div>"
      ]
     },
     "metadata": {},
     "output_type": "display_data"
    }
   ],
   "source": [
    "# Plots many small multiples\n",
    "positions = [\n",
    "             (1,1), (1,2), (1,3), (1,4), (1,5),\n",
    "             (2,1), (2,2), (2,3), (2,4), (2,5),\n",
    "             (3,1), (3,2), (3,3), (3,4), (3,5),\n",
    "             (4,1), (4,2), (4,3), (4,4), (4,5),\n",
    "             (5,1), (5,2), (5,3), (5,4), (5,5),\n",
    "             (6,1), (6,2), (6,3), (6,4), (6,5),\n",
    "             (7,1), (7,2), (7,3), (7,4), (7,5),\n",
    "             (8,1), (8,2), (8,3), (8,4), (8,5),\n",
    "             (9,1), (9,2), (9,3), (9,4), (9,5),\n",
    "            (10,1), (10,2), (10,3), (10,4), (10,5),\n",
    "            (11,1), (11,2), (11,3), (11,4), (11,5),\n",
    "            (12,1), (12,2), (12,3),# (12,4), (12,5)\n",
    "    ]\n",
    "\n",
    "\n",
    "fig = make_subplots(rows=12, cols=5, subplot_titles=big_teams)\n",
    "\n",
    "\n",
    "assert len(big_teams) == len(positions)\n",
    "\n",
    "for NOC, position in zip(big_teams, positions):\n",
    "    \n",
    "    subset = noc_games_sex[noc_games_sex.NOC==NOC]\n",
    "    subset = subset.sort_values(by='Year')\n",
    "    \n",
    "    row = position[0]\n",
    "    col = position[1]\n",
    "    \n",
    "    #print(row, col)\n",
    "\n",
    "    fig.add_trace(go.Scatter(x=subset.Year,\n",
    "                    y=subset.Percentage_women,\n",
    "                    mode='lines+markers',\n",
    "                    marker_color='rgb(55, 83, 109)',\n",
    "                    showlegend=False),\n",
    "                    row=row,\n",
    "                    col=col,\n",
    "                )\n",
    "    \n",
    "    # Adds a 50% line\n",
    "    fig.add_trace(go.Scatter(x=[1896, 2016], \n",
    "                             y=[.5, .5],\n",
    "                             mode='lines',\n",
    "                             showlegend=False,\n",
    "                             marker_color=\"#222\"),\n",
    "                             row=row,\n",
    "                             col=col)\n",
    "\n",
    "    fig.update_xaxes(range=[1896, 2020], row=row, col=col)\n",
    "    fig.update_yaxes(range=[0, .7], row=row, col=col)\n",
    "\n",
    "\n",
    "fig.update_layout(height=2400, width=1000)\n",
    "fig.show()"
   ]
  },
  {
   "cell_type": "markdown",
   "metadata": {},
   "source": [
    "#### In those nations, were are women overperforming or underperforming?\n",
    "If men and women in a team are equally competitive, we would assume that the percentage of medals each one wins is proportional to its share of athletes. Is that so?\n",
    "\n",
    "This can be calculated simply by computing the expected ammount of medals if distribution was proportional to share of team divided by the actual ammount they got."
   ]
  },
  {
   "cell_type": "markdown",
   "metadata": {},
   "source": [
    "There is something we need to consider, however: medals in team sports, where there are many athletes, but a single medal is awarded. This can skew data and is a caveat that we need to highlight."
   ]
  },
  {
   "cell_type": "code",
   "execution_count": 264,
   "metadata": {},
   "outputs": [],
   "source": [
    "# TO DO:\n",
    "\n",
    "## Keep valid duplicated medals (e.g team sports, doubles or even draws)"
   ]
  },
  {
   "cell_type": "code",
   "execution_count": 22,
   "metadata": {},
   "outputs": [],
   "source": [
    "# Removes mixed events\n",
    "valid_medals = df[~df.Event.str.contains(\"Mixed\")].reset_index(drop=True)\n",
    "\n",
    "# Keeps a single medal of each kind for event - note that this removes some valid bronze medals\n",
    "# and will need fixing later\n",
    "valid_medals = df.drop_duplicates(subset=['Event', 'Medal', 'Year']).reset_index(drop=True)\n",
    "\n",
    "# Groups the data by country and gender\n",
    "valid_medals = (valid_medals.groupby([\"NOC\", \"Sex\", \"Medal\", \"Year\"])\n",
    "        .ID\n",
    "        .count()\n",
    "        .reset_index()\n",
    "        .rename(columns={\"ID\":\"count\"})\n",
    "        .pivot_table(index=['NOC', 'Year'], columns='Sex', values='count', aggfunc='sum')\n",
    "        .reset_index()\n",
    "        .fillna(0))\n",
    "\n",
    "# Renames columns to avoid confusion\n",
    "valid_medals = valid_medals.rename(columns={\"F\":\"F_medals\", \"M\":\"M_medals\"})\n",
    "\n",
    "# Computes total medals\n",
    "valid_medals[\"Total_medals\"] = valid_medals.F_medals.fillna(0) + valid_medals.M_medals.fillna(0)\n",
    "\n",
    "# Crates a field for women percentage\n",
    "valid_medals[\"Percentage_women_medals\"] = valid_medals[\"F_medals\"] / valid_medals[\"Total_medals\"]"
   ]
  },
  {
   "cell_type": "code",
   "execution_count": 23,
   "metadata": {},
   "outputs": [
    {
     "data": {
      "text/html": [
       "<div>\n",
       "<style scoped>\n",
       "    .dataframe tbody tr th:only-of-type {\n",
       "        vertical-align: middle;\n",
       "    }\n",
       "\n",
       "    .dataframe tbody tr th {\n",
       "        vertical-align: top;\n",
       "    }\n",
       "\n",
       "    .dataframe thead th {\n",
       "        text-align: right;\n",
       "    }\n",
       "</style>\n",
       "<table border=\"1\" class=\"dataframe\">\n",
       "  <thead>\n",
       "    <tr style=\"text-align: right;\">\n",
       "      <th>Sex</th>\n",
       "      <th>NOC</th>\n",
       "      <th>Year</th>\n",
       "      <th>F_medals</th>\n",
       "      <th>M_medals</th>\n",
       "      <th>Total_medals</th>\n",
       "      <th>Percentage_women_medals</th>\n",
       "    </tr>\n",
       "  </thead>\n",
       "  <tbody>\n",
       "    <tr>\n",
       "      <th>1204</th>\n",
       "      <td>USA</td>\n",
       "      <td>2016</td>\n",
       "      <td>64.0</td>\n",
       "      <td>55.0</td>\n",
       "      <td>119.0</td>\n",
       "      <td>0.537815</td>\n",
       "    </tr>\n",
       "    <tr>\n",
       "      <th>221</th>\n",
       "      <td>CHN</td>\n",
       "      <td>2016</td>\n",
       "      <td>39.0</td>\n",
       "      <td>28.0</td>\n",
       "      <td>67.0</td>\n",
       "      <td>0.582090</td>\n",
       "    </tr>\n",
       "    <tr>\n",
       "      <th>442</th>\n",
       "      <td>GBR</td>\n",
       "      <td>2016</td>\n",
       "      <td>25.0</td>\n",
       "      <td>40.0</td>\n",
       "      <td>65.0</td>\n",
       "      <td>0.384615</td>\n",
       "    </tr>\n",
       "    <tr>\n",
       "      <th>988</th>\n",
       "      <td>RUS</td>\n",
       "      <td>2016</td>\n",
       "      <td>29.0</td>\n",
       "      <td>26.0</td>\n",
       "      <td>55.0</td>\n",
       "      <td>0.527273</td>\n",
       "    </tr>\n",
       "    <tr>\n",
       "      <th>407</th>\n",
       "      <td>FRA</td>\n",
       "      <td>2016</td>\n",
       "      <td>11.0</td>\n",
       "      <td>30.0</td>\n",
       "      <td>41.0</td>\n",
       "      <td>0.268293</td>\n",
       "    </tr>\n",
       "    <tr>\n",
       "      <th>668</th>\n",
       "      <td>JPN</td>\n",
       "      <td>2016</td>\n",
       "      <td>16.0</td>\n",
       "      <td>23.0</td>\n",
       "      <td>39.0</td>\n",
       "      <td>0.410256</td>\n",
       "    </tr>\n",
       "    <tr>\n",
       "      <th>473</th>\n",
       "      <td>GER</td>\n",
       "      <td>2016</td>\n",
       "      <td>18.0</td>\n",
       "      <td>20.0</td>\n",
       "      <td>38.0</td>\n",
       "      <td>0.473684</td>\n",
       "    </tr>\n",
       "    <tr>\n",
       "      <th>59</th>\n",
       "      <td>AUS</td>\n",
       "      <td>2016</td>\n",
       "      <td>13.0</td>\n",
       "      <td>16.0</td>\n",
       "      <td>29.0</td>\n",
       "      <td>0.448276</td>\n",
       "    </tr>\n",
       "    <tr>\n",
       "      <th>631</th>\n",
       "      <td>ITA</td>\n",
       "      <td>2016</td>\n",
       "      <td>10.0</td>\n",
       "      <td>18.0</td>\n",
       "      <td>28.0</td>\n",
       "      <td>0.357143</td>\n",
       "    </tr>\n",
       "    <tr>\n",
       "      <th>205</th>\n",
       "      <td>CAN</td>\n",
       "      <td>2016</td>\n",
       "      <td>14.0</td>\n",
       "      <td>6.0</td>\n",
       "      <td>20.0</td>\n",
       "      <td>0.700000</td>\n",
       "    </tr>\n",
       "    <tr>\n",
       "      <th>810</th>\n",
       "      <td>NED</td>\n",
       "      <td>2016</td>\n",
       "      <td>11.0</td>\n",
       "      <td>7.0</td>\n",
       "      <td>18.0</td>\n",
       "      <td>0.611111</td>\n",
       "    </tr>\n",
       "    <tr>\n",
       "      <th>703</th>\n",
       "      <td>KOR</td>\n",
       "      <td>2016</td>\n",
       "      <td>9.0</td>\n",
       "      <td>9.0</td>\n",
       "      <td>18.0</td>\n",
       "      <td>0.500000</td>\n",
       "    </tr>\n",
       "    <tr>\n",
       "      <th>865</th>\n",
       "      <td>NZL</td>\n",
       "      <td>2016</td>\n",
       "      <td>11.0</td>\n",
       "      <td>7.0</td>\n",
       "      <td>18.0</td>\n",
       "      <td>0.611111</td>\n",
       "    </tr>\n",
       "    <tr>\n",
       "      <th>160</th>\n",
       "      <td>BRA</td>\n",
       "      <td>2016</td>\n",
       "      <td>5.0</td>\n",
       "      <td>13.0</td>\n",
       "      <td>18.0</td>\n",
       "      <td>0.277778</td>\n",
       "    </tr>\n",
       "    <tr>\n",
       "      <th>329</th>\n",
       "      <td>ESP</td>\n",
       "      <td>2016</td>\n",
       "      <td>9.0</td>\n",
       "      <td>8.0</td>\n",
       "      <td>17.0</td>\n",
       "      <td>0.529412</td>\n",
       "    </tr>\n",
       "    <tr>\n",
       "      <th>674</th>\n",
       "      <td>KAZ</td>\n",
       "      <td>2016</td>\n",
       "      <td>6.0</td>\n",
       "      <td>10.0</td>\n",
       "      <td>16.0</td>\n",
       "      <td>0.375000</td>\n",
       "    </tr>\n",
       "    <tr>\n",
       "      <th>534</th>\n",
       "      <td>HUN</td>\n",
       "      <td>2016</td>\n",
       "      <td>10.0</td>\n",
       "      <td>5.0</td>\n",
       "      <td>15.0</td>\n",
       "      <td>0.666667</td>\n",
       "    </tr>\n",
       "    <tr>\n",
       "      <th>295</th>\n",
       "      <td>DEN</td>\n",
       "      <td>2016</td>\n",
       "      <td>8.0</td>\n",
       "      <td>7.0</td>\n",
       "      <td>15.0</td>\n",
       "      <td>0.533333</td>\n",
       "    </tr>\n",
       "    <tr>\n",
       "      <th>686</th>\n",
       "      <td>KEN</td>\n",
       "      <td>2016</td>\n",
       "      <td>7.0</td>\n",
       "      <td>6.0</td>\n",
       "      <td>13.0</td>\n",
       "      <td>0.538462</td>\n",
       "    </tr>\n",
       "    <tr>\n",
       "      <th>91</th>\n",
       "      <td>AZE</td>\n",
       "      <td>2016</td>\n",
       "      <td>3.0</td>\n",
       "      <td>9.0</td>\n",
       "      <td>12.0</td>\n",
       "      <td>0.250000</td>\n",
       "    </tr>\n",
       "    <tr>\n",
       "      <th>1072</th>\n",
       "      <td>SWE</td>\n",
       "      <td>2016</td>\n",
       "      <td>8.0</td>\n",
       "      <td>3.0</td>\n",
       "      <td>11.0</td>\n",
       "      <td>0.727273</td>\n",
       "    </tr>\n",
       "    <tr>\n",
       "      <th>646</th>\n",
       "      <td>JAM</td>\n",
       "      <td>2016</td>\n",
       "      <td>6.0</td>\n",
       "      <td>5.0</td>\n",
       "      <td>11.0</td>\n",
       "      <td>0.545455</td>\n",
       "    </tr>\n",
       "    <tr>\n",
       "      <th>260</th>\n",
       "      <td>CUB</td>\n",
       "      <td>2016</td>\n",
       "      <td>2.0</td>\n",
       "      <td>9.0</td>\n",
       "      <td>11.0</td>\n",
       "      <td>0.181818</td>\n",
       "    </tr>\n",
       "    <tr>\n",
       "      <th>1160</th>\n",
       "      <td>UKR</td>\n",
       "      <td>2016</td>\n",
       "      <td>3.0</td>\n",
       "      <td>8.0</td>\n",
       "      <td>11.0</td>\n",
       "      <td>0.272727</td>\n",
       "    </tr>\n",
       "    <tr>\n",
       "      <th>267</th>\n",
       "      <td>CZE</td>\n",
       "      <td>2016</td>\n",
       "      <td>4.0</td>\n",
       "      <td>6.0</td>\n",
       "      <td>10.0</td>\n",
       "      <td>0.400000</td>\n",
       "    </tr>\n",
       "    <tr>\n",
       "      <th>908</th>\n",
       "      <td>POL</td>\n",
       "      <td>2016</td>\n",
       "      <td>7.0</td>\n",
       "      <td>3.0</td>\n",
       "      <td>10.0</td>\n",
       "      <td>0.700000</td>\n",
       "    </tr>\n",
       "    <tr>\n",
       "      <th>246</th>\n",
       "      <td>CRO</td>\n",
       "      <td>2016</td>\n",
       "      <td>3.0</td>\n",
       "      <td>6.0</td>\n",
       "      <td>9.0</td>\n",
       "      <td>0.333333</td>\n",
       "    </tr>\n",
       "    <tr>\n",
       "      <th>980</th>\n",
       "      <td>RSA</td>\n",
       "      <td>2016</td>\n",
       "      <td>2.0</td>\n",
       "      <td>7.0</td>\n",
       "      <td>9.0</td>\n",
       "      <td>0.222222</td>\n",
       "    </tr>\n",
       "    <tr>\n",
       "      <th>351</th>\n",
       "      <td>ETH</td>\n",
       "      <td>2016</td>\n",
       "      <td>5.0</td>\n",
       "      <td>3.0</td>\n",
       "      <td>8.0</td>\n",
       "      <td>0.625000</td>\n",
       "    </tr>\n",
       "    <tr>\n",
       "      <th>137</th>\n",
       "      <td>BLR</td>\n",
       "      <td>2016</td>\n",
       "      <td>4.0</td>\n",
       "      <td>4.0</td>\n",
       "      <td>8.0</td>\n",
       "      <td>0.500000</td>\n",
       "    </tr>\n",
       "    <tr>\n",
       "      <th>1210</th>\n",
       "      <td>UZB</td>\n",
       "      <td>2016</td>\n",
       "      <td>0.0</td>\n",
       "      <td>8.0</td>\n",
       "      <td>8.0</td>\n",
       "      <td>0.000000</td>\n",
       "    </tr>\n",
       "    <tr>\n",
       "      <th>1006</th>\n",
       "      <td>SRB</td>\n",
       "      <td>2016</td>\n",
       "      <td>4.0</td>\n",
       "      <td>4.0</td>\n",
       "      <td>8.0</td>\n",
       "      <td>0.500000</td>\n",
       "    </tr>\n",
       "    <tr>\n",
       "      <th>1037</th>\n",
       "      <td>SUI</td>\n",
       "      <td>2016</td>\n",
       "      <td>4.0</td>\n",
       "      <td>3.0</td>\n",
       "      <td>7.0</td>\n",
       "      <td>0.571429</td>\n",
       "    </tr>\n",
       "    <tr>\n",
       "      <th>932</th>\n",
       "      <td>PRK</td>\n",
       "      <td>2016</td>\n",
       "      <td>4.0</td>\n",
       "      <td>3.0</td>\n",
       "      <td>7.0</td>\n",
       "      <td>0.571429</td>\n",
       "    </tr>\n",
       "    <tr>\n",
       "      <th>1147</th>\n",
       "      <td>TUR</td>\n",
       "      <td>2016</td>\n",
       "      <td>0.0</td>\n",
       "      <td>7.0</td>\n",
       "      <td>7.0</td>\n",
       "      <td>0.000000</td>\n",
       "    </tr>\n",
       "    <tr>\n",
       "      <th>453</th>\n",
       "      <td>GEO</td>\n",
       "      <td>2016</td>\n",
       "      <td>0.0</td>\n",
       "      <td>7.0</td>\n",
       "      <td>7.0</td>\n",
       "      <td>0.000000</td>\n",
       "    </tr>\n",
       "    <tr>\n",
       "      <th>236</th>\n",
       "      <td>COL</td>\n",
       "      <td>2016</td>\n",
       "      <td>3.0</td>\n",
       "      <td>4.0</td>\n",
       "      <td>7.0</td>\n",
       "      <td>0.428571</td>\n",
       "    </tr>\n",
       "    <tr>\n",
       "      <th>498</th>\n",
       "      <td>GRE</td>\n",
       "      <td>2016</td>\n",
       "      <td>3.0</td>\n",
       "      <td>3.0</td>\n",
       "      <td>6.0</td>\n",
       "      <td>0.500000</td>\n",
       "    </tr>\n",
       "    <tr>\n",
       "      <th>578</th>\n",
       "      <td>IRI</td>\n",
       "      <td>2016</td>\n",
       "      <td>1.0</td>\n",
       "      <td>5.0</td>\n",
       "      <td>6.0</td>\n",
       "      <td>0.166667</td>\n",
       "    </tr>\n",
       "    <tr>\n",
       "      <th>744</th>\n",
       "      <td>MAS</td>\n",
       "      <td>2016</td>\n",
       "      <td>1.0</td>\n",
       "      <td>4.0</td>\n",
       "      <td>5.0</td>\n",
       "      <td>0.200000</td>\n",
       "    </tr>\n",
       "    <tr>\n",
       "      <th>130</th>\n",
       "      <td>BEL</td>\n",
       "      <td>2016</td>\n",
       "      <td>2.0</td>\n",
       "      <td>3.0</td>\n",
       "      <td>5.0</td>\n",
       "      <td>0.400000</td>\n",
       "    </tr>\n",
       "    <tr>\n",
       "      <th>1100</th>\n",
       "      <td>THA</td>\n",
       "      <td>2016</td>\n",
       "      <td>3.0</td>\n",
       "      <td>2.0</td>\n",
       "      <td>5.0</td>\n",
       "      <td>0.600000</td>\n",
       "    </tr>\n",
       "    <tr>\n",
       "      <th>768</th>\n",
       "      <td>MEX</td>\n",
       "      <td>2016</td>\n",
       "      <td>2.0</td>\n",
       "      <td>3.0</td>\n",
       "      <td>5.0</td>\n",
       "      <td>0.400000</td>\n",
       "    </tr>\n",
       "    <tr>\n",
       "      <th>1045</th>\n",
       "      <td>SVK</td>\n",
       "      <td>2016</td>\n",
       "      <td>0.0</td>\n",
       "      <td>4.0</td>\n",
       "      <td>4.0</td>\n",
       "      <td>0.000000</td>\n",
       "    </tr>\n",
       "    <tr>\n",
       "      <th>32</th>\n",
       "      <td>ARM</td>\n",
       "      <td>2016</td>\n",
       "      <td>0.0</td>\n",
       "      <td>4.0</td>\n",
       "      <td>4.0</td>\n",
       "      <td>0.000000</td>\n",
       "    </tr>\n",
       "    <tr>\n",
       "      <th>27</th>\n",
       "      <td>ARG</td>\n",
       "      <td>2016</td>\n",
       "      <td>2.0</td>\n",
       "      <td>2.0</td>\n",
       "      <td>4.0</td>\n",
       "      <td>0.500000</td>\n",
       "    </tr>\n",
       "    <tr>\n",
       "      <th>844</th>\n",
       "      <td>NOR</td>\n",
       "      <td>2016</td>\n",
       "      <td>1.0</td>\n",
       "      <td>3.0</td>\n",
       "      <td>4.0</td>\n",
       "      <td>0.250000</td>\n",
       "    </tr>\n",
       "    <tr>\n",
       "      <th>726</th>\n",
       "      <td>LTU</td>\n",
       "      <td>2016</td>\n",
       "      <td>1.0</td>\n",
       "      <td>3.0</td>\n",
       "      <td>4.0</td>\n",
       "      <td>0.250000</td>\n",
       "    </tr>\n",
       "    <tr>\n",
       "      <th>1113</th>\n",
       "      <td>TPE</td>\n",
       "      <td>2016</td>\n",
       "      <td>3.0</td>\n",
       "      <td>0.0</td>\n",
       "      <td>3.0</td>\n",
       "      <td>1.000000</td>\n",
       "    </tr>\n",
       "    <tr>\n",
       "      <th>962</th>\n",
       "      <td>ROU</td>\n",
       "      <td>2016</td>\n",
       "      <td>2.0</td>\n",
       "      <td>1.0</td>\n",
       "      <td>3.0</td>\n",
       "      <td>0.666667</td>\n",
       "    </tr>\n",
       "    <tr>\n",
       "      <th>1220</th>\n",
       "      <td>VEN</td>\n",
       "      <td>2016</td>\n",
       "      <td>2.0</td>\n",
       "      <td>1.0</td>\n",
       "      <td>3.0</td>\n",
       "      <td>0.666667</td>\n",
       "    </tr>\n",
       "    <tr>\n",
       "      <th>1003</th>\n",
       "      <td>SLO</td>\n",
       "      <td>2016</td>\n",
       "      <td>1.0</td>\n",
       "      <td>2.0</td>\n",
       "      <td>3.0</td>\n",
       "      <td>0.333333</td>\n",
       "    </tr>\n",
       "    <tr>\n",
       "      <th>542</th>\n",
       "      <td>INA</td>\n",
       "      <td>2016</td>\n",
       "      <td>1.0</td>\n",
       "      <td>2.0</td>\n",
       "      <td>3.0</td>\n",
       "      <td>0.333333</td>\n",
       "    </tr>\n",
       "    <tr>\n",
       "      <th>1130</th>\n",
       "      <td>TUN</td>\n",
       "      <td>2016</td>\n",
       "      <td>2.0</td>\n",
       "      <td>0.0</td>\n",
       "      <td>2.0</td>\n",
       "      <td>1.000000</td>\n",
       "    </tr>\n",
       "    <tr>\n",
       "      <th>6</th>\n",
       "      <td>ALG</td>\n",
       "      <td>2016</td>\n",
       "      <td>0.0</td>\n",
       "      <td>2.0</td>\n",
       "      <td>2.0</td>\n",
       "      <td>0.000000</td>\n",
       "    </tr>\n",
       "    <tr>\n",
       "      <th>1223</th>\n",
       "      <td>VIE</td>\n",
       "      <td>2016</td>\n",
       "      <td>0.0</td>\n",
       "      <td>2.0</td>\n",
       "      <td>2.0</td>\n",
       "      <td>0.000000</td>\n",
       "    </tr>\n",
       "    <tr>\n",
       "      <th>100</th>\n",
       "      <td>BAH</td>\n",
       "      <td>2016</td>\n",
       "      <td>1.0</td>\n",
       "      <td>1.0</td>\n",
       "      <td>2.0</td>\n",
       "      <td>0.500000</td>\n",
       "    </tr>\n",
       "    <tr>\n",
       "      <th>162</th>\n",
       "      <td>BRN</td>\n",
       "      <td>2016</td>\n",
       "      <td>2.0</td>\n",
       "      <td>0.0</td>\n",
       "      <td>2.0</td>\n",
       "      <td>1.000000</td>\n",
       "    </tr>\n",
       "    <tr>\n",
       "      <th>178</th>\n",
       "      <td>BUL</td>\n",
       "      <td>2016</td>\n",
       "      <td>2.0</td>\n",
       "      <td>0.0</td>\n",
       "      <td>2.0</td>\n",
       "      <td>1.000000</td>\n",
       "    </tr>\n",
       "    <tr>\n",
       "      <th>223</th>\n",
       "      <td>CIV</td>\n",
       "      <td>2016</td>\n",
       "      <td>1.0</td>\n",
       "      <td>1.0</td>\n",
       "      <td>2.0</td>\n",
       "      <td>0.500000</td>\n",
       "    </tr>\n",
       "    <tr>\n",
       "      <th>310</th>\n",
       "      <td>EGY</td>\n",
       "      <td>2016</td>\n",
       "      <td>1.0</td>\n",
       "      <td>1.0</td>\n",
       "      <td>2.0</td>\n",
       "      <td>0.500000</td>\n",
       "    </tr>\n",
       "    <tr>\n",
       "      <th>592</th>\n",
       "      <td>IRL</td>\n",
       "      <td>2016</td>\n",
       "      <td>1.0</td>\n",
       "      <td>1.0</td>\n",
       "      <td>2.0</td>\n",
       "      <td>0.500000</td>\n",
       "    </tr>\n",
       "    <tr>\n",
       "      <th>562</th>\n",
       "      <td>IOA</td>\n",
       "      <td>2016</td>\n",
       "      <td>0.0</td>\n",
       "      <td>2.0</td>\n",
       "      <td>2.0</td>\n",
       "      <td>0.000000</td>\n",
       "    </tr>\n",
       "    <tr>\n",
       "      <th>353</th>\n",
       "      <td>FIJ</td>\n",
       "      <td>2016</td>\n",
       "      <td>0.0</td>\n",
       "      <td>1.0</td>\n",
       "      <td>1.0</td>\n",
       "      <td>0.000000</td>\n",
       "    </tr>\n",
       "    <tr>\n",
       "      <th>85</th>\n",
       "      <td>AUT</td>\n",
       "      <td>2016</td>\n",
       "      <td>1.0</td>\n",
       "      <td>0.0</td>\n",
       "      <td>1.0</td>\n",
       "      <td>1.000000</td>\n",
       "    </tr>\n",
       "    <tr>\n",
       "      <th>103</th>\n",
       "      <td>BDI</td>\n",
       "      <td>2016</td>\n",
       "      <td>1.0</td>\n",
       "      <td>0.0</td>\n",
       "      <td>1.0</td>\n",
       "      <td>1.000000</td>\n",
       "    </tr>\n",
       "    <tr>\n",
       "      <th>1123</th>\n",
       "      <td>TTO</td>\n",
       "      <td>2016</td>\n",
       "      <td>0.0</td>\n",
       "      <td>1.0</td>\n",
       "      <td>1.0</td>\n",
       "      <td>0.000000</td>\n",
       "    </tr>\n",
       "    <tr>\n",
       "      <th>1102</th>\n",
       "      <td>TJK</td>\n",
       "      <td>2016</td>\n",
       "      <td>0.0</td>\n",
       "      <td>1.0</td>\n",
       "      <td>1.0</td>\n",
       "      <td>0.000000</td>\n",
       "    </tr>\n",
       "    <tr>\n",
       "      <th>339</th>\n",
       "      <td>EST</td>\n",
       "      <td>2016</td>\n",
       "      <td>0.0</td>\n",
       "      <td>1.0</td>\n",
       "      <td>1.0</td>\n",
       "      <td>0.000000</td>\n",
       "    </tr>\n",
       "    <tr>\n",
       "      <th>819</th>\n",
       "      <td>NIG</td>\n",
       "      <td>2016</td>\n",
       "      <td>0.0</td>\n",
       "      <td>1.0</td>\n",
       "      <td>1.0</td>\n",
       "      <td>0.000000</td>\n",
       "    </tr>\n",
       "    <tr>\n",
       "      <th>887</th>\n",
       "      <td>PHI</td>\n",
       "      <td>2016</td>\n",
       "      <td>1.0</td>\n",
       "      <td>0.0</td>\n",
       "      <td>1.0</td>\n",
       "      <td>1.000000</td>\n",
       "    </tr>\n",
       "    <tr>\n",
       "      <th>560</th>\n",
       "      <td>IND</td>\n",
       "      <td>2016</td>\n",
       "      <td>1.0</td>\n",
       "      <td>0.0</td>\n",
       "      <td>1.0</td>\n",
       "      <td>1.000000</td>\n",
       "    </tr>\n",
       "    <tr>\n",
       "      <th>996</th>\n",
       "      <td>SGP</td>\n",
       "      <td>2016</td>\n",
       "      <td>0.0</td>\n",
       "      <td>1.0</td>\n",
       "      <td>1.0</td>\n",
       "      <td>0.000000</td>\n",
       "    </tr>\n",
       "    <tr>\n",
       "      <th>603</th>\n",
       "      <td>ISR</td>\n",
       "      <td>2016</td>\n",
       "      <td>1.0</td>\n",
       "      <td>0.0</td>\n",
       "      <td>1.0</td>\n",
       "      <td>1.000000</td>\n",
       "    </tr>\n",
       "    <tr>\n",
       "      <th>647</th>\n",
       "      <td>JOR</td>\n",
       "      <td>2016</td>\n",
       "      <td>0.0</td>\n",
       "      <td>1.0</td>\n",
       "      <td>1.0</td>\n",
       "      <td>0.000000</td>\n",
       "    </tr>\n",
       "    <tr>\n",
       "      <th>704</th>\n",
       "      <td>KOS</td>\n",
       "      <td>2016</td>\n",
       "      <td>1.0</td>\n",
       "      <td>0.0</td>\n",
       "      <td>1.0</td>\n",
       "      <td>1.000000</td>\n",
       "    </tr>\n",
       "    <tr>\n",
       "      <th>943</th>\n",
       "      <td>QAT</td>\n",
       "      <td>2016</td>\n",
       "      <td>0.0</td>\n",
       "      <td>1.0</td>\n",
       "      <td>1.0</td>\n",
       "      <td>0.000000</td>\n",
       "    </tr>\n",
       "    <tr>\n",
       "      <th>939</th>\n",
       "      <td>PUR</td>\n",
       "      <td>2016</td>\n",
       "      <td>1.0</td>\n",
       "      <td>0.0</td>\n",
       "      <td>1.0</td>\n",
       "      <td>1.000000</td>\n",
       "    </tr>\n",
       "    <tr>\n",
       "      <th>777</th>\n",
       "      <td>MGL</td>\n",
       "      <td>2016</td>\n",
       "      <td>1.0</td>\n",
       "      <td>0.0</td>\n",
       "      <td>1.0</td>\n",
       "      <td>1.000000</td>\n",
       "    </tr>\n",
       "    <tr>\n",
       "      <th>817</th>\n",
       "      <td>NGR</td>\n",
       "      <td>2016</td>\n",
       "      <td>0.0</td>\n",
       "      <td>1.0</td>\n",
       "      <td>1.0</td>\n",
       "      <td>0.000000</td>\n",
       "    </tr>\n",
       "    <tr>\n",
       "      <th>500</th>\n",
       "      <td>GRN</td>\n",
       "      <td>2016</td>\n",
       "      <td>0.0</td>\n",
       "      <td>1.0</td>\n",
       "      <td>1.0</td>\n",
       "      <td>0.000000</td>\n",
       "    </tr>\n",
       "  </tbody>\n",
       "</table>\n",
       "</div>"
      ],
      "text/plain": [
       "Sex   NOC  Year  F_medals  M_medals  Total_medals  Percentage_women_medals\n",
       "1204  USA  2016      64.0      55.0         119.0                 0.537815\n",
       "221   CHN  2016      39.0      28.0          67.0                 0.582090\n",
       "442   GBR  2016      25.0      40.0          65.0                 0.384615\n",
       "988   RUS  2016      29.0      26.0          55.0                 0.527273\n",
       "407   FRA  2016      11.0      30.0          41.0                 0.268293\n",
       "668   JPN  2016      16.0      23.0          39.0                 0.410256\n",
       "473   GER  2016      18.0      20.0          38.0                 0.473684\n",
       "59    AUS  2016      13.0      16.0          29.0                 0.448276\n",
       "631   ITA  2016      10.0      18.0          28.0                 0.357143\n",
       "205   CAN  2016      14.0       6.0          20.0                 0.700000\n",
       "810   NED  2016      11.0       7.0          18.0                 0.611111\n",
       "703   KOR  2016       9.0       9.0          18.0                 0.500000\n",
       "865   NZL  2016      11.0       7.0          18.0                 0.611111\n",
       "160   BRA  2016       5.0      13.0          18.0                 0.277778\n",
       "329   ESP  2016       9.0       8.0          17.0                 0.529412\n",
       "674   KAZ  2016       6.0      10.0          16.0                 0.375000\n",
       "534   HUN  2016      10.0       5.0          15.0                 0.666667\n",
       "295   DEN  2016       8.0       7.0          15.0                 0.533333\n",
       "686   KEN  2016       7.0       6.0          13.0                 0.538462\n",
       "91    AZE  2016       3.0       9.0          12.0                 0.250000\n",
       "1072  SWE  2016       8.0       3.0          11.0                 0.727273\n",
       "646   JAM  2016       6.0       5.0          11.0                 0.545455\n",
       "260   CUB  2016       2.0       9.0          11.0                 0.181818\n",
       "1160  UKR  2016       3.0       8.0          11.0                 0.272727\n",
       "267   CZE  2016       4.0       6.0          10.0                 0.400000\n",
       "908   POL  2016       7.0       3.0          10.0                 0.700000\n",
       "246   CRO  2016       3.0       6.0           9.0                 0.333333\n",
       "980   RSA  2016       2.0       7.0           9.0                 0.222222\n",
       "351   ETH  2016       5.0       3.0           8.0                 0.625000\n",
       "137   BLR  2016       4.0       4.0           8.0                 0.500000\n",
       "1210  UZB  2016       0.0       8.0           8.0                 0.000000\n",
       "1006  SRB  2016       4.0       4.0           8.0                 0.500000\n",
       "1037  SUI  2016       4.0       3.0           7.0                 0.571429\n",
       "932   PRK  2016       4.0       3.0           7.0                 0.571429\n",
       "1147  TUR  2016       0.0       7.0           7.0                 0.000000\n",
       "453   GEO  2016       0.0       7.0           7.0                 0.000000\n",
       "236   COL  2016       3.0       4.0           7.0                 0.428571\n",
       "498   GRE  2016       3.0       3.0           6.0                 0.500000\n",
       "578   IRI  2016       1.0       5.0           6.0                 0.166667\n",
       "744   MAS  2016       1.0       4.0           5.0                 0.200000\n",
       "130   BEL  2016       2.0       3.0           5.0                 0.400000\n",
       "1100  THA  2016       3.0       2.0           5.0                 0.600000\n",
       "768   MEX  2016       2.0       3.0           5.0                 0.400000\n",
       "1045  SVK  2016       0.0       4.0           4.0                 0.000000\n",
       "32    ARM  2016       0.0       4.0           4.0                 0.000000\n",
       "27    ARG  2016       2.0       2.0           4.0                 0.500000\n",
       "844   NOR  2016       1.0       3.0           4.0                 0.250000\n",
       "726   LTU  2016       1.0       3.0           4.0                 0.250000\n",
       "1113  TPE  2016       3.0       0.0           3.0                 1.000000\n",
       "962   ROU  2016       2.0       1.0           3.0                 0.666667\n",
       "1220  VEN  2016       2.0       1.0           3.0                 0.666667\n",
       "1003  SLO  2016       1.0       2.0           3.0                 0.333333\n",
       "542   INA  2016       1.0       2.0           3.0                 0.333333\n",
       "1130  TUN  2016       2.0       0.0           2.0                 1.000000\n",
       "6     ALG  2016       0.0       2.0           2.0                 0.000000\n",
       "1223  VIE  2016       0.0       2.0           2.0                 0.000000\n",
       "100   BAH  2016       1.0       1.0           2.0                 0.500000\n",
       "162   BRN  2016       2.0       0.0           2.0                 1.000000\n",
       "178   BUL  2016       2.0       0.0           2.0                 1.000000\n",
       "223   CIV  2016       1.0       1.0           2.0                 0.500000\n",
       "310   EGY  2016       1.0       1.0           2.0                 0.500000\n",
       "592   IRL  2016       1.0       1.0           2.0                 0.500000\n",
       "562   IOA  2016       0.0       2.0           2.0                 0.000000\n",
       "353   FIJ  2016       0.0       1.0           1.0                 0.000000\n",
       "85    AUT  2016       1.0       0.0           1.0                 1.000000\n",
       "103   BDI  2016       1.0       0.0           1.0                 1.000000\n",
       "1123  TTO  2016       0.0       1.0           1.0                 0.000000\n",
       "1102  TJK  2016       0.0       1.0           1.0                 0.000000\n",
       "339   EST  2016       0.0       1.0           1.0                 0.000000\n",
       "819   NIG  2016       0.0       1.0           1.0                 0.000000\n",
       "887   PHI  2016       1.0       0.0           1.0                 1.000000\n",
       "560   IND  2016       1.0       0.0           1.0                 1.000000\n",
       "996   SGP  2016       0.0       1.0           1.0                 0.000000\n",
       "603   ISR  2016       1.0       0.0           1.0                 1.000000\n",
       "647   JOR  2016       0.0       1.0           1.0                 0.000000\n",
       "704   KOS  2016       1.0       0.0           1.0                 1.000000\n",
       "943   QAT  2016       0.0       1.0           1.0                 0.000000\n",
       "939   PUR  2016       1.0       0.0           1.0                 1.000000\n",
       "777   MGL  2016       1.0       0.0           1.0                 1.000000\n",
       "817   NGR  2016       0.0       1.0           1.0                 0.000000\n",
       "500   GRN  2016       0.0       1.0           1.0                 0.000000"
      ]
     },
     "execution_count": 23,
     "metadata": {},
     "output_type": "execute_result"
    }
   ],
   "source": [
    "valid_medals[valid_medals.Year==2016].sort_values(by='Total_medals', ascending=False)"
   ]
  },
  {
   "cell_type": "code",
   "execution_count": 24,
   "metadata": {},
   "outputs": [],
   "source": [
    "# Total medals by \n",
    "noc_games_sex = noc_games_sex.rename(columns={\"F\":\"F_athletes\", \"M\":\"M_athletes\", \n",
    "                                              \"Percentage_women\":\"Percentage_women_athletes\",\n",
    "                                              \"total\":\"Total_athletes\"})"
   ]
  },
  {
   "cell_type": "code",
   "execution_count": 25,
   "metadata": {},
   "outputs": [],
   "source": [
    "# Merges both\n",
    "valid_medals = valid_medals.merge(noc_games_sex, on=['NOC', 'Year'])"
   ]
  },
  {
   "cell_type": "code",
   "execution_count": 26,
   "metadata": {},
   "outputs": [],
   "source": [
    "# Predicted female medals\n",
    "valid_medals[\"Predicted_F_medals\"] = valid_medals['Total_medals'] * valid_medals['Percentage_women_athletes']"
   ]
  },
  {
   "cell_type": "code",
   "execution_count": 27,
   "metadata": {},
   "outputs": [],
   "source": [
    "# Excess medals \n",
    "valid_medals[\"Excess_F_medals\"] = valid_medals[\"F_medals\"] / valid_medals[\"Predicted_F_medals\"]"
   ]
  },
  {
   "cell_type": "code",
   "execution_count": 28,
   "metadata": {},
   "outputs": [
    {
     "data": {
      "text/html": [
       "<div>\n",
       "<style scoped>\n",
       "    .dataframe tbody tr th:only-of-type {\n",
       "        vertical-align: middle;\n",
       "    }\n",
       "\n",
       "    .dataframe tbody tr th {\n",
       "        vertical-align: top;\n",
       "    }\n",
       "\n",
       "    .dataframe thead th {\n",
       "        text-align: right;\n",
       "    }\n",
       "</style>\n",
       "<table border=\"1\" class=\"dataframe\">\n",
       "  <thead>\n",
       "    <tr style=\"text-align: right;\">\n",
       "      <th>Sex</th>\n",
       "      <th>NOC</th>\n",
       "      <th>Year</th>\n",
       "      <th>F_medals</th>\n",
       "      <th>M_medals</th>\n",
       "      <th>Total_medals</th>\n",
       "      <th>Percentage_women_medals</th>\n",
       "      <th>Games</th>\n",
       "      <th>F_athletes</th>\n",
       "      <th>M_athletes</th>\n",
       "      <th>Percentage_women_athletes</th>\n",
       "      <th>Total_athletes</th>\n",
       "      <th>Predicted_F_medals</th>\n",
       "      <th>Excess_F_medals</th>\n",
       "    </tr>\n",
       "  </thead>\n",
       "  <tbody>\n",
       "    <tr>\n",
       "      <th>944</th>\n",
       "      <td>ROU</td>\n",
       "      <td>1924</td>\n",
       "      <td>0.0</td>\n",
       "      <td>1.0</td>\n",
       "      <td>1.0</td>\n",
       "      <td>0.000000</td>\n",
       "      <td>1924 Summer</td>\n",
       "      <td>NaN</td>\n",
       "      <td>35.0</td>\n",
       "      <td>NaN</td>\n",
       "      <td>35.0</td>\n",
       "      <td>NaN</td>\n",
       "      <td>NaN</td>\n",
       "    </tr>\n",
       "    <tr>\n",
       "      <th>945</th>\n",
       "      <td>ROU</td>\n",
       "      <td>1936</td>\n",
       "      <td>0.0</td>\n",
       "      <td>1.0</td>\n",
       "      <td>1.0</td>\n",
       "      <td>0.000000</td>\n",
       "      <td>1936 Summer</td>\n",
       "      <td>2.0</td>\n",
       "      <td>52.0</td>\n",
       "      <td>0.037037</td>\n",
       "      <td>54.0</td>\n",
       "      <td>0.037037</td>\n",
       "      <td>0.000000</td>\n",
       "    </tr>\n",
       "    <tr>\n",
       "      <th>946</th>\n",
       "      <td>ROU</td>\n",
       "      <td>1952</td>\n",
       "      <td>0.0</td>\n",
       "      <td>4.0</td>\n",
       "      <td>4.0</td>\n",
       "      <td>0.000000</td>\n",
       "      <td>1952 Summer</td>\n",
       "      <td>11.0</td>\n",
       "      <td>103.0</td>\n",
       "      <td>0.096491</td>\n",
       "      <td>114.0</td>\n",
       "      <td>0.385965</td>\n",
       "      <td>0.000000</td>\n",
       "    </tr>\n",
       "    <tr>\n",
       "      <th>947</th>\n",
       "      <td>ROU</td>\n",
       "      <td>1956</td>\n",
       "      <td>3.0</td>\n",
       "      <td>10.0</td>\n",
       "      <td>13.0</td>\n",
       "      <td>0.230769</td>\n",
       "      <td>1956 Summer</td>\n",
       "      <td>11.0</td>\n",
       "      <td>39.0</td>\n",
       "      <td>0.220000</td>\n",
       "      <td>50.0</td>\n",
       "      <td>2.860000</td>\n",
       "      <td>1.048951</td>\n",
       "    </tr>\n",
       "    <tr>\n",
       "      <th>948</th>\n",
       "      <td>ROU</td>\n",
       "      <td>1960</td>\n",
       "      <td>4.0</td>\n",
       "      <td>5.0</td>\n",
       "      <td>9.0</td>\n",
       "      <td>0.444444</td>\n",
       "      <td>1960 Summer</td>\n",
       "      <td>16.0</td>\n",
       "      <td>82.0</td>\n",
       "      <td>0.163265</td>\n",
       "      <td>98.0</td>\n",
       "      <td>1.469388</td>\n",
       "      <td>2.722222</td>\n",
       "    </tr>\n",
       "    <tr>\n",
       "      <th>949</th>\n",
       "      <td>ROU</td>\n",
       "      <td>1964</td>\n",
       "      <td>5.0</td>\n",
       "      <td>7.0</td>\n",
       "      <td>12.0</td>\n",
       "      <td>0.416667</td>\n",
       "      <td>1964 Summer</td>\n",
       "      <td>30.0</td>\n",
       "      <td>108.0</td>\n",
       "      <td>0.217391</td>\n",
       "      <td>138.0</td>\n",
       "      <td>2.608696</td>\n",
       "      <td>1.916667</td>\n",
       "    </tr>\n",
       "    <tr>\n",
       "      <th>950</th>\n",
       "      <td>ROU</td>\n",
       "      <td>1968</td>\n",
       "      <td>6.0</td>\n",
       "      <td>9.0</td>\n",
       "      <td>15.0</td>\n",
       "      <td>0.400000</td>\n",
       "      <td>1968 Summer</td>\n",
       "      <td>16.0</td>\n",
       "      <td>66.0</td>\n",
       "      <td>0.195122</td>\n",
       "      <td>82.0</td>\n",
       "      <td>2.926829</td>\n",
       "      <td>2.050000</td>\n",
       "    </tr>\n",
       "    <tr>\n",
       "      <th>951</th>\n",
       "      <td>ROU</td>\n",
       "      <td>1972</td>\n",
       "      <td>4.0</td>\n",
       "      <td>12.0</td>\n",
       "      <td>16.0</td>\n",
       "      <td>0.250000</td>\n",
       "      <td>1972 Summer</td>\n",
       "      <td>27.0</td>\n",
       "      <td>132.0</td>\n",
       "      <td>0.169811</td>\n",
       "      <td>159.0</td>\n",
       "      <td>2.716981</td>\n",
       "      <td>1.472222</td>\n",
       "    </tr>\n",
       "    <tr>\n",
       "      <th>952</th>\n",
       "      <td>ROU</td>\n",
       "      <td>1976</td>\n",
       "      <td>8.0</td>\n",
       "      <td>17.0</td>\n",
       "      <td>25.0</td>\n",
       "      <td>0.320000</td>\n",
       "      <td>1976 Summer</td>\n",
       "      <td>54.0</td>\n",
       "      <td>103.0</td>\n",
       "      <td>0.343949</td>\n",
       "      <td>157.0</td>\n",
       "      <td>8.598726</td>\n",
       "      <td>0.930370</td>\n",
       "    </tr>\n",
       "    <tr>\n",
       "      <th>953</th>\n",
       "      <td>ROU</td>\n",
       "      <td>1980</td>\n",
       "      <td>10.0</td>\n",
       "      <td>12.0</td>\n",
       "      <td>22.0</td>\n",
       "      <td>0.454545</td>\n",
       "      <td>1980 Summer</td>\n",
       "      <td>74.0</td>\n",
       "      <td>154.0</td>\n",
       "      <td>0.324561</td>\n",
       "      <td>228.0</td>\n",
       "      <td>7.140351</td>\n",
       "      <td>1.400491</td>\n",
       "    </tr>\n",
       "    <tr>\n",
       "      <th>954</th>\n",
       "      <td>ROU</td>\n",
       "      <td>1984</td>\n",
       "      <td>27.0</td>\n",
       "      <td>25.0</td>\n",
       "      <td>52.0</td>\n",
       "      <td>0.519231</td>\n",
       "      <td>1984 Summer</td>\n",
       "      <td>53.0</td>\n",
       "      <td>71.0</td>\n",
       "      <td>0.427419</td>\n",
       "      <td>124.0</td>\n",
       "      <td>22.225806</td>\n",
       "      <td>1.214804</td>\n",
       "    </tr>\n",
       "    <tr>\n",
       "      <th>955</th>\n",
       "      <td>ROU</td>\n",
       "      <td>1988</td>\n",
       "      <td>16.0</td>\n",
       "      <td>6.0</td>\n",
       "      <td>22.0</td>\n",
       "      <td>0.727273</td>\n",
       "      <td>1988 Summer</td>\n",
       "      <td>36.0</td>\n",
       "      <td>32.0</td>\n",
       "      <td>0.529412</td>\n",
       "      <td>68.0</td>\n",
       "      <td>11.647059</td>\n",
       "      <td>1.373737</td>\n",
       "    </tr>\n",
       "    <tr>\n",
       "      <th>956</th>\n",
       "      <td>ROU</td>\n",
       "      <td>1992</td>\n",
       "      <td>11.0</td>\n",
       "      <td>7.0</td>\n",
       "      <td>18.0</td>\n",
       "      <td>0.611111</td>\n",
       "      <td>1992 Summer</td>\n",
       "      <td>68.0</td>\n",
       "      <td>105.0</td>\n",
       "      <td>0.393064</td>\n",
       "      <td>173.0</td>\n",
       "      <td>7.075145</td>\n",
       "      <td>1.554739</td>\n",
       "    </tr>\n",
       "    <tr>\n",
       "      <th>957</th>\n",
       "      <td>ROU</td>\n",
       "      <td>1996</td>\n",
       "      <td>12.0</td>\n",
       "      <td>5.0</td>\n",
       "      <td>17.0</td>\n",
       "      <td>0.705882</td>\n",
       "      <td>1996 Summer</td>\n",
       "      <td>67.0</td>\n",
       "      <td>98.0</td>\n",
       "      <td>0.406061</td>\n",
       "      <td>165.0</td>\n",
       "      <td>6.903030</td>\n",
       "      <td>1.738367</td>\n",
       "    </tr>\n",
       "    <tr>\n",
       "      <th>958</th>\n",
       "      <td>ROU</td>\n",
       "      <td>2000</td>\n",
       "      <td>17.0</td>\n",
       "      <td>6.0</td>\n",
       "      <td>23.0</td>\n",
       "      <td>0.739130</td>\n",
       "      <td>2000 Summer</td>\n",
       "      <td>74.0</td>\n",
       "      <td>71.0</td>\n",
       "      <td>0.510345</td>\n",
       "      <td>145.0</td>\n",
       "      <td>11.737931</td>\n",
       "      <td>1.448296</td>\n",
       "    </tr>\n",
       "    <tr>\n",
       "      <th>959</th>\n",
       "      <td>ROU</td>\n",
       "      <td>2004</td>\n",
       "      <td>12.0</td>\n",
       "      <td>6.0</td>\n",
       "      <td>18.0</td>\n",
       "      <td>0.666667</td>\n",
       "      <td>2004 Summer</td>\n",
       "      <td>58.0</td>\n",
       "      <td>50.0</td>\n",
       "      <td>0.537037</td>\n",
       "      <td>108.0</td>\n",
       "      <td>9.666667</td>\n",
       "      <td>1.241379</td>\n",
       "    </tr>\n",
       "    <tr>\n",
       "      <th>960</th>\n",
       "      <td>ROU</td>\n",
       "      <td>2008</td>\n",
       "      <td>7.0</td>\n",
       "      <td>1.0</td>\n",
       "      <td>8.0</td>\n",
       "      <td>0.875000</td>\n",
       "      <td>2008 Summer</td>\n",
       "      <td>61.0</td>\n",
       "      <td>40.0</td>\n",
       "      <td>0.603960</td>\n",
       "      <td>101.0</td>\n",
       "      <td>4.831683</td>\n",
       "      <td>1.448770</td>\n",
       "    </tr>\n",
       "    <tr>\n",
       "      <th>961</th>\n",
       "      <td>ROU</td>\n",
       "      <td>2012</td>\n",
       "      <td>6.0</td>\n",
       "      <td>3.0</td>\n",
       "      <td>9.0</td>\n",
       "      <td>0.666667</td>\n",
       "      <td>2012 Summer</td>\n",
       "      <td>50.0</td>\n",
       "      <td>55.0</td>\n",
       "      <td>0.476190</td>\n",
       "      <td>105.0</td>\n",
       "      <td>4.285714</td>\n",
       "      <td>1.400000</td>\n",
       "    </tr>\n",
       "    <tr>\n",
       "      <th>962</th>\n",
       "      <td>ROU</td>\n",
       "      <td>2016</td>\n",
       "      <td>2.0</td>\n",
       "      <td>1.0</td>\n",
       "      <td>3.0</td>\n",
       "      <td>0.666667</td>\n",
       "      <td>2016 Summer</td>\n",
       "      <td>61.0</td>\n",
       "      <td>34.0</td>\n",
       "      <td>0.642105</td>\n",
       "      <td>95.0</td>\n",
       "      <td>1.926316</td>\n",
       "      <td>1.038251</td>\n",
       "    </tr>\n",
       "  </tbody>\n",
       "</table>\n",
       "</div>"
      ],
      "text/plain": [
       "Sex  NOC  Year  F_medals  M_medals  Total_medals  Percentage_women_medals  \\\n",
       "944  ROU  1924       0.0       1.0           1.0                 0.000000   \n",
       "945  ROU  1936       0.0       1.0           1.0                 0.000000   \n",
       "946  ROU  1952       0.0       4.0           4.0                 0.000000   \n",
       "947  ROU  1956       3.0      10.0          13.0                 0.230769   \n",
       "948  ROU  1960       4.0       5.0           9.0                 0.444444   \n",
       "949  ROU  1964       5.0       7.0          12.0                 0.416667   \n",
       "950  ROU  1968       6.0       9.0          15.0                 0.400000   \n",
       "951  ROU  1972       4.0      12.0          16.0                 0.250000   \n",
       "952  ROU  1976       8.0      17.0          25.0                 0.320000   \n",
       "953  ROU  1980      10.0      12.0          22.0                 0.454545   \n",
       "954  ROU  1984      27.0      25.0          52.0                 0.519231   \n",
       "955  ROU  1988      16.0       6.0          22.0                 0.727273   \n",
       "956  ROU  1992      11.0       7.0          18.0                 0.611111   \n",
       "957  ROU  1996      12.0       5.0          17.0                 0.705882   \n",
       "958  ROU  2000      17.0       6.0          23.0                 0.739130   \n",
       "959  ROU  2004      12.0       6.0          18.0                 0.666667   \n",
       "960  ROU  2008       7.0       1.0           8.0                 0.875000   \n",
       "961  ROU  2012       6.0       3.0           9.0                 0.666667   \n",
       "962  ROU  2016       2.0       1.0           3.0                 0.666667   \n",
       "\n",
       "Sex        Games  F_athletes  M_athletes  Percentage_women_athletes  \\\n",
       "944  1924 Summer         NaN        35.0                        NaN   \n",
       "945  1936 Summer         2.0        52.0                   0.037037   \n",
       "946  1952 Summer        11.0       103.0                   0.096491   \n",
       "947  1956 Summer        11.0        39.0                   0.220000   \n",
       "948  1960 Summer        16.0        82.0                   0.163265   \n",
       "949  1964 Summer        30.0       108.0                   0.217391   \n",
       "950  1968 Summer        16.0        66.0                   0.195122   \n",
       "951  1972 Summer        27.0       132.0                   0.169811   \n",
       "952  1976 Summer        54.0       103.0                   0.343949   \n",
       "953  1980 Summer        74.0       154.0                   0.324561   \n",
       "954  1984 Summer        53.0        71.0                   0.427419   \n",
       "955  1988 Summer        36.0        32.0                   0.529412   \n",
       "956  1992 Summer        68.0       105.0                   0.393064   \n",
       "957  1996 Summer        67.0        98.0                   0.406061   \n",
       "958  2000 Summer        74.0        71.0                   0.510345   \n",
       "959  2004 Summer        58.0        50.0                   0.537037   \n",
       "960  2008 Summer        61.0        40.0                   0.603960   \n",
       "961  2012 Summer        50.0        55.0                   0.476190   \n",
       "962  2016 Summer        61.0        34.0                   0.642105   \n",
       "\n",
       "Sex  Total_athletes  Predicted_F_medals  Excess_F_medals  \n",
       "944            35.0                 NaN              NaN  \n",
       "945            54.0            0.037037         0.000000  \n",
       "946           114.0            0.385965         0.000000  \n",
       "947            50.0            2.860000         1.048951  \n",
       "948            98.0            1.469388         2.722222  \n",
       "949           138.0            2.608696         1.916667  \n",
       "950            82.0            2.926829         2.050000  \n",
       "951           159.0            2.716981         1.472222  \n",
       "952           157.0            8.598726         0.930370  \n",
       "953           228.0            7.140351         1.400491  \n",
       "954           124.0           22.225806         1.214804  \n",
       "955            68.0           11.647059         1.373737  \n",
       "956           173.0            7.075145         1.554739  \n",
       "957           165.0            6.903030         1.738367  \n",
       "958           145.0           11.737931         1.448296  \n",
       "959           108.0            9.666667         1.241379  \n",
       "960           101.0            4.831683         1.448770  \n",
       "961           105.0            4.285714         1.400000  \n",
       "962            95.0            1.926316         1.038251  "
      ]
     },
     "execution_count": 28,
     "metadata": {},
     "output_type": "execute_result"
    }
   ],
   "source": [
    "valid_medals[valid_medals.NOC=='ROU']"
   ]
  },
  {
   "cell_type": "code",
   "execution_count": 49,
   "metadata": {
    "scrolled": false
   },
   "outputs": [
    {
     "data": {
      "application/vnd.plotly.v1+json": {
       "config": {
        "plotlyServerURL": "https://plot.ly"
       },
       "data": [
        {
         "marker": {
          "color": "rgb(55, 83, 109)"
         },
         "mode": "lines+markers",
         "showlegend": false,
         "type": "scatter",
         "x": [
          1896,
          1900,
          1904,
          1906,
          1908,
          1912,
          1920,
          1924,
          1928,
          1932,
          1936,
          1948,
          1952,
          1956,
          1960,
          1964,
          1968,
          1972,
          1976,
          1984,
          1988,
          1992,
          1996,
          2000,
          2004,
          2008,
          2012,
          2016
         ],
         "xaxis": "x",
         "y": [
          null,
          0.8928571428571428,
          2.681286549707602,
          null,
          null,
          null,
          2.381954887218045,
          2.390993265993266,
          1.5909090909090908,
          1.281081081081081,
          1.3691838291380625,
          1.1553273427471116,
          0.7342747111681643,
          1.2277170787809086,
          0.9676884838442419,
          1.2165963431786215,
          1.3390543305296658,
          1.1387163561076605,
          0.6856205576817933,
          0.9958288873799592,
          0.8315581854043392,
          1.1636047666335652,
          0.9543446244477173,
          1.0036890645586298,
          0.8813385826771654,
          1.0818948213568849,
          1.1160780257130192,
          1.0257298795806982
         ],
         "yaxis": "y"
        },
        {
         "marker": {
          "color": "#222"
         },
         "mode": "lines",
         "showlegend": false,
         "type": "scatter",
         "x": [
          1896,
          2016
         ],
         "xaxis": "x",
         "y": [
          1,
          1
         ],
         "yaxis": "y"
        },
        {
         "marker": {
          "color": "rgb(55, 83, 109)"
         },
         "mode": "lines+markers",
         "showlegend": false,
         "type": "scatter",
         "x": [
          1920,
          1948,
          1952,
          1956,
          1960,
          1964,
          1968,
          1972,
          1976,
          1980,
          1984,
          1988,
          1992,
          1996,
          2000,
          2004,
          2008,
          2012,
          2016
         ],
         "xaxis": "x2",
         "y": [
          null,
          0,
          0,
          0,
          0,
          0,
          0,
          0,
          0,
          0,
          0,
          0,
          0,
          0.9066666666666666,
          0.717391304347826,
          0.4084033613445378,
          0.8310077519379845,
          0.7481146304675715,
          0.6199677938808374
         ],
         "yaxis": "y2"
        },
        {
         "marker": {
          "color": "#222"
         },
         "mode": "lines",
         "showlegend": false,
         "type": "scatter",
         "x": [
          1896,
          2016
         ],
         "xaxis": "x2",
         "y": [
          1,
          1
         ],
         "yaxis": "y2"
        },
        {
         "marker": {
          "color": "rgb(55, 83, 109)"
         },
         "mode": "lines+markers",
         "showlegend": false,
         "type": "scatter",
         "x": [
          1896,
          1900,
          1904,
          1906,
          1920,
          1924,
          1928,
          1932,
          1936,
          1948,
          1952,
          1956,
          1960,
          1964,
          1968,
          1972,
          1976,
          1980,
          1984,
          1988,
          1992,
          1996,
          2000,
          2004,
          2008,
          2012,
          2016
         ],
         "xaxis": "x3",
         "y": [
          null,
          null,
          null,
          null,
          0,
          0,
          0,
          1.2999999999999998,
          0,
          3.205128205128205,
          2.9454545454545458,
          2.589572192513369,
          1.5517241379310347,
          2.3625000000000003,
          2.196078431372549,
          3.6206896551724137,
          0,
          0.9523809523809523,
          0.9668949771689498,
          1.076923076923077,
          1.1663879598662208,
          1.0353439462538336,
          0.8236079328756674,
          1.0702970297029704,
          1.085427135678392,
          1.2577639751552796,
          0.8880936890045543
         ],
         "yaxis": "y3"
        },
        {
         "marker": {
          "color": "#222"
         },
         "mode": "lines",
         "showlegend": false,
         "type": "scatter",
         "x": [
          1896,
          2016
         ],
         "xaxis": "x3",
         "y": [
          1,
          1
         ],
         "yaxis": "y3"
        },
        {
         "marker": {
          "color": "rgb(55, 83, 109)"
         },
         "mode": "lines+markers",
         "showlegend": false,
         "type": "scatter",
         "x": [
          1896,
          1900,
          1904,
          1906,
          1908,
          1912,
          1928,
          1932,
          1936,
          1952,
          1956,
          1960,
          1964,
          1992,
          1996,
          2000,
          2004,
          2008,
          2012,
          2016
         ],
         "xaxis": "x4",
         "y": [
          null,
          null,
          null,
          null,
          3.727272727272727,
          4.269230769230769,
          1.5526315789473684,
          1.3425925925925928,
          1.2666516651665167,
          0.80078125,
          2.1410256410256414,
          1.9556541019955653,
          0.9251887439945092,
          1.1653295579675949,
          0.9137254901960784,
          0.8902059266700152,
          1.1042567721374914,
          1.0075969612155138,
          0.8532442216652742,
          1.0206185567010309
         ],
         "yaxis": "y4"
        },
        {
         "marker": {
          "color": "#222"
         },
         "mode": "lines",
         "showlegend": false,
         "type": "scatter",
         "x": [
          1896,
          2016
         ],
         "xaxis": "x4",
         "y": [
          1,
          1
         ],
         "yaxis": "y4"
        },
        {
         "marker": {
          "color": "rgb(55, 83, 109)"
         },
         "mode": "lines+markers",
         "showlegend": false,
         "type": "scatter",
         "x": [
          1896,
          1900,
          1904,
          1906,
          1908,
          1912,
          1920,
          1924,
          1928,
          1932,
          1936,
          1948,
          1952,
          1956,
          1960,
          1964,
          1968,
          1972,
          1976,
          1980,
          1984,
          1988,
          1992,
          1996,
          2000,
          2004,
          2008,
          2012,
          2016
         ],
         "xaxis": "x5",
         "y": [
          null,
          0.6315789473684211,
          null,
          1.4000000000000001,
          null,
          15.866666666666667,
          2.7142857142857144,
          0.3404074702886248,
          0,
          0,
          0,
          1.0675675675675675,
          0.4648956356736243,
          0.6196581196581197,
          0,
          0.92,
          0.4301075268817204,
          0,
          0.8879310344827587,
          0.8093645484949833,
          0.582857142857143,
          0.44932432432432434,
          0.7687074829931971,
          1.3028322440087146,
          0.896,
          1.321533923303835,
          0.4032187907785994,
          0.8556338028169014,
          0.6297648605228567
         ],
         "yaxis": "y5"
        },
        {
         "marker": {
          "color": "#222"
         },
         "mode": "lines",
         "showlegend": false,
         "type": "scatter",
         "x": [
          1896,
          2016
         ],
         "xaxis": "x5",
         "y": [
          1,
          1
         ],
         "yaxis": "y5"
        },
        {
         "marker": {
          "color": "rgb(55, 83, 109)"
         },
         "mode": "lines+markers",
         "showlegend": false,
         "type": "scatter",
         "x": [
          1984,
          1988,
          1992,
          1996,
          2000,
          2004,
          2008,
          2012,
          2016
         ],
         "xaxis": "x6",
         "y": [
          0.8634538152610441,
          1.2231182795698925,
          1.2296062992125987,
          0.899672131147541,
          0.8980506822612087,
          0.9820512820512821,
          1.1843796342066237,
          1.0259917920656634,
          0.9468012633925806
         ],
         "yaxis": "y6"
        },
        {
         "marker": {
          "color": "#222"
         },
         "mode": "lines",
         "showlegend": false,
         "type": "scatter",
         "x": [
          1896,
          2016
         ],
         "xaxis": "x6",
         "y": [
          1,
          1
         ],
         "yaxis": "y6"
        },
        {
         "marker": {
          "color": "rgb(55, 83, 109)"
         },
         "mode": "lines+markers",
         "showlegend": false,
         "type": "scatter",
         "x": [
          1896,
          1900,
          1904,
          1906,
          1908,
          1912,
          1920,
          1924,
          1928,
          1932,
          1936,
          1948,
          1952,
          1956,
          1960,
          1964,
          1968,
          1972,
          1976,
          1980,
          1984,
          1988,
          1992,
          1996,
          2000,
          2004,
          2008,
          2012,
          2016
         ],
         "xaxis": "x7",
         "y": [
          null,
          5.942857142857142,
          null,
          null,
          1.336606655755592,
          4.009756097560976,
          2.7209302325581395,
          2.2436974789915967,
          2.3812316715542523,
          1.480968858131488,
          0.803088803088803,
          1.310789049919485,
          2.1239669421487606,
          1.4152298850574714,
          2.216520650813517,
          1.2878787878787878,
          1.0384615384615385,
          0.7675675675675676,
          0,
          0.6257142857142857,
          1.0401234567901234,
          0.5952380952380952,
          0.7257433489827856,
          0.1724137931034483,
          0.8582502768549279,
          1.1106796116504856,
          0.8905334566759172,
          0.78562164165277,
          0.8708272859216256
         ],
         "yaxis": "y7"
        },
        {
         "marker": {
          "color": "#222"
         },
         "mode": "lines",
         "showlegend": false,
         "type": "scatter",
         "x": [
          1896,
          2016
         ],
         "xaxis": "x7",
         "y": [
          1,
          1
         ],
         "yaxis": "y7"
        },
        {
         "marker": {
          "color": "rgb(55, 83, 109)"
         },
         "mode": "lines+markers",
         "showlegend": false,
         "type": "scatter",
         "x": [
          1920,
          1924,
          1928,
          1932,
          1936,
          1952,
          1956,
          1960,
          1964,
          1968,
          1972,
          1976,
          1984,
          1988,
          1992,
          1996,
          2000,
          2004,
          2008,
          2012,
          2016
         ],
         "xaxis": "x8",
         "y": [
          null,
          null,
          8,
          0.4845679012345679,
          0.5789473684210527,
          0,
          0,
          0.50625,
          0.4039408866995074,
          0.28500000000000003,
          0.35249042145593873,
          0.14791666666666667,
          0.4496021220159151,
          0.8528428093645485,
          1.2290809327846366,
          1.0268456375838926,
          1.706951871657754,
          0.81437125748503,
          0.9146005509641874,
          0.9102639296187682,
          0.8380237648530332
         ],
         "yaxis": "y8"
        },
        {
         "marker": {
          "color": "#222"
         },
         "mode": "lines",
         "showlegend": false,
         "type": "scatter",
         "x": [
          1896,
          2016
         ],
         "xaxis": "x8",
         "y": [
          1,
          1
         ],
         "yaxis": "y8"
        },
        {
         "marker": {
          "color": "rgb(55, 83, 109)"
         },
         "mode": "lines+markers",
         "showlegend": false,
         "type": "scatter",
         "x": [
          1900,
          1904,
          1906,
          1908,
          1912,
          1920,
          1924,
          1928,
          1932,
          1936,
          1948,
          1952,
          1956,
          1960,
          1964,
          1968,
          1972,
          1976,
          1984,
          1988,
          1992,
          1996,
          2000,
          2004,
          2008,
          2012,
          2016
         ],
         "xaxis": "x9",
         "y": [
          null,
          null,
          null,
          null,
          null,
          null,
          null,
          2.6285714285714286,
          1.125,
          1.1975308641975309,
          1.5119047619047619,
          0,
          1.0666666666666667,
          0,
          0,
          2.9785714285714286,
          2.08,
          1.9758064516129032,
          1.0053904204527953,
          1.2495238095238095,
          0.8975659229208924,
          1.0033112582781458,
          1.0208333333333335,
          0.9924242424242425,
          0.7579908675799087,
          0.9454545454545454,
          1.185792349726776
         ],
         "yaxis": "y9"
        },
        {
         "marker": {
          "color": "#222"
         },
         "mode": "lines",
         "showlegend": false,
         "type": "scatter",
         "x": [
          1896,
          2016
         ],
         "xaxis": "x9",
         "y": [
          1,
          1
         ],
         "yaxis": "y9"
        },
        {
         "marker": {
          "color": "rgb(55, 83, 109)"
         },
         "mode": "lines+markers",
         "showlegend": false,
         "type": "scatter",
         "x": [
          1900,
          1906,
          1908,
          1912,
          1920,
          1924,
          1928,
          1932,
          1936,
          1948,
          1952,
          1956,
          1960,
          1964,
          1968,
          1972,
          1976,
          1980,
          1984,
          1988,
          1992,
          1996,
          2000,
          2004,
          2008,
          2012,
          2016
         ],
         "xaxis": "x10",
         "y": [
          0,
          null,
          null,
          null,
          0,
          0,
          0.4833333333333333,
          null,
          0.5648148148148148,
          0.6605222734254992,
          0.5021739130434782,
          0,
          0.47058823529411764,
          0.5656565656565656,
          0,
          2.304526748971193,
          1.1965811965811968,
          0.5578947368421052,
          0.7282608695652174,
          0.440766550522648,
          0.631578947368421,
          1.1538461538461537,
          0.9809782608695652,
          0.6958183990442054,
          1.0837278106508876,
          0.6769045468232461,
          0.7826747720364742
         ],
         "yaxis": "y10"
        },
        {
         "marker": {
          "color": "#222"
         },
         "mode": "lines",
         "showlegend": false,
         "type": "scatter",
         "x": [
          1896,
          2016
         ],
         "xaxis": "x10",
         "y": [
          1,
          1
         ],
         "yaxis": "y10"
        },
        {
         "marker": {
          "color": "rgb(55, 83, 109)"
         },
         "mode": "lines+markers",
         "showlegend": false,
         "type": "scatter",
         "x": [
          1900,
          1920,
          1928,
          1932,
          1948,
          1952,
          1960,
          1976,
          1980,
          1984,
          1988,
          1992,
          1996,
          2000,
          2004,
          2008,
          2012,
          2016
         ],
         "xaxis": "x11",
         "y": [
          null,
          null,
          null,
          null,
          null,
          null,
          0,
          0,
          0,
          0,
          0,
          1.1253333333333333,
          1.0140350877192983,
          1.1116883116883118,
          0.6820143884892086,
          0.524074074074074,
          1.5795454545454546,
          1.1365693130399013
         ],
         "yaxis": "y11"
        },
        {
         "marker": {
          "color": "#222"
         },
         "mode": "lines",
         "showlegend": false,
         "type": "scatter",
         "x": [
          1896,
          2016
         ],
         "xaxis": "x11",
         "y": [
          1,
          1
         ],
         "yaxis": "y11"
        },
        {
         "marker": {
          "color": "rgb(55, 83, 109)"
         },
         "mode": "lines+markers",
         "showlegend": false,
         "type": "scatter",
         "x": [
          1908,
          1912,
          1996,
          2000,
          2004,
          2008,
          2012,
          2016
         ],
         "xaxis": "x12",
         "y": [
          null,
          null,
          0.7530572838446685,
          0.9278350515463917,
          0.9897575964493002,
          0.9306854580397181,
          1.0600505689001263,
          1.0545454545454545
         ],
         "yaxis": "y12"
        },
        {
         "marker": {
          "color": "#222"
         },
         "mode": "lines",
         "showlegend": false,
         "type": "scatter",
         "x": [
          1896,
          2016
         ],
         "xaxis": "x12",
         "y": [
          1,
          1
         ],
         "yaxis": "y12"
        },
        {
         "marker": {
          "color": "rgb(55, 83, 109)"
         },
         "mode": "lines+markers",
         "showlegend": false,
         "type": "scatter",
         "x": [
          1900,
          1906,
          1908,
          1912,
          1920,
          1924,
          1928,
          1932,
          1936,
          1948,
          1952,
          1960,
          1964,
          1968,
          1972,
          1976,
          1980,
          1984,
          1988,
          1992,
          1996,
          2000,
          2004,
          2008,
          2012,
          2016
         ],
         "xaxis": "x13",
         "y": [
          null,
          null,
          null,
          null,
          0,
          1.7878787878787876,
          1.3142292490118577,
          0.7666666666666666,
          2.3109243697478994,
          2.191176470588235,
          3.2,
          2.4444444444444446,
          1.875,
          1.2228571428571429,
          0.8206896551724139,
          1.2000000000000002,
          2.0833333333333335,
          2.308641975308642,
          1.5555555555555554,
          1.0255102040816326,
          1.3017429193899783,
          1.65,
          1.7105263157894737,
          1.8137755102040816,
          1.3830779480346436,
          1.097222222222222
         ],
         "yaxis": "y13"
        },
        {
         "marker": {
          "color": "#222"
         },
         "mode": "lines",
         "showlegend": false,
         "type": "scatter",
         "x": [
          1896,
          2016
         ],
         "xaxis": "x13",
         "y": [
          1,
          1
         ],
         "yaxis": "y13"
        },
        {
         "marker": {
          "color": "rgb(55, 83, 109)"
         },
         "mode": "lines+markers",
         "showlegend": false,
         "type": "scatter",
         "x": [
          1924,
          1928,
          1932,
          1936,
          1948,
          1952,
          1956,
          1960,
          1964,
          1968,
          1972,
          1976,
          1980,
          1988,
          1992,
          1996,
          2000,
          2004,
          2008,
          2012,
          2016
         ],
         "xaxis": "x14",
         "y": [
          0,
          1.2077922077922076,
          1.8888888888888888,
          2.823529411764706,
          0,
          0,
          0.7111111111111111,
          1.2758620689655173,
          1.6,
          0.8441971383147854,
          0.7268170426065161,
          0.3194444444444445,
          0.6891891891891891,
          0.29791666666666666,
          0.42948717948717946,
          0.9954751131221719,
          1.1514778325123152,
          2.1903225806451614,
          0.5654565456545655,
          1.356589147286822,
          1.7242105263157896
         ],
         "yaxis": "y14"
        },
        {
         "marker": {
          "color": "#222"
         },
         "mode": "lines",
         "showlegend": false,
         "type": "scatter",
         "x": [
          1896,
          2016
         ],
         "xaxis": "x14",
         "y": [
          1,
          1
         ],
         "yaxis": "y14"
        },
        {
         "marker": {
          "color": "rgb(55, 83, 109)"
         },
         "mode": "lines+markers",
         "showlegend": false,
         "type": "scatter",
         "x": [
          1924,
          1928,
          1932,
          1936,
          1948,
          1952,
          1956,
          1960,
          1964,
          1968,
          1972,
          1988,
          1992,
          1996,
          2000,
          2004,
          2008,
          2012,
          2016
         ],
         "xaxis": "x15",
         "y": [
          null,
          null,
          null,
          7.285714285714285,
          2.5844155844155843,
          0,
          0,
          0,
          0,
          0,
          0,
          2.3600000000000003,
          0,
          0,
          1.5888888888888888,
          1.6521739130434783,
          0.830188679245283,
          0.8562500000000001,
          1.4333333333333333
         ],
         "yaxis": "y15"
        },
        {
         "marker": {
          "color": "#222"
         },
         "mode": "lines",
         "showlegend": false,
         "type": "scatter",
         "x": [
          1896,
          2016
         ],
         "xaxis": "x15",
         "y": [
          1,
          1
         ],
         "yaxis": "y15"
        },
        {
         "marker": {
          "color": "rgb(55, 83, 109)"
         },
         "mode": "lines+markers",
         "showlegend": false,
         "type": "scatter",
         "x": [
          1948,
          1952,
          1956,
          1964,
          1968,
          1972,
          1976,
          1984,
          1988,
          1992,
          1996,
          2000,
          2004,
          2008,
          2012,
          2016
         ],
         "xaxis": "x16",
         "y": [
          0,
          0,
          null,
          0,
          0,
          0,
          1.0416666666666667,
          0.6591337099811676,
          0.6645359848484849,
          1.327991452991453,
          1.2375765827093261,
          1.0414420485175202,
          0.8873949579831933,
          1.1206896551724137,
          0.5636070853462157,
          0.9951923076923076
         ],
         "yaxis": "y16"
        },
        {
         "marker": {
          "color": "#222"
         },
         "mode": "lines",
         "showlegend": false,
         "type": "scatter",
         "x": [
          1896,
          2016
         ],
         "xaxis": "x16",
         "y": [
          1,
          1
         ],
         "yaxis": "y16"
        },
        {
         "marker": {
          "color": "rgb(55, 83, 109)"
         },
         "mode": "lines+markers",
         "showlegend": false,
         "type": "scatter",
         "x": [
          1996,
          2000,
          2004,
          2008,
          2012,
          2016
         ],
         "xaxis": "x17",
         "y": [
          1.1815856777493605,
          1.0339660339660341,
          1.1335968379446641,
          1.0055172413793103,
          1.0905642484589855,
          0.4755244755244755
         ],
         "yaxis": "y17"
        },
        {
         "marker": {
          "color": "#222"
         },
         "mode": "lines",
         "showlegend": false,
         "type": "scatter",
         "x": [
          1896,
          2016
         ],
         "xaxis": "x17",
         "y": [
          1,
          1
         ],
         "yaxis": "y17"
        },
        {
         "marker": {
          "color": "rgb(55, 83, 109)"
         },
         "mode": "lines+markers",
         "showlegend": false,
         "type": "scatter",
         "x": [
          1920,
          1924,
          1928,
          1932,
          1936,
          1952,
          1956,
          1960,
          1964,
          1968,
          1972,
          1976,
          1984,
          1988,
          1992,
          1996,
          2000,
          2004,
          2008,
          2012,
          2016
         ],
         "xaxis": "x18",
         "y": [
          0,
          0,
          0,
          0,
          null,
          4.666666666666667,
          0,
          0,
          1.6,
          0,
          0,
          0,
          0,
          0.3990384615384615,
          1.276190476190476,
          1.0919540229885059,
          0.525,
          0.8835820895522388,
          0.48238482384823844,
          0.9044715447154471,
          1.2285223367697595
         ],
         "yaxis": "y18"
        },
        {
         "marker": {
          "color": "#222"
         },
         "mode": "lines",
         "showlegend": false,
         "type": "scatter",
         "x": [
          1896,
          2016
         ],
         "xaxis": "x18",
         "y": [
          1,
          1
         ],
         "yaxis": "y18"
        },
        {
         "marker": {
          "color": "rgb(55, 83, 109)"
         },
         "mode": "lines+markers",
         "showlegend": false,
         "type": "scatter",
         "x": [
          1896,
          1900,
          1904,
          1906,
          1908,
          1912,
          1924,
          1928,
          1932,
          1936,
          1948,
          1952,
          1956,
          1960,
          1964,
          1968,
          1972,
          1976,
          1980,
          1988,
          1992,
          1996,
          2000,
          2004,
          2008,
          2012,
          2016
         ],
         "xaxis": "x19",
         "y": [
          null,
          null,
          null,
          null,
          null,
          null,
          0,
          0,
          1.8125,
          2.131578947368421,
          1.128747795414462,
          2.6666666666666665,
          1.554,
          0.6490299823633157,
          1.2926136363636362,
          0.9785156249999999,
          0.8838095238095238,
          0.9417989417989417,
          0.33588761174968074,
          0.9494949494949496,
          1.1085568326947637,
          0.9681818181818183,
          1.062233589087809,
          0.9562091503267973,
          0.6180722891566266,
          0.8587570621468927,
          1.5555555555555558
         ],
         "yaxis": "y19"
        },
        {
         "marker": {
          "color": "#222"
         },
         "mode": "lines",
         "showlegend": false,
         "type": "scatter",
         "x": [
          1896,
          2016
         ],
         "xaxis": "x19",
         "y": [
          1,
          1
         ],
         "yaxis": "y19"
        },
        {
         "marker": {
          "color": "rgb(55, 83, 109)"
         },
         "mode": "lines+markers",
         "showlegend": false,
         "type": "scatter",
         "x": [
          1900,
          1906,
          1908,
          1912,
          1920,
          1924,
          1928,
          1932,
          1936,
          1948,
          1952,
          1956,
          1960,
          1964,
          1968,
          1972,
          1976,
          1980,
          1984,
          1988,
          1992,
          1996,
          2000,
          2004,
          2008,
          2012,
          2016
         ],
         "xaxis": "x20",
         "y": [
          null,
          null,
          2.3333333333333335,
          1.225672877846791,
          1.2698412698412698,
          0.843501326259947,
          0.9230769230769231,
          0,
          0,
          0.20709382151029748,
          0.26342710997442453,
          0.76984126984127,
          1.175438596491228,
          0,
          0,
          1.1196581196581197,
          1.3647058823529412,
          0.5253623188405796,
          0.8518971848225214,
          0.5555555555555556,
          0.7083333333333334,
          1.0056818181818181,
          1.2019230769230769,
          0.9299191374663073,
          0.33698630136986296,
          0.4871794871794872,
          1.2684989429175475
         ],
         "yaxis": "y20"
        },
        {
         "marker": {
          "color": "#222"
         },
         "mode": "lines",
         "showlegend": false,
         "type": "scatter",
         "x": [
          1896,
          2016
         ],
         "xaxis": "x20",
         "y": [
          1,
          1
         ],
         "yaxis": "y20"
        },
        {
         "marker": {
          "color": "rgb(55, 83, 109)"
         },
         "mode": "lines+markers",
         "showlegend": false,
         "type": "scatter",
         "x": [
          1972,
          1984,
          1988,
          1992,
          2000,
          2004,
          2008,
          2012,
          2016
         ],
         "xaxis": "x21",
         "y": [
          0,
          0,
          0,
          16.333333333333332,
          2.3157894736842106,
          2.5238095238095237,
          1.3958333333333335,
          0.9017857142857142,
          0.8755102040816326
         ],
         "yaxis": "y21"
        },
        {
         "marker": {
          "color": "#222"
         },
         "mode": "lines",
         "showlegend": false,
         "type": "scatter",
         "x": [
          1896,
          2016
         ],
         "xaxis": "x21",
         "y": [
          1,
          1
         ],
         "yaxis": "y21"
        },
        {
         "marker": {
          "color": "rgb(55, 83, 109)"
         },
         "mode": "lines+markers",
         "showlegend": false,
         "type": "scatter",
         "x": [
          1908,
          1912,
          1920,
          1924,
          1928,
          1932,
          1936,
          1948,
          1952,
          1956,
          1960,
          1992,
          1996,
          2000,
          2004,
          2008,
          2012,
          2016
         ],
         "xaxis": "x22",
         "y": [
          null,
          null,
          0,
          null,
          1.3333333333333333,
          2.4000000000000004,
          0,
          0,
          6,
          2.7777777777777777,
          0,
          1.86,
          2.52,
          1.3368421052631578,
          0.4416666666666666,
          0,
          0.8857142857142858,
          0.7142857142857143
         ],
         "yaxis": "y22"
        },
        {
         "marker": {
          "color": "#222"
         },
         "mode": "lines",
         "showlegend": false,
         "type": "scatter",
         "x": [
          1896,
          2016
         ],
         "xaxis": "x22",
         "y": [
          1,
          1
         ],
         "yaxis": "y22"
        },
        {
         "marker": {
          "color": "rgb(55, 83, 109)"
         },
         "mode": "lines+markers",
         "showlegend": false,
         "type": "scatter",
         "x": [
          1932,
          1936,
          1948,
          1952,
          1956,
          1960,
          1964,
          1968,
          1972,
          1976,
          1980,
          1984,
          1988,
          1992,
          1996,
          2000,
          2004,
          2008,
          2012,
          2016
         ],
         "xaxis": "x23",
         "y": [
          0,
          null,
          0,
          0,
          0,
          0,
          0,
          1.870748299319728,
          0,
          0,
          0,
          0,
          0,
          0,
          0,
          0.5,
          1.635,
          1.3833333333333333,
          1.7837837837837835,
          1.1181818181818182
         ],
         "yaxis": "y23"
        },
        {
         "marker": {
          "color": "#222"
         },
         "mode": "lines",
         "showlegend": false,
         "type": "scatter",
         "x": [
          1896,
          2016
         ],
         "xaxis": "x23",
         "y": [
          1,
          1
         ],
         "yaxis": "y23"
        },
        {
         "marker": {
          "color": "rgb(55, 83, 109)"
         },
         "mode": "lines+markers",
         "showlegend": false,
         "type": "scatter",
         "x": [
          1928,
          1936,
          1948,
          1952,
          1984,
          2004,
          2012,
          2016
         ],
         "xaxis": "x24",
         "y": [
          null,
          null,
          null,
          null,
          0,
          0,
          0,
          1.6351351351351353
         ],
         "yaxis": "y24"
        },
        {
         "marker": {
          "color": "#222"
         },
         "mode": "lines",
         "showlegend": false,
         "type": "scatter",
         "x": [
          1896,
          2016
         ],
         "xaxis": "x24",
         "y": [
          1,
          1
         ],
         "yaxis": "y24"
        },
        {
         "marker": {
          "color": "rgb(55, 83, 109)"
         },
         "mode": "lines+markers",
         "showlegend": false,
         "type": "scatter",
         "x": [
          1996,
          2000,
          2004,
          2008,
          2012,
          2016
         ],
         "xaxis": "x25",
         "y": [
          0.6796536796536796,
          0.9762949956101844,
          1.0100334448160535,
          0.9365079365079365,
          1.6901408450704227,
          0.8955223880597015
         ],
         "yaxis": "y25"
        },
        {
         "marker": {
          "color": "#222"
         },
         "mode": "lines",
         "showlegend": false,
         "type": "scatter",
         "x": [
          1896,
          2016
         ],
         "xaxis": "x25",
         "y": [
          1,
          1
         ],
         "yaxis": "y25"
        },
        {
         "marker": {
          "color": "rgb(55, 83, 109)"
         },
         "mode": "lines+markers",
         "showlegend": false,
         "type": "scatter",
         "x": [
          1896,
          1900,
          1906,
          1908,
          1912,
          1920,
          1924,
          1928,
          1932,
          1936,
          1948,
          1952,
          1956,
          1960,
          1964,
          1968,
          1972,
          1976,
          1980,
          1984,
          1988,
          1992,
          1996,
          2000,
          2004,
          2008,
          2012,
          2016
         ],
         "xaxis": "x26",
         "y": [
          null,
          null,
          null,
          null,
          12.666666666666668,
          2.9615384615384617,
          1.3484848484848484,
          0,
          0.671875,
          3.025,
          3.272727272727273,
          3.685714285714286,
          3.083333333333333,
          0,
          0,
          0,
          0,
          0,
          3.8666666666666663,
          1.8181818181818183,
          0,
          0,
          0.9153846153846155,
          0.7348484848484849,
          0.7840909090909091,
          0.6000000000000001,
          0.2638888888888889,
          1.5479674796747966
         ],
         "yaxis": "y26"
        },
        {
         "marker": {
          "color": "#222"
         },
         "mode": "lines",
         "showlegend": false,
         "type": "scatter",
         "x": [
          1896,
          2016
         ],
         "xaxis": "x26",
         "y": [
          1,
          1
         ],
         "yaxis": "y26"
        },
        {
         "marker": {
          "color": "rgb(55, 83, 109)"
         },
         "mode": "lines+markers",
         "showlegend": false,
         "type": "scatter",
         "x": [
          1900,
          1904,
          1964,
          1968,
          1972,
          1976,
          1980,
          1992,
          1996,
          2000,
          2004,
          2008,
          2012,
          2016
         ],
         "xaxis": "x27",
         "y": [
          null,
          null,
          0,
          2.0535714285714284,
          1.3979591836734693,
          0,
          0.33173843700159494,
          0.9083870967741934,
          0.8072190319934371,
          0.7240289069557362,
          1.0486111111111112,
          1.0748299319727892,
          0.5716783216783217,
          0.6256684491978609
         ],
         "yaxis": "y27"
        },
        {
         "marker": {
          "color": "#222"
         },
         "mode": "lines",
         "showlegend": false,
         "type": "scatter",
         "x": [
          1896,
          2016
         ],
         "xaxis": "x27",
         "y": [
          1,
          1
         ],
         "yaxis": "y27"
        },
        {
         "marker": {
          "color": "rgb(55, 83, 109)"
         },
         "mode": "lines+markers",
         "showlegend": false,
         "type": "scatter",
         "x": [
          1900,
          1928,
          1932,
          1936,
          1948,
          1952,
          1956,
          1960,
          1964,
          1968,
          1972,
          1980,
          1996,
          2000,
          2004,
          2008,
          2012,
          2016
         ],
         "xaxis": "x28",
         "y": [
          null,
          null,
          null,
          null,
          null,
          0,
          0,
          null,
          0,
          null,
          0,
          0,
          0,
          3.095238095238095,
          0,
          0,
          0.7043478260869566,
          2.196078431372549
         ],
         "yaxis": "y28"
        },
        {
         "marker": {
          "color": "#222"
         },
         "mode": "lines",
         "showlegend": false,
         "type": "scatter",
         "x": [
          1896,
          2016
         ],
         "xaxis": "x28",
         "y": [
          1,
          1
         ],
         "yaxis": "y28"
        },
        {
         "marker": {
          "color": "rgb(55, 83, 109)"
         },
         "mode": "lines+markers",
         "showlegend": false,
         "type": "scatter",
         "x": [
          1900,
          1906,
          1908,
          1912,
          1920,
          1924,
          1928,
          1932,
          1936,
          1948,
          1952,
          1956,
          1960,
          1964,
          1968,
          1972,
          1976,
          1980,
          1984,
          1988,
          1992,
          1996,
          2000,
          2004,
          2008,
          2012,
          2016
         ],
         "xaxis": "x29",
         "y": [
          null,
          null,
          null,
          0,
          0,
          0,
          0,
          0,
          0,
          0,
          0,
          0,
          0,
          0,
          0,
          0,
          0,
          0,
          1.96875,
          0,
          1.3599999999999999,
          1.5250000000000001,
          0.7083333333333334,
          1.7543859649122806,
          5.529411764705882,
          1.3214285714285714,
          1.223529411764706
         ],
         "yaxis": "y29"
        },
        {
         "marker": {
          "color": "#222"
         },
         "mode": "lines",
         "showlegend": false,
         "type": "scatter",
         "x": [
          1896,
          2016
         ],
         "xaxis": "x29",
         "y": [
          1,
          1
         ],
         "yaxis": "y29"
        },
        {
         "marker": {
          "color": "rgb(55, 83, 109)"
         },
         "mode": "lines+markers",
         "showlegend": false,
         "type": "scatter",
         "x": [
          1996,
          2000,
          2004,
          2008,
          2012,
          2016
         ],
         "xaxis": "x30",
         "y": [
          1.0722610722610724,
          0.45075757575757575,
          1.017921146953405,
          1.1355932203389831,
          1.0230769230769232,
          0.9904761904761905
         ],
         "yaxis": "y30"
        },
        {
         "marker": {
          "color": "#222"
         },
         "mode": "lines",
         "showlegend": false,
         "type": "scatter",
         "x": [
          1896,
          2016
         ],
         "xaxis": "x30",
         "y": [
          1,
          1
         ],
         "yaxis": "y30"
        },
        {
         "marker": {
          "color": "rgb(55, 83, 109)"
         },
         "mode": "lines+markers",
         "showlegend": false,
         "type": "scatter",
         "x": [
          2008,
          2012,
          2016
         ],
         "xaxis": "x31",
         "y": [
          0,
          1.6111111111111112,
          1.1444444444444446
         ],
         "yaxis": "y31"
        },
        {
         "marker": {
          "color": "#222"
         },
         "mode": "lines",
         "showlegend": false,
         "type": "scatter",
         "x": [
          1896,
          2016
         ],
         "xaxis": "x31",
         "y": [
          1,
          1
         ],
         "yaxis": "y31"
        },
        {
         "marker": {
          "color": "rgb(55, 83, 109)"
         },
         "mode": "lines+markers",
         "showlegend": false,
         "type": "scatter",
         "x": [
          1896,
          1900,
          1904,
          1906,
          1912,
          1920,
          1924,
          1928,
          1932,
          1936,
          1948,
          1952,
          1956,
          1960,
          1964,
          1968,
          1972,
          1976,
          1980,
          1984,
          1988,
          1992,
          1996,
          2000,
          2004,
          2008,
          2012,
          2016
         ],
         "xaxis": "x32",
         "y": [
          null,
          0,
          null,
          null,
          null,
          null,
          0,
          0,
          null,
          0,
          0,
          0,
          null,
          0,
          0,
          0,
          0,
          4.166666666666667,
          0,
          1.1944444444444444,
          0.9166666666666667,
          0,
          0.38205980066445183,
          1.4912280701754386,
          0.5025641025641026,
          0.32936507936507936,
          0.875,
          1.2952380952380953
         ],
         "yaxis": "y32"
        },
        {
         "marker": {
          "color": "#222"
         },
         "mode": "lines",
         "showlegend": false,
         "type": "scatter",
         "x": [
          1896,
          2016
         ],
         "xaxis": "x32",
         "y": [
          1,
          1
         ],
         "yaxis": "y32"
        },
        {
         "marker": {
          "color": "rgb(55, 83, 109)"
         },
         "mode": "lines+markers",
         "showlegend": false,
         "type": "scatter",
         "x": [
          1996,
          2000,
          2004,
          2008,
          2012,
          2016
         ],
         "xaxis": "x33",
         "y": [
          0,
          0.42207792207792205,
          0,
          0.5571428571428572,
          1.2840909090909092,
          0.8233695652173912
         ],
         "yaxis": "y33"
        },
        {
         "marker": {
          "color": "#222"
         },
         "mode": "lines",
         "showlegend": false,
         "type": "scatter",
         "x": [
          1896,
          2016
         ],
         "xaxis": "x33",
         "y": [
          1,
          1
         ],
         "yaxis": "y33"
        },
        {
         "marker": {
          "color": "rgb(55, 83, 109)"
         },
         "mode": "lines+markers",
         "showlegend": false,
         "type": "scatter",
         "x": [
          1936,
          1948,
          1952,
          1956,
          1960,
          1964,
          1968,
          1972,
          1984,
          1988,
          1992,
          1996,
          2000,
          2004,
          2008,
          2012,
          2016
         ],
         "xaxis": "x34",
         "y": [
          0,
          0,
          null,
          null,
          0,
          null,
          null,
          0,
          0,
          0,
          0,
          0,
          0.7600000000000001,
          0.2909090909090909,
          2.115789473684211,
          1.3125,
          0
         ],
         "yaxis": "y34"
        },
        {
         "marker": {
          "color": "#222"
         },
         "mode": "lines",
         "showlegend": false,
         "type": "scatter",
         "x": [
          1896,
          2016
         ],
         "xaxis": "x34",
         "y": [
          1,
          1
         ],
         "yaxis": "y34"
        },
        {
         "marker": {
          "color": "rgb(55, 83, 109)"
         },
         "mode": "lines+markers",
         "showlegend": false,
         "type": "scatter",
         "x": [
          1924,
          1936,
          1952,
          1956,
          1960,
          1964,
          1968,
          1972,
          1976,
          1980,
          1984,
          1988,
          1992,
          1996,
          2000,
          2004,
          2008,
          2012,
          2016
         ],
         "xaxis": "x35",
         "y": [
          null,
          0,
          0,
          1.048951048951049,
          2.7222222222222223,
          1.9166666666666667,
          2.0500000000000003,
          1.4722222222222223,
          0.9303703703703704,
          1.4004914004914004,
          1.2148040638606676,
          1.3737373737373737,
          1.554738562091503,
          1.7383669885864792,
          1.4482961222091655,
          1.2413793103448274,
          1.4487704918032787,
          1.4000000000000001,
          1.0382513661202186
         ],
         "yaxis": "y35"
        },
        {
         "marker": {
          "color": "#222"
         },
         "mode": "lines",
         "showlegend": false,
         "type": "scatter",
         "x": [
          1896,
          2016
         ],
         "xaxis": "x35",
         "y": [
          1,
          1
         ],
         "yaxis": "y35"
        },
        {
         "marker": {
          "color": "rgb(55, 83, 109)"
         },
         "mode": "lines+markers",
         "showlegend": false,
         "type": "scatter",
         "x": [
          1896,
          1904,
          1906,
          1908,
          1912,
          1920,
          1924,
          1956,
          1960,
          1968,
          1972,
          1980,
          1984,
          1988,
          1992,
          1996,
          2000,
          2004,
          2008,
          2012,
          2016
         ],
         "xaxis": "x36",
         "y": [
          null,
          null,
          7.341176470588236,
          null,
          null,
          null,
          0,
          null,
          null,
          null,
          0,
          0,
          0,
          0,
          2.5,
          0.44485294117647056,
          0.8045977011494253,
          1.009478672985782,
          1.0857142857142856,
          1.3783783783783785,
          1.2777777777777777
         ],
         "yaxis": "y36"
        },
        {
         "marker": {
          "color": "#222"
         },
         "mode": "lines",
         "showlegend": false,
         "type": "scatter",
         "x": [
          1896,
          2016
         ],
         "xaxis": "x36",
         "y": [
          1,
          1
         ],
         "yaxis": "y36"
        },
        {
         "marker": {
          "color": "rgb(55, 83, 109)"
         },
         "mode": "lines+markers",
         "showlegend": false,
         "type": "scatter",
         "x": [
          1924,
          1928,
          1936,
          1948,
          1952,
          1960,
          1976,
          1984,
          1988,
          1996,
          2000,
          2004,
          2008,
          2012
         ],
         "xaxis": "x37",
         "y": [
          null,
          null,
          null,
          null,
          0,
          0,
          null,
          1.4074074074074074,
          6.5,
          2.2291666666666665,
          4.6923076923076925,
          0,
          1.4807692307692308,
          0
         ],
         "yaxis": "y37"
        },
        {
         "marker": {
          "color": "#222"
         },
         "mode": "lines",
         "showlegend": false,
         "type": "scatter",
         "x": [
          1896,
          2016
         ],
         "xaxis": "x37",
         "y": [
          1,
          1
         ],
         "yaxis": "y37"
        },
        {
         "marker": {
          "color": "rgb(55, 83, 109)"
         },
         "mode": "lines+markers",
         "showlegend": false,
         "type": "scatter",
         "x": [
          1992,
          1996,
          2000,
          2004,
          2008,
          2012,
          2016
         ],
         "xaxis": "x38",
         "y": [
          0,
          0,
          0,
          0,
          3.4736842105263164,
          0.4976744186046511,
          1.4912280701754386
         ],
         "yaxis": "y38"
        },
        {
         "marker": {
          "color": "#222"
         },
         "mode": "lines",
         "showlegend": false,
         "type": "scatter",
         "x": [
          1896,
          2016
         ],
         "xaxis": "x38",
         "y": [
          1,
          1
         ],
         "yaxis": "y38"
        },
        {
         "marker": {
          "color": "rgb(55, 83, 109)"
         },
         "mode": "lines+markers",
         "showlegend": false,
         "type": "scatter",
         "x": [
          1952,
          1960,
          1968,
          1976,
          1980,
          1984,
          2004,
          2008,
          2012,
          2016
         ],
         "xaxis": "x39",
         "y": [
          0,
          0,
          null,
          0,
          null,
          0,
          1.6,
          2.1176470588235294,
          0,
          2.361111111111111
         ],
         "yaxis": "y39"
        },
        {
         "marker": {
          "color": "#222"
         },
         "mode": "lines",
         "showlegend": false,
         "type": "scatter",
         "x": [
          1896,
          2016
         ],
         "xaxis": "x39",
         "y": [
          1,
          1
         ],
         "yaxis": "y39"
        },
        {
         "marker": {
          "color": "rgb(55, 83, 109)"
         },
         "mode": "lines+markers",
         "showlegend": false,
         "type": "scatter",
         "x": [
          1964,
          1968,
          1972,
          1984,
          1988,
          1992,
          1996,
          2000,
          2004,
          2008,
          2012,
          2016
         ],
         "xaxis": "x40",
         "y": [
          null,
          0,
          0,
          0,
          0,
          0,
          0.6499999999999999,
          0.36363636363636365,
          0.5476190476190477,
          1.0222222222222221,
          0.8545454545454545,
          1.289044289044289
         ],
         "yaxis": "y40"
        },
        {
         "marker": {
          "color": "#222"
         },
         "mode": "lines",
         "showlegend": false,
         "type": "scatter",
         "x": [
          1896,
          2016
         ],
         "xaxis": "x40",
         "y": [
          1,
          1
         ],
         "yaxis": "y40"
        },
        {
         "marker": {
          "color": "rgb(55, 83, 109)"
         },
         "mode": "lines+markers",
         "showlegend": false,
         "type": "scatter",
         "x": [
          1924,
          1928,
          1932,
          1948,
          1952,
          1956,
          1980,
          1984,
          1992,
          1996,
          2000,
          2008,
          2012,
          2016
         ],
         "xaxis": "x41",
         "y": [
          0,
          0,
          0,
          14.600000000000001,
          null,
          0,
          0,
          0,
          0,
          4.875,
          2.6666666666666665,
          0,
          0.7619047619047619,
          1.4615384615384615
         ],
         "yaxis": "y41"
        },
        {
         "marker": {
          "color": "#222"
         },
         "mode": "lines",
         "showlegend": false,
         "type": "scatter",
         "x": [
          1896,
          2016
         ],
         "xaxis": "x41",
         "y": [
          1,
          1
         ],
         "yaxis": "y41"
        },
        {
         "marker": {
          "color": "rgb(55, 83, 109)"
         },
         "mode": "lines+markers",
         "showlegend": false,
         "type": "scatter",
         "x": [
          1984,
          1992,
          1996,
          2000,
          2004,
          2008,
          2016
         ],
         "xaxis": "x42",
         "y": [
          0,
          0.5978260869565217,
          2.708333333333333,
          1.4188034188034189,
          0,
          1.3333333333333333,
          0
         ],
         "yaxis": "y42"
        },
        {
         "marker": {
          "color": "#222"
         },
         "mode": "lines",
         "showlegend": false,
         "type": "scatter",
         "x": [
          1896,
          2016
         ],
         "xaxis": "x42",
         "y": [
          1,
          1
         ],
         "yaxis": "y42"
        },
        {
         "marker": {
          "color": "rgb(55, 83, 109)"
         },
         "mode": "lines+markers",
         "showlegend": false,
         "type": "scatter",
         "x": [
          1896,
          1900,
          1904,
          1906,
          1908,
          1912,
          1924,
          1928,
          1932,
          1936,
          1948,
          1952,
          1956,
          1960,
          1968,
          1972,
          1976,
          1980,
          1984,
          1988,
          1992,
          1996,
          2000,
          2004,
          2008,
          2016
         ],
         "xaxis": "x43",
         "y": [
          null,
          null,
          null,
          null,
          null,
          3.5416666666666665,
          0,
          0,
          1.9000000000000001,
          0.8096885813148789,
          2.3125,
          2.6666666666666665,
          0,
          0,
          2.6875,
          2.6428571428571432,
          0,
          1.0921052631578947,
          0,
          0,
          0,
          1.5,
          0.8288288288288288,
          1.057142857142857,
          1.5555555555555558,
          2.088235294117647
         ],
         "yaxis": "y43"
        },
        {
         "marker": {
          "color": "#222"
         },
         "mode": "lines",
         "showlegend": false,
         "type": "scatter",
         "x": [
          1896,
          2016
         ],
         "xaxis": "x43",
         "y": [
          1,
          1
         ],
         "yaxis": "y43"
        },
        {
         "marker": {
          "color": "rgb(55, 83, 109)"
         },
         "mode": "lines+markers",
         "showlegend": false,
         "type": "scatter",
         "x": [
          1996,
          2000,
          2004,
          2008,
          2012,
          2016
         ],
         "xaxis": "x44",
         "y": [
          0,
          0,
          0,
          0.7466666666666667,
          0,
          0
         ],
         "yaxis": "y44"
        },
        {
         "marker": {
          "color": "#222"
         },
         "mode": "lines",
         "showlegend": false,
         "type": "scatter",
         "x": [
          1896,
          2016
         ],
         "xaxis": "x44",
         "y": [
          1,
          1
         ],
         "yaxis": "y44"
        },
        {
         "marker": {
          "color": "rgb(55, 83, 109)"
         },
         "mode": "lines+markers",
         "showlegend": false,
         "type": "scatter",
         "x": [
          1992,
          1996,
          2000,
          2004,
          2008,
          2012,
          2016
         ],
         "xaxis": "x45",
         "y": [
          0,
          0,
          1.7428571428571429,
          1.6388888888888888,
          0.5259259259259259,
          1.3478260869565217,
          0.8815789473684211
         ],
         "yaxis": "y45"
        },
        {
         "marker": {
          "color": "#222"
         },
         "mode": "lines",
         "showlegend": false,
         "type": "scatter",
         "x": [
          1896,
          2016
         ],
         "xaxis": "x45",
         "y": [
          1,
          1
         ],
         "yaxis": "y45"
        },
        {
         "marker": {
          "color": "rgb(55, 83, 109)"
         },
         "mode": "lines+markers",
         "showlegend": false,
         "type": "scatter",
         "x": [
          1992,
          1996,
          2000,
          2008,
          2012,
          2016
         ],
         "xaxis": "x46",
         "y": [
          17.5,
          0,
          0.9400000000000001,
          1.2727272727272727,
          0,
          0
         ],
         "yaxis": "y46"
        },
        {
         "marker": {
          "color": "#222"
         },
         "mode": "lines",
         "showlegend": false,
         "type": "scatter",
         "x": [
          1896,
          2016
         ],
         "xaxis": "x46",
         "y": [
          1,
          1
         ],
         "yaxis": "y46"
        },
        {
         "marker": {
          "color": "rgb(55, 83, 109)"
         },
         "mode": "lines+markers",
         "showlegend": false,
         "type": "scatter",
         "x": [
          1992,
          1996,
          2000,
          2004,
          2008,
          2012,
          2016
         ],
         "xaxis": "x47",
         "y": [
          0,
          1.5416666666666665,
          0,
          1.144927536231884,
          0.7261904761904762,
          0.4391891891891892,
          0.875
         ],
         "yaxis": "y47"
        },
        {
         "marker": {
          "color": "#222"
         },
         "mode": "lines",
         "showlegend": false,
         "type": "scatter",
         "x": [
          1896,
          2016
         ],
         "xaxis": "x47",
         "y": [
          1,
          1
         ],
         "yaxis": "y47"
        },
        {
         "marker": {
          "color": "rgb(55, 83, 109)"
         },
         "mode": "lines+markers",
         "showlegend": false,
         "type": "scatter",
         "x": [
          1948,
          1952,
          1956,
          1960,
          1964,
          1968,
          1972,
          1976,
          1988,
          1992,
          1996,
          2000,
          2004,
          2008,
          2012,
          2016
         ],
         "xaxis": "x48",
         "y": [
          null,
          null,
          null,
          null,
          0,
          null,
          null,
          0,
          null,
          null,
          0,
          0,
          0,
          0,
          0,
          1.1666666666666667
         ],
         "yaxis": "y48"
        },
        {
         "marker": {
          "color": "#222"
         },
         "mode": "lines",
         "showlegend": false,
         "type": "scatter",
         "x": [
          1896,
          2016
         ],
         "xaxis": "x48",
         "y": [
          1,
          1
         ],
         "yaxis": "y48"
        },
        {
         "marker": {
          "color": "rgb(55, 83, 109)"
         },
         "mode": "lines+markers",
         "showlegend": false,
         "type": "scatter",
         "x": [
          1900,
          1904,
          1906,
          1908,
          1912,
          1920,
          1924,
          1928,
          1936,
          1948,
          1952,
          1956,
          1960,
          1968,
          1972,
          1976,
          1984,
          1988,
          1992,
          1996,
          2000,
          2004,
          2008,
          2012,
          2016
         ],
         "xaxis": "x49",
         "y": [
          null,
          null,
          null,
          null,
          10.555555555555555,
          1.1091954022988506,
          0,
          null,
          0,
          0,
          0,
          0,
          0,
          0,
          0,
          0,
          1.8070175438596492,
          0.5519999999999999,
          0.7410714285714285,
          0.5038961038961038,
          0.9489795918367347,
          1.0196078431372548,
          0.691358024691358,
          0.5446428571428571,
          0.4696969696969697
         ],
         "yaxis": "y49"
        },
        {
         "marker": {
          "color": "#222"
         },
         "mode": "lines",
         "showlegend": false,
         "type": "scatter",
         "x": [
          1896,
          2016
         ],
         "xaxis": "x49",
         "y": [
          1,
          1
         ],
         "yaxis": "y49"
        },
        {
         "marker": {
          "color": "rgb(55, 83, 109)"
         },
         "mode": "lines+markers",
         "showlegend": false,
         "type": "scatter",
         "x": [
          1964,
          1968,
          1972,
          1996,
          2008,
          2012,
          2016
         ],
         "xaxis": "x50",
         "y": [
          null,
          null,
          null,
          0,
          0,
          1.3833333333333333,
          3.0500000000000003
         ],
         "yaxis": "y50"
        },
        {
         "marker": {
          "color": "#222"
         },
         "mode": "lines",
         "showlegend": false,
         "type": "scatter",
         "x": [
          1896,
          2016
         ],
         "xaxis": "x50",
         "y": [
          1,
          1
         ],
         "yaxis": "y50"
        },
        {
         "marker": {
          "color": "rgb(55, 83, 109)"
         },
         "mode": "lines+markers",
         "showlegend": false,
         "type": "scatter",
         "x": [
          1996,
          2000,
          2004,
          2008,
          2012,
          2016
         ],
         "xaxis": "x51",
         "y": [
          0,
          2.5833333333333335,
          2.4000000000000004,
          0,
          0.9285714285714286,
          1
         ],
         "yaxis": "y51"
        },
        {
         "marker": {
          "color": "#222"
         },
         "mode": "lines",
         "showlegend": false,
         "type": "scatter",
         "x": [
          1896,
          2016
         ],
         "xaxis": "x51",
         "y": [
          1,
          1
         ],
         "yaxis": "y51"
        },
        {
         "marker": {
          "color": "rgb(55, 83, 109)"
         },
         "mode": "lines+markers",
         "showlegend": false,
         "type": "scatter",
         "x": [
          1948,
          1952,
          1968,
          1972,
          1976,
          1980,
          1984,
          1988,
          1992,
          1996,
          2000,
          2004,
          2008,
          2012,
          2016
         ],
         "xaxis": "x52",
         "y": [
          0,
          0,
          0,
          0,
          0,
          0.8571428571428571,
          2.142857142857143,
          1.590909090909091,
          1.9285714285714286,
          1.6140350877192984,
          1.435897435897436,
          1.504,
          1.4403292181069958,
          0.8522727272727273,
          0.9853372434017595
         ],
         "yaxis": "y52"
        },
        {
         "marker": {
          "color": "#222"
         },
         "mode": "lines",
         "showlegend": false,
         "type": "scatter",
         "x": [
          1896,
          2016
         ],
         "xaxis": "x52",
         "y": [
          1,
          1
         ],
         "yaxis": "y52"
        },
        {
         "marker": {
          "color": "rgb(55, 83, 109)"
         },
         "mode": "lines+markers",
         "showlegend": false,
         "type": "scatter",
         "x": [
          1960,
          1968,
          1984,
          1992,
          1996,
          2000,
          2004,
          2008,
          2012,
          2016
         ],
         "xaxis": "x53",
         "y": [
          0,
          5.375,
          0,
          0,
          1.761904761904762,
          1.2941176470588236,
          0.9025641025641026,
          1.0972222222222223,
          1.7599999999999998,
          1.8965517241379313
         ],
         "yaxis": "y53"
        },
        {
         "marker": {
          "color": "#222"
         },
         "mode": "lines",
         "showlegend": false,
         "type": "scatter",
         "x": [
          1896,
          2016
         ],
         "xaxis": "x53",
         "y": [
          1,
          1
         ],
         "yaxis": "y53"
        },
        {
         "marker": {
          "color": "rgb(55, 83, 109)"
         },
         "mode": "lines+markers",
         "showlegend": false,
         "type": "scatter",
         "x": [
          1984,
          1996,
          2000,
          2004,
          2008,
          2012,
          2016
         ],
         "xaxis": "x54",
         "y": [
          0,
          0,
          1.4444444444444444,
          1.6666666666666667,
          0.9400000000000001,
          1.3703703703703702,
          1.1571428571428573
         ],
         "yaxis": "y54"
        },
        {
         "marker": {
          "color": "#222"
         },
         "mode": "lines",
         "showlegend": false,
         "type": "scatter",
         "x": [
          1896,
          2016
         ],
         "xaxis": "x54",
         "y": [
          1,
          1
         ],
         "yaxis": "y54"
        },
        {
         "marker": {
          "color": "rgb(55, 83, 109)"
         },
         "mode": "lines+markers",
         "showlegend": false,
         "type": "scatter",
         "x": [
          1906,
          1908,
          1912,
          1920,
          1924,
          1928,
          1932,
          1936,
          1948,
          1952,
          1956,
          1960,
          1964,
          1968,
          1972,
          1976,
          1980,
          1984,
          1988,
          1992,
          1996,
          2000,
          2004,
          2008,
          2012
         ],
         "xaxis": "x55",
         "y": [
          null,
          null,
          0,
          0,
          null,
          0,
          null,
          0,
          1.9545454545454544,
          0.43,
          0,
          0,
          0,
          0,
          0,
          0,
          2.1875,
          0.6013986013986015,
          0,
          0,
          0.6551724137931034,
          0,
          0,
          1.0961538461538463,
          1.382716049382716
         ],
         "yaxis": "y55"
        },
        {
         "marker": {
          "color": "#222"
         },
         "mode": "lines",
         "showlegend": false,
         "type": "scatter",
         "x": [
          1896,
          2016
         ],
         "xaxis": "x55",
         "y": [
          1,
          1
         ],
         "yaxis": "y55"
        },
        {
         "marker": {
          "color": "rgb(55, 83, 109)"
         },
         "mode": "lines+markers",
         "showlegend": false,
         "type": "scatter",
         "x": [
          2016
         ],
         "xaxis": "x56",
         "y": [
          0
         ],
         "yaxis": "y56"
        },
        {
         "marker": {
          "color": "#222"
         },
         "mode": "lines",
         "showlegend": false,
         "type": "scatter",
         "x": [
          1896,
          2016
         ],
         "xaxis": "x56",
         "y": [
          1,
          1
         ],
         "yaxis": "y56"
        },
        {
         "marker": {
          "color": "rgb(55, 83, 109)"
         },
         "mode": "lines+markers",
         "showlegend": false,
         "type": "scatter",
         "x": [
          1996,
          2000,
          2004,
          2008,
          2012,
          2016
         ],
         "xaxis": "x57",
         "y": [
          0,
          1.6,
          0.6666666666666666,
          0.8636363636363636,
          1.119047619047619,
          0
         ],
         "yaxis": "y57"
        },
        {
         "marker": {
          "color": "#222"
         },
         "mode": "lines",
         "showlegend": false,
         "type": "scatter",
         "x": [
          1896,
          2016
         ],
         "xaxis": "x57",
         "y": [
          1,
          1
         ],
         "yaxis": "y57"
        },
        {
         "marker": {
          "color": "rgb(55, 83, 109)"
         },
         "mode": "lines+markers",
         "showlegend": false,
         "type": "scatter",
         "x": [
          1952,
          1956,
          1960,
          1964,
          1968,
          1972,
          1976,
          1980,
          1988,
          1992,
          1996,
          2000,
          2004,
          2008,
          2012,
          2016
         ],
         "xaxis": "x58",
         "y": [
          0,
          0,
          0,
          0,
          0,
          1.0317460317460316,
          1.0840480274442539,
          0.5389204545454546,
          1.1497326203208555,
          0.9019607843137256,
          0.8148148148148148,
          0.5384615384615384,
          0.7509881422924901,
          2.5925925925925926,
          2.4230769230769234,
          2.318181818181818
         ],
         "yaxis": "y58"
        },
        {
         "marker": {
          "color": "#222"
         },
         "mode": "lines",
         "showlegend": false,
         "type": "scatter",
         "x": [
          1896,
          2016
         ],
         "xaxis": "x58",
         "y": [
          1,
          1
         ],
         "yaxis": "y58"
        }
       ],
       "layout": {
        "annotations": [
         {
          "font": {
           "size": 16
          },
          "showarrow": false,
          "text": "USA",
          "x": 0.08399999999999999,
          "xanchor": "center",
          "xref": "paper",
          "y": 1,
          "yanchor": "bottom",
          "yref": "paper"
         },
         {
          "font": {
           "size": 16
          },
          "showarrow": false,
          "text": "BRA",
          "x": 0.292,
          "xanchor": "center",
          "xref": "paper",
          "y": 1,
          "yanchor": "bottom",
          "yref": "paper"
         },
         {
          "font": {
           "size": 16
          },
          "showarrow": false,
          "text": "AUS",
          "x": 0.5,
          "xanchor": "center",
          "xref": "paper",
          "y": 1,
          "yanchor": "bottom",
          "yref": "paper"
         },
         {
          "font": {
           "size": 16
          },
          "showarrow": false,
          "text": "GER",
          "x": 0.708,
          "xanchor": "center",
          "xref": "paper",
          "y": 1,
          "yanchor": "bottom",
          "yref": "paper"
         },
         {
          "font": {
           "size": 16
          },
          "showarrow": false,
          "text": "FRA",
          "x": 0.9159999999999999,
          "xanchor": "center",
          "xref": "paper",
          "y": 1,
          "yanchor": "bottom",
          "yref": "paper"
         },
         {
          "font": {
           "size": 16
          },
          "showarrow": false,
          "text": "CHN",
          "x": 0.08399999999999999,
          "xanchor": "center",
          "xref": "paper",
          "y": 0.9131944444444444,
          "yanchor": "bottom",
          "yref": "paper"
         },
         {
          "font": {
           "size": 16
          },
          "showarrow": false,
          "text": "GBR",
          "x": 0.292,
          "xanchor": "center",
          "xref": "paper",
          "y": 0.9131944444444444,
          "yanchor": "bottom",
          "yref": "paper"
         },
         {
          "font": {
           "size": 16
          },
          "showarrow": false,
          "text": "JPN",
          "x": 0.5,
          "xanchor": "center",
          "xref": "paper",
          "y": 0.9131944444444444,
          "yanchor": "bottom",
          "yref": "paper"
         },
         {
          "font": {
           "size": 16
          },
          "showarrow": false,
          "text": "CAN",
          "x": 0.708,
          "xanchor": "center",
          "xref": "paper",
          "y": 0.9131944444444444,
          "yanchor": "bottom",
          "yref": "paper"
         },
         {
          "font": {
           "size": 16
          },
          "showarrow": false,
          "text": "ITA",
          "x": 0.9159999999999999,
          "xanchor": "center",
          "xref": "paper",
          "y": 0.9131944444444444,
          "yanchor": "bottom",
          "yref": "paper"
         },
         {
          "font": {
           "size": 16
          },
          "showarrow": false,
          "text": "ESP",
          "x": 0.08399999999999999,
          "xanchor": "center",
          "xref": "paper",
          "y": 0.8263888888888888,
          "yanchor": "bottom",
          "yref": "paper"
         },
         {
          "font": {
           "size": 16
          },
          "showarrow": false,
          "text": "RUS",
          "x": 0.292,
          "xanchor": "center",
          "xref": "paper",
          "y": 0.8263888888888888,
          "yanchor": "bottom",
          "yref": "paper"
         },
         {
          "font": {
           "size": 16
          },
          "showarrow": false,
          "text": "NED",
          "x": 0.5,
          "xanchor": "center",
          "xref": "paper",
          "y": 0.8263888888888888,
          "yanchor": "bottom",
          "yref": "paper"
         },
         {
          "font": {
           "size": 16
          },
          "showarrow": false,
          "text": "POL",
          "x": 0.708,
          "xanchor": "center",
          "xref": "paper",
          "y": 0.8263888888888888,
          "yanchor": "bottom",
          "yref": "paper"
         },
         {
          "font": {
           "size": 16
          },
          "showarrow": false,
          "text": "ARG",
          "x": 0.9159999999999999,
          "xanchor": "center",
          "xref": "paper",
          "y": 0.8263888888888888,
          "yanchor": "bottom",
          "yref": "paper"
         },
         {
          "font": {
           "size": 16
          },
          "showarrow": false,
          "text": "KOR",
          "x": 0.08399999999999999,
          "xanchor": "center",
          "xref": "paper",
          "y": 0.7395833333333333,
          "yanchor": "bottom",
          "yref": "paper"
         },
         {
          "font": {
           "size": 16
          },
          "showarrow": false,
          "text": "UKR",
          "x": 0.292,
          "xanchor": "center",
          "xref": "paper",
          "y": 0.7395833333333333,
          "yanchor": "bottom",
          "yref": "paper"
         },
         {
          "font": {
           "size": 16
          },
          "showarrow": false,
          "text": "NZL",
          "x": 0.5,
          "xanchor": "center",
          "xref": "paper",
          "y": 0.7395833333333333,
          "yanchor": "bottom",
          "yref": "paper"
         },
         {
          "font": {
           "size": 16
          },
          "showarrow": false,
          "text": "HUN",
          "x": 0.708,
          "xanchor": "center",
          "xref": "paper",
          "y": 0.7395833333333333,
          "yanchor": "bottom",
          "yref": "paper"
         },
         {
          "font": {
           "size": 16
          },
          "showarrow": false,
          "text": "SWE",
          "x": 0.9159999999999999,
          "xanchor": "center",
          "xref": "paper",
          "y": 0.7395833333333333,
          "yanchor": "bottom",
          "yref": "paper"
         },
         {
          "font": {
           "size": 16
          },
          "showarrow": false,
          "text": "COL",
          "x": 0.08399999999999999,
          "xanchor": "center",
          "xref": "paper",
          "y": 0.6527777777777777,
          "yanchor": "bottom",
          "yref": "paper"
         },
         {
          "font": {
           "size": 16
          },
          "showarrow": false,
          "text": "RSA",
          "x": 0.292,
          "xanchor": "center",
          "xref": "paper",
          "y": 0.6527777777777777,
          "yanchor": "bottom",
          "yref": "paper"
         },
         {
          "font": {
           "size": 16
          },
          "showarrow": false,
          "text": "MEX",
          "x": 0.5,
          "xanchor": "center",
          "xref": "paper",
          "y": 0.6527777777777777,
          "yanchor": "bottom",
          "yref": "paper"
         },
         {
          "font": {
           "size": 16
          },
          "showarrow": false,
          "text": "EGY",
          "x": 0.708,
          "xanchor": "center",
          "xref": "paper",
          "y": 0.6527777777777777,
          "yanchor": "bottom",
          "yref": "paper"
         },
         {
          "font": {
           "size": 16
          },
          "showarrow": false,
          "text": "BLR",
          "x": 0.9159999999999999,
          "xanchor": "center",
          "xref": "paper",
          "y": 0.6527777777777777,
          "yanchor": "bottom",
          "yref": "paper"
         },
         {
          "font": {
           "size": 16
          },
          "showarrow": false,
          "text": "DEN",
          "x": 0.08399999999999999,
          "xanchor": "center",
          "xref": "paper",
          "y": 0.5659722222222223,
          "yanchor": "bottom",
          "yref": "paper"
         },
         {
          "font": {
           "size": 16
          },
          "showarrow": false,
          "text": "CUB",
          "x": 0.292,
          "xanchor": "center",
          "xref": "paper",
          "y": 0.5659722222222223,
          "yanchor": "bottom",
          "yref": "paper"
         },
         {
          "font": {
           "size": 16
          },
          "showarrow": false,
          "text": "IND",
          "x": 0.5,
          "xanchor": "center",
          "xref": "paper",
          "y": 0.5659722222222223,
          "yanchor": "bottom",
          "yref": "paper"
         },
         {
          "font": {
           "size": 16
          },
          "showarrow": false,
          "text": "BEL",
          "x": 0.708,
          "xanchor": "center",
          "xref": "paper",
          "y": 0.5659722222222223,
          "yanchor": "bottom",
          "yref": "paper"
         },
         {
          "font": {
           "size": 16
          },
          "showarrow": false,
          "text": "CZE",
          "x": 0.9159999999999999,
          "xanchor": "center",
          "xref": "paper",
          "y": 0.5659722222222223,
          "yanchor": "bottom",
          "yref": "paper"
         },
         {
          "font": {
           "size": 16
          },
          "showarrow": false,
          "text": "SRB",
          "x": 0.08399999999999999,
          "xanchor": "center",
          "xref": "paper",
          "y": 0.4791666666666667,
          "yanchor": "bottom",
          "yref": "paper"
         },
         {
          "font": {
           "size": 16
          },
          "showarrow": false,
          "text": "SUI",
          "x": 0.292,
          "xanchor": "center",
          "xref": "paper",
          "y": 0.4791666666666667,
          "yanchor": "bottom",
          "yref": "paper"
         },
         {
          "font": {
           "size": 16
          },
          "showarrow": false,
          "text": "KAZ",
          "x": 0.5,
          "xanchor": "center",
          "xref": "paper",
          "y": 0.4791666666666667,
          "yanchor": "bottom",
          "yref": "paper"
         },
         {
          "font": {
           "size": 16
          },
          "showarrow": false,
          "text": "TUR",
          "x": 0.708,
          "xanchor": "center",
          "xref": "paper",
          "y": 0.4791666666666667,
          "yanchor": "bottom",
          "yref": "paper"
         },
         {
          "font": {
           "size": 16
          },
          "showarrow": false,
          "text": "ROU",
          "x": 0.9159999999999999,
          "xanchor": "center",
          "xref": "paper",
          "y": 0.4791666666666667,
          "yanchor": "bottom",
          "yref": "paper"
         },
         {
          "font": {
           "size": 16
          },
          "showarrow": false,
          "text": "GRE",
          "x": 0.08399999999999999,
          "xanchor": "center",
          "xref": "paper",
          "y": 0.3923611111111111,
          "yanchor": "bottom",
          "yref": "paper"
         },
         {
          "font": {
           "size": 16
          },
          "showarrow": false,
          "text": "POR",
          "x": 0.292,
          "xanchor": "center",
          "xref": "paper",
          "y": 0.3923611111111111,
          "yanchor": "bottom",
          "yref": "paper"
         },
         {
          "font": {
           "size": 16
          },
          "showarrow": false,
          "text": "CRO",
          "x": 0.5,
          "xanchor": "center",
          "xref": "paper",
          "y": 0.3923611111111111,
          "yanchor": "bottom",
          "yref": "paper"
         },
         {
          "font": {
           "size": 16
          },
          "showarrow": false,
          "text": "VEN",
          "x": 0.708,
          "xanchor": "center",
          "xref": "paper",
          "y": 0.3923611111111111,
          "yanchor": "bottom",
          "yref": "paper"
         },
         {
          "font": {
           "size": 16
          },
          "showarrow": false,
          "text": "KEN",
          "x": 0.9159999999999999,
          "xanchor": "center",
          "xref": "paper",
          "y": 0.3923611111111111,
          "yanchor": "bottom",
          "yref": "paper"
         },
         {
          "font": {
           "size": 16
          },
          "showarrow": false,
          "text": "IRL",
          "x": 0.08399999999999999,
          "xanchor": "center",
          "xref": "paper",
          "y": 0.3055555555555556,
          "yanchor": "bottom",
          "yref": "paper"
         },
         {
          "font": {
           "size": 16
          },
          "showarrow": false,
          "text": "NGR",
          "x": 0.292,
          "xanchor": "center",
          "xref": "paper",
          "y": 0.3055555555555556,
          "yanchor": "bottom",
          "yref": "paper"
         },
         {
          "font": {
           "size": 16
          },
          "showarrow": false,
          "text": "AUT",
          "x": 0.5,
          "xanchor": "center",
          "xref": "paper",
          "y": 0.3055555555555556,
          "yanchor": "bottom",
          "yref": "paper"
         },
         {
          "font": {
           "size": 16
          },
          "showarrow": false,
          "text": "UZB",
          "x": 0.708,
          "xanchor": "center",
          "xref": "paper",
          "y": 0.3055555555555556,
          "yanchor": "bottom",
          "yref": "paper"
         },
         {
          "font": {
           "size": 16
          },
          "showarrow": false,
          "text": "LTU",
          "x": 0.9159999999999999,
          "xanchor": "center",
          "xref": "paper",
          "y": 0.3055555555555556,
          "yanchor": "bottom",
          "yref": "paper"
         },
         {
          "font": {
           "size": 16
          },
          "showarrow": false,
          "text": "ALG",
          "x": 0.08399999999999999,
          "xanchor": "center",
          "xref": "paper",
          "y": 0.21875,
          "yanchor": "bottom",
          "yref": "paper"
         },
         {
          "font": {
           "size": 16
          },
          "showarrow": false,
          "text": "SLO",
          "x": 0.292,
          "xanchor": "center",
          "xref": "paper",
          "y": 0.21875,
          "yanchor": "bottom",
          "yref": "paper"
         },
         {
          "font": {
           "size": 16
          },
          "showarrow": false,
          "text": "IRI",
          "x": 0.5,
          "xanchor": "center",
          "xref": "paper",
          "y": 0.21875,
          "yanchor": "bottom",
          "yref": "paper"
         },
         {
          "font": {
           "size": 16
          },
          "showarrow": false,
          "text": "NOR",
          "x": 0.708,
          "xanchor": "center",
          "xref": "paper",
          "y": 0.21875,
          "yanchor": "bottom",
          "yref": "paper"
         },
         {
          "font": {
           "size": 16
          },
          "showarrow": false,
          "text": "TUN",
          "x": 0.9159999999999999,
          "xanchor": "center",
          "xref": "paper",
          "y": 0.21875,
          "yanchor": "bottom",
          "yref": "paper"
         },
         {
          "font": {
           "size": 16
          },
          "showarrow": false,
          "text": "AZE",
          "x": 0.08399999999999999,
          "xanchor": "center",
          "xref": "paper",
          "y": 0.13194444444444445,
          "yanchor": "bottom",
          "yref": "paper"
         },
         {
          "font": {
           "size": 16
          },
          "showarrow": false,
          "text": "JAM",
          "x": 0.292,
          "xanchor": "center",
          "xref": "paper",
          "y": 0.13194444444444445,
          "yanchor": "bottom",
          "yref": "paper"
         },
         {
          "font": {
           "size": 16
          },
          "showarrow": false,
          "text": "TPE",
          "x": 0.5,
          "xanchor": "center",
          "xref": "paper",
          "y": 0.13194444444444445,
          "yanchor": "bottom",
          "yref": "paper"
         },
         {
          "font": {
           "size": 16
          },
          "showarrow": false,
          "text": "THA",
          "x": 0.708,
          "xanchor": "center",
          "xref": "paper",
          "y": 0.13194444444444445,
          "yanchor": "bottom",
          "yref": "paper"
         },
         {
          "font": {
           "size": 16
          },
          "showarrow": false,
          "text": "FIN",
          "x": 0.9159999999999999,
          "xanchor": "center",
          "xref": "paper",
          "y": 0.13194444444444445,
          "yanchor": "bottom",
          "yref": "paper"
         },
         {
          "font": {
           "size": 16
          },
          "showarrow": false,
          "text": "FIJ",
          "x": 0.08399999999999999,
          "xanchor": "center",
          "xref": "paper",
          "y": 0.045138888888888895,
          "yanchor": "bottom",
          "yref": "paper"
         },
         {
          "font": {
           "size": 16
          },
          "showarrow": false,
          "text": "SVK",
          "x": 0.292,
          "xanchor": "center",
          "xref": "paper",
          "y": 0.045138888888888895,
          "yanchor": "bottom",
          "yref": "paper"
         },
         {
          "font": {
           "size": 16
          },
          "showarrow": false,
          "text": "BUL",
          "x": 0.5,
          "xanchor": "center",
          "xref": "paper",
          "y": 0.045138888888888895,
          "yanchor": "bottom",
          "yref": "paper"
         }
        ],
        "height": 2400,
        "template": {
         "data": {
          "bar": [
           {
            "error_x": {
             "color": "#2a3f5f"
            },
            "error_y": {
             "color": "#2a3f5f"
            },
            "marker": {
             "line": {
              "color": "#E5ECF6",
              "width": 0.5
             }
            },
            "type": "bar"
           }
          ],
          "barpolar": [
           {
            "marker": {
             "line": {
              "color": "#E5ECF6",
              "width": 0.5
             }
            },
            "type": "barpolar"
           }
          ],
          "carpet": [
           {
            "aaxis": {
             "endlinecolor": "#2a3f5f",
             "gridcolor": "white",
             "linecolor": "white",
             "minorgridcolor": "white",
             "startlinecolor": "#2a3f5f"
            },
            "baxis": {
             "endlinecolor": "#2a3f5f",
             "gridcolor": "white",
             "linecolor": "white",
             "minorgridcolor": "white",
             "startlinecolor": "#2a3f5f"
            },
            "type": "carpet"
           }
          ],
          "choropleth": [
           {
            "colorbar": {
             "outlinewidth": 0,
             "ticks": ""
            },
            "type": "choropleth"
           }
          ],
          "contour": [
           {
            "colorbar": {
             "outlinewidth": 0,
             "ticks": ""
            },
            "colorscale": [
             [
              0,
              "#0d0887"
             ],
             [
              0.1111111111111111,
              "#46039f"
             ],
             [
              0.2222222222222222,
              "#7201a8"
             ],
             [
              0.3333333333333333,
              "#9c179e"
             ],
             [
              0.4444444444444444,
              "#bd3786"
             ],
             [
              0.5555555555555556,
              "#d8576b"
             ],
             [
              0.6666666666666666,
              "#ed7953"
             ],
             [
              0.7777777777777778,
              "#fb9f3a"
             ],
             [
              0.8888888888888888,
              "#fdca26"
             ],
             [
              1,
              "#f0f921"
             ]
            ],
            "type": "contour"
           }
          ],
          "contourcarpet": [
           {
            "colorbar": {
             "outlinewidth": 0,
             "ticks": ""
            },
            "type": "contourcarpet"
           }
          ],
          "heatmap": [
           {
            "colorbar": {
             "outlinewidth": 0,
             "ticks": ""
            },
            "colorscale": [
             [
              0,
              "#0d0887"
             ],
             [
              0.1111111111111111,
              "#46039f"
             ],
             [
              0.2222222222222222,
              "#7201a8"
             ],
             [
              0.3333333333333333,
              "#9c179e"
             ],
             [
              0.4444444444444444,
              "#bd3786"
             ],
             [
              0.5555555555555556,
              "#d8576b"
             ],
             [
              0.6666666666666666,
              "#ed7953"
             ],
             [
              0.7777777777777778,
              "#fb9f3a"
             ],
             [
              0.8888888888888888,
              "#fdca26"
             ],
             [
              1,
              "#f0f921"
             ]
            ],
            "type": "heatmap"
           }
          ],
          "heatmapgl": [
           {
            "colorbar": {
             "outlinewidth": 0,
             "ticks": ""
            },
            "colorscale": [
             [
              0,
              "#0d0887"
             ],
             [
              0.1111111111111111,
              "#46039f"
             ],
             [
              0.2222222222222222,
              "#7201a8"
             ],
             [
              0.3333333333333333,
              "#9c179e"
             ],
             [
              0.4444444444444444,
              "#bd3786"
             ],
             [
              0.5555555555555556,
              "#d8576b"
             ],
             [
              0.6666666666666666,
              "#ed7953"
             ],
             [
              0.7777777777777778,
              "#fb9f3a"
             ],
             [
              0.8888888888888888,
              "#fdca26"
             ],
             [
              1,
              "#f0f921"
             ]
            ],
            "type": "heatmapgl"
           }
          ],
          "histogram": [
           {
            "marker": {
             "colorbar": {
              "outlinewidth": 0,
              "ticks": ""
             }
            },
            "type": "histogram"
           }
          ],
          "histogram2d": [
           {
            "colorbar": {
             "outlinewidth": 0,
             "ticks": ""
            },
            "colorscale": [
             [
              0,
              "#0d0887"
             ],
             [
              0.1111111111111111,
              "#46039f"
             ],
             [
              0.2222222222222222,
              "#7201a8"
             ],
             [
              0.3333333333333333,
              "#9c179e"
             ],
             [
              0.4444444444444444,
              "#bd3786"
             ],
             [
              0.5555555555555556,
              "#d8576b"
             ],
             [
              0.6666666666666666,
              "#ed7953"
             ],
             [
              0.7777777777777778,
              "#fb9f3a"
             ],
             [
              0.8888888888888888,
              "#fdca26"
             ],
             [
              1,
              "#f0f921"
             ]
            ],
            "type": "histogram2d"
           }
          ],
          "histogram2dcontour": [
           {
            "colorbar": {
             "outlinewidth": 0,
             "ticks": ""
            },
            "colorscale": [
             [
              0,
              "#0d0887"
             ],
             [
              0.1111111111111111,
              "#46039f"
             ],
             [
              0.2222222222222222,
              "#7201a8"
             ],
             [
              0.3333333333333333,
              "#9c179e"
             ],
             [
              0.4444444444444444,
              "#bd3786"
             ],
             [
              0.5555555555555556,
              "#d8576b"
             ],
             [
              0.6666666666666666,
              "#ed7953"
             ],
             [
              0.7777777777777778,
              "#fb9f3a"
             ],
             [
              0.8888888888888888,
              "#fdca26"
             ],
             [
              1,
              "#f0f921"
             ]
            ],
            "type": "histogram2dcontour"
           }
          ],
          "mesh3d": [
           {
            "colorbar": {
             "outlinewidth": 0,
             "ticks": ""
            },
            "type": "mesh3d"
           }
          ],
          "parcoords": [
           {
            "line": {
             "colorbar": {
              "outlinewidth": 0,
              "ticks": ""
             }
            },
            "type": "parcoords"
           }
          ],
          "pie": [
           {
            "automargin": true,
            "type": "pie"
           }
          ],
          "scatter": [
           {
            "marker": {
             "colorbar": {
              "outlinewidth": 0,
              "ticks": ""
             }
            },
            "type": "scatter"
           }
          ],
          "scatter3d": [
           {
            "line": {
             "colorbar": {
              "outlinewidth": 0,
              "ticks": ""
             }
            },
            "marker": {
             "colorbar": {
              "outlinewidth": 0,
              "ticks": ""
             }
            },
            "type": "scatter3d"
           }
          ],
          "scattercarpet": [
           {
            "marker": {
             "colorbar": {
              "outlinewidth": 0,
              "ticks": ""
             }
            },
            "type": "scattercarpet"
           }
          ],
          "scattergeo": [
           {
            "marker": {
             "colorbar": {
              "outlinewidth": 0,
              "ticks": ""
             }
            },
            "type": "scattergeo"
           }
          ],
          "scattergl": [
           {
            "marker": {
             "colorbar": {
              "outlinewidth": 0,
              "ticks": ""
             }
            },
            "type": "scattergl"
           }
          ],
          "scattermapbox": [
           {
            "marker": {
             "colorbar": {
              "outlinewidth": 0,
              "ticks": ""
             }
            },
            "type": "scattermapbox"
           }
          ],
          "scatterpolar": [
           {
            "marker": {
             "colorbar": {
              "outlinewidth": 0,
              "ticks": ""
             }
            },
            "type": "scatterpolar"
           }
          ],
          "scatterpolargl": [
           {
            "marker": {
             "colorbar": {
              "outlinewidth": 0,
              "ticks": ""
             }
            },
            "type": "scatterpolargl"
           }
          ],
          "scatterternary": [
           {
            "marker": {
             "colorbar": {
              "outlinewidth": 0,
              "ticks": ""
             }
            },
            "type": "scatterternary"
           }
          ],
          "surface": [
           {
            "colorbar": {
             "outlinewidth": 0,
             "ticks": ""
            },
            "colorscale": [
             [
              0,
              "#0d0887"
             ],
             [
              0.1111111111111111,
              "#46039f"
             ],
             [
              0.2222222222222222,
              "#7201a8"
             ],
             [
              0.3333333333333333,
              "#9c179e"
             ],
             [
              0.4444444444444444,
              "#bd3786"
             ],
             [
              0.5555555555555556,
              "#d8576b"
             ],
             [
              0.6666666666666666,
              "#ed7953"
             ],
             [
              0.7777777777777778,
              "#fb9f3a"
             ],
             [
              0.8888888888888888,
              "#fdca26"
             ],
             [
              1,
              "#f0f921"
             ]
            ],
            "type": "surface"
           }
          ],
          "table": [
           {
            "cells": {
             "fill": {
              "color": "#EBF0F8"
             },
             "line": {
              "color": "white"
             }
            },
            "header": {
             "fill": {
              "color": "#C8D4E3"
             },
             "line": {
              "color": "white"
             }
            },
            "type": "table"
           }
          ]
         },
         "layout": {
          "annotationdefaults": {
           "arrowcolor": "#2a3f5f",
           "arrowhead": 0,
           "arrowwidth": 1
          },
          "autotypenumbers": "strict",
          "coloraxis": {
           "colorbar": {
            "outlinewidth": 0,
            "ticks": ""
           }
          },
          "colorscale": {
           "diverging": [
            [
             0,
             "#8e0152"
            ],
            [
             0.1,
             "#c51b7d"
            ],
            [
             0.2,
             "#de77ae"
            ],
            [
             0.3,
             "#f1b6da"
            ],
            [
             0.4,
             "#fde0ef"
            ],
            [
             0.5,
             "#f7f7f7"
            ],
            [
             0.6,
             "#e6f5d0"
            ],
            [
             0.7,
             "#b8e186"
            ],
            [
             0.8,
             "#7fbc41"
            ],
            [
             0.9,
             "#4d9221"
            ],
            [
             1,
             "#276419"
            ]
           ],
           "sequential": [
            [
             0,
             "#0d0887"
            ],
            [
             0.1111111111111111,
             "#46039f"
            ],
            [
             0.2222222222222222,
             "#7201a8"
            ],
            [
             0.3333333333333333,
             "#9c179e"
            ],
            [
             0.4444444444444444,
             "#bd3786"
            ],
            [
             0.5555555555555556,
             "#d8576b"
            ],
            [
             0.6666666666666666,
             "#ed7953"
            ],
            [
             0.7777777777777778,
             "#fb9f3a"
            ],
            [
             0.8888888888888888,
             "#fdca26"
            ],
            [
             1,
             "#f0f921"
            ]
           ],
           "sequentialminus": [
            [
             0,
             "#0d0887"
            ],
            [
             0.1111111111111111,
             "#46039f"
            ],
            [
             0.2222222222222222,
             "#7201a8"
            ],
            [
             0.3333333333333333,
             "#9c179e"
            ],
            [
             0.4444444444444444,
             "#bd3786"
            ],
            [
             0.5555555555555556,
             "#d8576b"
            ],
            [
             0.6666666666666666,
             "#ed7953"
            ],
            [
             0.7777777777777778,
             "#fb9f3a"
            ],
            [
             0.8888888888888888,
             "#fdca26"
            ],
            [
             1,
             "#f0f921"
            ]
           ]
          },
          "colorway": [
           "#636efa",
           "#EF553B",
           "#00cc96",
           "#ab63fa",
           "#FFA15A",
           "#19d3f3",
           "#FF6692",
           "#B6E880",
           "#FF97FF",
           "#FECB52"
          ],
          "font": {
           "color": "#2a3f5f"
          },
          "geo": {
           "bgcolor": "white",
           "lakecolor": "white",
           "landcolor": "#E5ECF6",
           "showlakes": true,
           "showland": true,
           "subunitcolor": "white"
          },
          "hoverlabel": {
           "align": "left"
          },
          "hovermode": "closest",
          "mapbox": {
           "style": "light"
          },
          "paper_bgcolor": "white",
          "plot_bgcolor": "#E5ECF6",
          "polar": {
           "angularaxis": {
            "gridcolor": "white",
            "linecolor": "white",
            "ticks": ""
           },
           "bgcolor": "#E5ECF6",
           "radialaxis": {
            "gridcolor": "white",
            "linecolor": "white",
            "ticks": ""
           }
          },
          "scene": {
           "xaxis": {
            "backgroundcolor": "#E5ECF6",
            "gridcolor": "white",
            "gridwidth": 2,
            "linecolor": "white",
            "showbackground": true,
            "ticks": "",
            "zerolinecolor": "white"
           },
           "yaxis": {
            "backgroundcolor": "#E5ECF6",
            "gridcolor": "white",
            "gridwidth": 2,
            "linecolor": "white",
            "showbackground": true,
            "ticks": "",
            "zerolinecolor": "white"
           },
           "zaxis": {
            "backgroundcolor": "#E5ECF6",
            "gridcolor": "white",
            "gridwidth": 2,
            "linecolor": "white",
            "showbackground": true,
            "ticks": "",
            "zerolinecolor": "white"
           }
          },
          "shapedefaults": {
           "line": {
            "color": "#2a3f5f"
           }
          },
          "ternary": {
           "aaxis": {
            "gridcolor": "white",
            "linecolor": "white",
            "ticks": ""
           },
           "baxis": {
            "gridcolor": "white",
            "linecolor": "white",
            "ticks": ""
           },
           "bgcolor": "#E5ECF6",
           "caxis": {
            "gridcolor": "white",
            "linecolor": "white",
            "ticks": ""
           }
          },
          "title": {
           "x": 0.05
          },
          "xaxis": {
           "automargin": true,
           "gridcolor": "white",
           "linecolor": "white",
           "ticks": "",
           "title": {
            "standoff": 15
           },
           "zerolinecolor": "white",
           "zerolinewidth": 2
          },
          "yaxis": {
           "automargin": true,
           "gridcolor": "white",
           "linecolor": "white",
           "ticks": "",
           "title": {
            "standoff": 15
           },
           "zerolinecolor": "white",
           "zerolinewidth": 2
          }
         }
        },
        "width": 1000,
        "xaxis": {
         "anchor": "y",
         "domain": [
          0,
          0.16799999999999998
         ],
         "range": [
          1947,
          2020
         ]
        },
        "xaxis10": {
         "anchor": "y10",
         "domain": [
          0.832,
          1
         ],
         "range": [
          1947,
          2020
         ]
        },
        "xaxis11": {
         "anchor": "y11",
         "domain": [
          0,
          0.16799999999999998
         ],
         "range": [
          1947,
          2020
         ]
        },
        "xaxis12": {
         "anchor": "y12",
         "domain": [
          0.208,
          0.376
         ],
         "range": [
          1947,
          2020
         ]
        },
        "xaxis13": {
         "anchor": "y13",
         "domain": [
          0.416,
          0.584
         ],
         "range": [
          1947,
          2020
         ]
        },
        "xaxis14": {
         "anchor": "y14",
         "domain": [
          0.624,
          0.792
         ],
         "range": [
          1947,
          2020
         ]
        },
        "xaxis15": {
         "anchor": "y15",
         "domain": [
          0.832,
          1
         ],
         "range": [
          1947,
          2020
         ]
        },
        "xaxis16": {
         "anchor": "y16",
         "domain": [
          0,
          0.16799999999999998
         ],
         "range": [
          1947,
          2020
         ]
        },
        "xaxis17": {
         "anchor": "y17",
         "domain": [
          0.208,
          0.376
         ],
         "range": [
          1947,
          2020
         ]
        },
        "xaxis18": {
         "anchor": "y18",
         "domain": [
          0.416,
          0.584
         ],
         "range": [
          1947,
          2020
         ]
        },
        "xaxis19": {
         "anchor": "y19",
         "domain": [
          0.624,
          0.792
         ],
         "range": [
          1947,
          2020
         ]
        },
        "xaxis2": {
         "anchor": "y2",
         "domain": [
          0.208,
          0.376
         ],
         "range": [
          1947,
          2020
         ]
        },
        "xaxis20": {
         "anchor": "y20",
         "domain": [
          0.832,
          1
         ],
         "range": [
          1947,
          2020
         ]
        },
        "xaxis21": {
         "anchor": "y21",
         "domain": [
          0,
          0.16799999999999998
         ],
         "range": [
          1947,
          2020
         ]
        },
        "xaxis22": {
         "anchor": "y22",
         "domain": [
          0.208,
          0.376
         ],
         "range": [
          1947,
          2020
         ]
        },
        "xaxis23": {
         "anchor": "y23",
         "domain": [
          0.416,
          0.584
         ],
         "range": [
          1947,
          2020
         ]
        },
        "xaxis24": {
         "anchor": "y24",
         "domain": [
          0.624,
          0.792
         ],
         "range": [
          1947,
          2020
         ]
        },
        "xaxis25": {
         "anchor": "y25",
         "domain": [
          0.832,
          1
         ],
         "range": [
          1947,
          2020
         ]
        },
        "xaxis26": {
         "anchor": "y26",
         "domain": [
          0,
          0.16799999999999998
         ],
         "range": [
          1947,
          2020
         ]
        },
        "xaxis27": {
         "anchor": "y27",
         "domain": [
          0.208,
          0.376
         ],
         "range": [
          1947,
          2020
         ]
        },
        "xaxis28": {
         "anchor": "y28",
         "domain": [
          0.416,
          0.584
         ],
         "range": [
          1947,
          2020
         ]
        },
        "xaxis29": {
         "anchor": "y29",
         "domain": [
          0.624,
          0.792
         ],
         "range": [
          1947,
          2020
         ]
        },
        "xaxis3": {
         "anchor": "y3",
         "domain": [
          0.416,
          0.584
         ],
         "range": [
          1947,
          2020
         ]
        },
        "xaxis30": {
         "anchor": "y30",
         "domain": [
          0.832,
          1
         ],
         "range": [
          1947,
          2020
         ]
        },
        "xaxis31": {
         "anchor": "y31",
         "domain": [
          0,
          0.16799999999999998
         ],
         "range": [
          1947,
          2020
         ]
        },
        "xaxis32": {
         "anchor": "y32",
         "domain": [
          0.208,
          0.376
         ],
         "range": [
          1947,
          2020
         ]
        },
        "xaxis33": {
         "anchor": "y33",
         "domain": [
          0.416,
          0.584
         ],
         "range": [
          1947,
          2020
         ]
        },
        "xaxis34": {
         "anchor": "y34",
         "domain": [
          0.624,
          0.792
         ],
         "range": [
          1947,
          2020
         ]
        },
        "xaxis35": {
         "anchor": "y35",
         "domain": [
          0.832,
          1
         ],
         "range": [
          1947,
          2020
         ]
        },
        "xaxis36": {
         "anchor": "y36",
         "domain": [
          0,
          0.16799999999999998
         ],
         "range": [
          1947,
          2020
         ]
        },
        "xaxis37": {
         "anchor": "y37",
         "domain": [
          0.208,
          0.376
         ],
         "range": [
          1947,
          2020
         ]
        },
        "xaxis38": {
         "anchor": "y38",
         "domain": [
          0.416,
          0.584
         ],
         "range": [
          1947,
          2020
         ]
        },
        "xaxis39": {
         "anchor": "y39",
         "domain": [
          0.624,
          0.792
         ],
         "range": [
          1947,
          2020
         ]
        },
        "xaxis4": {
         "anchor": "y4",
         "domain": [
          0.624,
          0.792
         ],
         "range": [
          1947,
          2020
         ]
        },
        "xaxis40": {
         "anchor": "y40",
         "domain": [
          0.832,
          1
         ],
         "range": [
          1947,
          2020
         ]
        },
        "xaxis41": {
         "anchor": "y41",
         "domain": [
          0,
          0.16799999999999998
         ],
         "range": [
          1947,
          2020
         ]
        },
        "xaxis42": {
         "anchor": "y42",
         "domain": [
          0.208,
          0.376
         ],
         "range": [
          1947,
          2020
         ]
        },
        "xaxis43": {
         "anchor": "y43",
         "domain": [
          0.416,
          0.584
         ],
         "range": [
          1947,
          2020
         ]
        },
        "xaxis44": {
         "anchor": "y44",
         "domain": [
          0.624,
          0.792
         ],
         "range": [
          1947,
          2020
         ]
        },
        "xaxis45": {
         "anchor": "y45",
         "domain": [
          0.832,
          1
         ],
         "range": [
          1947,
          2020
         ]
        },
        "xaxis46": {
         "anchor": "y46",
         "domain": [
          0,
          0.16799999999999998
         ],
         "range": [
          1947,
          2020
         ]
        },
        "xaxis47": {
         "anchor": "y47",
         "domain": [
          0.208,
          0.376
         ],
         "range": [
          1947,
          2020
         ]
        },
        "xaxis48": {
         "anchor": "y48",
         "domain": [
          0.416,
          0.584
         ],
         "range": [
          1947,
          2020
         ]
        },
        "xaxis49": {
         "anchor": "y49",
         "domain": [
          0.624,
          0.792
         ],
         "range": [
          1947,
          2020
         ]
        },
        "xaxis5": {
         "anchor": "y5",
         "domain": [
          0.832,
          1
         ],
         "range": [
          1947,
          2020
         ]
        },
        "xaxis50": {
         "anchor": "y50",
         "domain": [
          0.832,
          1
         ],
         "range": [
          1947,
          2020
         ]
        },
        "xaxis51": {
         "anchor": "y51",
         "domain": [
          0,
          0.16799999999999998
         ],
         "range": [
          1947,
          2020
         ]
        },
        "xaxis52": {
         "anchor": "y52",
         "domain": [
          0.208,
          0.376
         ],
         "range": [
          1947,
          2020
         ]
        },
        "xaxis53": {
         "anchor": "y53",
         "domain": [
          0.416,
          0.584
         ],
         "range": [
          1947,
          2020
         ]
        },
        "xaxis54": {
         "anchor": "y54",
         "domain": [
          0.624,
          0.792
         ],
         "range": [
          1947,
          2020
         ]
        },
        "xaxis55": {
         "anchor": "y55",
         "domain": [
          0.832,
          1
         ],
         "range": [
          1947,
          2020
         ]
        },
        "xaxis56": {
         "anchor": "y56",
         "domain": [
          0,
          0.16799999999999998
         ],
         "range": [
          1947,
          2020
         ]
        },
        "xaxis57": {
         "anchor": "y57",
         "domain": [
          0.208,
          0.376
         ],
         "range": [
          1947,
          2020
         ]
        },
        "xaxis58": {
         "anchor": "y58",
         "domain": [
          0.416,
          0.584
         ],
         "range": [
          1947,
          2020
         ]
        },
        "xaxis59": {
         "anchor": "y59",
         "domain": [
          0.624,
          0.792
         ]
        },
        "xaxis6": {
         "anchor": "y6",
         "domain": [
          0,
          0.16799999999999998
         ],
         "range": [
          1947,
          2020
         ]
        },
        "xaxis60": {
         "anchor": "y60",
         "domain": [
          0.832,
          1
         ]
        },
        "xaxis7": {
         "anchor": "y7",
         "domain": [
          0.208,
          0.376
         ],
         "range": [
          1947,
          2020
         ]
        },
        "xaxis8": {
         "anchor": "y8",
         "domain": [
          0.416,
          0.584
         ],
         "range": [
          1947,
          2020
         ]
        },
        "xaxis9": {
         "anchor": "y9",
         "domain": [
          0.624,
          0.792
         ],
         "range": [
          1947,
          2020
         ]
        },
        "yaxis": {
         "anchor": "x",
         "domain": [
          0.9548611111111112,
          1
         ],
         "range": [
          -0.1,
          4
         ]
        },
        "yaxis10": {
         "anchor": "x10",
         "domain": [
          0.8680555555555556,
          0.9131944444444444
         ],
         "range": [
          -0.1,
          4
         ]
        },
        "yaxis11": {
         "anchor": "x11",
         "domain": [
          0.78125,
          0.8263888888888888
         ],
         "range": [
          -0.1,
          4
         ]
        },
        "yaxis12": {
         "anchor": "x12",
         "domain": [
          0.78125,
          0.8263888888888888
         ],
         "range": [
          -0.1,
          4
         ]
        },
        "yaxis13": {
         "anchor": "x13",
         "domain": [
          0.78125,
          0.8263888888888888
         ],
         "range": [
          -0.1,
          4
         ]
        },
        "yaxis14": {
         "anchor": "x14",
         "domain": [
          0.78125,
          0.8263888888888888
         ],
         "range": [
          -0.1,
          4
         ]
        },
        "yaxis15": {
         "anchor": "x15",
         "domain": [
          0.78125,
          0.8263888888888888
         ],
         "range": [
          -0.1,
          4
         ]
        },
        "yaxis16": {
         "anchor": "x16",
         "domain": [
          0.6944444444444444,
          0.7395833333333333
         ],
         "range": [
          -0.1,
          4
         ]
        },
        "yaxis17": {
         "anchor": "x17",
         "domain": [
          0.6944444444444444,
          0.7395833333333333
         ],
         "range": [
          -0.1,
          4
         ]
        },
        "yaxis18": {
         "anchor": "x18",
         "domain": [
          0.6944444444444444,
          0.7395833333333333
         ],
         "range": [
          -0.1,
          4
         ]
        },
        "yaxis19": {
         "anchor": "x19",
         "domain": [
          0.6944444444444444,
          0.7395833333333333
         ],
         "range": [
          -0.1,
          4
         ]
        },
        "yaxis2": {
         "anchor": "x2",
         "domain": [
          0.9548611111111112,
          1
         ],
         "range": [
          -0.1,
          4
         ]
        },
        "yaxis20": {
         "anchor": "x20",
         "domain": [
          0.6944444444444444,
          0.7395833333333333
         ],
         "range": [
          -0.1,
          4
         ]
        },
        "yaxis21": {
         "anchor": "x21",
         "domain": [
          0.6076388888888888,
          0.6527777777777777
         ],
         "range": [
          -0.1,
          4
         ]
        },
        "yaxis22": {
         "anchor": "x22",
         "domain": [
          0.6076388888888888,
          0.6527777777777777
         ],
         "range": [
          -0.1,
          4
         ]
        },
        "yaxis23": {
         "anchor": "x23",
         "domain": [
          0.6076388888888888,
          0.6527777777777777
         ],
         "range": [
          -0.1,
          4
         ]
        },
        "yaxis24": {
         "anchor": "x24",
         "domain": [
          0.6076388888888888,
          0.6527777777777777
         ],
         "range": [
          -0.1,
          4
         ]
        },
        "yaxis25": {
         "anchor": "x25",
         "domain": [
          0.6076388888888888,
          0.6527777777777777
         ],
         "range": [
          -0.1,
          4
         ]
        },
        "yaxis26": {
         "anchor": "x26",
         "domain": [
          0.5208333333333334,
          0.5659722222222223
         ],
         "range": [
          -0.1,
          4
         ]
        },
        "yaxis27": {
         "anchor": "x27",
         "domain": [
          0.5208333333333334,
          0.5659722222222223
         ],
         "range": [
          -0.1,
          4
         ]
        },
        "yaxis28": {
         "anchor": "x28",
         "domain": [
          0.5208333333333334,
          0.5659722222222223
         ],
         "range": [
          -0.1,
          4
         ]
        },
        "yaxis29": {
         "anchor": "x29",
         "domain": [
          0.5208333333333334,
          0.5659722222222223
         ],
         "range": [
          -0.1,
          4
         ]
        },
        "yaxis3": {
         "anchor": "x3",
         "domain": [
          0.9548611111111112,
          1
         ],
         "range": [
          -0.1,
          4
         ]
        },
        "yaxis30": {
         "anchor": "x30",
         "domain": [
          0.5208333333333334,
          0.5659722222222223
         ],
         "range": [
          -0.1,
          4
         ]
        },
        "yaxis31": {
         "anchor": "x31",
         "domain": [
          0.4340277777777778,
          0.4791666666666667
         ],
         "range": [
          -0.1,
          4
         ]
        },
        "yaxis32": {
         "anchor": "x32",
         "domain": [
          0.4340277777777778,
          0.4791666666666667
         ],
         "range": [
          -0.1,
          4
         ]
        },
        "yaxis33": {
         "anchor": "x33",
         "domain": [
          0.4340277777777778,
          0.4791666666666667
         ],
         "range": [
          -0.1,
          4
         ]
        },
        "yaxis34": {
         "anchor": "x34",
         "domain": [
          0.4340277777777778,
          0.4791666666666667
         ],
         "range": [
          -0.1,
          4
         ]
        },
        "yaxis35": {
         "anchor": "x35",
         "domain": [
          0.4340277777777778,
          0.4791666666666667
         ],
         "range": [
          -0.1,
          4
         ]
        },
        "yaxis36": {
         "anchor": "x36",
         "domain": [
          0.3472222222222222,
          0.3923611111111111
         ],
         "range": [
          -0.1,
          4
         ]
        },
        "yaxis37": {
         "anchor": "x37",
         "domain": [
          0.3472222222222222,
          0.3923611111111111
         ],
         "range": [
          -0.1,
          4
         ]
        },
        "yaxis38": {
         "anchor": "x38",
         "domain": [
          0.3472222222222222,
          0.3923611111111111
         ],
         "range": [
          -0.1,
          4
         ]
        },
        "yaxis39": {
         "anchor": "x39",
         "domain": [
          0.3472222222222222,
          0.3923611111111111
         ],
         "range": [
          -0.1,
          4
         ]
        },
        "yaxis4": {
         "anchor": "x4",
         "domain": [
          0.9548611111111112,
          1
         ],
         "range": [
          -0.1,
          4
         ]
        },
        "yaxis40": {
         "anchor": "x40",
         "domain": [
          0.3472222222222222,
          0.3923611111111111
         ],
         "range": [
          -0.1,
          4
         ]
        },
        "yaxis41": {
         "anchor": "x41",
         "domain": [
          0.2604166666666667,
          0.3055555555555556
         ],
         "range": [
          -0.1,
          4
         ]
        },
        "yaxis42": {
         "anchor": "x42",
         "domain": [
          0.2604166666666667,
          0.3055555555555556
         ],
         "range": [
          -0.1,
          4
         ]
        },
        "yaxis43": {
         "anchor": "x43",
         "domain": [
          0.2604166666666667,
          0.3055555555555556
         ],
         "range": [
          -0.1,
          4
         ]
        },
        "yaxis44": {
         "anchor": "x44",
         "domain": [
          0.2604166666666667,
          0.3055555555555556
         ],
         "range": [
          -0.1,
          4
         ]
        },
        "yaxis45": {
         "anchor": "x45",
         "domain": [
          0.2604166666666667,
          0.3055555555555556
         ],
         "range": [
          -0.1,
          4
         ]
        },
        "yaxis46": {
         "anchor": "x46",
         "domain": [
          0.1736111111111111,
          0.21875
         ],
         "range": [
          -0.1,
          4
         ]
        },
        "yaxis47": {
         "anchor": "x47",
         "domain": [
          0.1736111111111111,
          0.21875
         ],
         "range": [
          -0.1,
          4
         ]
        },
        "yaxis48": {
         "anchor": "x48",
         "domain": [
          0.1736111111111111,
          0.21875
         ],
         "range": [
          -0.1,
          4
         ]
        },
        "yaxis49": {
         "anchor": "x49",
         "domain": [
          0.1736111111111111,
          0.21875
         ],
         "range": [
          -0.1,
          4
         ]
        },
        "yaxis5": {
         "anchor": "x5",
         "domain": [
          0.9548611111111112,
          1
         ],
         "range": [
          -0.1,
          4
         ]
        },
        "yaxis50": {
         "anchor": "x50",
         "domain": [
          0.1736111111111111,
          0.21875
         ],
         "range": [
          -0.1,
          4
         ]
        },
        "yaxis51": {
         "anchor": "x51",
         "domain": [
          0.08680555555555555,
          0.13194444444444445
         ],
         "range": [
          -0.1,
          4
         ]
        },
        "yaxis52": {
         "anchor": "x52",
         "domain": [
          0.08680555555555555,
          0.13194444444444445
         ],
         "range": [
          -0.1,
          4
         ]
        },
        "yaxis53": {
         "anchor": "x53",
         "domain": [
          0.08680555555555555,
          0.13194444444444445
         ],
         "range": [
          -0.1,
          4
         ]
        },
        "yaxis54": {
         "anchor": "x54",
         "domain": [
          0.08680555555555555,
          0.13194444444444445
         ],
         "range": [
          -0.1,
          4
         ]
        },
        "yaxis55": {
         "anchor": "x55",
         "domain": [
          0.08680555555555555,
          0.13194444444444445
         ],
         "range": [
          -0.1,
          4
         ]
        },
        "yaxis56": {
         "anchor": "x56",
         "domain": [
          0,
          0.045138888888888895
         ],
         "range": [
          -0.1,
          4
         ]
        },
        "yaxis57": {
         "anchor": "x57",
         "domain": [
          0,
          0.045138888888888895
         ],
         "range": [
          -0.1,
          4
         ]
        },
        "yaxis58": {
         "anchor": "x58",
         "domain": [
          0,
          0.045138888888888895
         ],
         "range": [
          -0.1,
          4
         ]
        },
        "yaxis59": {
         "anchor": "x59",
         "domain": [
          0,
          0.045138888888888895
         ]
        },
        "yaxis6": {
         "anchor": "x6",
         "domain": [
          0.8680555555555556,
          0.9131944444444444
         ],
         "range": [
          -0.1,
          4
         ]
        },
        "yaxis60": {
         "anchor": "x60",
         "domain": [
          0,
          0.045138888888888895
         ]
        },
        "yaxis7": {
         "anchor": "x7",
         "domain": [
          0.8680555555555556,
          0.9131944444444444
         ],
         "range": [
          -0.1,
          4
         ]
        },
        "yaxis8": {
         "anchor": "x8",
         "domain": [
          0.8680555555555556,
          0.9131944444444444
         ],
         "range": [
          -0.1,
          4
         ]
        },
        "yaxis9": {
         "anchor": "x9",
         "domain": [
          0.8680555555555556,
          0.9131944444444444
         ],
         "range": [
          -0.1,
          4
         ]
        }
       }
      },
      "text/html": [
       "<div>                            <div id=\"e2f0bb11-38bd-4fe5-b680-256d683d2848\" class=\"plotly-graph-div\" style=\"height:2400px; width:1000px;\"></div>            <script type=\"text/javascript\">                require([\"plotly\"], function(Plotly) {                    window.PLOTLYENV=window.PLOTLYENV || {};                                    if (document.getElementById(\"e2f0bb11-38bd-4fe5-b680-256d683d2848\")) {                    Plotly.newPlot(                        \"e2f0bb11-38bd-4fe5-b680-256d683d2848\",                        [{\"marker\": {\"color\": \"rgb(55, 83, 109)\"}, \"mode\": \"lines+markers\", \"showlegend\": false, \"type\": \"scatter\", \"x\": [1896, 1900, 1904, 1906, 1908, 1912, 1920, 1924, 1928, 1932, 1936, 1948, 1952, 1956, 1960, 1964, 1968, 1972, 1976, 1984, 1988, 1992, 1996, 2000, 2004, 2008, 2012, 2016], \"xaxis\": \"x\", \"y\": [null, 0.8928571428571428, 2.681286549707602, null, null, null, 2.381954887218045, 2.390993265993266, 1.5909090909090908, 1.281081081081081, 1.3691838291380625, 1.1553273427471116, 0.7342747111681643, 1.2277170787809086, 0.9676884838442419, 1.2165963431786215, 1.3390543305296658, 1.1387163561076605, 0.6856205576817933, 0.9958288873799592, 0.8315581854043392, 1.1636047666335652, 0.9543446244477173, 1.0036890645586298, 0.8813385826771654, 1.0818948213568849, 1.1160780257130192, 1.0257298795806982], \"yaxis\": \"y\"}, {\"marker\": {\"color\": \"#222\"}, \"mode\": \"lines\", \"showlegend\": false, \"type\": \"scatter\", \"x\": [1896, 2016], \"xaxis\": \"x\", \"y\": [1, 1], \"yaxis\": \"y\"}, {\"marker\": {\"color\": \"rgb(55, 83, 109)\"}, \"mode\": \"lines+markers\", \"showlegend\": false, \"type\": \"scatter\", \"x\": [1920, 1948, 1952, 1956, 1960, 1964, 1968, 1972, 1976, 1980, 1984, 1988, 1992, 1996, 2000, 2004, 2008, 2012, 2016], \"xaxis\": \"x2\", \"y\": [null, 0.0, 0.0, 0.0, 0.0, 0.0, 0.0, 0.0, 0.0, 0.0, 0.0, 0.0, 0.0, 0.9066666666666666, 0.717391304347826, 0.4084033613445378, 0.8310077519379845, 0.7481146304675715, 0.6199677938808374], \"yaxis\": \"y2\"}, {\"marker\": {\"color\": \"#222\"}, \"mode\": \"lines\", \"showlegend\": false, \"type\": \"scatter\", \"x\": [1896, 2016], \"xaxis\": \"x2\", \"y\": [1, 1], \"yaxis\": \"y2\"}, {\"marker\": {\"color\": \"rgb(55, 83, 109)\"}, \"mode\": \"lines+markers\", \"showlegend\": false, \"type\": \"scatter\", \"x\": [1896, 1900, 1904, 1906, 1920, 1924, 1928, 1932, 1936, 1948, 1952, 1956, 1960, 1964, 1968, 1972, 1976, 1980, 1984, 1988, 1992, 1996, 2000, 2004, 2008, 2012, 2016], \"xaxis\": \"x3\", \"y\": [null, null, null, null, 0.0, 0.0, 0.0, 1.2999999999999998, 0.0, 3.205128205128205, 2.9454545454545458, 2.589572192513369, 1.5517241379310347, 2.3625000000000003, 2.196078431372549, 3.6206896551724137, 0.0, 0.9523809523809523, 0.9668949771689498, 1.076923076923077, 1.1663879598662208, 1.0353439462538336, 0.8236079328756674, 1.0702970297029704, 1.085427135678392, 1.2577639751552796, 0.8880936890045543], \"yaxis\": \"y3\"}, {\"marker\": {\"color\": \"#222\"}, \"mode\": \"lines\", \"showlegend\": false, \"type\": \"scatter\", \"x\": [1896, 2016], \"xaxis\": \"x3\", \"y\": [1, 1], \"yaxis\": \"y3\"}, {\"marker\": {\"color\": \"rgb(55, 83, 109)\"}, \"mode\": \"lines+markers\", \"showlegend\": false, \"type\": \"scatter\", \"x\": [1896, 1900, 1904, 1906, 1908, 1912, 1928, 1932, 1936, 1952, 1956, 1960, 1964, 1992, 1996, 2000, 2004, 2008, 2012, 2016], \"xaxis\": \"x4\", \"y\": [null, null, null, null, 3.727272727272727, 4.269230769230769, 1.5526315789473684, 1.3425925925925928, 1.2666516651665167, 0.80078125, 2.1410256410256414, 1.9556541019955653, 0.9251887439945092, 1.1653295579675949, 0.9137254901960784, 0.8902059266700152, 1.1042567721374914, 1.0075969612155138, 0.8532442216652742, 1.0206185567010309], \"yaxis\": \"y4\"}, {\"marker\": {\"color\": \"#222\"}, \"mode\": \"lines\", \"showlegend\": false, \"type\": \"scatter\", \"x\": [1896, 2016], \"xaxis\": \"x4\", \"y\": [1, 1], \"yaxis\": \"y4\"}, {\"marker\": {\"color\": \"rgb(55, 83, 109)\"}, \"mode\": \"lines+markers\", \"showlegend\": false, \"type\": \"scatter\", \"x\": [1896, 1900, 1904, 1906, 1908, 1912, 1920, 1924, 1928, 1932, 1936, 1948, 1952, 1956, 1960, 1964, 1968, 1972, 1976, 1980, 1984, 1988, 1992, 1996, 2000, 2004, 2008, 2012, 2016], \"xaxis\": \"x5\", \"y\": [null, 0.6315789473684211, null, 1.4000000000000001, null, 15.866666666666667, 2.7142857142857144, 0.3404074702886248, 0.0, 0.0, 0.0, 1.0675675675675675, 0.4648956356736243, 0.6196581196581197, 0.0, 0.92, 0.4301075268817204, 0.0, 0.8879310344827587, 0.8093645484949833, 0.582857142857143, 0.44932432432432434, 0.7687074829931971, 1.3028322440087146, 0.896, 1.321533923303835, 0.4032187907785994, 0.8556338028169014, 0.6297648605228567], \"yaxis\": \"y5\"}, {\"marker\": {\"color\": \"#222\"}, \"mode\": \"lines\", \"showlegend\": false, \"type\": \"scatter\", \"x\": [1896, 2016], \"xaxis\": \"x5\", \"y\": [1, 1], \"yaxis\": \"y5\"}, {\"marker\": {\"color\": \"rgb(55, 83, 109)\"}, \"mode\": \"lines+markers\", \"showlegend\": false, \"type\": \"scatter\", \"x\": [1984, 1988, 1992, 1996, 2000, 2004, 2008, 2012, 2016], \"xaxis\": \"x6\", \"y\": [0.8634538152610441, 1.2231182795698925, 1.2296062992125987, 0.899672131147541, 0.8980506822612087, 0.9820512820512821, 1.1843796342066237, 1.0259917920656634, 0.9468012633925806], \"yaxis\": \"y6\"}, {\"marker\": {\"color\": \"#222\"}, \"mode\": \"lines\", \"showlegend\": false, \"type\": \"scatter\", \"x\": [1896, 2016], \"xaxis\": \"x6\", \"y\": [1, 1], \"yaxis\": \"y6\"}, {\"marker\": {\"color\": \"rgb(55, 83, 109)\"}, \"mode\": \"lines+markers\", \"showlegend\": false, \"type\": \"scatter\", \"x\": [1896, 1900, 1904, 1906, 1908, 1912, 1920, 1924, 1928, 1932, 1936, 1948, 1952, 1956, 1960, 1964, 1968, 1972, 1976, 1980, 1984, 1988, 1992, 1996, 2000, 2004, 2008, 2012, 2016], \"xaxis\": \"x7\", \"y\": [null, 5.942857142857142, null, null, 1.336606655755592, 4.009756097560976, 2.7209302325581395, 2.2436974789915967, 2.3812316715542523, 1.480968858131488, 0.803088803088803, 1.310789049919485, 2.1239669421487606, 1.4152298850574714, 2.216520650813517, 1.2878787878787878, 1.0384615384615385, 0.7675675675675676, 0.0, 0.6257142857142857, 1.0401234567901234, 0.5952380952380952, 0.7257433489827856, 0.1724137931034483, 0.8582502768549279, 1.1106796116504856, 0.8905334566759172, 0.78562164165277, 0.8708272859216256], \"yaxis\": \"y7\"}, {\"marker\": {\"color\": \"#222\"}, \"mode\": \"lines\", \"showlegend\": false, \"type\": \"scatter\", \"x\": [1896, 2016], \"xaxis\": \"x7\", \"y\": [1, 1], \"yaxis\": \"y7\"}, {\"marker\": {\"color\": \"rgb(55, 83, 109)\"}, \"mode\": \"lines+markers\", \"showlegend\": false, \"type\": \"scatter\", \"x\": [1920, 1924, 1928, 1932, 1936, 1952, 1956, 1960, 1964, 1968, 1972, 1976, 1984, 1988, 1992, 1996, 2000, 2004, 2008, 2012, 2016], \"xaxis\": \"x8\", \"y\": [null, null, 8.0, 0.4845679012345679, 0.5789473684210527, 0.0, 0.0, 0.50625, 0.4039408866995074, 0.28500000000000003, 0.35249042145593873, 0.14791666666666667, 0.4496021220159151, 0.8528428093645485, 1.2290809327846366, 1.0268456375838926, 1.706951871657754, 0.81437125748503, 0.9146005509641874, 0.9102639296187682, 0.8380237648530332], \"yaxis\": \"y8\"}, {\"marker\": {\"color\": \"#222\"}, \"mode\": \"lines\", \"showlegend\": false, \"type\": \"scatter\", \"x\": [1896, 2016], \"xaxis\": \"x8\", \"y\": [1, 1], \"yaxis\": \"y8\"}, {\"marker\": {\"color\": \"rgb(55, 83, 109)\"}, \"mode\": \"lines+markers\", \"showlegend\": false, \"type\": \"scatter\", \"x\": [1900, 1904, 1906, 1908, 1912, 1920, 1924, 1928, 1932, 1936, 1948, 1952, 1956, 1960, 1964, 1968, 1972, 1976, 1984, 1988, 1992, 1996, 2000, 2004, 2008, 2012, 2016], \"xaxis\": \"x9\", \"y\": [null, null, null, null, null, null, null, 2.6285714285714286, 1.125, 1.1975308641975309, 1.5119047619047619, 0.0, 1.0666666666666667, 0.0, 0.0, 2.9785714285714286, 2.08, 1.9758064516129032, 1.0053904204527953, 1.2495238095238095, 0.8975659229208924, 1.0033112582781458, 1.0208333333333335, 0.9924242424242425, 0.7579908675799087, 0.9454545454545454, 1.185792349726776], \"yaxis\": \"y9\"}, {\"marker\": {\"color\": \"#222\"}, \"mode\": \"lines\", \"showlegend\": false, \"type\": \"scatter\", \"x\": [1896, 2016], \"xaxis\": \"x9\", \"y\": [1, 1], \"yaxis\": \"y9\"}, {\"marker\": {\"color\": \"rgb(55, 83, 109)\"}, \"mode\": \"lines+markers\", \"showlegend\": false, \"type\": \"scatter\", \"x\": [1900, 1906, 1908, 1912, 1920, 1924, 1928, 1932, 1936, 1948, 1952, 1956, 1960, 1964, 1968, 1972, 1976, 1980, 1984, 1988, 1992, 1996, 2000, 2004, 2008, 2012, 2016], \"xaxis\": \"x10\", \"y\": [0.0, null, null, null, 0.0, 0.0, 0.4833333333333333, null, 0.5648148148148148, 0.6605222734254992, 0.5021739130434782, 0.0, 0.47058823529411764, 0.5656565656565656, 0.0, 2.304526748971193, 1.1965811965811968, 0.5578947368421052, 0.7282608695652174, 0.440766550522648, 0.631578947368421, 1.1538461538461537, 0.9809782608695652, 0.6958183990442054, 1.0837278106508876, 0.6769045468232461, 0.7826747720364742], \"yaxis\": \"y10\"}, {\"marker\": {\"color\": \"#222\"}, \"mode\": \"lines\", \"showlegend\": false, \"type\": \"scatter\", \"x\": [1896, 2016], \"xaxis\": \"x10\", \"y\": [1, 1], \"yaxis\": \"y10\"}, {\"marker\": {\"color\": \"rgb(55, 83, 109)\"}, \"mode\": \"lines+markers\", \"showlegend\": false, \"type\": \"scatter\", \"x\": [1900, 1920, 1928, 1932, 1948, 1952, 1960, 1976, 1980, 1984, 1988, 1992, 1996, 2000, 2004, 2008, 2012, 2016], \"xaxis\": \"x11\", \"y\": [null, null, null, null, null, null, 0.0, 0.0, 0.0, 0.0, 0.0, 1.1253333333333333, 1.0140350877192983, 1.1116883116883118, 0.6820143884892086, 0.524074074074074, 1.5795454545454546, 1.1365693130399013], \"yaxis\": \"y11\"}, {\"marker\": {\"color\": \"#222\"}, \"mode\": \"lines\", \"showlegend\": false, \"type\": \"scatter\", \"x\": [1896, 2016], \"xaxis\": \"x11\", \"y\": [1, 1], \"yaxis\": \"y11\"}, {\"marker\": {\"color\": \"rgb(55, 83, 109)\"}, \"mode\": \"lines+markers\", \"showlegend\": false, \"type\": \"scatter\", \"x\": [1908, 1912, 1996, 2000, 2004, 2008, 2012, 2016], \"xaxis\": \"x12\", \"y\": [null, null, 0.7530572838446685, 0.9278350515463917, 0.9897575964493002, 0.9306854580397181, 1.0600505689001263, 1.0545454545454545], \"yaxis\": \"y12\"}, {\"marker\": {\"color\": \"#222\"}, \"mode\": \"lines\", \"showlegend\": false, \"type\": \"scatter\", \"x\": [1896, 2016], \"xaxis\": \"x12\", \"y\": [1, 1], \"yaxis\": \"y12\"}, {\"marker\": {\"color\": \"rgb(55, 83, 109)\"}, \"mode\": \"lines+markers\", \"showlegend\": false, \"type\": \"scatter\", \"x\": [1900, 1906, 1908, 1912, 1920, 1924, 1928, 1932, 1936, 1948, 1952, 1960, 1964, 1968, 1972, 1976, 1980, 1984, 1988, 1992, 1996, 2000, 2004, 2008, 2012, 2016], \"xaxis\": \"x13\", \"y\": [null, null, null, null, 0.0, 1.7878787878787876, 1.3142292490118577, 0.7666666666666666, 2.3109243697478994, 2.191176470588235, 3.2, 2.4444444444444446, 1.875, 1.2228571428571429, 0.8206896551724139, 1.2000000000000002, 2.0833333333333335, 2.308641975308642, 1.5555555555555554, 1.0255102040816326, 1.3017429193899783, 1.65, 1.7105263157894737, 1.8137755102040816, 1.3830779480346436, 1.097222222222222], \"yaxis\": \"y13\"}, {\"marker\": {\"color\": \"#222\"}, \"mode\": \"lines\", \"showlegend\": false, \"type\": \"scatter\", \"x\": [1896, 2016], \"xaxis\": \"x13\", \"y\": [1, 1], \"yaxis\": \"y13\"}, {\"marker\": {\"color\": \"rgb(55, 83, 109)\"}, \"mode\": \"lines+markers\", \"showlegend\": false, \"type\": \"scatter\", \"x\": [1924, 1928, 1932, 1936, 1948, 1952, 1956, 1960, 1964, 1968, 1972, 1976, 1980, 1988, 1992, 1996, 2000, 2004, 2008, 2012, 2016], \"xaxis\": \"x14\", \"y\": [0.0, 1.2077922077922076, 1.8888888888888888, 2.823529411764706, 0.0, 0.0, 0.7111111111111111, 1.2758620689655173, 1.6, 0.8441971383147854, 0.7268170426065161, 0.3194444444444445, 0.6891891891891891, 0.29791666666666666, 0.42948717948717946, 0.9954751131221719, 1.1514778325123152, 2.1903225806451614, 0.5654565456545655, 1.356589147286822, 1.7242105263157896], \"yaxis\": \"y14\"}, {\"marker\": {\"color\": \"#222\"}, \"mode\": \"lines\", \"showlegend\": false, \"type\": \"scatter\", \"x\": [1896, 2016], \"xaxis\": \"x14\", \"y\": [1, 1], \"yaxis\": \"y14\"}, {\"marker\": {\"color\": \"rgb(55, 83, 109)\"}, \"mode\": \"lines+markers\", \"showlegend\": false, \"type\": \"scatter\", \"x\": [1924, 1928, 1932, 1936, 1948, 1952, 1956, 1960, 1964, 1968, 1972, 1988, 1992, 1996, 2000, 2004, 2008, 2012, 2016], \"xaxis\": \"x15\", \"y\": [null, null, null, 7.285714285714285, 2.5844155844155843, 0.0, 0.0, 0.0, 0.0, 0.0, 0.0, 2.3600000000000003, 0.0, 0.0, 1.5888888888888888, 1.6521739130434783, 0.830188679245283, 0.8562500000000001, 1.4333333333333333], \"yaxis\": \"y15\"}, {\"marker\": {\"color\": \"#222\"}, \"mode\": \"lines\", \"showlegend\": false, \"type\": \"scatter\", \"x\": [1896, 2016], \"xaxis\": \"x15\", \"y\": [1, 1], \"yaxis\": \"y15\"}, {\"marker\": {\"color\": \"rgb(55, 83, 109)\"}, \"mode\": \"lines+markers\", \"showlegend\": false, \"type\": \"scatter\", \"x\": [1948, 1952, 1956, 1964, 1968, 1972, 1976, 1984, 1988, 1992, 1996, 2000, 2004, 2008, 2012, 2016], \"xaxis\": \"x16\", \"y\": [0.0, 0.0, null, 0.0, 0.0, 0.0, 1.0416666666666667, 0.6591337099811676, 0.6645359848484849, 1.327991452991453, 1.2375765827093261, 1.0414420485175202, 0.8873949579831933, 1.1206896551724137, 0.5636070853462157, 0.9951923076923076], \"yaxis\": \"y16\"}, {\"marker\": {\"color\": \"#222\"}, \"mode\": \"lines\", \"showlegend\": false, \"type\": \"scatter\", \"x\": [1896, 2016], \"xaxis\": \"x16\", \"y\": [1, 1], \"yaxis\": \"y16\"}, {\"marker\": {\"color\": \"rgb(55, 83, 109)\"}, \"mode\": \"lines+markers\", \"showlegend\": false, \"type\": \"scatter\", \"x\": [1996, 2000, 2004, 2008, 2012, 2016], \"xaxis\": \"x17\", \"y\": [1.1815856777493605, 1.0339660339660341, 1.1335968379446641, 1.0055172413793103, 1.0905642484589855, 0.4755244755244755], \"yaxis\": \"y17\"}, {\"marker\": {\"color\": \"#222\"}, \"mode\": \"lines\", \"showlegend\": false, \"type\": \"scatter\", \"x\": [1896, 2016], \"xaxis\": \"x17\", \"y\": [1, 1], \"yaxis\": \"y17\"}, {\"marker\": {\"color\": \"rgb(55, 83, 109)\"}, \"mode\": \"lines+markers\", \"showlegend\": false, \"type\": \"scatter\", \"x\": [1920, 1924, 1928, 1932, 1936, 1952, 1956, 1960, 1964, 1968, 1972, 1976, 1984, 1988, 1992, 1996, 2000, 2004, 2008, 2012, 2016], \"xaxis\": \"x18\", \"y\": [0.0, 0.0, 0.0, 0.0, null, 4.666666666666667, 0.0, 0.0, 1.6, 0.0, 0.0, 0.0, 0.0, 0.3990384615384615, 1.276190476190476, 1.0919540229885059, 0.525, 0.8835820895522388, 0.48238482384823844, 0.9044715447154471, 1.2285223367697595], \"yaxis\": \"y18\"}, {\"marker\": {\"color\": \"#222\"}, \"mode\": \"lines\", \"showlegend\": false, \"type\": \"scatter\", \"x\": [1896, 2016], \"xaxis\": \"x18\", \"y\": [1, 1], \"yaxis\": \"y18\"}, {\"marker\": {\"color\": \"rgb(55, 83, 109)\"}, \"mode\": \"lines+markers\", \"showlegend\": false, \"type\": \"scatter\", \"x\": [1896, 1900, 1904, 1906, 1908, 1912, 1924, 1928, 1932, 1936, 1948, 1952, 1956, 1960, 1964, 1968, 1972, 1976, 1980, 1988, 1992, 1996, 2000, 2004, 2008, 2012, 2016], \"xaxis\": \"x19\", \"y\": [null, null, null, null, null, null, 0.0, 0.0, 1.8125, 2.131578947368421, 1.128747795414462, 2.6666666666666665, 1.554, 0.6490299823633157, 1.2926136363636362, 0.9785156249999999, 0.8838095238095238, 0.9417989417989417, 0.33588761174968074, 0.9494949494949496, 1.1085568326947637, 0.9681818181818183, 1.062233589087809, 0.9562091503267973, 0.6180722891566266, 0.8587570621468927, 1.5555555555555558], \"yaxis\": \"y19\"}, {\"marker\": {\"color\": \"#222\"}, \"mode\": \"lines\", \"showlegend\": false, \"type\": \"scatter\", \"x\": [1896, 2016], \"xaxis\": \"x19\", \"y\": [1, 1], \"yaxis\": \"y19\"}, {\"marker\": {\"color\": \"rgb(55, 83, 109)\"}, \"mode\": \"lines+markers\", \"showlegend\": false, \"type\": \"scatter\", \"x\": [1900, 1906, 1908, 1912, 1920, 1924, 1928, 1932, 1936, 1948, 1952, 1956, 1960, 1964, 1968, 1972, 1976, 1980, 1984, 1988, 1992, 1996, 2000, 2004, 2008, 2012, 2016], \"xaxis\": \"x20\", \"y\": [null, null, 2.3333333333333335, 1.225672877846791, 1.2698412698412698, 0.843501326259947, 0.9230769230769231, 0.0, 0.0, 0.20709382151029748, 0.26342710997442453, 0.76984126984127, 1.175438596491228, 0.0, 0.0, 1.1196581196581197, 1.3647058823529412, 0.5253623188405796, 0.8518971848225214, 0.5555555555555556, 0.7083333333333334, 1.0056818181818181, 1.2019230769230769, 0.9299191374663073, 0.33698630136986296, 0.4871794871794872, 1.2684989429175475], \"yaxis\": \"y20\"}, {\"marker\": {\"color\": \"#222\"}, \"mode\": \"lines\", \"showlegend\": false, \"type\": \"scatter\", \"x\": [1896, 2016], \"xaxis\": \"x20\", \"y\": [1, 1], \"yaxis\": \"y20\"}, {\"marker\": {\"color\": \"rgb(55, 83, 109)\"}, \"mode\": \"lines+markers\", \"showlegend\": false, \"type\": \"scatter\", \"x\": [1972, 1984, 1988, 1992, 2000, 2004, 2008, 2012, 2016], \"xaxis\": \"x21\", \"y\": [0.0, 0.0, 0.0, 16.333333333333332, 2.3157894736842106, 2.5238095238095237, 1.3958333333333335, 0.9017857142857142, 0.8755102040816326], \"yaxis\": \"y21\"}, {\"marker\": {\"color\": \"#222\"}, \"mode\": \"lines\", \"showlegend\": false, \"type\": \"scatter\", \"x\": [1896, 2016], \"xaxis\": \"x21\", \"y\": [1, 1], \"yaxis\": \"y21\"}, {\"marker\": {\"color\": \"rgb(55, 83, 109)\"}, \"mode\": \"lines+markers\", \"showlegend\": false, \"type\": \"scatter\", \"x\": [1908, 1912, 1920, 1924, 1928, 1932, 1936, 1948, 1952, 1956, 1960, 1992, 1996, 2000, 2004, 2008, 2012, 2016], \"xaxis\": \"x22\", \"y\": [null, null, 0.0, null, 1.3333333333333333, 2.4000000000000004, 0.0, 0.0, 6.0, 2.7777777777777777, 0.0, 1.86, 2.52, 1.3368421052631578, 0.4416666666666666, 0.0, 0.8857142857142858, 0.7142857142857143], \"yaxis\": \"y22\"}, {\"marker\": {\"color\": \"#222\"}, \"mode\": \"lines\", \"showlegend\": false, \"type\": \"scatter\", \"x\": [1896, 2016], \"xaxis\": \"x22\", \"y\": [1, 1], \"yaxis\": \"y22\"}, {\"marker\": {\"color\": \"rgb(55, 83, 109)\"}, \"mode\": \"lines+markers\", \"showlegend\": false, \"type\": \"scatter\", \"x\": [1932, 1936, 1948, 1952, 1956, 1960, 1964, 1968, 1972, 1976, 1980, 1984, 1988, 1992, 1996, 2000, 2004, 2008, 2012, 2016], \"xaxis\": \"x23\", \"y\": [0.0, null, 0.0, 0.0, 0.0, 0.0, 0.0, 1.870748299319728, 0.0, 0.0, 0.0, 0.0, 0.0, 0.0, 0.0, 0.5, 1.635, 1.3833333333333333, 1.7837837837837835, 1.1181818181818182], \"yaxis\": \"y23\"}, {\"marker\": {\"color\": \"#222\"}, \"mode\": \"lines\", \"showlegend\": false, \"type\": \"scatter\", \"x\": [1896, 2016], \"xaxis\": \"x23\", \"y\": [1, 1], \"yaxis\": \"y23\"}, {\"marker\": {\"color\": \"rgb(55, 83, 109)\"}, \"mode\": \"lines+markers\", \"showlegend\": false, \"type\": \"scatter\", \"x\": [1928, 1936, 1948, 1952, 1984, 2004, 2012, 2016], \"xaxis\": \"x24\", \"y\": [null, null, null, null, 0.0, 0.0, 0.0, 1.6351351351351353], \"yaxis\": \"y24\"}, {\"marker\": {\"color\": \"#222\"}, \"mode\": \"lines\", \"showlegend\": false, \"type\": \"scatter\", \"x\": [1896, 2016], \"xaxis\": \"x24\", \"y\": [1, 1], \"yaxis\": \"y24\"}, {\"marker\": {\"color\": \"rgb(55, 83, 109)\"}, \"mode\": \"lines+markers\", \"showlegend\": false, \"type\": \"scatter\", \"x\": [1996, 2000, 2004, 2008, 2012, 2016], \"xaxis\": \"x25\", \"y\": [0.6796536796536796, 0.9762949956101844, 1.0100334448160535, 0.9365079365079365, 1.6901408450704227, 0.8955223880597015], \"yaxis\": \"y25\"}, {\"marker\": {\"color\": \"#222\"}, \"mode\": \"lines\", \"showlegend\": false, \"type\": \"scatter\", \"x\": [1896, 2016], \"xaxis\": \"x25\", \"y\": [1, 1], \"yaxis\": \"y25\"}, {\"marker\": {\"color\": \"rgb(55, 83, 109)\"}, \"mode\": \"lines+markers\", \"showlegend\": false, \"type\": \"scatter\", \"x\": [1896, 1900, 1906, 1908, 1912, 1920, 1924, 1928, 1932, 1936, 1948, 1952, 1956, 1960, 1964, 1968, 1972, 1976, 1980, 1984, 1988, 1992, 1996, 2000, 2004, 2008, 2012, 2016], \"xaxis\": \"x26\", \"y\": [null, null, null, null, 12.666666666666668, 2.9615384615384617, 1.3484848484848484, 0.0, 0.671875, 3.025, 3.272727272727273, 3.685714285714286, 3.083333333333333, 0.0, 0.0, 0.0, 0.0, 0.0, 3.8666666666666663, 1.8181818181818183, 0.0, 0.0, 0.9153846153846155, 0.7348484848484849, 0.7840909090909091, 0.6000000000000001, 0.2638888888888889, 1.5479674796747966], \"yaxis\": \"y26\"}, {\"marker\": {\"color\": \"#222\"}, \"mode\": \"lines\", \"showlegend\": false, \"type\": \"scatter\", \"x\": [1896, 2016], \"xaxis\": \"x26\", \"y\": [1, 1], \"yaxis\": \"y26\"}, {\"marker\": {\"color\": \"rgb(55, 83, 109)\"}, \"mode\": \"lines+markers\", \"showlegend\": false, \"type\": \"scatter\", \"x\": [1900, 1904, 1964, 1968, 1972, 1976, 1980, 1992, 1996, 2000, 2004, 2008, 2012, 2016], \"xaxis\": \"x27\", \"y\": [null, null, 0.0, 2.0535714285714284, 1.3979591836734693, 0.0, 0.33173843700159494, 0.9083870967741934, 0.8072190319934371, 0.7240289069557362, 1.0486111111111112, 1.0748299319727892, 0.5716783216783217, 0.6256684491978609], \"yaxis\": \"y27\"}, {\"marker\": {\"color\": \"#222\"}, \"mode\": \"lines\", \"showlegend\": false, \"type\": \"scatter\", \"x\": [1896, 2016], \"xaxis\": \"x27\", \"y\": [1, 1], \"yaxis\": \"y27\"}, {\"marker\": {\"color\": \"rgb(55, 83, 109)\"}, \"mode\": \"lines+markers\", \"showlegend\": false, \"type\": \"scatter\", \"x\": [1900, 1928, 1932, 1936, 1948, 1952, 1956, 1960, 1964, 1968, 1972, 1980, 1996, 2000, 2004, 2008, 2012, 2016], \"xaxis\": \"x28\", \"y\": [null, null, null, null, null, 0.0, 0.0, null, 0.0, null, 0.0, 0.0, 0.0, 3.095238095238095, 0.0, 0.0, 0.7043478260869566, 2.196078431372549], \"yaxis\": \"y28\"}, {\"marker\": {\"color\": \"#222\"}, \"mode\": \"lines\", \"showlegend\": false, \"type\": \"scatter\", \"x\": [1896, 2016], \"xaxis\": \"x28\", \"y\": [1, 1], \"yaxis\": \"y28\"}, {\"marker\": {\"color\": \"rgb(55, 83, 109)\"}, \"mode\": \"lines+markers\", \"showlegend\": false, \"type\": \"scatter\", \"x\": [1900, 1906, 1908, 1912, 1920, 1924, 1928, 1932, 1936, 1948, 1952, 1956, 1960, 1964, 1968, 1972, 1976, 1980, 1984, 1988, 1992, 1996, 2000, 2004, 2008, 2012, 2016], \"xaxis\": \"x29\", \"y\": [null, null, null, 0.0, 0.0, 0.0, 0.0, 0.0, 0.0, 0.0, 0.0, 0.0, 0.0, 0.0, 0.0, 0.0, 0.0, 0.0, 1.96875, 0.0, 1.3599999999999999, 1.5250000000000001, 0.7083333333333334, 1.7543859649122806, 5.529411764705882, 1.3214285714285714, 1.223529411764706], \"yaxis\": \"y29\"}, {\"marker\": {\"color\": \"#222\"}, \"mode\": \"lines\", \"showlegend\": false, \"type\": \"scatter\", \"x\": [1896, 2016], \"xaxis\": \"x29\", \"y\": [1, 1], \"yaxis\": \"y29\"}, {\"marker\": {\"color\": \"rgb(55, 83, 109)\"}, \"mode\": \"lines+markers\", \"showlegend\": false, \"type\": \"scatter\", \"x\": [1996, 2000, 2004, 2008, 2012, 2016], \"xaxis\": \"x30\", \"y\": [1.0722610722610724, 0.45075757575757575, 1.017921146953405, 1.1355932203389831, 1.0230769230769232, 0.9904761904761905], \"yaxis\": \"y30\"}, {\"marker\": {\"color\": \"#222\"}, \"mode\": \"lines\", \"showlegend\": false, \"type\": \"scatter\", \"x\": [1896, 2016], \"xaxis\": \"x30\", \"y\": [1, 1], \"yaxis\": \"y30\"}, {\"marker\": {\"color\": \"rgb(55, 83, 109)\"}, \"mode\": \"lines+markers\", \"showlegend\": false, \"type\": \"scatter\", \"x\": [2008, 2012, 2016], \"xaxis\": \"x31\", \"y\": [0.0, 1.6111111111111112, 1.1444444444444446], \"yaxis\": \"y31\"}, {\"marker\": {\"color\": \"#222\"}, \"mode\": \"lines\", \"showlegend\": false, \"type\": \"scatter\", \"x\": [1896, 2016], \"xaxis\": \"x31\", \"y\": [1, 1], \"yaxis\": \"y31\"}, {\"marker\": {\"color\": \"rgb(55, 83, 109)\"}, \"mode\": \"lines+markers\", \"showlegend\": false, \"type\": \"scatter\", \"x\": [1896, 1900, 1904, 1906, 1912, 1920, 1924, 1928, 1932, 1936, 1948, 1952, 1956, 1960, 1964, 1968, 1972, 1976, 1980, 1984, 1988, 1992, 1996, 2000, 2004, 2008, 2012, 2016], \"xaxis\": \"x32\", \"y\": [null, 0.0, null, null, null, null, 0.0, 0.0, null, 0.0, 0.0, 0.0, null, 0.0, 0.0, 0.0, 0.0, 4.166666666666667, 0.0, 1.1944444444444444, 0.9166666666666667, 0.0, 0.38205980066445183, 1.4912280701754386, 0.5025641025641026, 0.32936507936507936, 0.875, 1.2952380952380953], \"yaxis\": \"y32\"}, {\"marker\": {\"color\": \"#222\"}, \"mode\": \"lines\", \"showlegend\": false, \"type\": \"scatter\", \"x\": [1896, 2016], \"xaxis\": \"x32\", \"y\": [1, 1], \"yaxis\": \"y32\"}, {\"marker\": {\"color\": \"rgb(55, 83, 109)\"}, \"mode\": \"lines+markers\", \"showlegend\": false, \"type\": \"scatter\", \"x\": [1996, 2000, 2004, 2008, 2012, 2016], \"xaxis\": \"x33\", \"y\": [0.0, 0.42207792207792205, 0.0, 0.5571428571428572, 1.2840909090909092, 0.8233695652173912], \"yaxis\": \"y33\"}, {\"marker\": {\"color\": \"#222\"}, \"mode\": \"lines\", \"showlegend\": false, \"type\": \"scatter\", \"x\": [1896, 2016], \"xaxis\": \"x33\", \"y\": [1, 1], \"yaxis\": \"y33\"}, {\"marker\": {\"color\": \"rgb(55, 83, 109)\"}, \"mode\": \"lines+markers\", \"showlegend\": false, \"type\": \"scatter\", \"x\": [1936, 1948, 1952, 1956, 1960, 1964, 1968, 1972, 1984, 1988, 1992, 1996, 2000, 2004, 2008, 2012, 2016], \"xaxis\": \"x34\", \"y\": [0.0, 0.0, null, null, 0.0, null, null, 0.0, 0.0, 0.0, 0.0, 0.0, 0.7600000000000001, 0.2909090909090909, 2.115789473684211, 1.3125, 0.0], \"yaxis\": \"y34\"}, {\"marker\": {\"color\": \"#222\"}, \"mode\": \"lines\", \"showlegend\": false, \"type\": \"scatter\", \"x\": [1896, 2016], \"xaxis\": \"x34\", \"y\": [1, 1], \"yaxis\": \"y34\"}, {\"marker\": {\"color\": \"rgb(55, 83, 109)\"}, \"mode\": \"lines+markers\", \"showlegend\": false, \"type\": \"scatter\", \"x\": [1924, 1936, 1952, 1956, 1960, 1964, 1968, 1972, 1976, 1980, 1984, 1988, 1992, 1996, 2000, 2004, 2008, 2012, 2016], \"xaxis\": \"x35\", \"y\": [null, 0.0, 0.0, 1.048951048951049, 2.7222222222222223, 1.9166666666666667, 2.0500000000000003, 1.4722222222222223, 0.9303703703703704, 1.4004914004914004, 1.2148040638606676, 1.3737373737373737, 1.554738562091503, 1.7383669885864792, 1.4482961222091655, 1.2413793103448274, 1.4487704918032787, 1.4000000000000001, 1.0382513661202186], \"yaxis\": \"y35\"}, {\"marker\": {\"color\": \"#222\"}, \"mode\": \"lines\", \"showlegend\": false, \"type\": \"scatter\", \"x\": [1896, 2016], \"xaxis\": \"x35\", \"y\": [1, 1], \"yaxis\": \"y35\"}, {\"marker\": {\"color\": \"rgb(55, 83, 109)\"}, \"mode\": \"lines+markers\", \"showlegend\": false, \"type\": \"scatter\", \"x\": [1896, 1904, 1906, 1908, 1912, 1920, 1924, 1956, 1960, 1968, 1972, 1980, 1984, 1988, 1992, 1996, 2000, 2004, 2008, 2012, 2016], \"xaxis\": \"x36\", \"y\": [null, null, 7.341176470588236, null, null, null, 0.0, null, null, null, 0.0, 0.0, 0.0, 0.0, 2.5, 0.44485294117647056, 0.8045977011494253, 1.009478672985782, 1.0857142857142856, 1.3783783783783785, 1.2777777777777777], \"yaxis\": \"y36\"}, {\"marker\": {\"color\": \"#222\"}, \"mode\": \"lines\", \"showlegend\": false, \"type\": \"scatter\", \"x\": [1896, 2016], \"xaxis\": \"x36\", \"y\": [1, 1], \"yaxis\": \"y36\"}, {\"marker\": {\"color\": \"rgb(55, 83, 109)\"}, \"mode\": \"lines+markers\", \"showlegend\": false, \"type\": \"scatter\", \"x\": [1924, 1928, 1936, 1948, 1952, 1960, 1976, 1984, 1988, 1996, 2000, 2004, 2008, 2012], \"xaxis\": \"x37\", \"y\": [null, null, null, null, 0.0, 0.0, null, 1.4074074074074074, 6.5, 2.2291666666666665, 4.6923076923076925, 0.0, 1.4807692307692308, 0.0], \"yaxis\": \"y37\"}, {\"marker\": {\"color\": \"#222\"}, \"mode\": \"lines\", \"showlegend\": false, \"type\": \"scatter\", \"x\": [1896, 2016], \"xaxis\": \"x37\", \"y\": [1, 1], \"yaxis\": \"y37\"}, {\"marker\": {\"color\": \"rgb(55, 83, 109)\"}, \"mode\": \"lines+markers\", \"showlegend\": false, \"type\": \"scatter\", \"x\": [1992, 1996, 2000, 2004, 2008, 2012, 2016], \"xaxis\": \"x38\", \"y\": [0.0, 0.0, 0.0, 0.0, 3.4736842105263164, 0.4976744186046511, 1.4912280701754386], \"yaxis\": \"y38\"}, {\"marker\": {\"color\": \"#222\"}, \"mode\": \"lines\", \"showlegend\": false, \"type\": \"scatter\", \"x\": [1896, 2016], \"xaxis\": \"x38\", \"y\": [1, 1], \"yaxis\": \"y38\"}, {\"marker\": {\"color\": \"rgb(55, 83, 109)\"}, \"mode\": \"lines+markers\", \"showlegend\": false, \"type\": \"scatter\", \"x\": [1952, 1960, 1968, 1976, 1980, 1984, 2004, 2008, 2012, 2016], \"xaxis\": \"x39\", \"y\": [0.0, 0.0, null, 0.0, null, 0.0, 1.6, 2.1176470588235294, 0.0, 2.361111111111111], \"yaxis\": \"y39\"}, {\"marker\": {\"color\": \"#222\"}, \"mode\": \"lines\", \"showlegend\": false, \"type\": \"scatter\", \"x\": [1896, 2016], \"xaxis\": \"x39\", \"y\": [1, 1], \"yaxis\": \"y39\"}, {\"marker\": {\"color\": \"rgb(55, 83, 109)\"}, \"mode\": \"lines+markers\", \"showlegend\": false, \"type\": \"scatter\", \"x\": [1964, 1968, 1972, 1984, 1988, 1992, 1996, 2000, 2004, 2008, 2012, 2016], \"xaxis\": \"x40\", \"y\": [null, 0.0, 0.0, 0.0, 0.0, 0.0, 0.6499999999999999, 0.36363636363636365, 0.5476190476190477, 1.0222222222222221, 0.8545454545454545, 1.289044289044289], \"yaxis\": \"y40\"}, {\"marker\": {\"color\": \"#222\"}, \"mode\": \"lines\", \"showlegend\": false, \"type\": \"scatter\", \"x\": [1896, 2016], \"xaxis\": \"x40\", \"y\": [1, 1], \"yaxis\": \"y40\"}, {\"marker\": {\"color\": \"rgb(55, 83, 109)\"}, \"mode\": \"lines+markers\", \"showlegend\": false, \"type\": \"scatter\", \"x\": [1924, 1928, 1932, 1948, 1952, 1956, 1980, 1984, 1992, 1996, 2000, 2008, 2012, 2016], \"xaxis\": \"x41\", \"y\": [0.0, 0.0, 0.0, 14.600000000000001, null, 0.0, 0.0, 0.0, 0.0, 4.875, 2.6666666666666665, 0.0, 0.7619047619047619, 1.4615384615384615], \"yaxis\": \"y41\"}, {\"marker\": {\"color\": \"#222\"}, \"mode\": \"lines\", \"showlegend\": false, \"type\": \"scatter\", \"x\": [1896, 2016], \"xaxis\": \"x41\", \"y\": [1, 1], \"yaxis\": \"y41\"}, {\"marker\": {\"color\": \"rgb(55, 83, 109)\"}, \"mode\": \"lines+markers\", \"showlegend\": false, \"type\": \"scatter\", \"x\": [1984, 1992, 1996, 2000, 2004, 2008, 2016], \"xaxis\": \"x42\", \"y\": [0.0, 0.5978260869565217, 2.708333333333333, 1.4188034188034189, 0.0, 1.3333333333333333, 0.0], \"yaxis\": \"y42\"}, {\"marker\": {\"color\": \"#222\"}, \"mode\": \"lines\", \"showlegend\": false, \"type\": \"scatter\", \"x\": [1896, 2016], \"xaxis\": \"x42\", \"y\": [1, 1], \"yaxis\": \"y42\"}, {\"marker\": {\"color\": \"rgb(55, 83, 109)\"}, \"mode\": \"lines+markers\", \"showlegend\": false, \"type\": \"scatter\", \"x\": [1896, 1900, 1904, 1906, 1908, 1912, 1924, 1928, 1932, 1936, 1948, 1952, 1956, 1960, 1968, 1972, 1976, 1980, 1984, 1988, 1992, 1996, 2000, 2004, 2008, 2016], \"xaxis\": \"x43\", \"y\": [null, null, null, null, null, 3.5416666666666665, 0.0, 0.0, 1.9000000000000001, 0.8096885813148789, 2.3125, 2.6666666666666665, 0.0, 0.0, 2.6875, 2.6428571428571432, 0.0, 1.0921052631578947, 0.0, 0.0, 0.0, 1.5, 0.8288288288288288, 1.057142857142857, 1.5555555555555558, 2.088235294117647], \"yaxis\": \"y43\"}, {\"marker\": {\"color\": \"#222\"}, \"mode\": \"lines\", \"showlegend\": false, \"type\": \"scatter\", \"x\": [1896, 2016], \"xaxis\": \"x43\", \"y\": [1, 1], \"yaxis\": \"y43\"}, {\"marker\": {\"color\": \"rgb(55, 83, 109)\"}, \"mode\": \"lines+markers\", \"showlegend\": false, \"type\": \"scatter\", \"x\": [1996, 2000, 2004, 2008, 2012, 2016], \"xaxis\": \"x44\", \"y\": [0.0, 0.0, 0.0, 0.7466666666666667, 0.0, 0.0], \"yaxis\": \"y44\"}, {\"marker\": {\"color\": \"#222\"}, \"mode\": \"lines\", \"showlegend\": false, \"type\": \"scatter\", \"x\": [1896, 2016], \"xaxis\": \"x44\", \"y\": [1, 1], \"yaxis\": \"y44\"}, {\"marker\": {\"color\": \"rgb(55, 83, 109)\"}, \"mode\": \"lines+markers\", \"showlegend\": false, \"type\": \"scatter\", \"x\": [1992, 1996, 2000, 2004, 2008, 2012, 2016], \"xaxis\": \"x45\", \"y\": [0.0, 0.0, 1.7428571428571429, 1.6388888888888888, 0.5259259259259259, 1.3478260869565217, 0.8815789473684211], \"yaxis\": \"y45\"}, {\"marker\": {\"color\": \"#222\"}, \"mode\": \"lines\", \"showlegend\": false, \"type\": \"scatter\", \"x\": [1896, 2016], \"xaxis\": \"x45\", \"y\": [1, 1], \"yaxis\": \"y45\"}, {\"marker\": {\"color\": \"rgb(55, 83, 109)\"}, \"mode\": \"lines+markers\", \"showlegend\": false, \"type\": \"scatter\", \"x\": [1992, 1996, 2000, 2008, 2012, 2016], \"xaxis\": \"x46\", \"y\": [17.5, 0.0, 0.9400000000000001, 1.2727272727272727, 0.0, 0.0], \"yaxis\": \"y46\"}, {\"marker\": {\"color\": \"#222\"}, \"mode\": \"lines\", \"showlegend\": false, \"type\": \"scatter\", \"x\": [1896, 2016], \"xaxis\": \"x46\", \"y\": [1, 1], \"yaxis\": \"y46\"}, {\"marker\": {\"color\": \"rgb(55, 83, 109)\"}, \"mode\": \"lines+markers\", \"showlegend\": false, \"type\": \"scatter\", \"x\": [1992, 1996, 2000, 2004, 2008, 2012, 2016], \"xaxis\": \"x47\", \"y\": [0.0, 1.5416666666666665, 0.0, 1.144927536231884, 0.7261904761904762, 0.4391891891891892, 0.875], \"yaxis\": \"y47\"}, {\"marker\": {\"color\": \"#222\"}, \"mode\": \"lines\", \"showlegend\": false, \"type\": \"scatter\", \"x\": [1896, 2016], \"xaxis\": \"x47\", \"y\": [1, 1], \"yaxis\": \"y47\"}, {\"marker\": {\"color\": \"rgb(55, 83, 109)\"}, \"mode\": \"lines+markers\", \"showlegend\": false, \"type\": \"scatter\", \"x\": [1948, 1952, 1956, 1960, 1964, 1968, 1972, 1976, 1988, 1992, 1996, 2000, 2004, 2008, 2012, 2016], \"xaxis\": \"x48\", \"y\": [null, null, null, null, 0.0, null, null, 0.0, null, null, 0.0, 0.0, 0.0, 0.0, 0.0, 1.1666666666666667], \"yaxis\": \"y48\"}, {\"marker\": {\"color\": \"#222\"}, \"mode\": \"lines\", \"showlegend\": false, \"type\": \"scatter\", \"x\": [1896, 2016], \"xaxis\": \"x48\", \"y\": [1, 1], \"yaxis\": \"y48\"}, {\"marker\": {\"color\": \"rgb(55, 83, 109)\"}, \"mode\": \"lines+markers\", \"showlegend\": false, \"type\": \"scatter\", \"x\": [1900, 1904, 1906, 1908, 1912, 1920, 1924, 1928, 1936, 1948, 1952, 1956, 1960, 1968, 1972, 1976, 1984, 1988, 1992, 1996, 2000, 2004, 2008, 2012, 2016], \"xaxis\": \"x49\", \"y\": [null, null, null, null, 10.555555555555555, 1.1091954022988506, 0.0, null, 0.0, 0.0, 0.0, 0.0, 0.0, 0.0, 0.0, 0.0, 1.8070175438596492, 0.5519999999999999, 0.7410714285714285, 0.5038961038961038, 0.9489795918367347, 1.0196078431372548, 0.691358024691358, 0.5446428571428571, 0.4696969696969697], \"yaxis\": \"y49\"}, {\"marker\": {\"color\": \"#222\"}, \"mode\": \"lines\", \"showlegend\": false, \"type\": \"scatter\", \"x\": [1896, 2016], \"xaxis\": \"x49\", \"y\": [1, 1], \"yaxis\": \"y49\"}, {\"marker\": {\"color\": \"rgb(55, 83, 109)\"}, \"mode\": \"lines+markers\", \"showlegend\": false, \"type\": \"scatter\", \"x\": [1964, 1968, 1972, 1996, 2008, 2012, 2016], \"xaxis\": \"x50\", \"y\": [null, null, null, 0.0, 0.0, 1.3833333333333333, 3.0500000000000003], \"yaxis\": \"y50\"}, {\"marker\": {\"color\": \"#222\"}, \"mode\": \"lines\", \"showlegend\": false, \"type\": \"scatter\", \"x\": [1896, 2016], \"xaxis\": \"x50\", \"y\": [1, 1], \"yaxis\": \"y50\"}, {\"marker\": {\"color\": \"rgb(55, 83, 109)\"}, \"mode\": \"lines+markers\", \"showlegend\": false, \"type\": \"scatter\", \"x\": [1996, 2000, 2004, 2008, 2012, 2016], \"xaxis\": \"x51\", \"y\": [0.0, 2.5833333333333335, 2.4000000000000004, 0.0, 0.9285714285714286, 1.0], \"yaxis\": \"y51\"}, {\"marker\": {\"color\": \"#222\"}, \"mode\": \"lines\", \"showlegend\": false, \"type\": \"scatter\", \"x\": [1896, 2016], \"xaxis\": \"x51\", \"y\": [1, 1], \"yaxis\": \"y51\"}, {\"marker\": {\"color\": \"rgb(55, 83, 109)\"}, \"mode\": \"lines+markers\", \"showlegend\": false, \"type\": \"scatter\", \"x\": [1948, 1952, 1968, 1972, 1976, 1980, 1984, 1988, 1992, 1996, 2000, 2004, 2008, 2012, 2016], \"xaxis\": \"x52\", \"y\": [0.0, 0.0, 0.0, 0.0, 0.0, 0.8571428571428571, 2.142857142857143, 1.590909090909091, 1.9285714285714286, 1.6140350877192984, 1.435897435897436, 1.504, 1.4403292181069958, 0.8522727272727273, 0.9853372434017595], \"yaxis\": \"y52\"}, {\"marker\": {\"color\": \"#222\"}, \"mode\": \"lines\", \"showlegend\": false, \"type\": \"scatter\", \"x\": [1896, 2016], \"xaxis\": \"x52\", \"y\": [1, 1], \"yaxis\": \"y52\"}, {\"marker\": {\"color\": \"rgb(55, 83, 109)\"}, \"mode\": \"lines+markers\", \"showlegend\": false, \"type\": \"scatter\", \"x\": [1960, 1968, 1984, 1992, 1996, 2000, 2004, 2008, 2012, 2016], \"xaxis\": \"x53\", \"y\": [0.0, 5.375, 0.0, 0.0, 1.761904761904762, 1.2941176470588236, 0.9025641025641026, 1.0972222222222223, 1.7599999999999998, 1.8965517241379313], \"yaxis\": \"y53\"}, {\"marker\": {\"color\": \"#222\"}, \"mode\": \"lines\", \"showlegend\": false, \"type\": \"scatter\", \"x\": [1896, 2016], \"xaxis\": \"x53\", \"y\": [1, 1], \"yaxis\": \"y53\"}, {\"marker\": {\"color\": \"rgb(55, 83, 109)\"}, \"mode\": \"lines+markers\", \"showlegend\": false, \"type\": \"scatter\", \"x\": [1984, 1996, 2000, 2004, 2008, 2012, 2016], \"xaxis\": \"x54\", \"y\": [0.0, 0.0, 1.4444444444444444, 1.6666666666666667, 0.9400000000000001, 1.3703703703703702, 1.1571428571428573], \"yaxis\": \"y54\"}, {\"marker\": {\"color\": \"#222\"}, \"mode\": \"lines\", \"showlegend\": false, \"type\": \"scatter\", \"x\": [1896, 2016], \"xaxis\": \"x54\", \"y\": [1, 1], \"yaxis\": \"y54\"}, {\"marker\": {\"color\": \"rgb(55, 83, 109)\"}, \"mode\": \"lines+markers\", \"showlegend\": false, \"type\": \"scatter\", \"x\": [1906, 1908, 1912, 1920, 1924, 1928, 1932, 1936, 1948, 1952, 1956, 1960, 1964, 1968, 1972, 1976, 1980, 1984, 1988, 1992, 1996, 2000, 2004, 2008, 2012], \"xaxis\": \"x55\", \"y\": [null, null, 0.0, 0.0, null, 0.0, null, 0.0, 1.9545454545454544, 0.43, 0.0, 0.0, 0.0, 0.0, 0.0, 0.0, 2.1875, 0.6013986013986015, 0.0, 0.0, 0.6551724137931034, 0.0, 0.0, 1.0961538461538463, 1.382716049382716], \"yaxis\": \"y55\"}, {\"marker\": {\"color\": \"#222\"}, \"mode\": \"lines\", \"showlegend\": false, \"type\": \"scatter\", \"x\": [1896, 2016], \"xaxis\": \"x55\", \"y\": [1, 1], \"yaxis\": \"y55\"}, {\"marker\": {\"color\": \"rgb(55, 83, 109)\"}, \"mode\": \"lines+markers\", \"showlegend\": false, \"type\": \"scatter\", \"x\": [2016], \"xaxis\": \"x56\", \"y\": [0.0], \"yaxis\": \"y56\"}, {\"marker\": {\"color\": \"#222\"}, \"mode\": \"lines\", \"showlegend\": false, \"type\": \"scatter\", \"x\": [1896, 2016], \"xaxis\": \"x56\", \"y\": [1, 1], \"yaxis\": \"y56\"}, {\"marker\": {\"color\": \"rgb(55, 83, 109)\"}, \"mode\": \"lines+markers\", \"showlegend\": false, \"type\": \"scatter\", \"x\": [1996, 2000, 2004, 2008, 2012, 2016], \"xaxis\": \"x57\", \"y\": [0.0, 1.6, 0.6666666666666666, 0.8636363636363636, 1.119047619047619, 0.0], \"yaxis\": \"y57\"}, {\"marker\": {\"color\": \"#222\"}, \"mode\": \"lines\", \"showlegend\": false, \"type\": \"scatter\", \"x\": [1896, 2016], \"xaxis\": \"x57\", \"y\": [1, 1], \"yaxis\": \"y57\"}, {\"marker\": {\"color\": \"rgb(55, 83, 109)\"}, \"mode\": \"lines+markers\", \"showlegend\": false, \"type\": \"scatter\", \"x\": [1952, 1956, 1960, 1964, 1968, 1972, 1976, 1980, 1988, 1992, 1996, 2000, 2004, 2008, 2012, 2016], \"xaxis\": \"x58\", \"y\": [0.0, 0.0, 0.0, 0.0, 0.0, 1.0317460317460316, 1.0840480274442539, 0.5389204545454546, 1.1497326203208555, 0.9019607843137256, 0.8148148148148148, 0.5384615384615384, 0.7509881422924901, 2.5925925925925926, 2.4230769230769234, 2.318181818181818], \"yaxis\": \"y58\"}, {\"marker\": {\"color\": \"#222\"}, \"mode\": \"lines\", \"showlegend\": false, \"type\": \"scatter\", \"x\": [1896, 2016], \"xaxis\": \"x58\", \"y\": [1, 1], \"yaxis\": \"y58\"}],                        {\"annotations\": [{\"font\": {\"size\": 16}, \"showarrow\": false, \"text\": \"USA\", \"x\": 0.08399999999999999, \"xanchor\": \"center\", \"xref\": \"paper\", \"y\": 1.0, \"yanchor\": \"bottom\", \"yref\": \"paper\"}, {\"font\": {\"size\": 16}, \"showarrow\": false, \"text\": \"BRA\", \"x\": 0.292, \"xanchor\": \"center\", \"xref\": \"paper\", \"y\": 1.0, \"yanchor\": \"bottom\", \"yref\": \"paper\"}, {\"font\": {\"size\": 16}, \"showarrow\": false, \"text\": \"AUS\", \"x\": 0.5, \"xanchor\": \"center\", \"xref\": \"paper\", \"y\": 1.0, \"yanchor\": \"bottom\", \"yref\": \"paper\"}, {\"font\": {\"size\": 16}, \"showarrow\": false, \"text\": \"GER\", \"x\": 0.708, \"xanchor\": \"center\", \"xref\": \"paper\", \"y\": 1.0, \"yanchor\": \"bottom\", \"yref\": \"paper\"}, {\"font\": {\"size\": 16}, \"showarrow\": false, \"text\": \"FRA\", \"x\": 0.9159999999999999, \"xanchor\": \"center\", \"xref\": \"paper\", \"y\": 1.0, \"yanchor\": \"bottom\", \"yref\": \"paper\"}, {\"font\": {\"size\": 16}, \"showarrow\": false, \"text\": \"CHN\", \"x\": 0.08399999999999999, \"xanchor\": \"center\", \"xref\": \"paper\", \"y\": 0.9131944444444444, \"yanchor\": \"bottom\", \"yref\": \"paper\"}, {\"font\": {\"size\": 16}, \"showarrow\": false, \"text\": \"GBR\", \"x\": 0.292, \"xanchor\": \"center\", \"xref\": \"paper\", \"y\": 0.9131944444444444, \"yanchor\": \"bottom\", \"yref\": \"paper\"}, {\"font\": {\"size\": 16}, \"showarrow\": false, \"text\": \"JPN\", \"x\": 0.5, \"xanchor\": \"center\", \"xref\": \"paper\", \"y\": 0.9131944444444444, \"yanchor\": \"bottom\", \"yref\": \"paper\"}, {\"font\": {\"size\": 16}, \"showarrow\": false, \"text\": \"CAN\", \"x\": 0.708, \"xanchor\": \"center\", \"xref\": \"paper\", \"y\": 0.9131944444444444, \"yanchor\": \"bottom\", \"yref\": \"paper\"}, {\"font\": {\"size\": 16}, \"showarrow\": false, \"text\": \"ITA\", \"x\": 0.9159999999999999, \"xanchor\": \"center\", \"xref\": \"paper\", \"y\": 0.9131944444444444, \"yanchor\": \"bottom\", \"yref\": \"paper\"}, {\"font\": {\"size\": 16}, \"showarrow\": false, \"text\": \"ESP\", \"x\": 0.08399999999999999, \"xanchor\": \"center\", \"xref\": \"paper\", \"y\": 0.8263888888888888, \"yanchor\": \"bottom\", \"yref\": \"paper\"}, {\"font\": {\"size\": 16}, \"showarrow\": false, \"text\": \"RUS\", \"x\": 0.292, \"xanchor\": \"center\", \"xref\": \"paper\", \"y\": 0.8263888888888888, \"yanchor\": \"bottom\", \"yref\": \"paper\"}, {\"font\": {\"size\": 16}, \"showarrow\": false, \"text\": \"NED\", \"x\": 0.5, \"xanchor\": \"center\", \"xref\": \"paper\", \"y\": 0.8263888888888888, \"yanchor\": \"bottom\", \"yref\": \"paper\"}, {\"font\": {\"size\": 16}, \"showarrow\": false, \"text\": \"POL\", \"x\": 0.708, \"xanchor\": \"center\", \"xref\": \"paper\", \"y\": 0.8263888888888888, \"yanchor\": \"bottom\", \"yref\": \"paper\"}, {\"font\": {\"size\": 16}, \"showarrow\": false, \"text\": \"ARG\", \"x\": 0.9159999999999999, \"xanchor\": \"center\", \"xref\": \"paper\", \"y\": 0.8263888888888888, \"yanchor\": \"bottom\", \"yref\": \"paper\"}, {\"font\": {\"size\": 16}, \"showarrow\": false, \"text\": \"KOR\", \"x\": 0.08399999999999999, \"xanchor\": \"center\", \"xref\": \"paper\", \"y\": 0.7395833333333333, \"yanchor\": \"bottom\", \"yref\": \"paper\"}, {\"font\": {\"size\": 16}, \"showarrow\": false, \"text\": \"UKR\", \"x\": 0.292, \"xanchor\": \"center\", \"xref\": \"paper\", \"y\": 0.7395833333333333, \"yanchor\": \"bottom\", \"yref\": \"paper\"}, {\"font\": {\"size\": 16}, \"showarrow\": false, \"text\": \"NZL\", \"x\": 0.5, \"xanchor\": \"center\", \"xref\": \"paper\", \"y\": 0.7395833333333333, \"yanchor\": \"bottom\", \"yref\": \"paper\"}, {\"font\": {\"size\": 16}, \"showarrow\": false, \"text\": \"HUN\", \"x\": 0.708, \"xanchor\": \"center\", \"xref\": \"paper\", \"y\": 0.7395833333333333, \"yanchor\": \"bottom\", \"yref\": \"paper\"}, {\"font\": {\"size\": 16}, \"showarrow\": false, \"text\": \"SWE\", \"x\": 0.9159999999999999, \"xanchor\": \"center\", \"xref\": \"paper\", \"y\": 0.7395833333333333, \"yanchor\": \"bottom\", \"yref\": \"paper\"}, {\"font\": {\"size\": 16}, \"showarrow\": false, \"text\": \"COL\", \"x\": 0.08399999999999999, \"xanchor\": \"center\", \"xref\": \"paper\", \"y\": 0.6527777777777777, \"yanchor\": \"bottom\", \"yref\": \"paper\"}, {\"font\": {\"size\": 16}, \"showarrow\": false, \"text\": \"RSA\", \"x\": 0.292, \"xanchor\": \"center\", \"xref\": \"paper\", \"y\": 0.6527777777777777, \"yanchor\": \"bottom\", \"yref\": \"paper\"}, {\"font\": {\"size\": 16}, \"showarrow\": false, \"text\": \"MEX\", \"x\": 0.5, \"xanchor\": \"center\", \"xref\": \"paper\", \"y\": 0.6527777777777777, \"yanchor\": \"bottom\", \"yref\": \"paper\"}, {\"font\": {\"size\": 16}, \"showarrow\": false, \"text\": \"EGY\", \"x\": 0.708, \"xanchor\": \"center\", \"xref\": \"paper\", \"y\": 0.6527777777777777, \"yanchor\": \"bottom\", \"yref\": \"paper\"}, {\"font\": {\"size\": 16}, \"showarrow\": false, \"text\": \"BLR\", \"x\": 0.9159999999999999, \"xanchor\": \"center\", \"xref\": \"paper\", \"y\": 0.6527777777777777, \"yanchor\": \"bottom\", \"yref\": \"paper\"}, {\"font\": {\"size\": 16}, \"showarrow\": false, \"text\": \"DEN\", \"x\": 0.08399999999999999, \"xanchor\": \"center\", \"xref\": \"paper\", \"y\": 0.5659722222222223, \"yanchor\": \"bottom\", \"yref\": \"paper\"}, {\"font\": {\"size\": 16}, \"showarrow\": false, \"text\": \"CUB\", \"x\": 0.292, \"xanchor\": \"center\", \"xref\": \"paper\", \"y\": 0.5659722222222223, \"yanchor\": \"bottom\", \"yref\": \"paper\"}, {\"font\": {\"size\": 16}, \"showarrow\": false, \"text\": \"IND\", \"x\": 0.5, \"xanchor\": \"center\", \"xref\": \"paper\", \"y\": 0.5659722222222223, \"yanchor\": \"bottom\", \"yref\": \"paper\"}, {\"font\": {\"size\": 16}, \"showarrow\": false, \"text\": \"BEL\", \"x\": 0.708, \"xanchor\": \"center\", \"xref\": \"paper\", \"y\": 0.5659722222222223, \"yanchor\": \"bottom\", \"yref\": \"paper\"}, {\"font\": {\"size\": 16}, \"showarrow\": false, \"text\": \"CZE\", \"x\": 0.9159999999999999, \"xanchor\": \"center\", \"xref\": \"paper\", \"y\": 0.5659722222222223, \"yanchor\": \"bottom\", \"yref\": \"paper\"}, {\"font\": {\"size\": 16}, \"showarrow\": false, \"text\": \"SRB\", \"x\": 0.08399999999999999, \"xanchor\": \"center\", \"xref\": \"paper\", \"y\": 0.4791666666666667, \"yanchor\": \"bottom\", \"yref\": \"paper\"}, {\"font\": {\"size\": 16}, \"showarrow\": false, \"text\": \"SUI\", \"x\": 0.292, \"xanchor\": \"center\", \"xref\": \"paper\", \"y\": 0.4791666666666667, \"yanchor\": \"bottom\", \"yref\": \"paper\"}, {\"font\": {\"size\": 16}, \"showarrow\": false, \"text\": \"KAZ\", \"x\": 0.5, \"xanchor\": \"center\", \"xref\": \"paper\", \"y\": 0.4791666666666667, \"yanchor\": \"bottom\", \"yref\": \"paper\"}, {\"font\": {\"size\": 16}, \"showarrow\": false, \"text\": \"TUR\", \"x\": 0.708, \"xanchor\": \"center\", \"xref\": \"paper\", \"y\": 0.4791666666666667, \"yanchor\": \"bottom\", \"yref\": \"paper\"}, {\"font\": {\"size\": 16}, \"showarrow\": false, \"text\": \"ROU\", \"x\": 0.9159999999999999, \"xanchor\": \"center\", \"xref\": \"paper\", \"y\": 0.4791666666666667, \"yanchor\": \"bottom\", \"yref\": \"paper\"}, {\"font\": {\"size\": 16}, \"showarrow\": false, \"text\": \"GRE\", \"x\": 0.08399999999999999, \"xanchor\": \"center\", \"xref\": \"paper\", \"y\": 0.3923611111111111, \"yanchor\": \"bottom\", \"yref\": \"paper\"}, {\"font\": {\"size\": 16}, \"showarrow\": false, \"text\": \"POR\", \"x\": 0.292, \"xanchor\": \"center\", \"xref\": \"paper\", \"y\": 0.3923611111111111, \"yanchor\": \"bottom\", \"yref\": \"paper\"}, {\"font\": {\"size\": 16}, \"showarrow\": false, \"text\": \"CRO\", \"x\": 0.5, \"xanchor\": \"center\", \"xref\": \"paper\", \"y\": 0.3923611111111111, \"yanchor\": \"bottom\", \"yref\": \"paper\"}, {\"font\": {\"size\": 16}, \"showarrow\": false, \"text\": \"VEN\", \"x\": 0.708, \"xanchor\": \"center\", \"xref\": \"paper\", \"y\": 0.3923611111111111, \"yanchor\": \"bottom\", \"yref\": \"paper\"}, {\"font\": {\"size\": 16}, \"showarrow\": false, \"text\": \"KEN\", \"x\": 0.9159999999999999, \"xanchor\": \"center\", \"xref\": \"paper\", \"y\": 0.3923611111111111, \"yanchor\": \"bottom\", \"yref\": \"paper\"}, {\"font\": {\"size\": 16}, \"showarrow\": false, \"text\": \"IRL\", \"x\": 0.08399999999999999, \"xanchor\": \"center\", \"xref\": \"paper\", \"y\": 0.3055555555555556, \"yanchor\": \"bottom\", \"yref\": \"paper\"}, {\"font\": {\"size\": 16}, \"showarrow\": false, \"text\": \"NGR\", \"x\": 0.292, \"xanchor\": \"center\", \"xref\": \"paper\", \"y\": 0.3055555555555556, \"yanchor\": \"bottom\", \"yref\": \"paper\"}, {\"font\": {\"size\": 16}, \"showarrow\": false, \"text\": \"AUT\", \"x\": 0.5, \"xanchor\": \"center\", \"xref\": \"paper\", \"y\": 0.3055555555555556, \"yanchor\": \"bottom\", \"yref\": \"paper\"}, {\"font\": {\"size\": 16}, \"showarrow\": false, \"text\": \"UZB\", \"x\": 0.708, \"xanchor\": \"center\", \"xref\": \"paper\", \"y\": 0.3055555555555556, \"yanchor\": \"bottom\", \"yref\": \"paper\"}, {\"font\": {\"size\": 16}, \"showarrow\": false, \"text\": \"LTU\", \"x\": 0.9159999999999999, \"xanchor\": \"center\", \"xref\": \"paper\", \"y\": 0.3055555555555556, \"yanchor\": \"bottom\", \"yref\": \"paper\"}, {\"font\": {\"size\": 16}, \"showarrow\": false, \"text\": \"ALG\", \"x\": 0.08399999999999999, \"xanchor\": \"center\", \"xref\": \"paper\", \"y\": 0.21875, \"yanchor\": \"bottom\", \"yref\": \"paper\"}, {\"font\": {\"size\": 16}, \"showarrow\": false, \"text\": \"SLO\", \"x\": 0.292, \"xanchor\": \"center\", \"xref\": \"paper\", \"y\": 0.21875, \"yanchor\": \"bottom\", \"yref\": \"paper\"}, {\"font\": {\"size\": 16}, \"showarrow\": false, \"text\": \"IRI\", \"x\": 0.5, \"xanchor\": \"center\", \"xref\": \"paper\", \"y\": 0.21875, \"yanchor\": \"bottom\", \"yref\": \"paper\"}, {\"font\": {\"size\": 16}, \"showarrow\": false, \"text\": \"NOR\", \"x\": 0.708, \"xanchor\": \"center\", \"xref\": \"paper\", \"y\": 0.21875, \"yanchor\": \"bottom\", \"yref\": \"paper\"}, {\"font\": {\"size\": 16}, \"showarrow\": false, \"text\": \"TUN\", \"x\": 0.9159999999999999, \"xanchor\": \"center\", \"xref\": \"paper\", \"y\": 0.21875, \"yanchor\": \"bottom\", \"yref\": \"paper\"}, {\"font\": {\"size\": 16}, \"showarrow\": false, \"text\": \"AZE\", \"x\": 0.08399999999999999, \"xanchor\": \"center\", \"xref\": \"paper\", \"y\": 0.13194444444444445, \"yanchor\": \"bottom\", \"yref\": \"paper\"}, {\"font\": {\"size\": 16}, \"showarrow\": false, \"text\": \"JAM\", \"x\": 0.292, \"xanchor\": \"center\", \"xref\": \"paper\", \"y\": 0.13194444444444445, \"yanchor\": \"bottom\", \"yref\": \"paper\"}, {\"font\": {\"size\": 16}, \"showarrow\": false, \"text\": \"TPE\", \"x\": 0.5, \"xanchor\": \"center\", \"xref\": \"paper\", \"y\": 0.13194444444444445, \"yanchor\": \"bottom\", \"yref\": \"paper\"}, {\"font\": {\"size\": 16}, \"showarrow\": false, \"text\": \"THA\", \"x\": 0.708, \"xanchor\": \"center\", \"xref\": \"paper\", \"y\": 0.13194444444444445, \"yanchor\": \"bottom\", \"yref\": \"paper\"}, {\"font\": {\"size\": 16}, \"showarrow\": false, \"text\": \"FIN\", \"x\": 0.9159999999999999, \"xanchor\": \"center\", \"xref\": \"paper\", \"y\": 0.13194444444444445, \"yanchor\": \"bottom\", \"yref\": \"paper\"}, {\"font\": {\"size\": 16}, \"showarrow\": false, \"text\": \"FIJ\", \"x\": 0.08399999999999999, \"xanchor\": \"center\", \"xref\": \"paper\", \"y\": 0.045138888888888895, \"yanchor\": \"bottom\", \"yref\": \"paper\"}, {\"font\": {\"size\": 16}, \"showarrow\": false, \"text\": \"SVK\", \"x\": 0.292, \"xanchor\": \"center\", \"xref\": \"paper\", \"y\": 0.045138888888888895, \"yanchor\": \"bottom\", \"yref\": \"paper\"}, {\"font\": {\"size\": 16}, \"showarrow\": false, \"text\": \"BUL\", \"x\": 0.5, \"xanchor\": \"center\", \"xref\": \"paper\", \"y\": 0.045138888888888895, \"yanchor\": \"bottom\", \"yref\": \"paper\"}], \"height\": 2400, \"template\": {\"data\": {\"bar\": [{\"error_x\": {\"color\": \"#2a3f5f\"}, \"error_y\": {\"color\": \"#2a3f5f\"}, \"marker\": {\"line\": {\"color\": \"#E5ECF6\", \"width\": 0.5}}, \"type\": \"bar\"}], \"barpolar\": [{\"marker\": {\"line\": {\"color\": \"#E5ECF6\", \"width\": 0.5}}, \"type\": \"barpolar\"}], \"carpet\": [{\"aaxis\": {\"endlinecolor\": \"#2a3f5f\", \"gridcolor\": \"white\", \"linecolor\": \"white\", \"minorgridcolor\": \"white\", \"startlinecolor\": \"#2a3f5f\"}, \"baxis\": {\"endlinecolor\": \"#2a3f5f\", \"gridcolor\": \"white\", \"linecolor\": \"white\", \"minorgridcolor\": \"white\", \"startlinecolor\": \"#2a3f5f\"}, \"type\": \"carpet\"}], \"choropleth\": [{\"colorbar\": {\"outlinewidth\": 0, \"ticks\": \"\"}, \"type\": \"choropleth\"}], \"contour\": [{\"colorbar\": {\"outlinewidth\": 0, \"ticks\": \"\"}, \"colorscale\": [[0.0, \"#0d0887\"], [0.1111111111111111, \"#46039f\"], [0.2222222222222222, \"#7201a8\"], [0.3333333333333333, \"#9c179e\"], [0.4444444444444444, \"#bd3786\"], [0.5555555555555556, \"#d8576b\"], [0.6666666666666666, \"#ed7953\"], [0.7777777777777778, \"#fb9f3a\"], [0.8888888888888888, \"#fdca26\"], [1.0, \"#f0f921\"]], \"type\": \"contour\"}], \"contourcarpet\": [{\"colorbar\": {\"outlinewidth\": 0, \"ticks\": \"\"}, \"type\": \"contourcarpet\"}], \"heatmap\": [{\"colorbar\": {\"outlinewidth\": 0, \"ticks\": \"\"}, \"colorscale\": [[0.0, \"#0d0887\"], [0.1111111111111111, \"#46039f\"], [0.2222222222222222, \"#7201a8\"], [0.3333333333333333, \"#9c179e\"], [0.4444444444444444, \"#bd3786\"], [0.5555555555555556, \"#d8576b\"], [0.6666666666666666, \"#ed7953\"], [0.7777777777777778, \"#fb9f3a\"], [0.8888888888888888, \"#fdca26\"], [1.0, \"#f0f921\"]], \"type\": \"heatmap\"}], \"heatmapgl\": [{\"colorbar\": {\"outlinewidth\": 0, \"ticks\": \"\"}, \"colorscale\": [[0.0, \"#0d0887\"], [0.1111111111111111, \"#46039f\"], [0.2222222222222222, \"#7201a8\"], [0.3333333333333333, \"#9c179e\"], [0.4444444444444444, \"#bd3786\"], [0.5555555555555556, \"#d8576b\"], [0.6666666666666666, \"#ed7953\"], [0.7777777777777778, \"#fb9f3a\"], [0.8888888888888888, \"#fdca26\"], [1.0, \"#f0f921\"]], \"type\": \"heatmapgl\"}], \"histogram\": [{\"marker\": {\"colorbar\": {\"outlinewidth\": 0, \"ticks\": \"\"}}, \"type\": \"histogram\"}], \"histogram2d\": [{\"colorbar\": {\"outlinewidth\": 0, \"ticks\": \"\"}, \"colorscale\": [[0.0, \"#0d0887\"], [0.1111111111111111, \"#46039f\"], [0.2222222222222222, \"#7201a8\"], [0.3333333333333333, \"#9c179e\"], [0.4444444444444444, \"#bd3786\"], [0.5555555555555556, \"#d8576b\"], [0.6666666666666666, \"#ed7953\"], [0.7777777777777778, \"#fb9f3a\"], [0.8888888888888888, \"#fdca26\"], [1.0, \"#f0f921\"]], \"type\": \"histogram2d\"}], \"histogram2dcontour\": [{\"colorbar\": {\"outlinewidth\": 0, \"ticks\": \"\"}, \"colorscale\": [[0.0, \"#0d0887\"], [0.1111111111111111, \"#46039f\"], [0.2222222222222222, \"#7201a8\"], [0.3333333333333333, \"#9c179e\"], [0.4444444444444444, \"#bd3786\"], [0.5555555555555556, \"#d8576b\"], [0.6666666666666666, \"#ed7953\"], [0.7777777777777778, \"#fb9f3a\"], [0.8888888888888888, \"#fdca26\"], [1.0, \"#f0f921\"]], \"type\": \"histogram2dcontour\"}], \"mesh3d\": [{\"colorbar\": {\"outlinewidth\": 0, \"ticks\": \"\"}, \"type\": \"mesh3d\"}], \"parcoords\": [{\"line\": {\"colorbar\": {\"outlinewidth\": 0, \"ticks\": \"\"}}, \"type\": \"parcoords\"}], \"pie\": [{\"automargin\": true, \"type\": \"pie\"}], \"scatter\": [{\"marker\": {\"colorbar\": {\"outlinewidth\": 0, \"ticks\": \"\"}}, \"type\": \"scatter\"}], \"scatter3d\": [{\"line\": {\"colorbar\": {\"outlinewidth\": 0, \"ticks\": \"\"}}, \"marker\": {\"colorbar\": {\"outlinewidth\": 0, \"ticks\": \"\"}}, \"type\": \"scatter3d\"}], \"scattercarpet\": [{\"marker\": {\"colorbar\": {\"outlinewidth\": 0, \"ticks\": \"\"}}, \"type\": \"scattercarpet\"}], \"scattergeo\": [{\"marker\": {\"colorbar\": {\"outlinewidth\": 0, \"ticks\": \"\"}}, \"type\": \"scattergeo\"}], \"scattergl\": [{\"marker\": {\"colorbar\": {\"outlinewidth\": 0, \"ticks\": \"\"}}, \"type\": \"scattergl\"}], \"scattermapbox\": [{\"marker\": {\"colorbar\": {\"outlinewidth\": 0, \"ticks\": \"\"}}, \"type\": \"scattermapbox\"}], \"scatterpolar\": [{\"marker\": {\"colorbar\": {\"outlinewidth\": 0, \"ticks\": \"\"}}, \"type\": \"scatterpolar\"}], \"scatterpolargl\": [{\"marker\": {\"colorbar\": {\"outlinewidth\": 0, \"ticks\": \"\"}}, \"type\": \"scatterpolargl\"}], \"scatterternary\": [{\"marker\": {\"colorbar\": {\"outlinewidth\": 0, \"ticks\": \"\"}}, \"type\": \"scatterternary\"}], \"surface\": [{\"colorbar\": {\"outlinewidth\": 0, \"ticks\": \"\"}, \"colorscale\": [[0.0, \"#0d0887\"], [0.1111111111111111, \"#46039f\"], [0.2222222222222222, \"#7201a8\"], [0.3333333333333333, \"#9c179e\"], [0.4444444444444444, \"#bd3786\"], [0.5555555555555556, \"#d8576b\"], [0.6666666666666666, \"#ed7953\"], [0.7777777777777778, \"#fb9f3a\"], [0.8888888888888888, \"#fdca26\"], [1.0, \"#f0f921\"]], \"type\": \"surface\"}], \"table\": [{\"cells\": {\"fill\": {\"color\": \"#EBF0F8\"}, \"line\": {\"color\": \"white\"}}, \"header\": {\"fill\": {\"color\": \"#C8D4E3\"}, \"line\": {\"color\": \"white\"}}, \"type\": \"table\"}]}, \"layout\": {\"annotationdefaults\": {\"arrowcolor\": \"#2a3f5f\", \"arrowhead\": 0, \"arrowwidth\": 1}, \"autotypenumbers\": \"strict\", \"coloraxis\": {\"colorbar\": {\"outlinewidth\": 0, \"ticks\": \"\"}}, \"colorscale\": {\"diverging\": [[0, \"#8e0152\"], [0.1, \"#c51b7d\"], [0.2, \"#de77ae\"], [0.3, \"#f1b6da\"], [0.4, \"#fde0ef\"], [0.5, \"#f7f7f7\"], [0.6, \"#e6f5d0\"], [0.7, \"#b8e186\"], [0.8, \"#7fbc41\"], [0.9, \"#4d9221\"], [1, \"#276419\"]], \"sequential\": [[0.0, \"#0d0887\"], [0.1111111111111111, \"#46039f\"], [0.2222222222222222, \"#7201a8\"], [0.3333333333333333, \"#9c179e\"], [0.4444444444444444, \"#bd3786\"], [0.5555555555555556, \"#d8576b\"], [0.6666666666666666, \"#ed7953\"], [0.7777777777777778, \"#fb9f3a\"], [0.8888888888888888, \"#fdca26\"], [1.0, \"#f0f921\"]], \"sequentialminus\": [[0.0, \"#0d0887\"], [0.1111111111111111, \"#46039f\"], [0.2222222222222222, \"#7201a8\"], [0.3333333333333333, \"#9c179e\"], [0.4444444444444444, \"#bd3786\"], [0.5555555555555556, \"#d8576b\"], [0.6666666666666666, \"#ed7953\"], [0.7777777777777778, \"#fb9f3a\"], [0.8888888888888888, \"#fdca26\"], [1.0, \"#f0f921\"]]}, \"colorway\": [\"#636efa\", \"#EF553B\", \"#00cc96\", \"#ab63fa\", \"#FFA15A\", \"#19d3f3\", \"#FF6692\", \"#B6E880\", \"#FF97FF\", \"#FECB52\"], \"font\": {\"color\": \"#2a3f5f\"}, \"geo\": {\"bgcolor\": \"white\", \"lakecolor\": \"white\", \"landcolor\": \"#E5ECF6\", \"showlakes\": true, \"showland\": true, \"subunitcolor\": \"white\"}, \"hoverlabel\": {\"align\": \"left\"}, \"hovermode\": \"closest\", \"mapbox\": {\"style\": \"light\"}, \"paper_bgcolor\": \"white\", \"plot_bgcolor\": \"#E5ECF6\", \"polar\": {\"angularaxis\": {\"gridcolor\": \"white\", \"linecolor\": \"white\", \"ticks\": \"\"}, \"bgcolor\": \"#E5ECF6\", \"radialaxis\": {\"gridcolor\": \"white\", \"linecolor\": \"white\", \"ticks\": \"\"}}, \"scene\": {\"xaxis\": {\"backgroundcolor\": \"#E5ECF6\", \"gridcolor\": \"white\", \"gridwidth\": 2, \"linecolor\": \"white\", \"showbackground\": true, \"ticks\": \"\", \"zerolinecolor\": \"white\"}, \"yaxis\": {\"backgroundcolor\": \"#E5ECF6\", \"gridcolor\": \"white\", \"gridwidth\": 2, \"linecolor\": \"white\", \"showbackground\": true, \"ticks\": \"\", \"zerolinecolor\": \"white\"}, \"zaxis\": {\"backgroundcolor\": \"#E5ECF6\", \"gridcolor\": \"white\", \"gridwidth\": 2, \"linecolor\": \"white\", \"showbackground\": true, \"ticks\": \"\", \"zerolinecolor\": \"white\"}}, \"shapedefaults\": {\"line\": {\"color\": \"#2a3f5f\"}}, \"ternary\": {\"aaxis\": {\"gridcolor\": \"white\", \"linecolor\": \"white\", \"ticks\": \"\"}, \"baxis\": {\"gridcolor\": \"white\", \"linecolor\": \"white\", \"ticks\": \"\"}, \"bgcolor\": \"#E5ECF6\", \"caxis\": {\"gridcolor\": \"white\", \"linecolor\": \"white\", \"ticks\": \"\"}}, \"title\": {\"x\": 0.05}, \"xaxis\": {\"automargin\": true, \"gridcolor\": \"white\", \"linecolor\": \"white\", \"ticks\": \"\", \"title\": {\"standoff\": 15}, \"zerolinecolor\": \"white\", \"zerolinewidth\": 2}, \"yaxis\": {\"automargin\": true, \"gridcolor\": \"white\", \"linecolor\": \"white\", \"ticks\": \"\", \"title\": {\"standoff\": 15}, \"zerolinecolor\": \"white\", \"zerolinewidth\": 2}}}, \"width\": 1000, \"xaxis\": {\"anchor\": \"y\", \"domain\": [0.0, 0.16799999999999998], \"range\": [1947, 2020]}, \"xaxis10\": {\"anchor\": \"y10\", \"domain\": [0.832, 1.0], \"range\": [1947, 2020]}, \"xaxis11\": {\"anchor\": \"y11\", \"domain\": [0.0, 0.16799999999999998], \"range\": [1947, 2020]}, \"xaxis12\": {\"anchor\": \"y12\", \"domain\": [0.208, 0.376], \"range\": [1947, 2020]}, \"xaxis13\": {\"anchor\": \"y13\", \"domain\": [0.416, 0.584], \"range\": [1947, 2020]}, \"xaxis14\": {\"anchor\": \"y14\", \"domain\": [0.624, 0.792], \"range\": [1947, 2020]}, \"xaxis15\": {\"anchor\": \"y15\", \"domain\": [0.832, 1.0], \"range\": [1947, 2020]}, \"xaxis16\": {\"anchor\": \"y16\", \"domain\": [0.0, 0.16799999999999998], \"range\": [1947, 2020]}, \"xaxis17\": {\"anchor\": \"y17\", \"domain\": [0.208, 0.376], \"range\": [1947, 2020]}, \"xaxis18\": {\"anchor\": \"y18\", \"domain\": [0.416, 0.584], \"range\": [1947, 2020]}, \"xaxis19\": {\"anchor\": \"y19\", \"domain\": [0.624, 0.792], \"range\": [1947, 2020]}, \"xaxis2\": {\"anchor\": \"y2\", \"domain\": [0.208, 0.376], \"range\": [1947, 2020]}, \"xaxis20\": {\"anchor\": \"y20\", \"domain\": [0.832, 1.0], \"range\": [1947, 2020]}, \"xaxis21\": {\"anchor\": \"y21\", \"domain\": [0.0, 0.16799999999999998], \"range\": [1947, 2020]}, \"xaxis22\": {\"anchor\": \"y22\", \"domain\": [0.208, 0.376], \"range\": [1947, 2020]}, \"xaxis23\": {\"anchor\": \"y23\", \"domain\": [0.416, 0.584], \"range\": [1947, 2020]}, \"xaxis24\": {\"anchor\": \"y24\", \"domain\": [0.624, 0.792], \"range\": [1947, 2020]}, \"xaxis25\": {\"anchor\": \"y25\", \"domain\": [0.832, 1.0], \"range\": [1947, 2020]}, \"xaxis26\": {\"anchor\": \"y26\", \"domain\": [0.0, 0.16799999999999998], \"range\": [1947, 2020]}, \"xaxis27\": {\"anchor\": \"y27\", \"domain\": [0.208, 0.376], \"range\": [1947, 2020]}, \"xaxis28\": {\"anchor\": \"y28\", \"domain\": [0.416, 0.584], \"range\": [1947, 2020]}, \"xaxis29\": {\"anchor\": \"y29\", \"domain\": [0.624, 0.792], \"range\": [1947, 2020]}, \"xaxis3\": {\"anchor\": \"y3\", \"domain\": [0.416, 0.584], \"range\": [1947, 2020]}, \"xaxis30\": {\"anchor\": \"y30\", \"domain\": [0.832, 1.0], \"range\": [1947, 2020]}, \"xaxis31\": {\"anchor\": \"y31\", \"domain\": [0.0, 0.16799999999999998], \"range\": [1947, 2020]}, \"xaxis32\": {\"anchor\": \"y32\", \"domain\": [0.208, 0.376], \"range\": [1947, 2020]}, \"xaxis33\": {\"anchor\": \"y33\", \"domain\": [0.416, 0.584], \"range\": [1947, 2020]}, \"xaxis34\": {\"anchor\": \"y34\", \"domain\": [0.624, 0.792], \"range\": [1947, 2020]}, \"xaxis35\": {\"anchor\": \"y35\", \"domain\": [0.832, 1.0], \"range\": [1947, 2020]}, \"xaxis36\": {\"anchor\": \"y36\", \"domain\": [0.0, 0.16799999999999998], \"range\": [1947, 2020]}, \"xaxis37\": {\"anchor\": \"y37\", \"domain\": [0.208, 0.376], \"range\": [1947, 2020]}, \"xaxis38\": {\"anchor\": \"y38\", \"domain\": [0.416, 0.584], \"range\": [1947, 2020]}, \"xaxis39\": {\"anchor\": \"y39\", \"domain\": [0.624, 0.792], \"range\": [1947, 2020]}, \"xaxis4\": {\"anchor\": \"y4\", \"domain\": [0.624, 0.792], \"range\": [1947, 2020]}, \"xaxis40\": {\"anchor\": \"y40\", \"domain\": [0.832, 1.0], \"range\": [1947, 2020]}, \"xaxis41\": {\"anchor\": \"y41\", \"domain\": [0.0, 0.16799999999999998], \"range\": [1947, 2020]}, \"xaxis42\": {\"anchor\": \"y42\", \"domain\": [0.208, 0.376], \"range\": [1947, 2020]}, \"xaxis43\": {\"anchor\": \"y43\", \"domain\": [0.416, 0.584], \"range\": [1947, 2020]}, \"xaxis44\": {\"anchor\": \"y44\", \"domain\": [0.624, 0.792], \"range\": [1947, 2020]}, \"xaxis45\": {\"anchor\": \"y45\", \"domain\": [0.832, 1.0], \"range\": [1947, 2020]}, \"xaxis46\": {\"anchor\": \"y46\", \"domain\": [0.0, 0.16799999999999998], \"range\": [1947, 2020]}, \"xaxis47\": {\"anchor\": \"y47\", \"domain\": [0.208, 0.376], \"range\": [1947, 2020]}, \"xaxis48\": {\"anchor\": \"y48\", \"domain\": [0.416, 0.584], \"range\": [1947, 2020]}, \"xaxis49\": {\"anchor\": \"y49\", \"domain\": [0.624, 0.792], \"range\": [1947, 2020]}, \"xaxis5\": {\"anchor\": \"y5\", \"domain\": [0.832, 1.0], \"range\": [1947, 2020]}, \"xaxis50\": {\"anchor\": \"y50\", \"domain\": [0.832, 1.0], \"range\": [1947, 2020]}, \"xaxis51\": {\"anchor\": \"y51\", \"domain\": [0.0, 0.16799999999999998], \"range\": [1947, 2020]}, \"xaxis52\": {\"anchor\": \"y52\", \"domain\": [0.208, 0.376], \"range\": [1947, 2020]}, \"xaxis53\": {\"anchor\": \"y53\", \"domain\": [0.416, 0.584], \"range\": [1947, 2020]}, \"xaxis54\": {\"anchor\": \"y54\", \"domain\": [0.624, 0.792], \"range\": [1947, 2020]}, \"xaxis55\": {\"anchor\": \"y55\", \"domain\": [0.832, 1.0], \"range\": [1947, 2020]}, \"xaxis56\": {\"anchor\": \"y56\", \"domain\": [0.0, 0.16799999999999998], \"range\": [1947, 2020]}, \"xaxis57\": {\"anchor\": \"y57\", \"domain\": [0.208, 0.376], \"range\": [1947, 2020]}, \"xaxis58\": {\"anchor\": \"y58\", \"domain\": [0.416, 0.584], \"range\": [1947, 2020]}, \"xaxis59\": {\"anchor\": \"y59\", \"domain\": [0.624, 0.792]}, \"xaxis6\": {\"anchor\": \"y6\", \"domain\": [0.0, 0.16799999999999998], \"range\": [1947, 2020]}, \"xaxis60\": {\"anchor\": \"y60\", \"domain\": [0.832, 1.0]}, \"xaxis7\": {\"anchor\": \"y7\", \"domain\": [0.208, 0.376], \"range\": [1947, 2020]}, \"xaxis8\": {\"anchor\": \"y8\", \"domain\": [0.416, 0.584], \"range\": [1947, 2020]}, \"xaxis9\": {\"anchor\": \"y9\", \"domain\": [0.624, 0.792], \"range\": [1947, 2020]}, \"yaxis\": {\"anchor\": \"x\", \"domain\": [0.9548611111111112, 1.0], \"range\": [-0.1, 4]}, \"yaxis10\": {\"anchor\": \"x10\", \"domain\": [0.8680555555555556, 0.9131944444444444], \"range\": [-0.1, 4]}, \"yaxis11\": {\"anchor\": \"x11\", \"domain\": [0.78125, 0.8263888888888888], \"range\": [-0.1, 4]}, \"yaxis12\": {\"anchor\": \"x12\", \"domain\": [0.78125, 0.8263888888888888], \"range\": [-0.1, 4]}, \"yaxis13\": {\"anchor\": \"x13\", \"domain\": [0.78125, 0.8263888888888888], \"range\": [-0.1, 4]}, \"yaxis14\": {\"anchor\": \"x14\", \"domain\": [0.78125, 0.8263888888888888], \"range\": [-0.1, 4]}, \"yaxis15\": {\"anchor\": \"x15\", \"domain\": [0.78125, 0.8263888888888888], \"range\": [-0.1, 4]}, \"yaxis16\": {\"anchor\": \"x16\", \"domain\": [0.6944444444444444, 0.7395833333333333], \"range\": [-0.1, 4]}, \"yaxis17\": {\"anchor\": \"x17\", \"domain\": [0.6944444444444444, 0.7395833333333333], \"range\": [-0.1, 4]}, \"yaxis18\": {\"anchor\": \"x18\", \"domain\": [0.6944444444444444, 0.7395833333333333], \"range\": [-0.1, 4]}, \"yaxis19\": {\"anchor\": \"x19\", \"domain\": [0.6944444444444444, 0.7395833333333333], \"range\": [-0.1, 4]}, \"yaxis2\": {\"anchor\": \"x2\", \"domain\": [0.9548611111111112, 1.0], \"range\": [-0.1, 4]}, \"yaxis20\": {\"anchor\": \"x20\", \"domain\": [0.6944444444444444, 0.7395833333333333], \"range\": [-0.1, 4]}, \"yaxis21\": {\"anchor\": \"x21\", \"domain\": [0.6076388888888888, 0.6527777777777777], \"range\": [-0.1, 4]}, \"yaxis22\": {\"anchor\": \"x22\", \"domain\": [0.6076388888888888, 0.6527777777777777], \"range\": [-0.1, 4]}, \"yaxis23\": {\"anchor\": \"x23\", \"domain\": [0.6076388888888888, 0.6527777777777777], \"range\": [-0.1, 4]}, \"yaxis24\": {\"anchor\": \"x24\", \"domain\": [0.6076388888888888, 0.6527777777777777], \"range\": [-0.1, 4]}, \"yaxis25\": {\"anchor\": \"x25\", \"domain\": [0.6076388888888888, 0.6527777777777777], \"range\": [-0.1, 4]}, \"yaxis26\": {\"anchor\": \"x26\", \"domain\": [0.5208333333333334, 0.5659722222222223], \"range\": [-0.1, 4]}, \"yaxis27\": {\"anchor\": \"x27\", \"domain\": [0.5208333333333334, 0.5659722222222223], \"range\": [-0.1, 4]}, \"yaxis28\": {\"anchor\": \"x28\", \"domain\": [0.5208333333333334, 0.5659722222222223], \"range\": [-0.1, 4]}, \"yaxis29\": {\"anchor\": \"x29\", \"domain\": [0.5208333333333334, 0.5659722222222223], \"range\": [-0.1, 4]}, \"yaxis3\": {\"anchor\": \"x3\", \"domain\": [0.9548611111111112, 1.0], \"range\": [-0.1, 4]}, \"yaxis30\": {\"anchor\": \"x30\", \"domain\": [0.5208333333333334, 0.5659722222222223], \"range\": [-0.1, 4]}, \"yaxis31\": {\"anchor\": \"x31\", \"domain\": [0.4340277777777778, 0.4791666666666667], \"range\": [-0.1, 4]}, \"yaxis32\": {\"anchor\": \"x32\", \"domain\": [0.4340277777777778, 0.4791666666666667], \"range\": [-0.1, 4]}, \"yaxis33\": {\"anchor\": \"x33\", \"domain\": [0.4340277777777778, 0.4791666666666667], \"range\": [-0.1, 4]}, \"yaxis34\": {\"anchor\": \"x34\", \"domain\": [0.4340277777777778, 0.4791666666666667], \"range\": [-0.1, 4]}, \"yaxis35\": {\"anchor\": \"x35\", \"domain\": [0.4340277777777778, 0.4791666666666667], \"range\": [-0.1, 4]}, \"yaxis36\": {\"anchor\": \"x36\", \"domain\": [0.3472222222222222, 0.3923611111111111], \"range\": [-0.1, 4]}, \"yaxis37\": {\"anchor\": \"x37\", \"domain\": [0.3472222222222222, 0.3923611111111111], \"range\": [-0.1, 4]}, \"yaxis38\": {\"anchor\": \"x38\", \"domain\": [0.3472222222222222, 0.3923611111111111], \"range\": [-0.1, 4]}, \"yaxis39\": {\"anchor\": \"x39\", \"domain\": [0.3472222222222222, 0.3923611111111111], \"range\": [-0.1, 4]}, \"yaxis4\": {\"anchor\": \"x4\", \"domain\": [0.9548611111111112, 1.0], \"range\": [-0.1, 4]}, \"yaxis40\": {\"anchor\": \"x40\", \"domain\": [0.3472222222222222, 0.3923611111111111], \"range\": [-0.1, 4]}, \"yaxis41\": {\"anchor\": \"x41\", \"domain\": [0.2604166666666667, 0.3055555555555556], \"range\": [-0.1, 4]}, \"yaxis42\": {\"anchor\": \"x42\", \"domain\": [0.2604166666666667, 0.3055555555555556], \"range\": [-0.1, 4]}, \"yaxis43\": {\"anchor\": \"x43\", \"domain\": [0.2604166666666667, 0.3055555555555556], \"range\": [-0.1, 4]}, \"yaxis44\": {\"anchor\": \"x44\", \"domain\": [0.2604166666666667, 0.3055555555555556], \"range\": [-0.1, 4]}, \"yaxis45\": {\"anchor\": \"x45\", \"domain\": [0.2604166666666667, 0.3055555555555556], \"range\": [-0.1, 4]}, \"yaxis46\": {\"anchor\": \"x46\", \"domain\": [0.1736111111111111, 0.21875], \"range\": [-0.1, 4]}, \"yaxis47\": {\"anchor\": \"x47\", \"domain\": [0.1736111111111111, 0.21875], \"range\": [-0.1, 4]}, \"yaxis48\": {\"anchor\": \"x48\", \"domain\": [0.1736111111111111, 0.21875], \"range\": [-0.1, 4]}, \"yaxis49\": {\"anchor\": \"x49\", \"domain\": [0.1736111111111111, 0.21875], \"range\": [-0.1, 4]}, \"yaxis5\": {\"anchor\": \"x5\", \"domain\": [0.9548611111111112, 1.0], \"range\": [-0.1, 4]}, \"yaxis50\": {\"anchor\": \"x50\", \"domain\": [0.1736111111111111, 0.21875], \"range\": [-0.1, 4]}, \"yaxis51\": {\"anchor\": \"x51\", \"domain\": [0.08680555555555555, 0.13194444444444445], \"range\": [-0.1, 4]}, \"yaxis52\": {\"anchor\": \"x52\", \"domain\": [0.08680555555555555, 0.13194444444444445], \"range\": [-0.1, 4]}, \"yaxis53\": {\"anchor\": \"x53\", \"domain\": [0.08680555555555555, 0.13194444444444445], \"range\": [-0.1, 4]}, \"yaxis54\": {\"anchor\": \"x54\", \"domain\": [0.08680555555555555, 0.13194444444444445], \"range\": [-0.1, 4]}, \"yaxis55\": {\"anchor\": \"x55\", \"domain\": [0.08680555555555555, 0.13194444444444445], \"range\": [-0.1, 4]}, \"yaxis56\": {\"anchor\": \"x56\", \"domain\": [0.0, 0.045138888888888895], \"range\": [-0.1, 4]}, \"yaxis57\": {\"anchor\": \"x57\", \"domain\": [0.0, 0.045138888888888895], \"range\": [-0.1, 4]}, \"yaxis58\": {\"anchor\": \"x58\", \"domain\": [0.0, 0.045138888888888895], \"range\": [-0.1, 4]}, \"yaxis59\": {\"anchor\": \"x59\", \"domain\": [0.0, 0.045138888888888895]}, \"yaxis6\": {\"anchor\": \"x6\", \"domain\": [0.8680555555555556, 0.9131944444444444], \"range\": [-0.1, 4]}, \"yaxis60\": {\"anchor\": \"x60\", \"domain\": [0.0, 0.045138888888888895]}, \"yaxis7\": {\"anchor\": \"x7\", \"domain\": [0.8680555555555556, 0.9131944444444444], \"range\": [-0.1, 4]}, \"yaxis8\": {\"anchor\": \"x8\", \"domain\": [0.8680555555555556, 0.9131944444444444], \"range\": [-0.1, 4]}, \"yaxis9\": {\"anchor\": \"x9\", \"domain\": [0.8680555555555556, 0.9131944444444444], \"range\": [-0.1, 4]}},                        {\"responsive\": true}                    ).then(function(){\n",
       "                            \n",
       "var gd = document.getElementById('e2f0bb11-38bd-4fe5-b680-256d683d2848');\n",
       "var x = new MutationObserver(function (mutations, observer) {{\n",
       "        var display = window.getComputedStyle(gd).display;\n",
       "        if (!display || display === 'none') {{\n",
       "            console.log([gd, 'removed!']);\n",
       "            Plotly.purge(gd);\n",
       "            observer.disconnect();\n",
       "        }}\n",
       "}});\n",
       "\n",
       "// Listen for the removal of the full notebook cells\n",
       "var notebookContainer = gd.closest('#notebook-container');\n",
       "if (notebookContainer) {{\n",
       "    x.observe(notebookContainer, {childList: true});\n",
       "}}\n",
       "\n",
       "// Listen for the clearing of the current output cell\n",
       "var outputEl = gd.closest('.output');\n",
       "if (outputEl) {{\n",
       "    x.observe(outputEl, {childList: true});\n",
       "}}\n",
       "\n",
       "                        })                };                });            </script>        </div>"
      ]
     },
     "metadata": {},
     "output_type": "display_data"
    }
   ],
   "source": [
    "# Let's plot stuff\n",
    "# Plots many small multiples\n",
    "positions = [\n",
    "             (1,1), (1,2), (1,3), (1,4), (1,5),\n",
    "             (2,1), (2,2), (2,3), (2,4), (2,5),\n",
    "             (3,1), (3,2), (3,3), (3,4), (3,5),\n",
    "             (4,1), (4,2), (4,3), (4,4), (4,5),\n",
    "             (5,1), (5,2), (5,3), (5,4), (5,5),\n",
    "             (6,1), (6,2), (6,3), (6,4), (6,5),\n",
    "             (7,1), (7,2), (7,3), (7,4), (7,5),\n",
    "             (8,1), (8,2), (8,3), (8,4), (8,5),\n",
    "             (9,1), (9,2), (9,3), (9,4), (9,5),\n",
    "            (10,1), (10,2), (10,3), (10,4), (10,5),\n",
    "            (11,1), (11,2), (11,3), (11,4), (11,5),\n",
    "            (12,1), (12,2), (12,3),# (12,4), (12,5)\n",
    "    ]\n",
    "\n",
    "\n",
    "fig = make_subplots(rows=12, cols=5, subplot_titles=big_teams)\n",
    "\n",
    "\n",
    "assert len(big_teams) == len(positions)\n",
    "\n",
    "for NOC, position in zip(big_teams, positions):\n",
    "    \n",
    "    subset = valid_medals[valid_medals.NOC==NOC]\n",
    "    subset = subset.sort_values(by='Year')\n",
    "    \n",
    "    row = position[0]\n",
    "    col = position[1]\n",
    "    \n",
    "    #print(row, col)\n",
    "\n",
    "    fig.add_trace(go.Scatter(x=subset.Year,\n",
    "                    y=subset.Excess_F_medals,\n",
    "                    mode='lines+markers',\n",
    "                    marker_color='rgb(55, 83, 109)',\n",
    "                    showlegend=False),\n",
    "                    row=row,\n",
    "                    col=col,\n",
    "                )\n",
    "    \n",
    "    # Adds an 'as expected' line\n",
    "    fig.add_trace(go.Scatter(x=[1896, 2016], \n",
    "                             y=[1, 1],\n",
    "                             mode='lines',\n",
    "                             showlegend=False,\n",
    "                             marker_color=\"#222\"),\n",
    "                             row=row,\n",
    "                             col=col)\n",
    "\n",
    "    fig.update_xaxes(range=[1947, 2020], row=row, col=col)\n",
    "    fig.update_yaxes(range=[-.1, 4], row=row, col=col)\n",
    "\n",
    "\n",
    "fig.update_layout(height=2400, width=1000)\n",
    "fig.show()"
   ]
  },
  {
   "cell_type": "markdown",
   "metadata": {},
   "source": [
    "Now that we finished exploring the dataset, we can save the resulting CSVs and work on the visualizations in a cleaner notebook."
   ]
  },
  {
   "cell_type": "markdown",
   "metadata": {},
   "source": []
  }
 ],
 "metadata": {
  "kernelspec": {
   "display_name": "Python 3",
   "language": "python",
   "name": "python3"
  },
  "language_info": {
   "codemirror_mode": {
    "name": "ipython",
    "version": 3
   },
   "file_extension": ".py",
   "mimetype": "text/x-python",
   "name": "python",
   "nbconvert_exporter": "python",
   "pygments_lexer": "ipython3",
   "version": "3.7.4"
  }
 },
 "nbformat": 4,
 "nbformat_minor": 2
}
